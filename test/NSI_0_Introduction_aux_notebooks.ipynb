{
 "cells": [
  {
   "cell_type": "markdown",
   "metadata": {
    "collapsed": true
   },
   "source": [
    "[Commentaire 1]: <> (Cours sous licence CC SA BY NC, de David Landry. Ce document est basé sur le cours de Frédéric Mandon, lui-même sous licence CC SA BY NC)\n",
    "\n",
    "# Découverte du notebook Jupyter\n",
    "\n",
    "Cette année, de nombreux cours seront associés à des activités pratiques. Les \"notebook\" du projet Jupyter sont très adaptés à ce mode d'enseignement. \n",
    "\n",
    "Le fichier que vous venez d'ouvrir, \"Introduction_aux_notebooks.ipynb\", et qui est affiché ici-même, est un notebook. Vous remarquerez son extension \".ipynb\".\n",
    "\n",
    "## Petite pause logistique\n",
    "\n",
    "Faites une copie de ce fichier avec la commande \"Fichier > Créer une copie...\", et renommez-le en cliquant sur le titre (tout en haut, à côté de \"jupyter\"), par exemple en rajoutant votre nom.\n",
    "\n",
    "Pensez à organiser vos documents de l'année de façon structurée. Par exemple, en conservant dès maintenant votre premier notebook dans un dossier NSI/Notebooks, ou bien NSI/Cours.\n",
    "\n",
    "## Structure d'un notebook\n",
    "\n",
    "Les notebooks comprennent deux types de cellules :\n",
    "\n",
    "* les cellules de texte (comme celle-ci), au format [Markdown](https://fr.wikipedia.org/wiki/Markdown)\n",
    "* les cellules de code (repérables par le compteur `Entrée [ ]`)\n",
    "\n",
    "Dans ces cellules de code, on peut entrer des instructions (ici, des instructions Python 3).\n",
    "\n",
    "> **Les instructions Python peuvent être interprétées** par une combinaison de touches :\n",
    "- **ctrl + entrée** (dans ce cas on reste dans la cellule courante).\n",
    "- **maj + entrée** (dans ce cas on passe à la cellule suivante, après exécution du code).\n",
    "- après exécution, le compteur est incrémenté (ex: `Entrée [1]`) et le résultat d'un programme est précédé de `Out[1]`.\n",
    "\n",
    "Il est possible qu'un notebook ne réponde plus lors de la tentative d'éxécution d'une instructions ou d'un programme. C'est notamment le cas lorsqu'un programme précédent à planté. **Commencez par sauvegarder votre travail**.\n",
    "> Ensuite, au moins deux possibiltés s'offent à vous pour **relancer le notebook** :\n",
    "- cliquer sur le bouton \"Redémarrer le noyau\".\n",
    "- ou bien, revenir à l'onglet initial du navigateur, celui qui vous a permis de choisir ce notebook. Aller dans l'onglet \"Actifs\" de la page et choisir le notebook à arrêter. Ensuite, redémarrer le notebook comme vous l'avez fait initialement. "
   ]
  },
  {
   "cell_type": "markdown",
   "metadata": {},
   "source": [
    "# Fonctionnement du notebook : opérations de base\n",
    "\n",
    "Ce qui est intéressant avec les notebooks, c'est qu'ils sont interactifs et évolutifs : on peut les ré-écrire à l'infini, très facilement.\n",
    "\n",
    "Testez les opérations usuelles (`+ - * /`) dans la cellule de code suivante. "
   ]
  },
  {
   "cell_type": "code",
   "execution_count": null,
   "metadata": {},
   "outputs": [],
   "source": [
    "5 + 7"
   ]
  },
  {
   "cell_type": "markdown",
   "metadata": {},
   "source": [
    "> **Remarque :**\n",
    "Chaque fois que le code est executé, le compteur `Entrée [1]` est incrémenté, ce qui permet de vérifier dans quel ordre on a éxecuté les cellules de code.\n",
    "\n",
    "Si vous éxecutez une seconde fois la même cellule, vous constaterez que le numéro de compteur augmente bien.\n",
    "\n",
    "Testez maintenant les priorités d'opérateurs et les parenthèses :"
   ]
  },
  {
   "cell_type": "code",
   "execution_count": null,
   "metadata": {},
   "outputs": [],
   "source": [
    "7 + 4 * 3"
   ]
  },
  {
   "cell_type": "code",
   "execution_count": null,
   "metadata": {},
   "outputs": [],
   "source": [
    "(7 + 4) * 5"
   ]
  },
  {
   "cell_type": "markdown",
   "metadata": {},
   "source": [
    "> **Bonnes pratiques (à compléter) :**"
   ]
  },
  {
   "cell_type": "markdown",
   "metadata": {},
   "source": [
    "Enfin, testez les opérateurs suivants `//  %  **`."
   ]
  },
  {
   "cell_type": "code",
   "execution_count": null,
   "metadata": {},
   "outputs": [],
   "source": []
  },
  {
   "cell_type": "markdown",
   "metadata": {},
   "source": [
    "# Ce notebook vous servira de support de cours !\n",
    "\n",
    "Vous devez y ajouter librement toutes les remarques, commentaires qui pourraient vous être utiles lors de vos révisions. Vous pourrez même en profiter pour corriger mes fôtes !\n",
    "\n",
    "> **A chaque fin d'activité, les notebooks doivent donc être sauvegardés sur le réseau pédagogique du lycée, mais aussi mis à disposition pour votre travail personnel (Clé USB, copie par courriel, cloud,...).**\n",
    "\n",
    "Si vous le souhaitez, vous pourrez aussi l'imprimer pour faciliter vos révisions.\n",
    "\n",
    "## On reprend l'activité, en ajoutant des commentaires\n",
    "\n",
    "Pour commencer, vous devez insérer une cellule texte sous celle-ci et y noter les effets des instructions testées précédemment : `//  %  **`.\n",
    "\n",
    "> **Remarques :** \n",
    "- pour créer une nouvelle cellule sous la cellule active, on peut utiliser le raccourci clavier `B` (à tester de suite !).\n",
    "- c'est l'occasion pour vous de jeter un coup d'oeil aux raccourcis clavier (Menu \"Aide\") et de retenir ceux qui vous semblent les plus utiles."
   ]
  },
  {
   "cell_type": "markdown",
   "metadata": {},
   "source": [
    "# Variables et affectations\n",
    "\n",
    "Avant de décrire plus précisément le concept de variable dans un prochain notebook, on peut simplifier en disant qu'une **variable** est un symbole qui permet de **nommer** une **valeur** (un nombre, du texte, une liste de courses,...)\n",
    "\n",
    "**La variable fait donc lien entre un nom (identificateur) et une valeur stockée en mémoire**.\n",
    "\n",
    "On **affecte** une valeur à une variable avec l'instruction Python `=`.\n",
    "\n",
    "> **Remarque :**\n",
    "Avec Python, on affiche une variable avec l'instruction `print(nom_de_variable)`: c'est ce que l'on appelle une instruction de sortie (output)."
   ]
  },
  {
   "cell_type": "code",
   "execution_count": null,
   "metadata": {},
   "outputs": [],
   "source": [
    "a = 2\n",
    "print(a)"
   ]
  },
  {
   "cell_type": "markdown",
   "metadata": {},
   "source": [
    "> **Remarque :**\n",
    "- Le symbole `=` n'a pas du tout la même signification qu'en mathématiques.\n",
    "- L'équation : `a = a + 1` n'a pas de solution en mathématiques\n",
    "\n",
    "... et pourtant, l'instruction suivante fonctionne :"
   ]
  },
  {
   "cell_type": "code",
   "execution_count": null,
   "metadata": {},
   "outputs": [],
   "source": [
    "a = 5\n",
    "a = a + 1\n",
    "print(a)"
   ]
  },
  {
   "cell_type": "markdown",
   "metadata": {},
   "source": [
    "On peut affecter une *expression* à une variable:"
   ]
  },
  {
   "cell_type": "code",
   "execution_count": null,
   "metadata": {},
   "outputs": [],
   "source": [
    "b = 5\n",
    "c = 2 * a + b ** 2\n",
    "print(c)"
   ]
  },
  {
   "cell_type": "markdown",
   "metadata": {},
   "source": [
    "> **Remarques :**\n",
    "- vous constaterez que la variable *a* est restée définie d'une cellule du notebook à l'autre.\n",
    "- un notebook conserve en mémoire toutes les objets crées au fur et à mesure de l'exécution des cellules de code."
   ]
  },
  {
   "cell_type": "markdown",
   "metadata": {},
   "source": [
    "Une **instruction d'entrée** importante est `input()`. \n",
    "\n",
    "Ci-dessous, on affecte l'entrée utilisateur à la variable *prenom*."
   ]
  },
  {
   "cell_type": "code",
   "execution_count": null,
   "metadata": {},
   "outputs": [],
   "source": [
    "prenom = input(\"Donnez votre prénom : \")\n",
    "print(\"Bonjour\", prenom)"
   ]
  },
  {
   "cell_type": "markdown",
   "metadata": {},
   "source": [
    "> **Remarque :** \n",
    "- il n'y a pas d'accent ni majuscule à la variable *prenom*. Ce n'est pas un hasard, cela fait partie des **bonnes pratiques** des développeurs informatiques. Ces bonnes pratiques sont définies par la norme [PEP-8](https://www.python.org/dev/peps/pep-0008/). \n",
    "- une version résumée en français sera sans doute plus digeste : [sametmax.com](http://sametmax.com/le-pep8-en-resume/)"
   ]
  },
  {
   "cell_type": "markdown",
   "metadata": {},
   "source": [
    "Qu'est censé faire le code suivant ?\n",
    "\n",
    "Lisez-me, simulez mentalement une exécution du code puis vérifier votre hypothèse."
   ]
  },
  {
   "cell_type": "code",
   "execution_count": null,
   "metadata": {},
   "outputs": [],
   "source": [
    "a = input(\"Saisir un nombre : \")\n",
    "print(3 * a)"
   ]
  },
  {
   "cell_type": "markdown",
   "metadata": {},
   "source": [
    "## Typage des données\n",
    "\n",
    "Comme vous venez de le voir, le résultat du programme précédent n'est probablement pas celui attendu. Les données et les variables sont __typées__ dans un langage de programmation, c'est-à-dire que l'on doit préciser si ce sont des nombres, du texte, etc... \n",
    "\n",
    "En python le typage est très souple, ce qui facilite l'écriture des programmes lorsque l'on débute. Néanmoins, il est parfois nécessaire de le préciser. \n",
    "\n",
    "> **Remarque :**\n",
    "L'instruction `type(variable)` permet de savoir quel est le type d'une variable. \n",
    "\n",
    "Executez les cellules de code suivantes et concluez."
   ]
  },
  {
   "cell_type": "code",
   "execution_count": 6,
   "metadata": {},
   "outputs": [
    {
     "data": {
      "text/plain": [
       "int"
      ]
     },
     "execution_count": 6,
     "metadata": {},
     "output_type": "execute_result"
    }
   ],
   "source": [
    "a = 5\n",
    "type(a)"
   ]
  },
  {
   "cell_type": "code",
   "execution_count": 7,
   "metadata": {},
   "outputs": [
    {
     "name": "stdout",
     "output_type": "stream",
     "text": [
      "Saisir un nombre : 6\n"
     ]
    },
    {
     "data": {
      "text/plain": [
       "str"
      ]
     },
     "execution_count": 7,
     "metadata": {},
     "output_type": "execute_result"
    }
   ],
   "source": [
    "a = input(\"Saisir un nombre : \")\n",
    "type(a)"
   ]
  },
  {
   "cell_type": "code",
   "execution_count": 8,
   "metadata": {},
   "outputs": [
    {
     "name": "stdout",
     "output_type": "stream",
     "text": [
      "666\n"
     ]
    }
   ],
   "source": [
    "print(3 * a)"
   ]
  },
  {
   "cell_type": "markdown",
   "metadata": {},
   "source": [
    "> Ecrire ici vos commentaires pour garder une trace de ce que vous apprennez."
   ]
  },
  {
   "cell_type": "markdown",
   "metadata": {},
   "source": [
    "Les **types principaux** que nous utiliserons cette année sont:\n",
    "* les **entiers** : type `int`;\n",
    "* les **flottants** (approximation des nombres réels par des décimaux) : type `float`;\n",
    "* les **caractères** (lettres) : type `char`;\n",
    "* les **booléens** (`True` ou `False`) : type `bool`;\n",
    "* les **listes** (un certain type de tableau), que l'on verra ultérieurement : type `list`;\n",
    "* les **chaines de caractères** (mots, phrases), qui sont des listes de lettres : type `str`. Elles sont entre guillemets simples `'chaine'` ou doubles `\"chaine\"`.\n",
    "\n",
    "On peut changer le type de certaines variables en cas de besoin :  \n",
    "* Comparez le code ci-dessous avec les précédents\n",
    "* puis enlevez le `int` devant le `input` et testez à nouveau"
   ]
  },
  {
   "cell_type": "code",
   "execution_count": null,
   "metadata": {},
   "outputs": [],
   "source": [
    "a = int(input(\"Saisir un nombre : \"))\n",
    "print(type(a))\n",
    "print(3 * a)"
   ]
  },
  {
   "cell_type": "markdown",
   "metadata": {},
   "source": [
    "> **Remarques :** \n",
    "- pour la numération, on utilise la notation anglo-saxonne, avec un point pour la virgule, et `e` pour \"10 puissance\". Par exemple 1.5e4 = 15000\n",
    "- des phénomènes étranges peuvent se passer avec les flottants. "
   ]
  },
  {
   "cell_type": "code",
   "execution_count": null,
   "metadata": {},
   "outputs": [],
   "source": [
    "nombre = 25.8\n",
    "print(nombre)"
   ]
  },
  {
   "cell_type": "code",
   "execution_count": null,
   "metadata": {},
   "outputs": [],
   "source": [
    "nombre = 25,8\n",
    "print(nombre)"
   ]
  },
  {
   "cell_type": "code",
   "execution_count": null,
   "metadata": {},
   "outputs": [],
   "source": [
    "nombre = 2.58e-1\n",
    "print(nombre)"
   ]
  },
  {
   "cell_type": "code",
   "execution_count": null,
   "metadata": {},
   "outputs": [],
   "source": [
    "nombre = 2.58e-21\n",
    "print(nombre)"
   ]
  },
  {
   "cell_type": "code",
   "execution_count": null,
   "metadata": {},
   "outputs": [],
   "source": [
    "0.1 + 0.1"
   ]
  },
  {
   "cell_type": "code",
   "execution_count": null,
   "metadata": {},
   "outputs": [],
   "source": [
    "0.1 + 0.1 + 0.1"
   ]
  },
  {
   "cell_type": "markdown",
   "metadata": {},
   "source": [
    "> Commentaires : "
   ]
  },
  {
   "cell_type": "markdown",
   "metadata": {},
   "source": [
    "Remarque : le type complexe est un type de nombre particulier, que certains d'entre-vous pourront utiliser en mathématiques en terminale. On rajoute aux nombres réels le nombre _i_, noté `1j` en Python. \n",
    "\n",
    "Tester $i^2$, qu'en pensez-vous ?"
   ]
  },
  {
   "cell_type": "code",
   "execution_count": null,
   "metadata": {},
   "outputs": [],
   "source": [
    "1j * 1j"
   ]
  },
  {
   "cell_type": "markdown",
   "metadata": {},
   "source": [
    "# Votre premier programme dans un notebook\n",
    "\n",
    "Ecrire un programme qui demande à un élève le nombre de demi-journée travaillées par semaine et qui renvoit le nombre de masques jetables qui lui seront nécessaires pendant l'année.\n",
    "\n",
    "> **Remarques :**\n",
    "- la première ligne du programme est essentielle (bonne pratique), en permettant de définir le codage des caractères utilisés\n",
    "- les lignes situées entre `'''` sont des commentaires.\n",
    "- les commentaires ne sont pas interprétés par Python, mais restent essentiels pour faciliter la relecture et la [maintenabilité des programmes](https://fr.wikipedia.org/wiki/Maintenabilit%C3%A9).\n",
    "\n",
    "Si ce programme vous semble trop simple à mettre en oeuvre, sentez-vous libre d'aller plus loin en terme d'objectifs."
   ]
  },
  {
   "cell_type": "code",
   "execution_count": null,
   "metadata": {},
   "outputs": [],
   "source": [
    "# coding: utf-8\n",
    "'''\n",
    "@author : votre nom\n",
    "Programme permettant d'estimer le nombre de masques nécessaires par élève.\n",
    "On considère qu'au moins un masque jetable est nécessaire par demi-journée.\n",
    "'''\n",
    "prenom = input(\"Saisir votre prenom : \")\n",
    "print(\"Bonjour\", prenom)"
   ]
  },
  {
   "cell_type": "markdown",
   "metadata": {},
   "source": [
    "---\n",
    "[![Licence CC BY NC SA](https://licensebuttons.net/l/by-nc-sa/3.0/88x31.png \"licence Creative Commons CC BY-NC-SA\")](http://creativecommons.org/licenses/by-nc-sa/3.0/fr/)\n",
    "\n",
    "<p style=\"text-align: center;\">Auteur : David Landry, Lycée Clemenceau - Nantes</p>\n",
    "\n",
    "<p style=\"text-align: center;\">D'après un document partagé en licence CC BY-NC-SA par <a  href=http://www.maths-info-lycee.fr/nsi_1ere.html>Frederic Mandon</a></p>\n"
   ]
  }
 ],
 "metadata": {
  "kernelspec": {
   "display_name": "Python 3",
   "language": "python",
   "name": "python3"
  },
  "language_info": {
   "codemirror_mode": {
    "name": "ipython",
    "version": 3
   },
   "file_extension": ".py",
   "mimetype": "text/x-python",
   "name": "python",
   "nbconvert_exporter": "python",
   "pygments_lexer": "ipython3",
   "version": "3.7.3"
  }
 },
 "nbformat": 4,
 "nbformat_minor": 1
}
