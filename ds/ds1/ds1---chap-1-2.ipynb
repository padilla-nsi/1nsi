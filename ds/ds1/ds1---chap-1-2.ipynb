{
 "cells": [
  {
   "cell_type": "markdown",
   "source": [
    "|Activités|HTML|CSS|Python|Variable|Séquence|\n",
    "|-|-:|-:|-:|-:|-:|\n",
    "|Act. 1| /5 | /5 |  |  |  |\n",
    "|Act. 2| /5 |  |  |  |  |\n",
    "|Act. 3|  /5| /5 |  |  |  |\n",
    "|Act. 4|  |  |  /5|  |  |\n",
    "|Act. 5|  |  |  /5| /5 | /5 |\n",
    "|Act. 6|  |  |  | /5 |  |\n",
    "|Act. 7|  |  |  | /5 | /5 |\n",
    "|Act. 8|  |  | /5 | /5 | /5 |\n",
    "|Act. 9| /5 |  |  |  |  |\n",
    "|Act. 10|  | /5 |  |  |  |\n",
    "|Act. 11|  |  /5|  |  |  |\n",
    "|Act. 12|  | /5 |  |  |  |\n",
    "|Act. 13| /5 |  |  |  |  |\n",
    "|Total|  |  |  |  |  |\n"
   ],
   "metadata": {}
  },
  {
   "cell_type": "markdown",
   "source": [
    "\n",
    "**Explique** en quelques mots :\n",
    "\n",
    "1. ce qu'est le HTML et ce qu'est une balise \n",
    "2. ce qu'est le CSS et la différence entre l'attribut `class` et `id`"
   ],
   "metadata": {
    "tags": [
     "exo"
    ]
   }
  },
  {
   "cell_type": "markdown",
   "source": [
    "1. Le langage **HTML** (*Hyper Text Markup Language*) est un langage de programmation qui produit un format textuel permettant de décrire le contenu et la structure d'un document ou d'une page Web.\n",
    "4. Une balise est un élément de code HTML qui n'est pas affiché à l'écran du navigateur mais permet de structurer et de mettre en forme le document.\n",
    "2. Le langage **CSS** (pour *Cascading Style Sheets*, ie. feuilles de style en cascade) est un langage permettant de définir les propriétés graphiques des éléments HTML constituant une page Web.\n",
    "3. L'attribut `id` permet de donner un identifiant unique à une balise. L'attribut `class` permet de créer un ensemble de balise ayant des caractéristiques communes.\n",
    "\n"
   ],
   "metadata": {
    "tags": [
     "cacher",
     "solution"
    ]
   }
  },
  {
   "cell_type": "markdown",
   "source": [
    "Il y a trois balises obligatoires dans un fichier HTML. **Indique** leur structure."
   ],
   "metadata": {
    "tags": [
     "exo"
    ]
   }
  },
  {
   "cell_type": "markdown",
   "source": [
    "Les balises obligatoires sont `<html>`, `<head>` et `<body>` et leur structure est :\n",
    "\n",
    "```html\n",
    "<html>\n",
    "    <head>\n",
    "        ...\n",
    "    </head>\n",
    "    <body>\n",
    "        ...\n",
    "    </body>\n",
    "</html>\n",
    "```\n",
    "\n"
   ],
   "metadata": {
    "tags": [
     "cacher",
     "solution"
    ]
   }
  },
  {
   "cell_type": "markdown",
   "source": [
    "**Donne** 2 exemples de balises vides, de balises de structure, de balises de texte et de balises neutres.\n",
    "\n",
    "**Donne** 5 exemples de propriétés CSS."
   ],
   "metadata": {
    "tags": [
     "exo"
    ]
   }
  },
  {
   "cell_type": "markdown",
   "source": [
    "\n",
    "\n",
    "-  `<br>, <img>, <link>, <meta>` sont des exemples de balises vides.\n",
    "- `<h1>, <p>, <ol>, <ul>, <li>` sont des balises de structure. \n",
    "- `<b>, <i>, <u>, <mark>, <code>, <kbd>` sont des exemples de balises de texte.\n",
    "- `<div>, <span>` sont des balises neutres\n",
    "- `display, background, color, border, margin, text-align, font-family, font-size` sont des propriétés CSS"
   ],
   "metadata": {
    "tags": [
     "cacher",
     "solution"
    ]
   }
  },
  {
   "cell_type": "markdown",
   "source": [
    "En Python, **indique** et **décris** deux types de nombres différents."
   ],
   "metadata": {
    "tags": [
     "exo"
    ]
   }
  },
  {
   "cell_type": "markdown",
   "source": [
    "Il y a les nombres entiers relatifs de type `int`. Ils sont de taille infinie en Python. Et il y a les nombres décimaux `float` qui sont de précision et de taille limités."
   ],
   "metadata": {
    "tags": [
     "cacher",
     "solution"
    ]
   }
  },
  {
   "cell_type": "markdown",
   "source": [
    "**Écris** un programme qui demande l'année de naissance à l'utilisateur puis affiche l'âge qu'il aura en 2048.\n",
    "\n",
    "Pour chaque ligne du programme, **représente** l'état de l'interprète."
   ],
   "metadata": {
    "tags": [
     "exo"
    ]
   }
  },
  {
   "cell_type": "markdown",
   "source": [
    "```python\n",
    "# Calcul de l'âge en 2048\n",
    "saisie = input(\"Entrez votre année de naissance : \")\n",
    "annee = int(saisie)\n",
    "age = 2048 - annee\n",
    "print(\"Vous aurez\", age, \"ans en 2048.\")\n",
    "```\n",
    "\n",
    "\n",
    "$$\n",
    "\\begin{array}{|c|l|l|}\n",
    "\\hline\n",
    "\\text{\\bf ligne} & \\text{\\bf état} & \\text{\\bf interface}\\\\\n",
    "\\hline\n",
    "2 & \\overset{\\texttt{saisie}}{\\fbox{\\texttt{\"2003\"}}} & \\text{affichage : \\footnotesize\\texttt{Entrez votre année de naissance : }}\\\\\n",
    "& & \\text{saisie : \\texttt{2003}}\\\\\n",
    "3 & \\overset{\\texttt{saisie}}{\\fbox{\\texttt{\"2003\"}}}\\overset{\\texttt{annee}}{\\fbox{\\texttt{2003}}} & \\\\\n",
    "4 & \\overset{\\texttt{saisie}}{\\fbox{\\texttt{\"2003\"}}}\\overset{\\texttt{annee}}{\\fbox{\\texttt{2003}}}\\overset{\\texttt{age}}{\\fbox{\\texttt{45}}} & \\\\\n",
    "5 & \\overset{\\texttt{saisie}}{\\fbox{\\texttt{\"2003\"}}}\\overset{\\texttt{annee}}{\\fbox{\\texttt{2003}}}\\overset{\\texttt{age}}{\\fbox{\\texttt{45}}} & \\text{affichage : \\texttt{Vous aurez 45 ans en 2048.}}\\\\\n",
    "\\hline\n",
    "\\end{array}\n",
    "$$\n"
   ],
   "metadata": {
    "tags": [
     "cacher",
     "solution"
    ]
   }
  },
  {
   "cell_type": "markdown",
   "source": [
    "**Indiquer** ce qu'il se passe quand on exécute le code suivant :\n",
    "\n",
    "```python\n",
    "a = input(\"saisir un nombre : \")\n",
    "print(\"le nombre suivant est \", a+1)\n",
    "```\n",
    "\n",
    "**Rectifier** si nécessaire."
   ],
   "metadata": {
    "tags": [
     "exo"
    ]
   }
  },
  {
   "cell_type": "markdown",
   "source": [
    "L'expression `a+1` est incorrecte puisqu'elle demande d'effectuer une addition entre `a` qui est une chaîne de caractère et le nombre entier `1`. Cette opération n'est pas définie en Python.\n",
    "\n",
    "Pour corriger ce code, il faut par exemple ajouter dans une ligne intermédiaire le code `a = int(a)`."
   ],
   "metadata": {
    "tags": [
     "cacher",
     "solution"
    ]
   }
  },
  {
   "cell_type": "markdown",
   "source": [
    "**Indiquer** ce que fait la séquence d'instruction suivante en supposant qu'à l'origine les variables `a` et `b` contiennent un nombre entier. \n",
    "\n",
    "```python\n",
    "tmp = a\n",
    "a = b\n",
    "b = tmp\n",
    "```"
   ],
   "metadata": {
    "tags": [
     "exo"
    ]
   }
  },
  {
   "cell_type": "markdown",
   "source": [
    "Détaillons les états successifs de l'interprète en supposant que la variable `a` contienne la valeur $n_1$ et que la variable `b` contienne la valeur $n_2$.\n",
    "\n",
    "\n",
    "$$\n",
    "\\overset{\\texttt{a}}{\\fbox{$n_1$}}\n",
    "\\overset{\\texttt{b}}{\\fbox{$n_2$}}\n",
    "\\overset{\\text{\\#1}}\\longrightarrow\n",
    "\\overset{\\texttt{a}}{\\fbox{$n_1$}}\n",
    "\\overset{\\texttt{b}}{\\fbox{$n_2$}}\n",
    "\\overset{\\texttt{tmp}}{\\fbox{$n_1$}}\n",
    "\\overset{\\text{\\#2}}\\longrightarrow\n",
    "\\overset{\\texttt{a}}{\\fbox{$n_2$}}\n",
    "\\overset{\\texttt{b}}{\\fbox{$n_2$}}\n",
    "\\overset{\\texttt{tmp}}{\\fbox{$n_1$}}\n",
    "\\overset{\\text{\\#3}}\\longrightarrow\n",
    "\\overset{\\texttt{a}}{\\fbox{$n_2$}}\n",
    "\\overset{\\texttt{b}}{\\fbox{$n_1$}}\n",
    "\\overset{\\texttt{tmp}}{\\fbox{$n_1$}}\n",
    "$$\n",
    "\n",
    "À la fin de l'instruction, les valeurs enregistrées dans les variables `a` et `b` ont été **permutées**."
   ],
   "metadata": {
    "tags": [
     "cacher",
     "solution"
    ]
   }
  },
  {
   "cell_type": "markdown",
   "source": [
    "**Écrire** un programme qui demande à l'utilisateur les longueurs (entières) des deux côtés d'un rectangle et affiche son aire."
   ],
   "metadata": {
    "tags": [
     "exo"
    ]
   }
  },
  {
   "cell_type": "markdown",
   "source": [
    "```python\n",
    "texte_l1 = input(\"Saisir la longueur du premier côté :\")\n",
    "texte_l2 = input(\"Saisir la longueur du second  côté :\")\n",
    "l1 = int(texte_l1)\n",
    "l2 = int(texte_l2)\n",
    "aire = l1 * l2\n",
    "print(\"L'aire du rectangle vaut\", aire)\n",
    "``` "
   ],
   "metadata": {
    "tags": [
     "cacher",
     "solution"
    ]
   }
  },
  {
   "cell_type": "markdown",
   "source": [
    "**Écrit** le code permettant d'afficher dans un document HTML :\n",
    "\n",
    "1. en **gras** le texte *\"Ceci est un texte en gras !\"* ;\n",
    "2. en **italique** le texte *\"Ceci est un texte en italique !\"* ;\n",
    "3. un **lien hypertexte** vers le site [www.atrium-sud.fr](www.atrium-sud.fr) activable en cliquant sur le texte *\"Accéder au site Atrium\"* ;\n",
    "4. l'**image** `logo_html.svg` qui est dans le sous répertoire `res` et lui imposer une largeur de 240px."
   ],
   "metadata": {
    "tags": [
     "exo"
    ]
   }
  },
  {
   "cell_type": "markdown",
   "source": [
    "```html\n",
    "1. <b>Ceci est un texte en gras !</b>\n",
    "2. <i>Ceci est un texte en italique !</i>\n",
    "3. <a href=\"www.atrium-sud.fr\">Accéder au site Atrium</a>\n",
    "4. <img src=\"res/logo_html.svg\" width=\"240\"/>\n",
    "``` \n"
   ],
   "metadata": {
    "tags": [
     "cacher",
     "solution"
    ]
   }
  },
  {
   "cell_type": "markdown",
   "source": [
    "**Décrit** en quelques mots les 3 méthodes permettant d'appliquer du code CSS à un fichier HTML."
   ],
   "metadata": {
    "tags": [
     "exo"
    ]
   }
  },
  {
   "cell_type": "markdown",
   "source": [
    "On peut :\n",
    "\n",
    "1. Utiliser l'attribut `style` dans chaque balise que l'on souhaite décorer.\n",
    "2. Utiliser les sélecteurs CSS en les ajoutant dans une unique balise `<style>` dans l'en-tête `<head>` du document HTML.\n",
    "3. Utiliser un ficher `.css` et y faire référence dans une balise `<link href=\"xxx.css\" rel=\"stylesheet\" type=\"text/css\">` de l'en-tête `<head>` du document HTML."
   ],
   "metadata": {
    "tags": [
     "cacher",
     "solution"
    ]
   }
  },
  {
   "cell_type": "markdown",
   "source": [
    "**Indique** les couleurs associées aux codages hexadécimal `#ffffff` et `#000000`.\n",
    "\n",
    "**Que représente** la valeur `ff` en hexadécimal ?"
   ],
   "metadata": {
    "tags": [
     "exo"
    ]
   }
  },
  {
   "cell_type": "markdown",
   "source": [
    "- `#ffffff` correspond à la couleur blanche\n",
    "- `#000000` correspond à la couleur noire\n",
    "- `#ff` correspond au nombre 255 en base 10"
   ],
   "metadata": {
    "tags": [
     "cacher",
     "solution"
    ]
   }
  },
  {
   "cell_type": "markdown",
   "source": [
    "**Indique** comment modifier la couleur du contenu de toutes les balises `<ul>` de classe `impair` qui appartiennent aux paragraphes `<p>`."
   ],
   "metadata": {
    "tags": [
     "exo"
    ]
   }
  },
  {
   "cell_type": "markdown",
   "source": [
    "```css\n",
    "p ul.impair {color:... ;}\n",
    "```\n"
   ],
   "metadata": {
    "tags": [
     "cacher",
     "solution"
    ]
   }
  },
  {
   "cell_type": "markdown",
   "source": [
    "Pour chacun des fragments de code ci-dessous dire s'il sont valides. S'ils ne le sont pas, dire pourquoi. On suppose que ces fragments sont contenus entre deux balises `<body>...</body>`.\n",
    "\n",
    "1. ```html\n",
    "   <i><u>du texte</u></i>\n",
    "   ```\n",
    "2. ```html\n",
    "   <p><u>du texte</i></p>\n",
    "   ``` \n",
    "3. ```html\n",
    "   <b class=\"a\" class=\"b\">en gras</b>\n",
    "   ``` \n",
    "4. ```html\n",
    "   <head>\n",
    "      <b>Bonjour</b>\n",
    "   </head>\n",
    "   ```\n",
    "5. ```html\n",
    "   <h1 id=\"t1\">Titre</h1>\n",
    "   <h1 id=\"t1\">Titre</h1>\n",
    "   ```"
   ],
   "metadata": {
    "tags": [
     "exo"
    ]
   }
  },
  {
   "cell_type": "markdown",
   "source": [
    "1. valide\n",
    "2. invalide car la balise il manque une balise ouvrante `<i>` et la balise `<u>` n'est pas fermée\n",
    "3. valide\n",
    "4. invalide car un élément `head` ne peut pas être contenu dans un élément `body`\n",
    "5. invalide car l'identifiant `id=\"t1\"` doit être unique"
   ],
   "metadata": {
    "tags": [
     "cacher",
     "solution"
    ]
   }
  },
  {
   "cell_type": "markdown",
   "source": [
    "**EXERCICE CACHÉ**\n",
    "Soit le document HTML ci-dessous :\n",
    "\n",
    "```html\n",
    "<!DOCTYPE html>\n",
    "<html lang=\"fr\">\n",
    "<head>\n",
    "    <meta charset=\"UTF-8\">\n",
    "    <title>Application</title>\n",
    "</head>\n",
    "<body>\n",
    "    <div id=\"i1\">\n",
    "        <ul id=\"i2\">\n",
    "            <li id=\"i3\" class=\"impair\"> texte </li>\n",
    "            <li id=\"i4\" class=\"pair\">\n",
    "                <a href=\"\" id=\"i5\"> texte </a></li>\n",
    "            <li id=\"i6\" class=\"impair\">\n",
    "                <b id=\"i7\">\n",
    "                    <a href=\"\" id=\"i8\"> texte </a></b></li>\n",
    "            <li id=\"i9\" class=\"pair\">\n",
    "                <a href=\"\" id=\"i10\"> texte </a></li>\n",
    "            <li id=\"i11\" class=\"impair\">\n",
    "                <b id=\"i12\">\n",
    "                    <a href=\"\" id=\"i13\"> texte </a></b></li>\n",
    "        </ul>\n",
    "    </div>\n",
    "    <div id=\"i14\">\n",
    "        <a href=\"\" id=\"i15\"> texte </a>\n",
    "        <b id=\"i16\">\n",
    "            <i id=\"i17\">\n",
    "                <a href=\"\" id=\"i18\"> texte </a></i></b>\n",
    "    </div>\n",
    "</body>\n",
    "</html>\n",
    "```\n",
    "\n",
    "Pour chaque sélecteur CSS, donner l'ensemble des identifiants des éléments sélectionnés.\n",
    "\n",
    "1. `div a`\n",
    "2. `.impair * *`\n",
    "3. `#i3 #i8`\n",
    "4. `#i14 *`\n",
    "5. `li b`\n",
    "6. `body * * * *`\n",
    "7. `li .pair`\n",
    "8. `li.pair a`"
   ],
   "metadata": {
    "tags": [
     "cacher",
     "exo"
    ]
   }
  },
  {
   "cell_type": "markdown",
   "source": [
    "1. i5 i8 i10 i13 i15 i18\n",
    "2. i8 i13 \n",
    "3. rien\n",
    "4. i15 i16 \n",
    "5. i7 i12 \n",
    "6. i5 i7 i10 i12 i18\n",
    "7. rien\n",
    "8. i5 i10"
   ],
   "metadata": {
    "tags": [
     "cacher",
     "solution"
    ]
   }
  }
 ],
 "metadata": {
  "celltoolbar": "Tags",
  "interpreter": {
   "hash": "916dbcbb3f70747c44a77c7bcd40155683ae19c65e1c03b4aa3499c5328201f1"
  },
  "kernelspec": {
   "display_name": "Python 3",
   "language": "python",
   "name": "python3"
  },
  "latex_metadata": {
   "theme": "ds",
   "title": "Devoir Surveillé 1"
  },
  "rise": {
   "theme": "serif"
  }
 },
 "nbformat": 4,
 "nbformat_minor": 5
}