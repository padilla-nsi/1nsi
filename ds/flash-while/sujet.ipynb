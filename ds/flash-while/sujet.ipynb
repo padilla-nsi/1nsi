{
 "cells": [
  {
   "cell_type": "markdown",
   "metadata": {},
   "source": [
    "# Contrôle flash"
   ]
  },
  {
   "cell_type": "markdown",
   "metadata": {},
   "source": [
    "#### Exercice 1\n",
    "\n",
    "Écrire une fonction `digramme(a, b, tab)` qui teste s'il existe dans le tableau `tab` une occurence de l'élément `a` immédiatement suivie d'une occurence de l'élément `b`.\n",
    "\n",
    "Tests et exemples :\n",
    "\n",
    "```python\n",
    ">>> tab = [3, 1, 4, 1, 5, 9]\n",
    ">>> print(digramme(3, 1, tab))\n",
    "True\n",
    ">>> print(digramme(4, 2, tab))\n",
    "False\n",
    ">>> print(digramme(5, 9, tab))\n",
    "True\n",
    "```"
   ]
  },
  {
   "cell_type": "markdown",
   "metadata": {},
   "source": [
    "#### Exercice 2\n",
    "\n",
    "Écrire une fonction `pgs(elem, tab)` qui renvoie la longueur de la plus grande séquence d'occurences consécutives de l'élément `elem` dans le tableau `tab`.\n",
    "\n",
    "\n",
    "Tests et exemples :\n",
    "\n",
    "```python\n",
    ">>> tab = [3, 1, 1, 1, 1, 5, 9, 9]\n",
    ">>> print(pgs(1, tab))\n",
    "4\n",
    ">>> print(pgs(2, tab))\n",
    "0\n",
    ">>> print(pgs(9, tab))\n",
    "2\n",
    "```"
   ]
  },
  {
   "cell_type": "markdown",
   "metadata": {},
   "source": [
    "#### Exercice 1 (bis)\n",
    "\n",
    "**Écrire** un programme qui demande à l'utilisateur les longueurs (entières) des deux côtés d'un rectangle et affiche son aire."
   ]
  }
 ],
 "metadata": {
  "language_info": {
   "name": "python"
  },
  "latex_metadata": {
   "theme": "ds",
   "title": "Contrôle flash"
  },
  "orig_nbformat": 4
 },
 "nbformat": 4,
 "nbformat_minor": 2
}
