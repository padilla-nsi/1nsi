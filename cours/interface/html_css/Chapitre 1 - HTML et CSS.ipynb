{
 "cells": [
  {
   "cell_type": "markdown",
   "metadata": {
    "slideshow": {
     "slide_type": "slide"
    }
   },
   "source": [
    "Dans ce chapitre, tu vas :\n",
    "\n",
    "* découvrir le `HTML` : le langage des pages Web\n",
    "* découvrir les feuilles de style : le `CSS`\n",
    "\n",
    "([extraits](res/bo.md) du BO)"
   ]
  },
  {
   "cell_type": "markdown",
   "metadata": {
    "slideshow": {
     "slide_type": "subslide"
    }
   },
   "source": [
    "Comme tu l'as vu en seconde, le *Web* est un ensemble de documents reliés entres eux par des *liens hypertexte*. Ces documents peuvent donc être parcourus de façon non linéaire en **actionnant** (clic, touch) les liens hypertextes.\n",
    "\n",
    "Le terme Web englobe aussi toute l'infrastructure hébergeant cette collection mondiale de documents :\n",
    "\n",
    "* les langages informatiques permettant d'écrire les documents hypertextes : **HTML** et **CSS** ;\n",
    "* une architecture client-serveur utilisant le protocole `HTTP` (*Hypertext Tranfert Protocol*) ou sa version sécurisée  `HTTPS` (*HTTP secure*) ;\n",
    "* des langages de programmation côté serveur dont le but est de générer du HTML ;\n",
    "* des langages de programmation côté client dont le but est de permettre l'écriture d'application Web hautement interactives (par exemple des jeux).\n",
    "\n",
    "Ce chapitre a pour but de présenter les langages HTML et CSS. Ces langages sont présentés en dehors de toute considération de réseau, de client ou de serveur.\n",
    "\n",
    "**Les documents produits peuvent être ouvert par le navigateur Web directement et sans même avoir besoin d'être connecté (au moyen du menu `fichier > ouvrir > ...`).**"
   ]
  },
  {
   "cell_type": "code",
   "execution_count": 1,
   "metadata": {},
   "outputs": [
    {
     "name": "stdout",
     "output_type": "stream",
     "text": [
      "0\n",
      "1\n",
      "2\n",
      "3\n",
      "4\n",
      "5\n",
      "6\n",
      "7\n",
      "8\n",
      "9\n"
     ]
    }
   ],
   "source": [
    "for i in range(10):\n",
    "    print(i)"
   ]
  }
 ],
 "metadata": {
  "celltoolbar": "Diaporama",
  "kernelspec": {
   "display_name": "Python 3",
   "language": "python",
   "name": "python3"
  },
  "language_info": {
   "codemirror_mode": {
    "name": "ipython",
    "version": 3
   },
   "file_extension": ".py",
   "mimetype": "text/x-python",
   "name": "python",
   "nbconvert_exporter": "python",
   "pygments_lexer": "ipython3",
   "version": "3.7.3"
  }
 },
 "nbformat": 4,
 "nbformat_minor": 2
}