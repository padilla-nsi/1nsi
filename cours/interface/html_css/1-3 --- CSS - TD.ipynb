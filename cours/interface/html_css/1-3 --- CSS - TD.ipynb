{
 "cells": [
  {
   "cell_type": "markdown",
   "source": [
    "## 1.3 --- À la découverte du CSS"
   ],
   "metadata": {
    "slideshow": {
     "slide_type": "slide"
    }
   }
  },
  {
   "cell_type": "markdown",
   "source": [
    "Le langage **CSS** (pour *Cascading Style Sheets*, ie. feuilles de style en cascade) est un langage permettant de définir les propriétés graphiques des éléments HTML constituant une page Web.\n",
    "\n"
   ],
   "metadata": {
    "slideshow": {
     "slide_type": "subslide"
    }
   }
  },
  {
   "cell_type": "markdown",
   "source": [
    "### Méthode 1 : L'attribut `style`\n",
    "\n"
   ],
   "metadata": {
    "slideshow": {
     "slide_type": "slide"
    }
   }
  },
  {
   "cell_type": "markdown",
   "source": [
    "L'attribut `style` est autorisé dans tous les éléments (par exemple `p`, `span`, `h1`, `b`, `div`, etc.) et défini des **propriétés CSS** pour l'élément concerné."
   ],
   "metadata": {
    "slideshow": {
     "slide_type": "subslide"
    }
   }
  },
  {
   "cell_type": "markdown",
   "source": [
    "**Créer** un fichier HTML vierge minimal appelé `premier_css.html`.\n",
    "\n",
    "**Copier** le code HTML/CSS ce dessous dans la balise `<body>` du fichier minimal.\n",
    "\n",
    "```html\n",
    "<p style=\"text-align: right;\">\n",
    "    On écrit un\n",
    "    <span style=\"border: 1pt solid black;\">\n",
    "        paragraphe\n",
    "    </span>\n",
    "    de texte, mais cette fois on \n",
    "    <span style=\"color: gray;\">modifie</span>\n",
    "    le style graphique\n",
    "    <span style=\"border: 1pt solid black;\">\n",
    "        des éléments\n",
    "    </span>\n",
    "    de la page.\n",
    "</p>\n",
    "```\n",
    "\n",
    "**Observer** le résultat obtenu.\n",
    "\n",
    "**Critiquer** le code obtenu."
   ],
   "metadata": {
    "slideshow": {
     "slide_type": "subslide"
    },
    "tags": [
     "exo"
    ]
   }
  },
  {
   "cell_type": "markdown",
   "source": [
    "Voici une capture d'écran du résultat attendu.\n",
    "\n",
    "![](res/premier_css.png)\n",
    "\n",
    "On remarque qu'avec l'attribut `style` nous venons de modifier :\n",
    "\n",
    "- l'alignement du texte,\n",
    "- l'encadrement du texte et\n",
    "- la couleur du texte.\n",
    "\n",
    "Le code obtenu est **peu lisible** et un style est dupliqué ce qui rend la **maintenance du code plus compliquée**."
   ],
   "metadata": {
    "slideshow": {
     "slide_type": "subslide"
    },
    "tags": [
     "solution"
    ]
   }
  },
  {
   "cell_type": "markdown",
   "source": [
    "### Méthode 2 : les sélecteurs CSS"
   ],
   "metadata": {
    "slideshow": {
     "slide_type": "slide"
    }
   }
  },
  {
   "cell_type": "markdown",
   "source": [
    "CSS propose une manière alternative de modifier le rendu graphique de la page par le biais de *sélecteur CSS*. \n",
    "\n",
    "L'attribut `style` n'est présent que dans l'en-tête du document et tous les attributs `style` du corps de texte sont remplacés par des attributs `class` et `id`.\n",
    "\n",
    "Comme `class` et `id` sont des balises neutres, elle ne modifient pas en elles même le rendu graphique. En revanche les *étiquettes* de classe ou d'identifiant qu'elles donnent font références aux styles graphiques décrits par la balise `<style>` de l'en-tête."
   ],
   "metadata": {
    "slideshow": {
     "slide_type": "subslide"
    }
   }
  },
  {
   "cell_type": "markdown",
   "source": [
    "**Créer** un fichier HTML minimal appelé `premier_css_selecteur.html`\n",
    "et y **copier** le code suivant :\n",
    "\n",
    "```html\n",
    "<!DOCTYPE html>\n",
    "<html lang=\"fr\">\n",
    "<head>\n",
    "    <meta charset=\"UTF-8\">\n",
    "    <title>Premier CSS avec sélecteurs</title>\n",
    "    <style>\n",
    "        p {text-align: right;}\n",
    "        .bord {border: 1pt solid black;}\n",
    "        #n42 {color: gray;}\n",
    "    </style>\n",
    "</head>\n",
    "<body>\n",
    "    <p>\n",
    "        On écrit un \n",
    "        <span class=\"bord\">paragraphe</span>\n",
    "        de texte, mais cette fois on \n",
    "        <span id=\"n42\">modifie</span>\n",
    "        le style graphique \n",
    "        <span class=\"bord\">des éléments</span>\n",
    "        de la page.\n",
    "    </p>\n",
    "</body>\n",
    "</html>\n",
    "```\n",
    "\n",
    "**Noter** vos observations."
   ],
   "metadata": {
    "slideshow": {
     "slide_type": "subslide"
    },
    "tags": [
     "exo"
    ]
   }
  },
  {
   "cell_type": "markdown",
   "source": [
    "Le document produit est exactement le même que celui de l'activité précédente. Il est un peu plus lisible et l'utilisation de l'attriut `class` permet d'éviter des duplications de code."
   ],
   "metadata": {
    "slideshow": {
     "slide_type": "subslide"
    },
    "tags": [
     "solution"
    ]
   }
  },
  {
   "cell_type": "markdown",
   "source": [
    "Dans l'activité :\n",
    "\n",
    "* `p {text-align: right;}` : **toutes** les balises `<p>` du document sont alignées à droite ;\n",
    "* `.bord {border: 1pt solid black;}` : **toutes** les balises ayant l'attribu `class=\"bord\"` sont encadrées par un trait noir de 1pt d'épaisseur ;\n",
    "* `#n42 {color: gray;}` : l'**unique** balise dont l'attribut `id` vaut `\"n42\"` est écrit en gris."
   ],
   "metadata": {
    "slideshow": {
     "slide_type": "subslide"
    }
   }
  },
  {
   "cell_type": "markdown",
   "source": [
    "Cette méthode est plus propre que celle avec les nombreuses balises `<style>` car elle sépare la structure du document (HTML) de sa présentation graphique (CSS). Elle permet de *factoriser* les styles communs (grâce au nom des balises ou à l'attribut `class`).\n",
    "\n"
   ],
   "metadata": {
    "slideshow": {
     "slide_type": "subslide"
    }
   }
  },
  {
   "cell_type": "markdown",
   "source": [
    "Imaginons la situation suivante : *Votre document de présentation est composé d'une dizaine de fichiers HTML différents. Pour des raisons de cohérence visuelle, vous souhaitez que tous les fichiers aient le même rendu graphique.*\n",
    "\n",
    "**Comment** s'y prendre pour homogénéiser un grand nombre de fichier HTML différents ? \n",
    "\n",
    "**Critiquer** la méthode proposée."
   ],
   "metadata": {
    "slideshow": {
     "slide_type": "subslide"
    },
    "tags": [
     "exo"
    ]
   }
  },
  {
   "cell_type": "markdown",
   "source": [
    "Si on possède plusieurs fichiers HTML pour lesquels on souhaite appliqué le même style graphique, il faut dupliquer la balise `<style>` dans tous les fichiers. \n",
    "\n",
    "Le problème est la maintenance du code. Chaque modification de style devient pénible avec un grand risque d'oubli et d'erreur. On souhaiterai ne pas avoir à dupliquer la balise `<style>`..."
   ],
   "metadata": {
    "slideshow": {
     "slide_type": "subslide"
    },
    "tags": [
     "solution"
    ]
   }
  },
  {
   "cell_type": "markdown",
   "source": [
    "### Méthode 3 : le fichier CSS"
   ],
   "metadata": {
    "slideshow": {
     "slide_type": "slide"
    }
   }
  },
  {
   "cell_type": "markdown",
   "source": [
    "Il est possible de rajouter dans l'entête d'un fichier HTML une balise `<link>` qui pointe vers l'emplacement d'un fichier CSS. Comme un lien hypertexte, c'est au moyen de l'attribut `href` que l'emplacement du fichier est défini.\n",
    "\n",
    "Le fichier CSS est écrit avec la même syntage que le contenu de la balise `<style>`."
   ],
   "metadata": {
    "slideshow": {
     "slide_type": "subslide"
    }
   }
  },
  {
   "cell_type": "markdown",
   "source": [
    "Voici un exemple de fichier HTML faisant référence au fichier CSS `style.css` :\n",
    "\n",
    "```html\n",
    "<!DOCTYPE html>\n",
    "<html lang=\"fr\">\n",
    "<head>\n",
    "    <meta charset=\"UTF-8\">\n",
    "    <title>Premier CSS avec sélecteurs</title>\n",
    "    <link href=\"style.css\" rel=\"stylesheet\" type=\"text/css\"/>\n",
    "</head>\n",
    "<body>\n",
    "    ...\n",
    "</body>\n",
    "</html>\n",
    "```\n"
   ],
   "metadata": {
    "slideshow": {
     "slide_type": "subslide"
    },
    "tags": [
     "exemple"
    ]
   }
  },
  {
   "cell_type": "markdown",
   "source": [
    "Cette manière d'associer une page à un fichier de style est la plus propre. Elle respecte intégralement le principe de la séparation entre présentation des données et structuration du contenu."
   ],
   "metadata": {
    "slideshow": {
     "slide_type": "subslide"
    }
   }
  },
  {
   "cell_type": "markdown",
   "source": [
    "### Quelques propriétés CSS"
   ],
   "metadata": {
    "slideshow": {
     "slide_type": "slide"
    }
   }
  },
  {
   "cell_type": "markdown",
   "source": [
    "Le format CSS est standardisé. Voici un aperçu de quelques propriétés."
   ],
   "metadata": {}
  },
  {
   "cell_type": "markdown",
   "source": [
    "#### Modèle de boite"
   ],
   "metadata": {}
  },
  {
   "cell_type": "markdown",
   "source": [
    "Tout élément HTML possède une boîte rectangulaire qui délimite son contenu. Par exemple :\n",
    "\n",
    "```html\n",
    "<a href=\"https://www.monsite.org\">Mon lien</a>\n",
    "```\n",
    "\n",
    "Lorsque le navigateur dessine ce lien, il définit une boîte possédant plusieurs zones distinctes :\n",
    "\n",
    "![mon lien](res/boite_css.png)\n",
    "\n",
    "- `padding` définit l'espace entre la zone interne et la bordude ;\n",
    "- `border` définit la taille de la bordure ;\n",
    "- `margin` définit l'espace au delà de la bordure.\n"
   ],
   "metadata": {}
  },
  {
   "cell_type": "markdown",
   "source": [
    "\n",
    "La boîte peut avoir un comportement de *balise de structure* ou de *balise de texte*. Pour cela il faut changer la valeur de la propriété `display` :\n",
    "\n",
    "```css\n",
    "display : block ;\n",
    "```\n",
    "\n",
    "La boîte se comporte comme une balise de structure. Comme `<p>` ou `<ul>`, la boîte impose un retour à la ligne.\n",
    "\n",
    "```css\n",
    "display : inline ;\n",
    "```\n",
    "\n",
    "La boîte se comporte comme une balise de texte. Comme `<a>` ou `<b>`, la boîte est affichée dans le flot du texte.\n",
    "\n",
    "```css\n",
    "display : none ;\n",
    "\n",
    "```\n",
    "\n",
    "La boîte est masquée !"
   ],
   "metadata": {}
  },
  {
   "cell_type": "markdown",
   "source": [
    "#### Longueur"
   ],
   "metadata": {}
  },
  {
   "cell_type": "markdown",
   "source": [
    "De nombreuses propriétés CSS indiquent des longueurs. Leur valeur est toujours un nombre suivi d'une unité :\n",
    "\n",
    "- `px` : pour le pixel\n",
    "- `pt` : pour le point (même unité que dans les traitements de texte)\n",
    "- `%` : pourcentage de la taille de l'élément contenant"
   ],
   "metadata": {}
  },
  {
   "cell_type": "markdown",
   "source": [
    "####  Couleur"
   ],
   "metadata": {}
  },
  {
   "cell_type": "markdown",
   "source": [
    "Il est possible de définir les couleurs par \n",
    "\n",
    "- leurs noms (en anglais, par exemple `red`, `green`, `blue`, `LightGreen`, ettc.) ou\n",
    "- la notation *hexadécimale* : `#`$rrvvbb$ qui représente une couleur obtenue par un mélange d'une certaine quantité de rouge ($rr$), de vert ($vv$) et de bleu ($bb$) :\n",
    "    - noir : si $rr$, $vv$ et $bb$ sont au minimum, alors la couleur obtenue est noire ;\n",
    "    - blanc : si $rr$, $vv$ et $bb$ sont au maximum, alors la couleur obtenue est blanche.\n",
    "    - $r$, $v$ ou $b$ sont des caractères qui représentent un nombre écrit en base 16. Ce nombre vaut $0$ (valeur minimale), $1,2,3,4,5,6,7,8,9,a,b,c,d,e$ ou $f$ (valeur maximale).\n",
    "    "
   ],
   "metadata": {}
  },
  {
   "cell_type": "markdown",
   "source": [
    "La valeur minimale pour $rr$, $vv$ ou $bb$ est : `00`.\n",
    "Ainsi, la couleur noire est obtenue par le codage `#000000`.\n",
    "\n",
    "La valeur maximale pour $rr$, $vv$ ou $bb$ est : `ff` (et oui !!! il faut savoir que $ff$ en base 16 représente $255$ en base 10).\n",
    "Ainsi, la couleur blanche est obtenue par le codage `#ffffff`.\n"
   ],
   "metadata": {
    "tags": [
     "exemple"
    ]
   }
  },
  {
   "cell_type": "markdown",
   "source": [
    "**Déterminer** le codage hexadécimal permettant d'obtenir la couleur violette (mélange de rouge et de bleu uniquement)."
   ],
   "metadata": {
    "tags": [
     "exo"
    ]
   }
  },
  {
   "cell_type": "markdown",
   "source": [
    "Le violet peut s'obtenir par `#ff00ff`.\n",
    "\n",
    "Un violet plus foncé s'obtiendra en *se rapprochant* du noir : `#aa00aa` ou encore plus foncé `#550055`.\n",
    "\n",
    "Un violet clair en *se rapprochant* du blanc: `#ff99ff` ou `#ffccff`."
   ],
   "metadata": {
    "tags": [
     "solution"
    ]
   }
  },
  {
   "cell_type": "markdown",
   "source": [
    "| propriété | valeur | description |\n",
    "|-----------|--------|-------------|\n",
    "`display` | `none`, `block` ou `inline` | mode d'affichage de la boîte \n",
    "`background` | couleur | couleur de fond de la boîte\n",
    "`color` |couleur | couleur de texte\n",
    "`border`| `none` ou `taille motif couleur`| Si `none` alors bordure masquée. Sinon on donne 3 propriétés séparées par des espaces : la *taille* (par ex `2pt`), le *motif* (`solid`, `dotted` ou `dashed`) et la *couleur* (par ex `green` ou `#ff00ff`). \n",
    "`margin` | longueur | taille des marges\n",
    "`padding` | longueur | taille des ajustements\n",
    "`text-decoration` | `none`, `underline`, `overline` ou `line-through` | décoration du texte\n",
    "`text-align` |`left`, `right`, `center` ou `justify` | justification du texte\n",
    "`font-family` |`fixed`, `serif` ou `sans-serif` | nom de la police\n",
    "`font-weight` |`normal`, `light`, `bold` ou `bolder` | graisse de la police\n",
    "`font-style` |`normal` ou `italic` | style de la police\n",
    "`font-size` |longueur ou `xx-small`, `x-small`, `small`, `normal`, `large`, `x-large` ou `xx-large` | taille de la police"
   ],
   "metadata": {
    "tags": [
     "exemple"
    ]
   }
  },
  {
   "cell_type": "markdown",
   "source": [
    "### Pour aller plus loin\n",
    "\n"
   ],
   "metadata": {}
  },
  {
   "cell_type": "markdown",
   "source": [
    "#### Sélecteurs imbriqués"
   ],
   "metadata": {}
  },
  {
   "cell_type": "markdown",
   "source": [
    "Par exemple, on souhaite modifier la couleur du contenu de toutes les balises `<ul>` de classe `impair` qui appartiennent aux paragraphes `<p>`.\n",
    "\n",
    "![](res/selecteur.png)\n",
    "\n",
    "Pour cela, on raisonne par inclusion : de la plus grande boîte à la plus petite. \n",
    "\n",
    "\n",
    "Ici :\n",
    "\n",
    "1. on sélectionne **toutes** les boîtes `<p>`,\n",
    "2. puis **dans la sélection de l'étape précédente**, on sélectionne **toutes** les boîtes `<ul class=\"impair\">`\n",
    "3. puis **dans la sélection de l'étape précédente**, on modifie la propriété `color`.\n",
    "\n",
    "Ce qui se traduit par le sélecteur suivant :\n",
    "\n",
    "```css\n",
    "p ul.impair {color:... ;}\n",
    "```\n",
    "\n",
    "Attention, l'ordre des sélecteurs est important !"
   ],
   "metadata": {
    "tags": [
     "exemple"
    ]
   }
  },
  {
   "cell_type": "markdown",
   "source": [
    "De façon générale, une règle CSS est donnée sous la forme suivante :\n",
    "\n",
    "```css\n",
    "p1 p2 ... pn { prop1 : valeur1 ;\n",
    "    prop2 : valeur2 ;\n",
    "    ...\n",
    "    propk : valeurk ; }\n",
    "```\n",
    "\n",
    "avec ici $n$ sélecteurs et $k$ propriétés."
   ],
   "metadata": {}
  },
  {
   "cell_type": "markdown",
   "source": [
    "**Comparer** l'effet des sélecteurs suivant :\n",
    "\n",
    "```css\n",
    "div#menu li a { color: pink ; background: yellow; }\n",
    "```\n",
    "\n",
    "et\n",
    "\n",
    "```css\n",
    "div #menu li a { color: pink ; background: yellow; }\n",
    "```"
   ],
   "metadata": {
    "tags": [
     "exo"
    ]
   }
  },
  {
   "cell_type": "markdown",
   "source": [
    "1. On souhaite trouver tous les liens (`<a>`) qui sont à l'intérieur des éléments `<li>` qui sont eux-mêmes à l'intérieur de l'unique balise `div` dont l'identifiant est `menu`.\n",
    "2. On cherche l'unique élément dont l'identifiant est `menu` s'il est contenu dans une balise `div` quelconque. Cet élément n'est pas forcément une balise `div`\n",
    "\n",
    "Ce qui donne :\n",
    "\n",
    "1. sélectionne l'élément tel quel :\n",
    "```css\n",
    "<div id=\"menu\">Contenu sélectionné</div>\n",
    "```\n",
    "2. sélectionne l'élément `p` :\n",
    "```css\n",
    "<div>\n",
    "    ...\n",
    "    <p id=\"menu\">Contenu sélectionné</p>\n",
    "    ...\n",
    "</div>\n",
    "```"
   ],
   "metadata": {
    "tags": [
     "solution"
    ]
   }
  },
  {
   "cell_type": "markdown",
   "source": [
    "#### Cascade ?"
   ],
   "metadata": {}
  },
  {
   "cell_type": "markdown",
   "source": [
    "Enfin, si plusieurs style s'appliquent successivement à un même élément :\n",
    "\n",
    "- les effets **se cumulent**\n",
    "- et en cas de conflit c'est une règle compliquée... Pour les cas simples, c'est le dernier style rencontré qui est appliqué."
   ],
   "metadata": {}
  }
 ],
 "metadata": {
  "celltoolbar": "Tags",
  "kernelspec": {
   "display_name": "Python 3",
   "language": "python",
   "name": "python3"
  },
  "language_info": {
   "codemirror_mode": {
    "name": "ipython",
    "version": 3
   },
   "file_extension": ".py",
   "mimetype": "text/x-python",
   "name": "python",
   "nbconvert_exporter": "python",
   "pygments_lexer": "ipython3",
   "version": "3.9.2"
  },
  "latex_metadata": {
   "theme": "interface"
  }
 },
 "nbformat": 4,
 "nbformat_minor": 2
}