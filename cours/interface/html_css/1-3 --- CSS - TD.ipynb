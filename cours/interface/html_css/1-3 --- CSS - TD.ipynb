{
 "cells": [
  {
   "cell_type": "markdown",
   "metadata": {},
   "source": [
    "## 1.3 --- À la découverte du CSS"
   ]
  },
  {
   "cell_type": "markdown",
   "metadata": {},
   "source": [
    "Le langage **CSS** (pour *Cascading Style Sheets*, ie. feuilles de style en cascade) est un langage permettant de définir les propriétés graphiques des éléments HTML constituant une page Web.\n",
    "\n"
   ]
  },
  {
   "cell_type": "markdown",
   "metadata": {},
   "source": [
    "### Méthode 1 : L'attribut `style`\n",
    "\n"
   ]
  },
  {
   "cell_type": "markdown",
   "metadata": {},
   "source": [
    "L'attribut `style` est autorisé dans tous les éléments (par exemple `p`, `span`, `h1`, `b`, `div`, etc.) et défini des **propriétés CSS** pour l'élément concerné."
   ]
  },
  {
   "cell_type": "markdown",
   "metadata": {
    "tags": [
     "exo"
    ]
   },
   "source": [
    "**Créer** un fichier HTML vierge minimal appelé `premier_css.html`.\n",
    "\n",
    "**Copier** le code HTML/CSS ce dessous dans la balise `<body>` du fichier minimal.\n",
    "\n",
    "```html\n",
    "<p style=\"text-align: right;\">\n",
    "    On écrit un\n",
    "    <span style=\"border: 1pt solid black;\">\n",
    "        paragraphe\n",
    "    </span>\n",
    "    de texte, mais cette fois on \n",
    "    <span style=\"color: gray;\">modifie</span>\n",
    "    le style graphique\n",
    "    <span style=\"border: 1pt solid black;\">\n",
    "        des éléments\n",
    "    </span>\n",
    "    de la page.\n",
    "</p>\n",
    "```\n",
    "\n",
    "**Observer** le résultat obtenu.\n",
    "\n",
    "**Critiquer** le code obtenu."
   ]
  },
  {
   "cell_type": "markdown",
   "metadata": {
    "tags": [
     "solution"
    ]
   },
   "source": [
    "Voici une capture d'écran du résultat attendu.\n",
    "\n",
    "![](res/premier_css.png)\n",
    "\n",
    "On remarque qu'avec l'attribut `style` nous venons de modifier :\n",
    "\n",
    "- l'alignement du texte,\n",
    "- l'encadrement du texte et\n",
    "- la couleur du texte.\n",
    "\n",
    "Le code obtenu est **peu lisible** et un style est dupliqué ce qui rend la **maintenance du code plus compliquée**."
   ]
  },
  {
   "cell_type": "markdown",
   "metadata": {},
   "source": [
    "### Méthode 2 : les sélecteurs CSS"
   ]
  },
  {
   "cell_type": "markdown",
   "metadata": {},
   "source": [
    "CSS propose une manière alternative de modifier le rendu graphique de la page par le biais de *sélecteur CSS*. \n",
    "\n",
    "L'attribut `style` n'est présent que dans l'en-tête du document et tous les attributs `style` du corps de texte sont remplacés par des attributs `class` et `id`.\n",
    "\n",
    "Comme `class` et `id` sont des balises neutres, elle ne modifient pas en elles même le rendu graphique. En revanche les *étiquettes* de classe ou d'identifiant qu'elles donnent font références aux styles graphiques décrits par la balise `<style>` de l'en-tête."
   ]
  },
  {
   "cell_type": "markdown",
   "metadata": {
    "tags": [
     "exo"
    ]
   },
   "source": [
    "**Créer** un fichier HTML minimal appelé `premier_css_selecteur.html`\n",
    "et y **copier** le code suivant :\n",
    "\n",
    "```html\n",
    "<!DOCTYPE html>\n",
    "<html lang=\"fr\">\n",
    "<head>\n",
    "    <meta charset=\"UTF-8\">\n",
    "    <title>Premier CSS avec sélecteurs</title>\n",
    "    <style>\n",
    "        p {text-align: right;}\n",
    "        .bord {border: 1pt solid black;}\n",
    "        #n42 {color: gray;}\n",
    "    </style>\n",
    "</head>\n",
    "<body>\n",
    "    <p>\n",
    "        On écrit un \n",
    "        <span class=\"bord\">paragraphe</span>\n",
    "        de texte, mais cette fois on \n",
    "        <span id=\"n42\">modifie</span>\n",
    "        le style graphique \n",
    "        <span class=\"bord\">des éléments</span>\n",
    "        de la page.\n",
    "    </p>\n",
    "</body>\n",
    "</html>\n",
    "```\n",
    "\n",
    "**Noter** vos observations."
   ]
  },
  {
   "cell_type": "markdown",
   "metadata": {
    "tags": [
     "solution"
    ]
   },
   "source": [
    "Le document produit est exactement le même que celui de l'activité précédente. Il est un peu plus lisible et l'utilisation de l'attriut `class` permet d'éviter des duplications de code."
   ]
  },
  {
   "cell_type": "markdown",
   "metadata": {},
   "source": [
    "Dans l'activité :\n",
    "\n",
    "* `p {text-align: right;}` : **toutes** les balises `<p>` du document sont alignées à droite ;\n",
    "* `.bord {border: 1pt solid black;}` : **toutes** les balises ayant l'attribu `class=\"bord\"` sont encadrées par un trait noir de 1pt d'épaisseur ;\n",
    "* `#n42 {color: gray;}` : l'**unique** balise dont l'attribut `id` vaut `\"n42\"` est écrit en gris."
   ]
  },
  {
   "cell_type": "markdown",
   "metadata": {},
   "source": [
    "Cette méthode est plus propre que celle avec les nombreuses balises `<style>` car elle sépare la structure du document (HTML) de sa présentation graphique (CSS). Elle permet de *factoriser* les styles communs (grâce au nom des balises ou à l'attribut `class`).\n",
    "\n"
   ]
  },
  {
   "cell_type": "markdown",
   "metadata": {
    "tags": [
     "exo"
    ]
   },
   "source": [
    "Imaginons la situation suivante : *Votre document de présentation est composé d'une dizaine de fichiers HTML différents. Pour des raisons de cohérence visuelle, vous souhaitez que tous les fichiers aient le même rendu graphique.*\n",
    "\n",
    "**Comment** s'y prendre pour homogénéiser un grand nombre de fichier HTML différents ? \n",
    "\n",
    "**Critiquer** la méthode proposée."
   ]
  },
  {
   "cell_type": "markdown",
   "metadata": {
    "tags": [
     "solution"
    ]
   },
   "source": [
    "Si on possède plusieurs fichiers HTML pour lesquels on souhaite appliqué le même style graphique, il faut dupliquer la balise `<style>` dans tous les fichiers. \n",
    "\n",
    "Le problème est la maintenance du code. Chaque modification de style devient pénible avec un grand risque d'oubli et d'erreur. On souhaiterai ne pas avoir à dupliquer la balise `<style>`..."
   ]
  },
  {
   "cell_type": "markdown",
   "metadata": {},
   "source": [
    "### Méthode 3 : le fichier CSS"
   ]
  },
  {
   "cell_type": "markdown",
   "metadata": {},
   "source": [
    "Il est possible de rajouter dans l'entête d'un fichier HTML une balise `<link>` qui pointe vers l'emplacement d'un fichier CSS. Comme un lien hypertexte, c'est au moyen de l'attribut `href` que l'emplacement du fichier est défini.\n",
    "\n",
    "Le fichier CSS est écrit avec la même syntage que le contenu de la balise `<style>`."
   ]
  },
  {
   "cell_type": "markdown",
   "metadata": {
    "tags": [
     "exemple"
    ]
   },
   "source": [
    "Voici un exemple de fichier HTML faisant référence au fichier CSS `style.css` :\n",
    "\n",
    "```html\n",
    "<!DOCTYPE html>\n",
    "<html lang=\"fr\">\n",
    "<head>\n",
    "    <meta charset=\"UTF-8\">\n",
    "    <title>Premier CSS avec sélecteurs</title>\n",
    "    <link href=\"style.css\" rel=\"stylesheet\" type=\"text/css\"/>\n",
    "</head>\n",
    "<body>\n",
    "    ...\n",
    "</body>\n",
    "</html>\n",
    "```\n"
   ]
  },
  {
   "cell_type": "markdown",
   "metadata": {},
   "source": [
    "Cette manière d'associer une page à un fichier de style est la plus propre. Elle respecte intégralement le principe de la séparation entre présentation des données et structuration du contenu."
   ]
  },
  {
   "cell_type": "markdown",
   "metadata": {},
   "source": [
    "### Quelques propriétés CSS"
   ]
  },
  {
   "cell_type": "markdown",
   "metadata": {},
   "source": [
    "Le format CSS est standardisé. Voici un aperçu de quelques propriétés."
   ]
  },
  {
   "cell_type": "markdown",
   "metadata": {},
   "source": [
    "#### Modèle de boite"
   ]
  },
  {
   "cell_type": "markdown",
   "metadata": {},
   "source": [
    "Tout élément HTML possède une boîte rectangulaire qui délimite son contenu. Par exemple :\n",
    "\n",
    "```html\n",
    "<a href=\"https://www.monsite.org\">Mon lien</a>\n",
    "```\n",
    "\n",
    "Lorsque le navigateur dessine ce lien, il définit une boîte possédant plusieurs zones distinctes :\n",
    "\n",
    "![mon lien](res/boite_css.png)"
   ]
  },
  {
   "cell_type": "markdown",
   "metadata": {},
   "source": []
  },
  {
   "cell_type": "markdown",
   "metadata": {},
   "source": []
  },
  {
   "cell_type": "markdown",
   "metadata": {},
   "source": []
  },
  {
   "cell_type": "markdown",
   "metadata": {},
   "source": [
    "#### Longueur et couleur"
   ]
  },
  {
   "cell_type": "markdown",
   "metadata": {},
   "source": []
  },
  {
   "cell_type": "markdown",
   "metadata": {},
   "source": []
  },
  {
   "cell_type": "markdown",
   "metadata": {},
   "source": []
  },
  {
   "cell_type": "markdown",
   "metadata": {},
   "source": []
  }
 ],
 "metadata": {
  "celltoolbar": "Tags",
  "kernelspec": {
   "display_name": "Python 3",
   "language": "python",
   "name": "python3"
  },
  "language_info": {
   "codemirror_mode": {
    "name": "ipython",
    "version": 3
   },
   "file_extension": ".py",
   "mimetype": "text/x-python",
   "name": "python",
   "nbconvert_exporter": "python",
   "pygments_lexer": "ipython3",
   "version": "3.9.2"
  },
  "latex_metadata": {
   "theme": "interface"
  }
 },
 "nbformat": 4,
 "nbformat_minor": 2
}
