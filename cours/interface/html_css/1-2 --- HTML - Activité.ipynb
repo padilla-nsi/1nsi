{
 "cells": [
  {
   "cell_type": "markdown",
   "metadata": {},
   "source": [
    "## 1.2 --- HTML - Activité"
   ]
  },
  {
   "cell_type": "markdown",
   "metadata": {
    "tags": [
     "exo"
    ]
   },
   "source": [
    "**Consigne**\n",
    "\n",
    "Par groupe, réaliser (au moins) une page au format HTML retraçant les grandes étapes du développement du Web.\n",
    "\n",
    "\n",
    "**Évaluation**\n",
    "\n",
    "- Code source :\n",
    "    - justesse\n",
    "    - **clartée** et lisibilité\n",
    "    - **productions personnelles**\n",
    "- Document produit\n",
    "    - recherche historique de qualité\n",
    "    - présentation claire\n",
    "    - **document structuré**\n",
    "    - original\n",
    "    - créativité\n",
    "- Gestion du travail\n",
    "    - absence de copier/coller\n",
    "    - rendu dans les temps\n",
    "    - **relu**\n",
    "    - prise d'initiative\n",
    "    - travail autonome\n"
   ]
  }
 ],
 "metadata": {
  "celltoolbar": "Tags",
  "kernelspec": {
   "display_name": "Python 3",
   "language": "python",
   "name": "python3"
  },
  "language_info": {
   "codemirror_mode": {
    "name": "ipython",
    "version": 3
   },
   "file_extension": ".py",
   "mimetype": "text/x-python",
   "name": "python",
   "nbconvert_exporter": "python",
   "pygments_lexer": "ipython3",
   "version": "3.7.3"
  },
  "latex_metadata": {
   "theme": "interface"
  }
 },
 "nbformat": 4,
 "nbformat_minor": 2
}
