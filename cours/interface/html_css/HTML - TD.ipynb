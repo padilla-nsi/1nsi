{
 "cells": [
  {
   "cell_type": "markdown",
   "metadata": {},
   "source": [
    "# HTML et CSS\n",
    "\n",
    "## HTML - Travaux dirigés"
   ]
  },
  {
   "cell_type": "markdown",
   "metadata": {},
   "source": [
    "Comme tu l'as vu en seconde, le *Web* est un ensemble de documents reliés entres eux par des *liens hypertexte*. Ces documents peuvent donc être parcourus de façon non linéaire en **actionnant** (clic, touch) les liens hypertextes.\n",
    "\n",
    "Le terme Web englobe aussi toute l'infrastructure hébergeant cette collection mondiale de documents :\n",
    "\n",
    "* les langages informatiques permettant d'écrire les documents hypertextes : **HTML** et **CSS** ;\n",
    "* une architecture client-serveur utilisant le protocole `HTTP` (*Hypertext Tranfert Protocol*) ou sa version sécurisée  `HTTPS` (*HTTP secure*) ;\n",
    "* des langages de programmation côté serveur dont le but est de générer du HTML ;\n",
    "* des langages de programmation côté client dont le but est de permettre l'écriture d'application Web hautement interactives (par exemple des jeux).\n",
    "\n"
   ]
  },
  {
   "cell_type": "markdown",
   "metadata": {
    "tags": [
     "remarque"
    ]
   },
   "source": [
    "Le chapitre a pour but de présenter les langages HTML et CSS. Dans cette première partie, tu vas commencer par le **langage HTML**. Ces langages sont présentés en dehors de toute considération de réseau, de client ou de serveur."
   ]
  },
  {
   "cell_type": "markdown",
   "metadata": {},
   "source": [
    "## Premier exemple"
   ]
  },
  {
   "cell_type": "markdown",
   "metadata": {},
   "source": [
    "Le format HTML (*Hyper Text Markup Language*) est un format textuel permettant de décrire :\n",
    "\n",
    "* le contenu\n",
    "* la structure\n",
    "\n",
    "d'un document ou d'une page Web."
   ]
  },
  {
   "cell_type": "markdown",
   "metadata": {
    "tags": [
     "exo"
    ]
   },
   "source": [
    "Tu vas maintenant créer la première page HTML de ce cours.\n",
    "\n",
    "1. **Ouvrir** un éditeur de texte et **copier** le code ci-dessous.\n",
    "\n",
    "```html\n",
    "<!DOCTYPE html>\n",
    "<html lang=\"fr\">\n",
    "<head>\n",
    "    <meta charset=\"UTF-8\"/>\n",
    "    <title>Le titre de ma première page HTML</title>\n",
    "</head>\n",
    "<body>\n",
    "    <h1>Première page </h1>\n",
    "    <p>Notre toute première page !</p>\n",
    "\n",
    "    <!-- Ceci est un gros commentaire -->\n",
    "    \n",
    "</body>\n",
    "</html>\n",
    "\n",
    "```\n",
    "\n",
    "2. **Enregistrer** le fichier sous `premier_exemple.html`.\n",
    "3. Enfin, **ouvrir** ce fichier avec *Firefox*.\n"
   ]
  },
  {
   "cell_type": "markdown",
   "metadata": {
    "tags": [
     "solution"
    ]
   },
   "source": [
    "Le code précédent devrait afficher quelques chose qui ressemble à cela :\n",
    "\n",
    "![Capture d'écran du premier exemple](res/premier_exemple.png)\n",
    "\n"
   ]
  },
  {
   "cell_type": "markdown",
   "metadata": {},
   "source": [
    "## Balises et attributs"
   ]
  },
  {
   "cell_type": "markdown",
   "metadata": {},
   "source": [
    "Le code source possède une structure donnée par les *balises HTML* qui sont des suites de caractères délimitées par `<` et `>`.\n"
   ]
  },
  {
   "cell_type": "markdown",
   "metadata": {
    "tags": [
     "exemple"
    ]
   },
   "source": [
    "\n",
    "* `<head>` est une *balise ouvrante*\n",
    "* `</h1>` est une balise *fermante* (à cause de la barre oblique `/`).\n"
   ]
  },
  {
   "cell_type": "markdown",
   "metadata": {},
   "source": [
    "\n",
    "Un *élément* est constitué d'une paire de balise ouvrante et fermante ainsi que du contenu situé entre les deux."
   ]
  },
  {
   "cell_type": "markdown",
   "metadata": {
    "tags": [
     "exemple"
    ]
   },
   "source": [
    "* `title` est l'élément constitué par `<title>Le titre de ma première page HTML</title>`.\n",
    "\n"
   ]
  },
  {
   "cell_type": "markdown",
   "metadata": {},
   "source": [
    "La balise `<meta charset=\"utf-8\" />` est une balise **vide** car elle est à la fois ouvrante et fermante.\n",
    "\n",
    "Certaines balises et leurs contenus correspondent directement à des éléments graphiques."
   ]
  },
  {
   "cell_type": "markdown",
   "metadata": {
    "tags": [
     "exemple"
    ]
   },
   "source": [
    " Par exemple `<h1>Première page</h1>` se retrouve comme un titre de la page en gras."
   ]
  },
  {
   "cell_type": "markdown",
   "metadata": {
    "tags": [
     "exo"
    ]
   },
   "source": [
    "À partir de l'exercice précédent, **lister** toutes les balises HTML que tu identifies et pour chacune **indiquer** si c'est une balise fermante, ouvrante ou vide."
   ]
  },
  {
   "cell_type": "markdown",
   "metadata": {
    "tags": [
     "solution"
    ]
   },
   "source": [
    "|Balise ouvrante | Balise fermante | Balise Vide | \n",
    "| :------------: | :-------------: |:----:|\n",
    "| `<head>` | `</head>` ||\n",
    "| `<html>` | `</html>` ||\n",
    "| `<title>` | `</title>` ||\n",
    "|||`<meta />`|\n",
    "|`<body>`|`</body>`||\n",
    "|`<h1>`|`</h1>`||\n",
    "|`<p>`|`</p>`||"
   ]
  },
  {
   "cell_type": "markdown",
   "metadata": {},
   "source": [
    "Dans une balise, on peut utiliser des *attributs*. Les attributs sont associés à des valeurs.\n",
    "\n",
    "Par exemple, pour indiquer que la page HTML est écrite en français, on va utiliser l'attribut `lang` dans la balise ouvrante `<html lang=\"fr\">`. En écrivant `lang=\"fr\"`, on stipule que l'attribut `lang` a pour valeur `\"fr\"`. Si on avait utilisé la valeur `\"en\"`, alors la langue officielle du document aurait été l'anglais."
   ]
  },
  {
   "cell_type": "markdown",
   "metadata": {
    "tags": [
     "exo"
    ]
   },
   "source": [
    "1. Dans le code source de l'exercice précédent, **trouver** un autre attribut et **indiquer** la balise à laquelle il est associé.\n",
    "2. **Trouver** 6 valeurs possibles pour l'attribut `lang` correspondants à 6 langues parlées dans l'union européenne (autres que le français et l'anglais)."
   ]
  },
  {
   "cell_type": "markdown",
   "metadata": {
    "tags": [
     "solution"
    ]
   },
   "source": [
    "1. Le code source utilise dans l'élément `head` l'attribut `charset`. Cet attribut est défini à `\"utf-8\"`.\n",
    "2. \"es\", \"gem\", \"it\", \"pl\", \"pt\", \"LT\""
   ]
  },
  {
   "cell_type": "markdown",
   "metadata": {},
   "source": [
    "## Validation du code"
   ]
  },
  {
   "cell_type": "markdown",
   "metadata": {},
   "source": [
    "Le format HTML est standardisé par le W3C. Les règles décrivant les documents valides sont complexes (plusieurs centaines de pages !).\n",
    "\n",
    "Voici quelques principes généraux.\n",
    "\n",
    "### Structure du document\n",
    "\n",
    "La structure doit être similaire à celle de l'exercice : \n",
    "\n",
    "1. Le document : \n",
    "    - commence par une déclaration de type `<! DOCTYPE html>`.\n",
    "    - contient ensuite un unique élément `html`.\n",
    "1. L'élément `html` :\n",
    "    - contient l'attribut `lang` (information utilisée par les navigateurs Web, par exemple pour proposer un correcteur orthographique adapté dans les zones de textes).\n",
    "    - contient uniquement deux sous-éléments : `head` et `body`.\n",
    "1. L'élément `head` :\n",
    "    - contient les entêtes du document dont au moins l'élément `title` (texte affiché dans l'onglet ou la barre de fenêtre de la page).\n",
    "    - La balise vide `<meta charset=\"utf-8\">` indique l'encodage de caractère (format de texte) utilisé pour le document. Sauf exception, il vaudra toujours `utf-8`.\n",
    "1. L'élément `body` : \n",
    "    - regroupe tous les éléments qui structurent la page.\n",
    "1. Les balises :\n",
    "    - Leur nom est écrit en minuscule\n",
    "    - Les balises ouvrantes sont **bien parenthésées** : c'est-à-dire fermées par une balise fermante de même niveau d'imbrication. Par exemple :\n",
    "        * `<b> <i> </ b> </ i>` est invalide\n"
   ]
  },
  {
   "cell_type": "markdown",
   "metadata": {
    "tags": [
     "exo"
    ]
   },
   "source": [
    "**Retrouver** le nom des 14 balises vides possible."
   ]
  },
  {
   "cell_type": "markdown",
   "metadata": {
    "tags": [
     "solution"
    ]
   },
   "source": [
    "\n",
    "- `<area>`\n",
    "- `<base>`\n",
    "- `<br>`\n",
    "- `<col>`\n",
    "- `<embed>`\n",
    "- `<hr>`\n",
    "- `<img>`\n",
    "- `<input>`\n",
    "- `<link>`\n",
    "- `<meta>`\n",
    "- `<param>`\n",
    "- `<source>`\n",
    "- `<track>`\n",
    "- `<wbr>`\n",
    "\n",
    " "
   ]
  },
  {
   "cell_type": "markdown",
   "metadata": {
    "tags": [
     "exo"
    ]
   },
   "source": [
    "**Indiquer** le nom des balises qui permettent de définir les titres de section, sous-sections, etc."
   ]
  },
  {
   "cell_type": "markdown",
   "metadata": {
    "tags": [
     "solution"
    ]
   },
   "source": [
    "```html\n",
    "<h1> Titre de premier niveau </h1>\n",
    "<h2> Titre de deuxième niveau </h2>\n",
    "<h3> Titre de troisième niveau </h3>\n",
    "<h4> Titre de quatrième niveau </h4>\n",
    "<h5> Titre de cinquième niveau </h5>\n",
    "<h6> Titre de sixième niveau </h6>\n",
    "```"
   ]
  },
  {
   "cell_type": "markdown",
   "metadata": {
    "tags": [
     "exo"
    ]
   },
   "source": [
    "**Indiquer** le nom de l'élément qui permet de créer un nouveau paragraphe."
   ]
  },
  {
   "cell_type": "markdown",
   "metadata": {},
   "source": [
    "```html\n",
    "<p> Un premier paragraphe\n",
    "    on y met\n",
    "    du texte   n'importe comment\n",
    "    et il est affiché comme\n",
    "    il \n",
    "    faut </p>\n",
    "<p> Et si on comment un nouveau paragraphe\n",
    "    on remarque enfin un retour à la ligne! <p>\n",
    "```"
   ]
  },
  {
   "cell_type": "markdown",
   "metadata": {
    "tags": [
     "exo"
    ]
   },
   "source": [
    "**Donner** un exemple de liste énumérée et un exemple de liste non-énumérée."
   ]
  },
  {
   "cell_type": "code",
   "execution_count": 2,
   "metadata": {
    "tags": [
     "show"
    ]
   },
   "outputs": [
    {
     "name": "stdout",
     "output_type": "stream",
     "text": [
      "0 Hello, world!\n",
      "1 Hello, world!\n",
      "2 Hello, world!\n",
      "3 Hello, world!\n",
      "4 Hello, world!\n",
      "5 Hello, world!\n",
      "6 Hello, world!\n",
      "7 Hello, world!\n",
      "8 Hello, world!\n",
      "9 Hello, world!\n"
     ]
    }
   ],
   "source": [
    "for i in range(10):\n",
    "    print(i, \"Hello, world!\")"
   ]
  }
 ],
 "metadata": {
  "celltoolbar": "Tags",
  "kernelspec": {
   "display_name": "Python 3",
   "language": "python",
   "name": "python3"
  },
  "language_info": {
   "codemirror_mode": {
    "name": "ipython",
    "version": 3
   },
   "file_extension": ".py",
   "mimetype": "text/x-python",
   "name": "python",
   "nbconvert_exporter": "python",
   "pygments_lexer": "ipython3",
   "version": "3.7.3"
  },
  "latex_metadata": {
   "theme": "interface"
  }
 },
 "nbformat": 4,
 "nbformat_minor": 2
}