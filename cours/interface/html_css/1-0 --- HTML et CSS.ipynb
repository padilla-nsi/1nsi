{
 "cells": [
  {
   "cell_type": "markdown",
   "metadata": {
    "slideshow": {
     "slide_type": "slide"
    }
   },
   "source": [
    "Dans ce chapitre, tu vas :\n",
    "\n",
    "* découvrir le **`HTML`** : langage des pages Web\n",
    "* découvrir les feuilles de style : le **`CSS`**\n"
   ]
  },
  {
   "cell_type": "markdown",
   "metadata": {},
   "source": [
    "## Déroulement"
   ]
  },
  {
   "cell_type": "markdown",
   "metadata": {},
   "source": [
    "\n",
    "|Durée|Activité|\n",
    "|-----|--------|\n",
    "|50min   |1.1 - Découvrir le HTML |\n",
    "|50min   |1.2 - Activité - Produire un document HTML|\n",
    "|50min   |1.3 - Découvrir le CSS| \n",
    "|35min   |1.4 - Activité - mettre en forme le document produit|\n",
    "|15min   |rédaction synthèse|\n",
    "|50min   | fiche de révision chap 1|\n"
   ]
  },
  {
   "cell_type": "markdown",
   "metadata": {},
   "source": [
    "#### 1.1 - TD HTML (50min)\n",
    "\n",
    "* énoncé en ligne (format notebook)\n",
    "* éditer avec VSCode un fichier HTML `premier_exemple.html`\n",
    "* sauvegarder les productions sur clé USB élève dans le dossier `interface`\n",
    "* correction (individuelle puis collectives)\n",
    "* synthèse orale\n",
    "* distribution corrigé papier R/V (format A5) pour le classeur à ranger dans la partie *Interface*\n",
    "\n",
    "|Documents|\n",
    "|----|\n",
    "|[TD notebook](https://notebook.basthon.fr/?from=https://raw.githubusercontent.com/padilla-nsi/1nsi/main/cours/interface/html_css/1-1%20---%20HTML%20-%20TD.ipynb)|\n",
    "|[corrigé notebook](https://notebook.basthon.fr/?from=https://raw.githubusercontent.com/padilla-nsi/1nsi/main/cours/interface/html_css/1-1%20---%20HTML%20-%20TD.ipynb)|\n",
    "|[corrigé pdf](1-1%20---%20HTML%20-%20TD.pdf)|\n",
    "|[corrigé pdf R/V](1-1%20---%20HTML%20-%20TD-book.pdf)|\n",
    "    \n",
    "#### 1.2 - Activité HTML (50 min)\n",
    "\n",
    "* par binôme \n",
    "* travail évalué\n",
    "\n",
    "|Documents|\n",
    "|----|\n",
    "|[sujet](1-2%20---%20HTML%20-%20Activit%C3%A9.ipynb)|\n",
    "|[sujet pdf](1-2%20---%20HTML%20-%20Activit%C3%A9.pdf)|\n",
    "\n",
    "\n",
    "#### 1.3 - TD CSS (50 min)\n",
    "\n",
    "* énoncé en ligne (format notebook)\n",
    "* éditer avec VSCode un fichier HTML `premier_css.html`\n",
    "* sauvegarder les productions sur clé USB élève dans le dossier `interface`\n",
    "* correction (individuelle puis collectives)\n",
    "* synthèse orale\n",
    "* distribution corrigé papier R/V (format A5) pour le classeur à ranger dans la partie *Interface*\n",
    "\n",
    "\n",
    "|Documents|\n",
    "|----|\n",
    "|[TD notebook](https://notebook.basthon.fr/?from=https://raw.githubusercontent.com/padilla-nsi/1nsi/main/cours/interface/html_css/1-3%20---%20CSS%20-%20TD-eleve.ipynb)| \n",
    "| [corrigé notebook](https://notebook.basthon.fr/?from=https://raw.githubusercontent.com/padilla-nsi/1nsi/main/cours/interface/html_css/1-3%20---%20CSS%20-%20TD-eleve.ipynb) \n",
    "|[corrigé pdf](1-3%20---%20CSS%20-%20TD.pdf)|\n",
    "| [corrigé pdf R/V](1-3%20---%20CSS%20-%20TD-book.pdf)|\n",
    "    \n",
    "#### 1.4  - Activité CSS (35 min)\n",
    "\n",
    "* par binôme \n",
    "* travail évalué\n",
    "\n",
    "\n",
    "|Documents|\n",
    "|----|\n",
    "|[sujet](1-4%20---%20CSS%20-%20Activit%C3%A9.ipynb)|\n",
    "| [sujet pdf](1-4%20---%20CSS%20-%20Activit%C3%A9.pdf)|\n",
    "\n",
    "#### 1.5 - À retenir (15 min)\n",
    "\n",
    "* débriefing oral\n",
    "\n",
    "|Documents|\n",
    "|----|\n",
    "|[synthèse](./1-9%20---%20À%20retenir.ipynb)|\n",
    "\n",
    "#### Réalisation d'une fiche de révision (50 min)\n",
    "\n",
    "* réalisation en classe d'une fiche de révision du chapitre\n",
    "* format A5\n",
    "* questions dans la marges / réponses en vis à vis."
   ]
  },
  {
   "cell_type": "markdown",
   "metadata": {},
   "source": [
    "\n",
    "## Ressources\n",
    "\n",
    "* B.O. NSI 1ère : ([extraits](../../../roadmap/progression.md#html-et-css))\n",
    "* *NSI*, p. 361, Ellipses, T. Balabonski & S. Conchon & J.C. Filliâtre & K. Nguyen"
   ]
  }
 ],
 "metadata": {
  "celltoolbar": "Diaporama",
  "kernelspec": {
   "display_name": "Python 3",
   "language": "python",
   "name": "python3"
  },
  "language_info": {
   "codemirror_mode": {
    "name": "ipython",
    "version": 3
   },
   "file_extension": ".py",
   "mimetype": "text/x-python",
   "name": "python",
   "nbconvert_exporter": "python",
   "pygments_lexer": "ipython3",
   "version": "3.9.2"
  },
  "latex_metadata": {
   "theme": "interface"
  }
 },
 "nbformat": 4,
 "nbformat_minor": 2
}
