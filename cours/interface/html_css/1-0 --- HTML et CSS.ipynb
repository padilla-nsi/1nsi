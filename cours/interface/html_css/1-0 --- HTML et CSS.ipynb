{
 "cells": [
  {
   "cell_type": "markdown",
   "metadata": {
    "slideshow": {
     "slide_type": "slide"
    }
   },
   "source": [
    "Dans ce chapitre, tu vas :\n",
    "\n",
    "* découvrir le **`HTML`** : langage des pages Web\n",
    "* découvrir les feuilles de style : le **`CSS`**\n"
   ]
  },
  {
   "cell_type": "markdown",
   "metadata": {},
   "source": [
    "|Durée|Activité|Ressources|\n",
    "|:---|:----|:----|\n",
    "|1h|Découvrir le HTML | [TD](1-1%20---%20HTML%20-%20TD-eleve.ipynb) ; [corrigé notebook](1-1%20---%20HTML%20-%20TD.ipynb) ; [corrigé pdf](1-1%20---%20HTML%20-%20TD.pdf) ; [corrigé pdf R/V](1-1%20---%20HTML%20-%20TD-book.pdf)|\n",
    "|1h|Activité - Produire un document HTML|[sujet notebook](1-2%20---%20HTML%20-%20Activité.ipynb) ; [sujet pdf](1-2%20---%20HTML%20-%20Activit%C3%A9.pdf)|\n",
    "|1h|Découvrir le CSS| [TD](1-3%20---%20CSS%20-%20TD-eleve.ipynb) ; [corrigé notebook](1-3%20---%20CSS%20-%20TD.ipynb) ; [corrigé pdf](1-3%20---%20CSS%20-%20TD.pdf) ; [corrigé pdf R/V](1-3%20---%20CSS%20-%20TD-book.pdf)|\n",
    "|1h|Activité - mettre en forme le document produit|[sujet](1-4%20---%20CSS%20-%20Activit%C3%A9.ipynb) ; [sujet pdf](1-4%20---%20CSS%20-%20Activit%C3%A9.pdf)|\n",
    "||**synthèse**|[À retenir](./1-9%20---%20À%20retenir.ipynb)"
   ]
  },
  {
   "cell_type": "markdown",
   "metadata": {},
   "source": [
    "\n",
    "## Ressources\n",
    "\n",
    "* B.O. NSI 1ère : ([extraits](../../../roadmap/progression.md#html-et-css))\n",
    "* *NSI*, p. 361, Ellipses, T. Balabonski & S. Conchon & J.C. Filliâtre & K. Nguyen"
   ]
  }
 ],
 "metadata": {
  "celltoolbar": "Diaporama",
  "kernelspec": {
   "display_name": "Python 3",
   "language": "python",
   "name": "python3"
  },
  "language_info": {
   "codemirror_mode": {
    "name": "ipython",
    "version": 3
   },
   "file_extension": ".py",
   "mimetype": "text/x-python",
   "name": "python",
   "nbconvert_exporter": "python",
   "pygments_lexer": "ipython3",
   "version": "3.9.2"
  },
  "latex_metadata": {
   "theme": "interface"
  }
 },
 "nbformat": 4,
 "nbformat_minor": 2
}
