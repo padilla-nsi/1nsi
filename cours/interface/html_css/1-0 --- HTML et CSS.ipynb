{
 "cells": [
  {
   "cell_type": "markdown",
   "metadata": {
    "slideshow": {
     "slide_type": "slide"
    }
   },
   "source": [
    "Dans ce chapitre, tu vas :\n",
    "\n",
    "* découvrir le **`HTML`** : langage des pages Web\n",
    "* découvrir les feuilles de style : le **`CSS`**\n"
   ]
  },
  {
   "cell_type": "markdown",
   "metadata": {},
   "source": [
    "1. HTML\n",
    "    1. Travaux Dirigés : découverte HTML\n",
    "        - Notebook [élève](1-1%20HTML%20-%20TD-eleve.ipynb) et [prof](1-1%20HTML%20-%20TD.ipynb)\n",
    "        - PDF [écran](1-1%20HTML%20-%20TD.pdf) et [à imprimer](1-1%20HTML%20-%20TD_livre.pdf)\n",
    "    1. Activité : créer un document HTML sur l'historique du Web \n",
    "        - Notebook [Activité](1-2%20HTML%20-%20Activité.ipynb)\n",
    "        - PDF [écran](1-2%20HTML%20-%20Activit%C3%A9.pdf)\n",
    "2. CSS\n",
    "    1. Travaux Dirigés : découverte et prise en main du CSS\n",
    "        - Notebook [élève](CSS%20-%20TD-eleve.ipynb) et [prof](CSS%20-%20TD.ipynb)\n",
    "        - PDF [écran](CSS%20-%20TD.pdf) et [à imprimer](CSS%20-%20TD_livre.pdf)\n",
    "    1. Activité : mettre en forme le document Historique du Web\n",
    "        - Notebook [Activité](CSS%20-%20Activit%C3%A9.ipynb)\n",
    "        - PDF [écran](CSS%20-%20Activit%C3%A9.pdf)\n",
    "3. [À retenir](./Chapitre%201%20-%20À%20retenir.ipynb)"
   ]
  },
  {
   "cell_type": "markdown",
   "metadata": {},
   "source": [
    "\n",
    "## Ressources\n",
    "\n",
    "* B.O. NSI 1ère : ([extraits](../../../roadmap/progression.md#html-et-css))\n",
    "* *NSI*, p. 361, Ellipses, T. Balabonski & S. Conchon & J.C. Filliâtre & K. Nguyen"
   ]
  }
 ],
 "metadata": {
  "celltoolbar": "Diaporama",
  "kernelspec": {
   "display_name": "Python 3",
   "language": "python",
   "name": "python3"
  },
  "language_info": {
   "codemirror_mode": {
    "name": "ipython",
    "version": 3
   },
   "file_extension": ".py",
   "mimetype": "text/x-python",
   "name": "python",
   "nbconvert_exporter": "python",
   "pygments_lexer": "ipython3",
   "version": "3.7.3"
  }
 },
 "nbformat": 4,
 "nbformat_minor": 2
}
