{
 "cells": [
  {
   "cell_type": "markdown",
   "metadata": {},
   "source": [
    "## 1.4 --- CSS - Activité"
   ]
  },
  {
   "cell_type": "markdown",
   "metadata": {
    "tags": [
     "exo"
    ]
   },
   "source": [
    "**Consigne**\n",
    "\n",
    "Par groupe, mettre en forme et personnalisé avec *style* votre travail sur l'histoire du Web produit en HTML.\n",
    "\n",
    "\n",
    "**Évaluation**\n",
    "\n",
    "- Code source :\n",
    "    - justesse\n",
    "    - **clartée** et lisibilité\n",
    "    - **productions personnelles**\n",
    "- Document produit\n",
    "    - présentation claire\n",
    "    - **document structuré**\n",
    "    - **original**\n",
    "    - **créativité**\n",
    "- Gestion du travail\n",
    "    - **absence de copier/coller**\n",
    "    - rendu dans les temps\n",
    "    - relu\n",
    "    - prise d'initiative\n",
    "    - travail autonome\n"
   ]
  }
 ],
 "metadata": {
  "celltoolbar": "Tags",
  "kernelspec": {
   "display_name": "Python 3",
   "language": "python",
   "name": "python3"
  },
  "language_info": {
   "codemirror_mode": {
    "name": "ipython",
    "version": 3
   },
   "file_extension": ".py",
   "mimetype": "text/x-python",
   "name": "python",
   "nbconvert_exporter": "python",
   "pygments_lexer": "ipython3",
   "version": "3.9.2"
  },
  "latex_metadata": {
   "theme": "interface"
  }
 },
 "nbformat": 4,
 "nbformat_minor": 2
}
