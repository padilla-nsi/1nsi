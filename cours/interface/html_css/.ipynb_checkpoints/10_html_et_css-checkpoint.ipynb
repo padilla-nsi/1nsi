{
 "cells": [
  {
   "cell_type": "markdown",
   "metadata": {},
   "source": [
    "# HTML et CSS"
   ]
  },
  {
   "cell_type": "markdown",
   "metadata": {},
   "source": [
    "Dans ce chapitre, tu vas :\n",
    "* découvrir le `HTML` : le langage des pages Web\n",
    "* découvrir les feuilles de style : le `CSS`\n",
    "\n",
    "([extraits](bo.md) du BO)"
   ]
  },
  {
   "cell_type": "markdown",
   "metadata": {},
   "source": [
    "Comme tu l'as vu en seconde, le *Web* est un ensemble de documents reliés entres eux par des *liens hypertexte*. Ces documents peuvent donc être parcourus de façon non linéaire en **actionnant** (clic, touch) les liens hypertextes.\n",
    "\n",
    "Le terme Web englobe aussi toute l'infrastructure hébergeant cette collection mondiale de documents :\n",
    "\n",
    "* les langages informatiques permettant d'écrire les documents hypertextes : **HTML** et **CSS** ;\n",
    "* une architecture client-serveur utilisant le protocole `HTTP` (*Hypertext Tranfert Protocol*) ou sa version sécurisée  `HTTPS` (*HTTP secure*) ;\n",
    "* des langages de programmation côté serveur dont le but est de générer du HTML ;\n",
    "* des langages de programmation côté client dont le but est de permettre l'écriture d'application Web hautement interactives (par exemple des jeux).\n",
    "\n",
    "Ce chapitre a pour but de présenter les langages HTML et CSS. Ces langages sont présentés en dehors de toute considération de réseau, de client ou de serveur.\n",
    "\n",
    "**Les documents produits peuvent être ouvert par le navigateur Web directement et sans même avoir besoin d'être connecté (au moyen du menu `fichier > ouvrir > ...`).**"
   ]
  }
 ],
 "metadata": {
  "kernelspec": {
   "display_name": "Python 3",
   "language": "python",
   "name": "python3"
  },
  "language_info": {
   "codemirror_mode": {
    "name": "ipython",
    "version": 3
   },
   "file_extension": ".py",
   "mimetype": "text/x-python",
   "name": "python",
   "nbconvert_exporter": "python",
   "pygments_lexer": "ipython3",
   "version": "3.7.3"
  }
 },
 "nbformat": 4,
 "nbformat_minor": 2
}
