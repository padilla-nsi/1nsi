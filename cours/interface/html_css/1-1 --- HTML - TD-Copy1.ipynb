{
 "cells": [
  {
   "cell_type": "markdown",
   "metadata": {
    "slideshow": {
     "slide_type": "slide"
    }
   },
   "source": [
    "# Chap. 1 --- HTML et CSS\n",
    "\n"
   ]
  },
  {
   "cell_type": "markdown",
   "metadata": {
    "slideshow": {
     "slide_type": "fragment"
    }
   },
   "source": [
    "Dans ce chapitre, tu vas :\n",
    "\n",
    "* découvrir le **`HTML`** : langage des pages Web\n",
    "* découvrir les feuilles de style : le **`CSS`**\n"
   ]
  },
  {
   "cell_type": "markdown",
   "metadata": {
    "slideshow": {
     "slide_type": "slide"
    }
   },
   "source": [
    "## 1.1 --- Découvrir le langage HTML"
   ]
  },
  {
   "cell_type": "markdown",
   "metadata": {
    "slideshow": {
     "slide_type": "subslide"
    }
   },
   "source": [
    "Comme tu l'as vu en seconde, le *Web* est un ensemble de documents reliés entres eux par des *liens hypertexte*. Ces documents peuvent donc être parcourus de façon non linéaire en **actionnant** (clic, touch) les liens hypertextes.\n",
    "\n",
    "Le terme Web englobe aussi toute l'infrastructure hébergeant cette collection mondiale de documents :\n",
    "\n",
    "* les langages informatiques permettant d'écrire les documents hypertextes : **HTML** et **CSS** ;\n",
    "* une architecture client-serveur utilisant le protocole `HTTP` (*Hypertext Tranfert Protocol*) ou sa version sécurisée  `HTTPS` (*HTTP secure*) ;\n",
    "* des langages de programmation côté serveur dont le but est de générer du HTML ;\n",
    "* des langages de programmation côté client dont le but est de permettre l'écriture d'application Web hautement interactives (par exemple des jeux).\n",
    "\n"
   ]
  },
  {
   "cell_type": "markdown",
   "metadata": {
    "slideshow": {
     "slide_type": "subslide"
    },
    "tags": [
     "remarque"
    ]
   },
   "source": [
    "Le chapitre a pour but de présenter les langages HTML et CSS. Dans cette première partie, tu vas commencer par le **langage HTML**. Ces langages sont présentés en dehors de toute considération de réseau, de client ou de serveur."
   ]
  },
  {
   "cell_type": "markdown",
   "metadata": {
    "slideshow": {
     "slide_type": "slide"
    }
   },
   "source": [
    "## Premier exemple"
   ]
  },
  {
   "cell_type": "markdown",
   "metadata": {
    "slideshow": {
     "slide_type": "fragment"
    }
   },
   "source": [
    "Le format **HTML** (*Hyper Text Markup Language*) est un format textuel permettant de décrire :\n",
    "\n",
    "* le contenu\n",
    "* la structure\n",
    "\n",
    "d'un document ou d'une page Web."
   ]
  },
  {
   "cell_type": "markdown",
   "metadata": {
    "slideshow": {
     "slide_type": "subslide"
    },
    "tags": [
     "exo"
    ]
   },
   "source": [
    "Tu vas maintenant créer la première page HTML de ce cours.\n",
    "\n",
    "1. **Ouvrir** un éditeur de texte et **copier** le code ci-dessous.\n",
    "\n",
    "```html\n",
    "<!DOCTYPE html>\n",
    "<html lang=\"fr\">\n",
    "<head>\n",
    "    <meta charset=\"UTF-8\"/>\n",
    "    <title>Le titre de ma première page HTML</title>\n",
    "</head>\n",
    "<body>\n",
    "    <h1>Première page </h1>\n",
    "    <p>Notre toute première page !</p>\n",
    "\n",
    "    <!-- Ceci est un gros commentaire -->\n",
    "    \n",
    "</body>\n",
    "</html>\n",
    "\n",
    "```\n",
    "\n",
    "2. **Enregistrer** le fichier sous `premier_exemple.html`.\n",
    "3. Enfin, **ouvrir** ce fichier avec *Firefox*.\n"
   ]
  },
  {
   "cell_type": "markdown",
   "metadata": {},
   "source": [
    "Notes / Réponses :\n",
    "\n",
    "mes propres réponses !\n",
    "\n",
    ".\n",
    "\n",
    ".\n",
    "\n",
    ".\n",
    "\n",
    ".\n",
    "\n",
    "."
   ]
  },
  {
   "cell_type": "markdown",
   "metadata": {
    "slideshow": {
     "slide_type": "slide"
    }
   },
   "source": [
    "## Balises et attributs"
   ]
  },
  {
   "cell_type": "markdown",
   "metadata": {
    "slideshow": {
     "slide_type": "subslide"
    }
   },
   "source": [
    "Le code source possède une structure donnée par les **balises HTML** qui sont des suites de caractères délimitées par `<` et `>`.\n",
    "\n",
    "Par exemple : \n",
    "\n",
    "* `<head>` est une *balise ouvrante*\n",
    "* `</h1>` est une balise *fermante* (à cause de la barre oblique `/`).\n",
    "\n",
    "Un **élément** est constitué d'une paire de balise ouvrante et fermante ainsi que du contenu situé entre les deux. Par exemple : \n",
    "\n",
    "* `title` est l'élément constitué par `<title>Le titre de ma première page HTML</title>`.\n",
    "\n",
    "La balise `<meta charset=\"utf-8\" />` est une **balise vide** car elle est à la fois ouvrante et fermante.\n",
    "\n",
    "Certaines balises et leurs contenus correspondent directement à des éléments graphiques. Par exemple `<h1>Première page</h1>` se retrouve comme un titre de la page en gras."
   ]
  },
  {
   "cell_type": "markdown",
   "metadata": {
    "slideshow": {
     "slide_type": "subslide"
    },
    "tags": [
     "exo"
    ]
   },
   "source": [
    "**Reprendre** le code de l'activité précédente, **lister** toutes les balises HTML que tu identifies et pour chacune **indiquer** si c'est une balise fermante, ouvrante ou vide."
   ]
  },
  {
   "cell_type": "markdown",
   "metadata": {},
   "source": [
    "Notes / Réponses :\n",
    "\n",
    ".\n",
    "\n",
    ".\n",
    "\n",
    ".\n",
    "\n",
    ".\n",
    "\n",
    ".\n",
    "\n",
    "."
   ]
  },
  {
   "cell_type": "markdown",
   "metadata": {
    "slideshow": {
     "slide_type": "subslide"
    }
   },
   "source": [
    "Dans une balise, on peut utiliser des **attributs**. Les attributs sont associés à des valeurs.\n",
    "\n"
   ]
  },
  {
   "cell_type": "markdown",
   "metadata": {
    "slideshow": {
     "slide_type": "fragment"
    },
    "tags": [
     "exemple"
    ]
   },
   "source": [
    "Par exemple, pour indiquer que la page HTML est écrite en français, on va utiliser l'attribut `lang` dans la balise ouvrante `<html lang=\"fr\">`. En écrivant `lang=\"fr\"`, on stipule que l'attribut `lang` a pour valeur `\"fr\"`. Si on avait utilisé la valeur `\"en\"`, alors la langue officielle du document aurait été l'anglais."
   ]
  },
  {
   "cell_type": "markdown",
   "metadata": {
    "slideshow": {
     "slide_type": "subslide"
    },
    "tags": [
     "exo"
    ]
   },
   "source": [
    "1. Dans le code source de l'exercice précédent, **trouver** un autre attribut et **indiquer** la balise à laquelle il est associé.\n",
    "2. **Trouver** 6 valeurs possibles pour l'attribut `lang` correspondants à 6 langues parlées dans l'union européenne (autres que le français et l'anglais)."
   ]
  },
  {
   "cell_type": "markdown",
   "metadata": {},
   "source": [
    "Notes / Réponses :\n",
    "\n",
    ".\n",
    "\n",
    ".\n",
    "\n",
    ".\n",
    "\n",
    ".\n",
    "\n",
    ".\n",
    "\n",
    "."
   ]
  },
  {
   "cell_type": "markdown",
   "metadata": {
    "slideshow": {
     "slide_type": "slide"
    }
   },
   "source": [
    "## Validation du code"
   ]
  },
  {
   "cell_type": "markdown",
   "metadata": {
    "slideshow": {
     "slide_type": "subslide"
    }
   },
   "source": [
    "Le format HTML est standardisé par le W3C. Les règles décrivant les documents valides sont complexes (plusieurs centaines de pages !).\n",
    "\n",
    "Voici quelques principes généraux.\n",
    "\n",
    "### Structure du document\n",
    "\n",
    "La structure doit être similaire à celle de l'exercice : \n",
    "\n",
    "1. Le document : \n",
    "    - commence par une déclaration de type `<! DOCTYPE html>`.\n",
    "    - contient ensuite un unique élément `html`.\n",
    "1. L'élément `html` :\n",
    "    - contient l'attribut `lang` (information utilisée par les navigateurs Web, par exemple pour proposer un correcteur orthographique adapté dans les zones de textes).\n",
    "    - contient uniquement deux sous-éléments : `head` et `body`.\n",
    "1. L'élément `head` :\n",
    "    - contient les entêtes du document dont au moins l'élément `title` (texte affiché dans l'onglet ou la barre de fenêtre de la page).\n",
    "    - La balise vide `<meta charset=\"utf-8\">` indique l'encodage de caractère (format de texte) utilisé pour le document. Sauf exception, il vaudra toujours `utf-8`.\n",
    "1. L'élément `body` : \n",
    "    - regroupe tous les éléments qui structurent la page.\n",
    "1. Les balises :\n",
    "    - Leur nom est écrit en minuscule\n",
    "    - Les balises ouvrantes sont **bien parenthésées** : c'est-à-dire fermées par une balise fermante de même niveau d'imbrication. Par exemple le code `<b> <i> </ b> </ i>` est invalide\n"
   ]
  },
  {
   "cell_type": "markdown",
   "metadata": {
    "tags": [
     "exo"
    ]
   },
   "source": [
    "En effectuant une recherche sur internet, **retrouver** le nom des 14 balises vides possible."
   ]
  },
  {
   "cell_type": "markdown",
   "metadata": {},
   "source": [
    "Notes / Réponses :\n",
    "\n",
    ".\n",
    "\n",
    ".\n",
    "\n",
    ".\n",
    "\n",
    ".\n",
    "\n",
    ".\n",
    "\n",
    "."
   ]
  },
  {
   "cell_type": "markdown",
   "metadata": {},
   "source": [
    "## Balises de structures"
   ]
  },
  {
   "cell_type": "markdown",
   "metadata": {},
   "source": [
    "### Sections et paragraphes"
   ]
  },
  {
   "cell_type": "markdown",
   "metadata": {
    "tags": [
     "exo"
    ]
   },
   "source": [
    "**Indiquer** le nom des balises qui permettent de définir les titres de section, sous-sections, etc."
   ]
  },
  {
   "cell_type": "markdown",
   "metadata": {},
   "source": [
    "Notes / Réponses :\n",
    "\n",
    ".\n",
    "\n",
    ".\n",
    "\n",
    ".\n",
    "\n",
    ".\n",
    "\n",
    ".\n",
    "\n",
    "."
   ]
  },
  {
   "cell_type": "markdown",
   "metadata": {
    "tags": [
     "exo"
    ]
   },
   "source": [
    "**Indiquer** le nom de l'élément qui permet de créer un nouveau paragraphe."
   ]
  },
  {
   "cell_type": "markdown",
   "metadata": {},
   "source": [
    "Notes / Réponses :\n",
    "\n",
    ".\n",
    "\n",
    ".\n",
    "\n",
    ".\n",
    "\n",
    ".\n",
    "\n",
    ".\n",
    "\n",
    "."
   ]
  },
  {
   "cell_type": "markdown",
   "metadata": {},
   "source": [
    "### Listes et tableaux"
   ]
  },
  {
   "cell_type": "markdown",
   "metadata": {
    "tags": [
     "exo"
    ]
   },
   "source": [
    "**Donner** un exemple de liste énumérée et un exemple de liste non-énumérée."
   ]
  },
  {
   "cell_type": "markdown",
   "metadata": {},
   "source": [
    "Notes / Réponses :\n",
    "\n",
    ".\n",
    "\n",
    ".\n",
    "\n",
    ".\n",
    "\n",
    ".\n",
    "\n",
    ".\n",
    "\n",
    "."
   ]
  },
  {
   "cell_type": "markdown",
   "metadata": {
    "tags": [
     "exo"
    ]
   },
   "source": [
    "**Donner** le nom des balises :\n",
    "\n",
    "1. qui délimite un tableau\n",
    "1. qui commence une nouvelle ligne du tableau\n",
    "1. qui encadre une colonne.\n",
    "\n",
    "**Donner** une exemple simple de tableau."
   ]
  },
  {
   "cell_type": "markdown",
   "metadata": {},
   "source": [
    "Notes / Réponses :\n",
    "\n",
    ".\n",
    "\n",
    ".\n",
    "\n",
    ".\n",
    "\n",
    ".\n",
    "\n",
    ".\n",
    "\n",
    "."
   ]
  },
  {
   "cell_type": "markdown",
   "metadata": {},
   "source": [
    "## Balises de texte"
   ]
  },
  {
   "cell_type": "markdown",
   "metadata": {},
   "source": [
    "À la différence des balises de structures, les **balises de textes** ne produisent pas de nouveaux bloc de texte formaté. Le flot du texte n'est pas interrompu.\n",
    "\n",
    "Ces balises servent à indiquer la nature du texte."
   ]
  },
  {
   "cell_type": "markdown",
   "metadata": {
    "tags": [
     "exo"
    ]
   },
   "source": [
    "**Identifier** pour chaque balise son rôle :\n",
    "\n",
    "- `<b>`\n",
    "- `<i>`\n",
    "- `<u>`\n",
    "- `<mark>`\n",
    "- `<small>`\n",
    "- `<code>`\n",
    "- `<sub>`\n",
    "- `<sup>`\n",
    "\n",
    "\n",
    "**Écrire** un petit texte utilisant ces balises."
   ]
  },
  {
   "cell_type": "markdown",
   "metadata": {},
   "source": [
    "Notes / Réponses :\n",
    "\n",
    ".\n",
    "\n",
    ".\n",
    "\n",
    ".\n",
    "\n",
    ".\n",
    "\n",
    ".\n",
    "\n",
    "."
   ]
  },
  {
   "cell_type": "markdown",
   "metadata": {},
   "source": [
    "### Liens et ressources"
   ]
  },
  {
   "cell_type": "markdown",
   "metadata": {},
   "source": [
    "La fonctionnalité **essentielle** des documents HTML est la possiblilité d'utiliser des **liens hypertextes**. Ce sont les textes cliquables qui apparaissent dans un style souligné par défaut et qui permettent d'accéder à d'autres ressources (pages, média, etc.).\n",
    "\n",
    "Pour insérer un lien, il faut :\n",
    "\n",
    "- utiliser la *balise* `<a>`\n",
    "- définir son *attribut* `href` avec pour valeur valeur l'emplacement de la ressource que l'on souhaite pointer entre guillements\n",
    "- définir le *contenu de la balise* qui sert à afficher le lien"
   ]
  },
  {
   "cell_type": "markdown",
   "metadata": {
    "tags": [
     "exemple"
    ]
   },
   "source": [
    "Voici un lien hypertexte vers le fichier `expose_gp1.html` :\n",
    "\n",
    "```html\n",
    "<a href=\"expose_gp1.html\">Accéder à <b>notre</b> exposé</a>\n",
    "```\n",
    "\n",
    "qui affiche cela :\n",
    "\n",
    "[Accéder à **notre** exposé](expose_gp1.html)\n",
    "\n",
    "L'attribut `href`pointe vers le fichier qui est dans le même dossier que le document visité."
   ]
  },
  {
   "cell_type": "markdown",
   "metadata": {},
   "source": [
    "Il est possible d'insérer directement dans la page des ressources externes.\n",
    "\n",
    "Pour insérer une image :\n",
    "\n",
    "- balise `<img />`\n",
    "- attribut `src` : chemin d'accès à l'image\n",
    "- attribut `alt` : légende de l'image\n",
    "- attribut `width` : largeur de l'image\n",
    "- attribut `height` : hauteur de l'image\n"
   ]
  },
  {
   "cell_type": "markdown",
   "metadata": {
    "tags": [
     "exemple"
    ]
   },
   "source": [
    "Pour insérer l'**image** `logo_html.svg` qui est dans le sous-répertoire `res` et lui imposer une largeur de 240px, il faut écrire : \n",
    "\n",
    "```html\n",
    "<img src=\"res/logo_html.svg\" width=\"240\"/>\n",
    "```\n",
    "\n",
    "ce qui donne :\n",
    "\n",
    "![](res/logo_html.png)"
   ]
  },
  {
   "cell_type": "markdown",
   "metadata": {},
   "source": [
    "### Balises neutres, classes et identifiants"
   ]
  },
  {
   "cell_type": "markdown",
   "metadata": {},
   "source": [
    "Pour la définition du style graphique, il est nécessaire d'utiliser les balises neutres, les classes et les identifiants. Ces derniers permettent d'étiqueter les éléments de la page et ainsi de les personnaliser.\n",
    "\n",
    "Il existe deux **balises neutres** qui n'ont pas d'effet parliculier :\n",
    "\n",
    "- la balise de structure `<div>` dont le comportement par défaut est identique à `<p>`\n",
    "- la balise de texte `<span>` laisse le texte inchangé.\n",
    "\n",
    "Chaque balise d'une page Web peut posséder un **identifiant** unique grâce à l'attribut `id`.\n",
    "\n",
    "Enfin, l'attribut `class` contient une suite de noms de classes séparés par des espaces. Une classe est un ensemble de balises qui possèdera certaines caractéristiques graphiques communes."
   ]
  },
  {
   "cell_type": "markdown",
   "metadata": {
    "tags": [
     "exemple"
    ]
   },
   "source": [
    "Voici un extrait de page contenant un titre de section et une liste non numérotée. \n",
    "\n",
    "La balise de titre contient l'identifiant unique `\"titre1\"` et les items de la liste appartienne à la classe `\"pair\"` ou `\"impair\"` en fonction de leurs positions.\n",
    "\n",
    "```html\n",
    "<h4 id=\"titre4\">Voici la todo list</h4>\n",
    "<ul>\n",
    "    <li class=\"impair\">Acheter du pain</li>\n",
    "    <li class=\"pair\">Arroser les plantes</li>\n",
    "    <li class=\"impair\">Apprendre le HTML</li>\n",
    "    <li class=\"pair\">Dormir</li>\n",
    "</ul>\n",
    "\n",
    "```"
   ]
  }
 ],
 "metadata": {
  "celltoolbar": "Tags",
  "kernelspec": {
   "display_name": "Python 3",
   "language": "python",
   "name": "python3"
  },
  "language_info": {
   "codemirror_mode": {
    "name": "ipython",
    "version": 3
   },
   "file_extension": ".py",
   "mimetype": "text/x-python",
   "name": "python",
   "nbconvert_exporter": "python",
   "pygments_lexer": "ipython3",
   "version": "3.9.2"
  },
  "latex_metadata": {
   "theme": "interface"
  }
 },
 "nbformat": 4,
 "nbformat_minor": 2
}
