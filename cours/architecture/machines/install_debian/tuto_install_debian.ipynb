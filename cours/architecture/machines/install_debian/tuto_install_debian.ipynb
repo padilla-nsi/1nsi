{
 "cells": [
  {
   "cell_type": "markdown",
   "id": "illegal-jersey",
   "metadata": {
    "slideshow": {
     "slide_type": "slide"
    }
   },
   "source": [
    "# Installer la salle 202\n",
    "\n",
    "![](res/ordi.png)"
   ]
  },
  {
   "cell_type": "markdown",
   "id": "contained-tumor",
   "metadata": {
    "slideshow": {
     "slide_type": "subslide"
    }
   },
   "source": [
    "![](diagramme.png)"
   ]
  },
  {
   "cell_type": "markdown",
   "id": "becoming-arrival",
   "metadata": {
    "slideshow": {
     "slide_type": "notes"
    }
   },
   "source": [
    "#### Questions possibles\n",
    "\n",
    "- Au démarrage d'un ordinateur, quel est le premier programme exécuté ?\n",
    "- Sur quoi est installé le système d'exploitation ?\n",
    "- Que signifie *partitionner* un disque ?"
   ]
  },
  {
   "cell_type": "markdown",
   "id": "revised-chapel",
   "metadata": {
    "slideshow": {
     "slide_type": "slide"
    }
   },
   "source": [
    "## Installer les postes"
   ]
  },
  {
   "cell_type": "markdown",
   "id": "personal-grant",
   "metadata": {
    "slideshow": {
     "slide_type": "fragment"
    }
   },
   "source": [
    "1. Disjoncter\n",
    "2. Pour chaque ligne de 3 tables, faire passer et ressortir\n",
    "    - câble d'alimentation électrique\n",
    "    - câble réseau\n",
    "3. Placer :\n",
    "    - écran\n",
    "    - clavier\n",
    "    - souris\n",
    "4. Positionner les unités centrales\n",
    "5. Brancher et ranger les câbles"
   ]
  },
  {
   "cell_type": "markdown",
   "id": "african-treat",
   "metadata": {
    "slideshow": {
     "slide_type": "slide"
    }
   },
   "source": [
    "## Installer le système d'exploitation\n"
   ]
  },
  {
   "cell_type": "markdown",
   "id": "isolated-yeast",
   "metadata": {
    "slideshow": {
     "slide_type": "slide"
    }
   },
   "source": [
    "### Configurer le BIOS\n",
    "\n",
    "\n",
    "- brancher la clé USB\n",
    "- accéder au bios de la machine :\n",
    "    - démarrer en appuyant sur `F12` (ou `F10` ou `Suppr.`)\n",
    "- changer l'ordre de lecture du système d'initialisation\n",
    "    - mettre USB **en premier**"
   ]
  },
  {
   "cell_type": "markdown",
   "id": "quantitative-loading",
   "metadata": {
    "slideshow": {
     "slide_type": "slide"
    }
   },
   "source": [
    "### Partie 1 - Langue et utilisateurs"
   ]
  },
  {
   "cell_type": "markdown",
   "id": "metallic-compatibility",
   "metadata": {
    "slideshow": {
     "slide_type": "subslide"
    }
   },
   "source": [
    "| | | |\n",
    "|---|----|---|\n",
    "|1. Choisir l'installation graphique<br>![Installation graphique](res/01.png)|2. Installation en français<br>![](res/02_langue.png)|3. Locale : France<br>![](res/03.png)|\n",
    "|4. Clavier français<br>![](res/04_clavier.png)|5. Problème réseau : configurer<br>![](res/05_pb_dhcp.png)|6. Choisir de ne pas configurer<br>![](res/06_ignorer_reseau.png)|"
   ]
  },
  {
   "cell_type": "markdown",
   "id": "dress-government",
   "metadata": {
    "slideshow": {
     "slide_type": "subslide"
    }
   },
   "source": [
    "| | | |\n",
    "|---|----|---|\n",
    "|7. Nommer la machine `veil-debian-202-`*`XX`* avec *`XX`* en fonction du numéro de votre place<br>![](res/07_nom_machine.png)|8. Mot de passe **root** : `12345678!`<br>![](res/08_mdp_root.png)|9. Créer un premier utilisateur appelé `NSI` (et pas `NSI XX` comme la capture d'écran...)<br>![](res/09_id_user.png)|\n",
    "|10. Valider l'identifiant `nsi`<br>![](res/10_id_user.png)|11. Mot de passe de l'utilisateur `nsi` : `nsi`<br>![](res/11_mdp_user.png)|12. Partitionner les disques de façon manuelle<br>![](res/12_partition_manuelle.png)|\n"
   ]
  },
  {
   "cell_type": "markdown",
   "id": "placed-dating",
   "metadata": {
    "slideshow": {
     "slide_type": "slide"
    }
   },
   "source": [
    "### Partie 2 - Partitionner le disque"
   ]
  },
  {
   "cell_type": "markdown",
   "id": "apparent-newcastle",
   "metadata": {
    "slideshow": {
     "slide_type": "subslide"
    }
   },
   "source": [
    "| | | |\n",
    "|---|----|---|\n",
    "|1. Pour chaque partition de la liste... <br>![](res/13.png)|2. ...la **supprimer** (et oui!)<br>![](res/14.png)|3. Choisir l'unique espace vide ainsi créé <br>![](res/15_zero_part.png)|\n",
    "|4. Créer la **première** partition <br>![](res/16_creer.png)|5. Saisir une petite taille de 100 Mo : `100MB`<br>![](res/50.png)|6. Et une partition de type `Primaire`<br>![](res/51.png)|\n"
   ]
  },
  {
   "cell_type": "markdown",
   "id": "swiss-emphasis",
   "metadata": {
    "slideshow": {
     "slide_type": "subslide"
    }
   },
   "source": [
    "| | | |\n",
    "|---|----|---|\n",
    "|7. Puis choisir Utiliser comme : ...<br>![](res/53.png)|8. `UEFI`<br>(pas d'image...)|9. Puis dans le nouvel espace libre, créer la **deuxième** partition<br>![](res/16_creer.png)|\n",
    "|10. de taille `50GB`<br>![](res/17.png)|11. De type Primaire<br>![](res/18.png)|12. Au début de l'espace vide<br>![](res/19.png)|\n"
   ]
  },
  {
   "cell_type": "markdown",
   "id": "empty-bedroom",
   "metadata": {
    "slideshow": {
     "slide_type": "subslide"
    }
   },
   "source": [
    "| | | |\n",
    "|---|----|---|\n",
    "|13. Vérifier que le point de montage est bien `/`<br>![](res/20.png)|14. Dans le nouvel espace vide, créer la **troisième** nouvelle partition... <br>![](res/21_swap.png)|15. ...de taille `4GB`...<br>![](res/22.png)|\n",
    "|16. ...de type `Logique` (attention, la capture d'écran ne correspond pas)... <br>![](res/23.png)|17. ...au debut du disque...<br>![](res/19.png)|18. Modifier `utiliser comme`...<br>![](res/24.png)|\n"
   ]
  },
  {
   "cell_type": "markdown",
   "id": "monthly-pierre",
   "metadata": {
    "slideshow": {
     "slide_type": "subslide"
    }
   },
   "source": [
    "| | | |\n",
    "|---|----|---|\n",
    "|19. ...et choisir `espace d'échange (\"swap\")`<br>![](res/25.png)|20. Finir de paramétrer cette partition <br>![](res/26.png)|21. Enfin, créer la **quatrième et dernière** partition dans l'espace vide restant<br>![](res/27_home.png)|\n",
    "|22. Laisser la plus grande taille possible<br>![](res/28.png)|23. Choisir de type `Primaire`...<br>![](res/29.png)|24. Après avoir vérifié que le point de montage est bien `/home`, finir le paramétrage de cette partition <br>![](res/30.png)|\n"
   ]
  },
  {
   "cell_type": "markdown",
   "id": "wireless-receipt",
   "metadata": {
    "slideshow": {
     "slide_type": "subslide"
    }
   },
   "source": [
    "### Attention !\n",
    "\n",
    "![](res/stop_hand.png)\n",
    "\n",
    "25. La configuration des partitions est terminée... **mais** pour *valider* cette étape longue, **appeler le professeur**.\n"
   ]
  },
  {
   "cell_type": "markdown",
   "id": "interested-procedure",
   "metadata": {
    "slideshow": {
     "slide_type": "subslide"
    }
   },
   "source": [
    "| | | |\n",
    "|---|----|---|\n",
    "|26. Terminer le partitionnement et valider les changements<br>![](res/31_terminer.png)|27. Appliquer les changements en choisissant `oui`<br>![](res/32_ok.png)|"
   ]
  },
  {
   "cell_type": "markdown",
   "id": "legitimate-police",
   "metadata": {
    "slideshow": {
     "slide_type": "slide"
    }
   },
   "source": [
    "### Partie 3 - Finaliser l'installation"
   ]
  },
  {
   "cell_type": "markdown",
   "id": "chubby-planet",
   "metadata": {
    "slideshow": {
     "slide_type": "subslide"
    }
   },
   "source": [
    "| | | |\n",
    "|---|----|---|\n",
    "|1. Ne pas analyser d'autres supports : `Non`<br>![](res/33.png)|2. Ne pas utiliser un miroir réseau : `Non`<br>![](res/34.png)|3. Ne pas participer à l'étude statistique sur l'utilisation des paquets<br>![](res/35.png)|\n",
    "|4. Choisir l'environnement de bureau Debian, Gnome et les utilitaires usuels\\\\<br>![](res/36_choix.png)|5. Installation du système d'exploitataion... c'est très long ! (je n'ai pas eu le temps de faire une capture (sic)|6. Installer le programme de démarrage GRUB  sur la partition UEFI (première partition créée)<br>![](res/37.png)|\n"
   ]
  },
  {
   "cell_type": "markdown",
   "id": "premium-finnish",
   "metadata": {
    "slideshow": {
     "slide_type": "subslide"
    }
   },
   "source": [
    "Et là, deux possibilités :"
   ]
  },
  {
   "cell_type": "markdown",
   "id": "binary-zealand",
   "metadata": {
    "slideshow": {
     "slide_type": "fragment"
    }
   },
   "source": [
    "|Ça redémarre | Ça ne redémarre pas...|\n",
    "|-|-|\n",
    "![](res/giphy_baby.gif)|![](res/giphy_boom.webp)|"
   ]
  },
  {
   "cell_type": "markdown",
   "id": "contemporary-tyler",
   "metadata": {
    "slideshow": {
     "slide_type": "slide"
    }
   },
   "source": [
    "## Configurer le système d'exploitation"
   ]
  },
  {
   "cell_type": "markdown",
   "id": "guilty-administrator",
   "metadata": {
    "slideshow": {
     "slide_type": "slide"
    }
   },
   "source": [
    "### Télécharger les fichiers nécessaires"
   ]
  },
  {
   "cell_type": "markdown",
   "id": "loaded-shuttle",
   "metadata": {
    "slideshow": {
     "slide_type": "fragment"
    }
   },
   "source": [
    "- `source.list`\n",
    "- `vscodium.list`\n",
    "- `product.json`\n",
    "- `.profile`\n",
    "- `filius.deb`\n",
    "- `logisim-evolution.deb`"
   ]
  },
  {
   "cell_type": "markdown",
   "id": "exact-remark",
   "metadata": {
    "slideshow": {
     "slide_type": "slide"
    }
   },
   "source": [
    "### Changer la résolution de l'écran"
   ]
  },
  {
   "cell_type": "markdown",
   "id": "clear-pressure",
   "metadata": {},
   "source": [
    "#TODO"
   ]
  },
  {
   "cell_type": "markdown",
   "id": "athletic-webmaster",
   "metadata": {
    "slideshow": {
     "slide_type": "slide"
    }
   },
   "source": [
    "### Configurer les dépots"
   ]
  },
  {
   "cell_type": "markdown",
   "id": "parallel-array",
   "metadata": {
    "slideshow": {
     "slide_type": "subslide"
    }
   },
   "source": [
    "#### Mettre à jour le source.list\n",
    "\n",
    "Dans un Terminal :\n",
    "\n",
    "- passer en mode *super utilisateur*\n",
    "- copier le fichier `source.list` dans le dossier `/etc/apt/`\n",
    "- créer le répertoire `/etc/source.list.d/\n",
    "- copier le fichier `vscodium.list` dans le dossier `/etc/apt/source.list.d/`\n",
    "\n",
    "```console\n",
    "nsi@veil-debian00:~$ su\n",
    "Mot de passe : \n",
    "root@veil-debian00:~# cp source.list /etc/apt/\n",
    "root@veil-debian00:~# mkdir /etc/apt/source.lidt.d/\n",
    "root@veil-debian00:~# cp vscodium.list /etc/apt/source.list.d/\n",
    "```"
   ]
  },
  {
   "cell_type": "markdown",
   "id": "taken-index",
   "metadata": {
    "slideshow": {
     "slide_type": "subslide"
    }
   },
   "source": [
    "#### Mettre à jour si besoin\n",
    "\n",
    "Toujours en *super utilisateur*, mettre à jour la liste des paquets et mettre à jour le système si besoin :\n",
    "\n",
    "```console\n",
    "root@veil-debian00:~# apt update\n",
    "root@veil-debian00:~# apt upgrade\n",
    "```"
   ]
  },
  {
   "cell_type": "markdown",
   "id": "three-assessment",
   "metadata": {
    "slideshow": {
     "slide_type": "subslide"
    }
   },
   "source": [
    "#### Installer les paquets"
   ]
  },
  {
   "cell_type": "markdown",
   "id": "digital-swift",
   "metadata": {},
   "source": [
    "Toujours en *super utilisateur*, installer les paquets suivants:\n",
    "\n",
    "- `mu-editor`\n",
    "- `vim`\n",
    "- `vlc`\n",
    "- `gimp`\n",
    "- `inkscape`\n",
    "- `codium`\n",
    "- `snapd`\n",
    "\n",
    "grâce (par exemple) à la commande :\n",
    "\n",
    "\n",
    "```console\n",
    "root@veil-debian00:~# apt install mu-editor\n",
    "```\n",
    "\n",
    "**(astuce)** : utiliser <kbd>&uarr;</kbd> et <kbd>&#11134;</kbd> (flêche du haut et tabulation)"
   ]
  },
  {
   "cell_type": "markdown",
   "id": "contemporary-transcription",
   "metadata": {
    "slideshow": {
     "slide_type": "slide"
    }
   },
   "source": [
    "### Installer par .deb"
   ]
  },
  {
   "cell_type": "markdown",
   "id": "dramatic-brass",
   "metadata": {},
   "source": [
    "Installer les deux logiciels `.deb` téléchargés :\n",
    "\n",
    "- `logisim-evolution`\n",
    "- `filius`\n",
    "\n",
    "En *super utilisateur* :\n",
    "\n",
    "```console\n",
    "root@veil-debian00:~# dpkg -i filius.deb\n",
    "root@veil-debian00:~# dpkg -i logisim-evolution.deb\n",
    "root@veil-debian00:~# apt -f install\n",
    "```"
   ]
  },
  {
   "cell_type": "markdown",
   "id": "brave-interaction",
   "metadata": {
    "slideshow": {
     "slide_type": "slide"
    }
   },
   "source": [
    "### Installer par snap"
   ]
  },
  {
   "cell_type": "markdown",
   "id": "automated-content",
   "metadata": {},
   "source": [
    "Installer deux derniers logiciels grâces aux dépots `snap` :\n",
    "\n",
    "```console\n",
    "nsi@veil-debian00:~$ snap install freeplane-mindmapping\n",
    "nsi@veil-debian00:~$ snap install drawio\n",
    "```\n"
   ]
  }
 ],
 "metadata": {
  "celltoolbar": "Diaporama",
  "kernelspec": {
   "display_name": "Python 3",
   "language": "python",
   "name": "python3"
  },
  "language_info": {
   "codemirror_mode": {
    "name": "ipython",
    "version": 3
   },
   "file_extension": ".py",
   "mimetype": "text/x-python",
   "name": "python",
   "nbconvert_exporter": "python",
   "pygments_lexer": "ipython3",
   "version": "3.9.2"
  }
 },
 "nbformat": 4,
 "nbformat_minor": 5
}
