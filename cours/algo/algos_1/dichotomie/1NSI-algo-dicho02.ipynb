{
 "cells": [
  {
   "cell_type": "markdown",
   "metadata": {
    "slideshow": {
     "slide_type": "slide"
    }
   },
   "source": [
    "# Recherche dichotomique dans un tableau trié"
   ]
  },
  {
   "cell_type": "markdown",
   "metadata": {
    "slideshow": {
     "slide_type": "slide"
    }
   },
   "source": [
    "## Activité débranchée"
   ]
  },
  {
   "cell_type": "markdown",
   "metadata": {},
   "source": [
    "<div class=\"alert alert-info\" role=\"alert\">\n",
    "\n",
    "\n",
    "### Question 1"
   ]
  },
  {
   "cell_type": "markdown",
   "metadata": {
    "slideshow": {
     "slide_type": "fragment"
    }
   },
   "source": [
    "**Est-ce que ton prénom est dans la liste ci-dessous ?**\n",
    "\n",
    "(attention, tu n'as que 3 secondes pour répondre...)"
   ]
  },
  {
   "cell_type": "markdown",
   "metadata": {
    "slideshow": {
     "slide_type": "subslide"
    }
   },
   "source": [
    "![](res/prenoms_non_tries.png)"
   ]
  },
  {
   "cell_type": "markdown",
   "metadata": {
    "slideshow": {
     "slide_type": "subslide"
    }
   },
   "source": [
    "Trouvé ?..."
   ]
  },
  {
   "cell_type": "markdown",
   "metadata": {
    "slideshow": {
     "slide_type": "skip"
    }
   },
   "source": [
    "<div class=\"alert alert-info\" role=\"alert\">\n",
    "\n",
    "### Question 1 (la suite...)"
   ]
  },
  {
   "cell_type": "markdown",
   "metadata": {
    "slideshow": {
     "slide_type": "fragment"
    }
   },
   "source": [
    "Bon, même question mais cette fois-ci les prénoms sont *triés par ordre alphabétique*.\n",
    "\n",
    "**Est-ce que ton prénom est dans la liste ci-dessous ?**\n",
    "\n",
    "(attention, tu n'as que 3 secondes pour répondre...)"
   ]
  },
  {
   "cell_type": "markdown",
   "metadata": {
    "slideshow": {
     "slide_type": "subslide"
    }
   },
   "source": [
    "![](res/prenoms_tries.png)"
   ]
  },
  {
   "cell_type": "markdown",
   "metadata": {
    "slideshow": {
     "slide_type": "subslide"
    }
   },
   "source": [
    "Des remarques ?"
   ]
  },
  {
   "cell_type": "markdown",
   "metadata": {
    "slideshow": {
     "slide_type": "subslide"
    }
   },
   "source": [
    "<div class=\"alert alert-info\" role=\"alert\">\n",
    "\n",
    "\n",
    "### Question 2"
   ]
  },
  {
   "cell_type": "markdown",
   "metadata": {
    "slideshow": {
     "slide_type": "fragment"
    }
   },
   "source": [
    "Par groupe de 2, **proposer** au moins 2 algorithmes possibles pour chercher un prénom parmi 136 possibles et déterminer pour chacun le nombre maximal d'opérations."
   ]
  },
  {
   "cell_type": "markdown",
   "metadata": {},
   "source": [
    "<répondre ici>"
   ]
  },
  {
   "cell_type": "markdown",
   "metadata": {
    "slideshow": {
     "slide_type": "slide"
    }
   },
   "source": [
    "# Recherche dichotomique"
   ]
  },
  {
   "cell_type": "markdown",
   "metadata": {
    "slideshow": {
     "slide_type": "fragment"
    }
   },
   "source": [
    "La recherche dichotomique est un procédé classique de recherche **très efficace**.\n",
    "\n",
    "Pour fonctionner, il faut un tableau **trié**, par exemple par ordre croissant."
   ]
  },
  {
   "cell_type": "markdown",
   "metadata": {},
   "source": [
    "![](res/dichotomie_0_tab.png)"
   ]
  },
  {
   "cell_type": "markdown",
   "metadata": {
    "slideshow": {
     "slide_type": "skip"
    }
   },
   "source": [
    "Supposons que l'on cherche l'élément `elem` dans le tableau `tab` de taille $n$.\n",
    "\n",
    "Pour mettre en œuvre la recherche dichotomique, on va délimiter la **portion** du tableau dans laquelle la recherche est actuellement réduite à l'aide de deux **indices** : `g` et `d`.\n",
    "\n",
    "Initialement, la recherche se fait dans le tableau en entier et donc on prendra pour commencer :\n",
    "\n",
    "- `g` ← $0$\n",
    "- `d` ← $n-1$"
   ]
  },
  {
   "cell_type": "markdown",
   "metadata": {
    "slideshow": {
     "slide_type": "subslide"
    }
   },
   "source": [
    "![](res/dichotomie_0.png)"
   ]
  },
  {
   "cell_type": "markdown",
   "metadata": {
    "slideshow": {
     "slide_type": "skip"
    }
   },
   "source": [
    "\n",
    "Au fur et à mesure de la recherche, la portion de tableau à explorer va se réduire. Les indices `g` et `d` seront modifiés pour que si `elem` est dans le tableau, il soit forcément entre les indices `g` et `d`. \n",
    "\n",
    "`elem` ne peut se trouver que dans `tab[g .. g]`.\n",
    "\n",
    "Ainsi, \n",
    "\n",
    "- tout élément d'indice inférieur à `g` est inférieur à `elem`\n",
    "- tout élément d'indice supérieur à `d` est supérieur à `elem`."
   ]
  },
  {
   "cell_type": "markdown",
   "metadata": {
    "slideshow": {
     "slide_type": "subslide"
    }
   },
   "source": [
    "Supposons maintenant la situation courante du schéma :"
   ]
  },
  {
   "cell_type": "markdown",
   "metadata": {},
   "source": [
    "![](res/dichotomie_2.png)"
   ]
  },
  {
   "cell_type": "markdown",
   "metadata": {
    "slideshow": {
     "slide_type": "skip"
    }
   },
   "source": [
    "La dichotomie se poursuivra **tant que** la portion de recherche n'est pas vide et à chaque tour de boucle, il faudra comparer `elem` avec la valeur médiane de la portion `tab[i_med]`. \n",
    "\n",
    "- Si cette valeur médiane est égale à `elem` alors on renvoie l'indice de cette valeur (le renvoie arrête instantanément la fonction de recherche).\n",
    "- Sinon, on met à jour la portion de recherche en modifiant \n",
    "  - soit `g` : pour que la prochaine boucle explore la portion **supérieure** à la valeur médiane\n",
    "  - soit `d` : pour que la prochaine boucle explore la portion **inférieure** à la valeur médiane."
   ]
  },
  {
   "cell_type": "markdown",
   "metadata": {
    "slideshow": {
     "slide_type": "subslide"
    }
   },
   "source": [
    "<div class=\"alert alert-info\" role=\"alert\">\n",
    "\n",
    "### Question 3"
   ]
  },
  {
   "cell_type": "markdown",
   "metadata": {
    "slideshow": {
     "slide_type": "-"
    }
   },
   "source": [
    "Intéressons-nous à la valeur médiane de la portion du tableau. **Proposer** une valeur de `i_med` en fonction de `g` et de `d`."
   ]
  },
  {
   "cell_type": "markdown",
   "metadata": {},
   "source": [
    "<répondre ici>"
   ]
  },
  {
   "cell_type": "markdown",
   "metadata": {
    "slideshow": {
     "slide_type": "subslide"
    }
   },
   "source": [
    "<div class=\"alert alert-info\" role=\"alert\">\n",
    "\n",
    "### Question 4"
   ]
  },
  {
   "cell_type": "markdown",
   "metadata": {},
   "source": [
    "Pour vérifier que tu as compris l'algorithme, **valide** l'activité 4 sur Moodle :\n",
    "\n",
    "\n",
    "|[04. Activité - dichotomie à la main](http://pa.dilla.fr/dicho2) | ![](res/qrMoodle2.png)\n",
    "|-|-|"
   ]
  },
  {
   "cell_type": "markdown",
   "metadata": {
    "slideshow": {
     "slide_type": "slide"
    }
   },
   "source": [
    "<div class=\"alert alert-info\" role=\"alert\">\n",
    "\n",
    "### Question 5"
   ]
  },
  {
   "cell_type": "markdown",
   "metadata": {
    "slideshow": {
     "slide_type": "fragment"
    }
   },
   "source": [
    "Pour définir correctement la boucle **tant que** : \n",
    "\n",
    "1. **Déterminer** sa condition d'arrêt.\n",
    "2. **Déterminer** ses conditions initiales."
   ]
  },
  {
   "cell_type": "markdown",
   "metadata": {},
   "source": [
    "<répondre ici>"
   ]
  },
  {
   "cell_type": "markdown",
   "metadata": {
    "slideshow": {
     "slide_type": "subslide"
    }
   },
   "source": [
    "<div class=\"alert alert-info\" role=\"alert\">\n",
    "\n",
    "### Question 6"
   ]
  },
  {
   "cell_type": "markdown",
   "metadata": {
    "slideshow": {
     "slide_type": "subslide"
    }
   },
   "source": [
    "**Implémenter** la recherche dichotomique.\n",
    "\n",
    "Pour cela, compléter la fonction recherche_dichotomique() qui prend en argument un tableau trié `tab` et une valeur `elem`.\n",
    "\n",
    "La fonction doit renvoyer l'indice de `elem` s'il est présent dans `tab` et `-1` sinon."
   ]
  },
  {
   "cell_type": "code",
   "execution_count": null,
   "metadata": {
    "slideshow": {
     "slide_type": "fragment"
    }
   },
   "outputs": [],
   "source": [
    "def recherche_dichotomique(tab: list, elem) -> int:\n",
    "    \"\"\"\n",
    "    Recherche dichotomique dans un tableau trié\n",
    "    \"\"\"\n",
    "    # \n",
    "    ...\n",
    "    # todo\n",
    "    ... "
   ]
  },
  {
   "cell_type": "markdown",
   "metadata": {
    "slideshow": {
     "slide_type": "slide"
    }
   },
   "source": [
    "## Analyse"
   ]
  },
  {
   "cell_type": "markdown",
   "metadata": {},
   "source": [
    "Nous allons dans cette partie analyser l'**efficacité** de l'algorithme de recherche dichotomique.\n",
    "\n",
    "Pour cela, nous allons le comparer avec l'algorithme de *recherche brute*, méthode naïve qui se contente de parcourir le tableau du début à la fin tant que la valeur cherchée n'est pas présente."
   ]
  },
  {
   "cell_type": "markdown",
   "metadata": {
    "slideshow": {
     "slide_type": "subslide"
    }
   },
   "source": [
    "<div class=\"alert alert-info\" role=\"alert\">\n",
    "\n",
    "### Question 7"
   ]
  },
  {
   "cell_type": "markdown",
   "metadata": {
    "slideshow": {
     "slide_type": "-"
    }
   },
   "source": [
    "**Lire** le paragraphe suivant et **indiquer** ce qu'est le *pire des cas* pour les deux algorithmes de recherche.\n",
    "\n",
    "\n",
    "> Pour mesurer l'efficacité d'un algorithme, une méthode classique est de compter le nombre d'opérations effectuées par l'algorithme *dans le pire des cas*.\n",
    ">\n",
    "> Nous n'allons pas compter le nombre d'opérations, mais effectuer une mesure quantitative qui y est fortement liée. Nous allons mesurer la durée de chacun des algorithmes sur des grands tableaux."
   ]
  },
  {
   "cell_type": "markdown",
   "metadata": {
    "slideshow": {
     "slide_type": "-"
    }
   },
   "source": [
    "<répondre ici>"
   ]
  },
  {
   "cell_type": "markdown",
   "metadata": {
    "slideshow": {
     "slide_type": "subslide"
    }
   },
   "source": [
    "<div class=\"alert alert-info\" role=\"alert\">\n",
    "\n",
    "### Question 8"
   ]
  },
  {
   "cell_type": "markdown",
   "metadata": {
    "slideshow": {
     "slide_type": "-"
    }
   },
   "source": [
    "**Implémenter** la fonction `recherche_brute` qui prend en argument un tableau trié `tab` et une valeur `elem`.\n",
    "\n",
    "\n",
    "L'algorithme de cette fonction parcourt toutes les cases du tableau `tab` jusqu'à trouver une valeur égale à `elem`. Cette fonction renvoie `-1` si la recherche est infructueuse et l'indice de `elem` sinon."
   ]
  },
  {
   "cell_type": "code",
   "execution_count": null,
   "metadata": {
    "slideshow": {
     "slide_type": "subslide"
    }
   },
   "outputs": [],
   "source": [
    "def recherche_brute(tab: list, elem) -> int:\n",
    "    \"\"\"\n",
    "    Algorithme de recherche brute dans un tableau trié\n",
    "    \"\"\"\n",
    "    ...\n",
    "    # todo\n",
    "    ...\n"
   ]
  },
  {
   "cell_type": "markdown",
   "metadata": {
    "slideshow": {
     "slide_type": "subslide"
    }
   },
   "source": [
    "<div class=\"alert alert-info\" role=\"alert\">\n",
    "\n",
    "### Question 9"
   ]
  },
  {
   "cell_type": "markdown",
   "metadata": {},
   "source": [
    "**Compléter** le code ci-dessous afin de mesurer la durée de chacune des fonctions de recherche avec des tableaux de différentes tailles."
   ]
  },
  {
   "cell_type": "code",
   "execution_count": null,
   "metadata": {
    "slideshow": {
     "slide_type": "subslide"
    }
   },
   "outputs": [],
   "source": [
    "from time import time\n",
    "\n",
    "...\n"
   ]
  },
  {
   "cell_type": "markdown",
   "metadata": {
    "slideshow": {
     "slide_type": "slide"
    }
   },
   "source": [
    "# Pour aller plus loin"
   ]
  },
  {
   "cell_type": "markdown",
   "metadata": {
    "slideshow": {
     "slide_type": "subslide"
    }
   },
   "source": [
    "<div class=\"alert alert-info\" role=\"alert\">\n",
    "\n",
    "\n",
    "### Question 10"
   ]
  },
  {
   "cell_type": "markdown",
   "metadata": {
    "slideshow": {
     "slide_type": "fragment"
    }
   },
   "source": [
    "Tu connais le jeu *Devine Nombre*. Il faut y deviner un nombre en ayant comme réponses à tes tentatives : *c'est plus petit* ou *c'est plus grand*."
   ]
  },
  {
   "cell_type": "markdown",
   "metadata": {
    "slideshow": {
     "slide_type": "fragment"
    }
   },
   "source": [
    "1. Écris un algorithme peu efficace pour trouver ce nombre.\n",
    "2. Écris un algorithme plus efficace pour trouver ce nombre."
   ]
  },
  {
   "cell_type": "markdown",
   "metadata": {},
   "source": [
    "<répondre ici>"
   ]
  }
 ],
 "metadata": {
  "latex_metadata": {
  "theme": "algo",
  "title": "Recherche dichotomique"
  },
  "celltoolbar": "Diaporama",
  "interpreter": {
   "hash": "916dbcbb3f70747c44a77c7bcd40155683ae19c65e1c03b4aa3499c5328201f1"
  },
  "kernelspec": {
   "display_name": "Python 3",
   "language": "python",
   "name": "python3"
  },
  "language_info": {
   "codemirror_mode": {
    "name": "ipython",
    "version": 3
   },
   "file_extension": ".py",
   "mimetype": "text/x-python",
   "name": "python",
   "nbconvert_exporter": "python",
   "pygments_lexer": "ipython3",
   "version": "3.9.2"
  }
 },
 "nbformat": 4,
 "nbformat_minor": 2
}
