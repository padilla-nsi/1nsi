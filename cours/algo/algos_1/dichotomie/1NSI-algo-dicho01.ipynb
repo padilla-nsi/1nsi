{
 "cells": [
  {
   "cell_type": "markdown",
   "metadata": {
    "slideshow": {
     "slide_type": "slide"
    }
   },
   "source": [
    "## Recherche d'un élément dans un tableau"
   ]
  },
  {
   "cell_type": "markdown",
   "metadata": {
    "slideshow": {
     "slide_type": "slide"
    }
   },
   "source": [
    "### Activité 1"
   ]
  },
  {
   "cell_type": "markdown",
   "metadata": {
    "slideshow": {
     "slide_type": "subslide"
    }
   },
   "source": [
    "Écrire une fonction `recherche` qui prend en argument un tableau `tab` et un élément `elem`. La fonction doit renvoyer l'indice de `elem` s'il est présent dans le tableau et `-1` sinon.\n",
    "\n",
    "Exemples :\n",
    "```python\n",
    ">>> recherche([1, 2, 3], 3)\n",
    "2\n",
    ">>> recherche([1, 2, 3], 4)\n",
    "-1\n",
    "```"
   ]
  },
  {
   "cell_type": "markdown",
   "metadata": {
    "slideshow": {
     "slide_type": "subslide"
    }
   },
   "source": [
    "**Indice** Voici une idée d'algorithme : \n",
    "\n",
    "* Parcourir tout le tableau de taille `n`, de l'indice `0` à l'indice `n-1`.\n",
    "* Pour le tour de boucle `i`, si la valeur courante du tableau est égale à `elem`, alors provoquer un renvoie *anticitpé* qui arrête la fonction.\n",
    "* Lorsque la boucle se termine, c'est que `elem` n'a pas été trouvé.\n",
    "\n",
    "![](https://raw.githubusercontent.com/padilla-nsi/1nsi/main/cours/algo/algos_1/dichotomie/res/recherche1.png)"
   ]
  },
  {
   "cell_type": "code",
   "execution_count": null,
   "metadata": {
    "slideshow": {
     "slide_type": "subslide"
    }
   },
   "outputs": [],
   "source": [
    "# compléter le bloc de code\n",
    "\n",
    "def recherche(tab, elem):\n",
    "    \"\"\"\n",
    "    Exemples et tests:\n",
    "    >>> recherche([1, 2, 3], 3)\n",
    "    2\n",
    "    >>> recherche([1, 2, 3], 4)\n",
    "    -1\n",
    "    \"\"\"\n",
    "    for i in range(len(tab)):\n",
    "        if tab[i] == elem:\n",
    "            return i\n",
    "    return -1\n",
    "\n",
    "\n",
    "from doctest import  testmod\n",
    "testmod()"
   ]
  },
  {
   "cell_type": "markdown",
   "metadata": {
    "slideshow": {
     "slide_type": "slide"
    }
   },
   "source": [
    "### Activité 2"
   ]
  },
  {
   "cell_type": "markdown",
   "metadata": {
    "slideshow": {
     "slide_type": "fragment"
    }
   },
   "source": [
    "Si ta fonction semble correcte, teste-la sur Moodle et **valide** l'activité.\n",
    "\n",
    "\n",
    "|[http://pa.dilla.fr/dicho1](http://pa.dilla.fr/dicho1)|![](http://pa.dilla.fr/dicho1.qr)|\n",
    "|-|-|\n"
   ]
  },
  {
   "cell_type": "markdown",
   "metadata": {
    "slideshow": {
     "slide_type": "slide"
    }
   },
   "source": [
    "### Activité 3"
   ]
  },
  {
   "cell_type": "markdown",
   "metadata": {
    "slideshow": {
     "slide_type": "fragment"
    }
   },
   "source": [
    "D'après toi, qu'est ce qu'un fonction *efficace* ? De quoi dépend l'efficacité de la fonction `recherche` ?"
   ]
  },
  {
   "cell_type": "markdown",
   "metadata": {},
   "source": [
    "<double cliquer pour répondre ici>"
   ]
  },
  {
   "cell_type": "markdown",
   "metadata": {
    "slideshow": {
     "slide_type": "slide"
    }
   },
   "source": [
    "### Activité 4\n",
    "\n",
    "Compléter le code ci-dessous afin de déterminer le temps qu'il faut pour explorer un tableau de $500~000$ cases."
   ]
  },
  {
   "cell_type": "code",
   "execution_count": null,
   "metadata": {
    "slideshow": {
     "slide_type": "fragment"
    }
   },
   "outputs": [],
   "source": [
    "# compléter les '...' et ajouter des commentaires expliquant ce que fait la ligne d'instruction\n",
    "\n",
    "from time import time   \n",
    "tab = [1] * ...         # ... ...\n",
    "\n",
    "t_0 = time()\n",
    "recherche(tab, ...)     # ... ...\n",
    "t_1 = time()\n",
    "\n",
    "print(t_1 - t_0)        # ... ..."
   ]
  },
  {
   "cell_type": "markdown",
   "metadata": {
    "slideshow": {
     "slide_type": "subslide"
    }
   },
   "source": [
    "Compléter le tableau ci-dessous :\n",
    "\n",
    "|nombre de case | durée (s)    |\n",
    "|:-:            |:-:           |\n",
    "|   500 000     | <à compléter>|\n",
    "| 1 000 000     | <à compléter>|\n",
    "| 2 000 000     | <à compléter>|\n",
    "| 4 000 000     | <à compléter>|\n",
    "| 8 000 000     | <à compléter>|\n",
    "|16 000 000     | <à compléter>|\n",
    "|32 000 000     | <à compléter>|\n",
    "|64 000 000     | <à compléter>|"
   ]
  },
  {
   "cell_type": "markdown",
   "metadata": {
    "slideshow": {
     "slide_type": "slide"
    }
   },
   "source": [
    "## Pour aller plus loin..."
   ]
  },
  {
   "cell_type": "markdown",
   "metadata": {
    "slideshow": {
     "slide_type": "subslide"
    }
   },
   "source": [
    "### Activité bonus 1"
   ]
  },
  {
   "cell_type": "markdown",
   "metadata": {
    "slideshow": {
     "slide_type": "-"
    }
   },
   "source": [
    "Refaire l'activité 1, mais avec une boucle `while`."
   ]
  },
  {
   "cell_type": "code",
   "execution_count": null,
   "metadata": {
    "slideshow": {
     "slide_type": "subslide"
    }
   },
   "outputs": [],
   "source": [
    "def recherche_2(tab, elem):\n",
    "    \"\"\"\n",
    "    Renvoie l'indice de elem s'il est présent dans tab et -1 sinon\n",
    "    Fonction codée avec une boucle `while`\n",
    "\n",
    "    Exemples:\n",
    "    >>> recherche_2([1, 2, 3], 3)\n",
    "    2\n",
    "    >>> recherche_2([1, 2, 3], 4)\n",
    "    -1\n",
    "    \"\"\"\n",
    "    # BOUCLE: parcours du tableau jusqu'à trouver elem\n",
    "    # -> invariant: la zone [0 .. i-1] a été explorée sans trouver elem\n",
    "    i = 0\n",
    "    # -> invariant: \n",
    "    #       * si elem n'a pas été trouvé dans la zone, i_elem vaut -1\n",
    "    #       * sinon, i_elem vaut l'indice d'elem dans tab\n",
    "    i_elem = -1\n",
    "    # -> condition d'arrêt: tout le tableau est parcouru <=> i == dernier indice + 1\n",
    "    # -> condition d'arrêt: elem est trouvé <=> i_elem != -1\n",
    "    while not(i == len(tab) or i_elem != -1):\n",
    "        # maintient de l'invariant si elem est trouvé\n",
    "        if tab[i] == elem:            \n",
    "            i_elem = i\n",
    "        i = i + 1\n",
    "    # fin BOUCLE\n",
    "\n",
    "    return i_elem\n",
    "\n",
    "\n",
    "from doctest import testmod\n",
    "testmod()"
   ]
  },
  {
   "cell_type": "markdown",
   "metadata": {
    "slideshow": {
     "slide_type": "slide"
    }
   },
   "source": [
    "### Activité bonus 2\n",
    "\n",
    "Compléter le code ci-dessous pour afficher le temps d'exécution de la fonction `recherche_2`."
   ]
  },
  {
   "cell_type": "code",
   "execution_count": null,
   "metadata": {
    "slideshow": {
     "slide_type": "-"
    }
   },
   "outputs": [],
   "source": [
    "# compléter le bloc de code\n",
    "\n",
    "..."
   ]
  },
  {
   "cell_type": "markdown",
   "metadata": {
    "slideshow": {
     "slide_type": "-"
    }
   },
   "source": [
    "|nombre de case | durée (s)    |\n",
    "|:-:            |:-:           |\n",
    "|   500 000     | <à compléter>|\n",
    "| 1 000 000     | <à compléter>|\n",
    "| 2 000 000     | <à compléter>|\n",
    "| 4 000 000     | <à compléter>|\n",
    "| 8 000 000     | <à compléter>|\n",
    "|16 000 000     | <à compléter>|\n",
    "|32 000 000     | <à compléter>|\n",
    "|64 000 000     | <à compléter>|"
   ]
  },
  {
   "cell_type": "markdown",
   "metadata": {
    "slideshow": {
     "slide_type": "slide"
    }
   },
   "source": [
    "### Activité bonus 3\n",
    "\n",
    "D'après toi, pourquoi les durées sont-elles si différentes ?"
   ]
  },
  {
   "cell_type": "markdown",
   "metadata": {
    "slideshow": {
     "slide_type": "-"
    }
   },
   "source": [
    "<écrire ta réponse ici>"
   ]
  }
 ],
 "metadata": {
  "celltoolbar": "Diaporama",
  "interpreter": {
   "hash": "916dbcbb3f70747c44a77c7bcd40155683ae19c65e1c03b4aa3499c5328201f1"
  },
  "kernelspec": {
   "display_name": "Python 3",
   "language": "python",
   "name": "python3"
  },
  "language_info": {
   "codemirror_mode": {
    "name": "ipython",
    "version": 3
   },
   "file_extension": ".py",
   "mimetype": "text/x-python",
   "name": "python",
   "nbconvert_exporter": "python",
   "pygments_lexer": "ipython3",
   "version": "3.9.2"
  }
 },
 "nbformat": 4,
 "nbformat_minor": 2
}
