{
 "cells": [
  {
   "cell_type": "markdown",
   "metadata": {
    "slideshow": {
     "slide_type": "slide"
    }
   },
   "source": [
    "# Recherche dichotomique dans un tableau trié"
   ]
  },
  {
   "cell_type": "markdown",
   "metadata": {
    "slideshow": {
     "slide_type": "slide"
    }
   },
   "source": [
    "## Activité débranchée"
   ]
  },
  {
   "cell_type": "markdown",
   "metadata": {},
   "source": [
    "### Question 1"
   ]
  },
  {
   "cell_type": "markdown",
   "metadata": {
    "slideshow": {
     "slide_type": "fragment"
    }
   },
   "source": [
    "**Est-ce que ton prénom est dans la liste ci-dessous ?**\n",
    "\n",
    "(attention, tu n'as que 3 secondes pour répondre...)"
   ]
  },
  {
   "cell_type": "markdown",
   "metadata": {
    "slideshow": {
     "slide_type": "subslide"
    }
   },
   "source": [
    "![](./res/prenoms_non_tries.png)"
   ]
  },
  {
   "cell_type": "markdown",
   "metadata": {
    "slideshow": {
     "slide_type": "subslide"
    }
   },
   "source": [
    "Trouvé ?..."
   ]
  },
  {
   "cell_type": "markdown",
   "metadata": {
    "slideshow": {
     "slide_type": "fragment"
    }
   },
   "source": [
    "Bon, même question mais cette fois-ci les prénoms sont *triés par ordre alphabétique*.\n",
    "\n",
    "**Est-ce que ton prénom est dans la liste ci-dessous ?**\n",
    "\n",
    "(attention, tu n'as que 3 secondes pour répondre...)"
   ]
  },
  {
   "cell_type": "markdown",
   "metadata": {
    "slideshow": {
     "slide_type": "subslide"
    }
   },
   "source": [
    "![](./res/prenoms_tries.png)"
   ]
  },
  {
   "cell_type": "markdown",
   "metadata": {
    "slideshow": {
     "slide_type": "subslide"
    }
   },
   "source": [
    "### Question 2"
   ]
  },
  {
   "cell_type": "markdown",
   "metadata": {
    "slideshow": {
     "slide_type": "fragment"
    }
   },
   "source": [
    "Nous allons expliciter les différentes manières de chercher.\n",
    "\n",
    "Par groupe de 2, **proposer** 3 algorithmes possibles pour chercher un prénom parmi 136 possibles et déterminer pour chacun le nombre maximal d'opérations."
   ]
  },
  {
   "cell_type": "markdown",
   "metadata": {
    "slideshow": {
     "slide_type": "slide"
    }
   },
   "source": [
    "## Activité débranchée"
   ]
  },
  {
   "cell_type": "markdown",
   "metadata": {
    "slideshow": {
     "slide_type": "fragment"
    }
   },
   "source": [
    "Tu connais le jeu *Devine Nombre*. Il faut y deviner un nombre en ayant comme réponses à tes tentatives : *c'est plus petit* ou *c'est plus grand*."
   ]
  },
  {
   "cell_type": "markdown",
   "metadata": {
    "slideshow": {
     "slide_type": "fragment"
    }
   },
   "source": [
    "1. Écris un algorithme peu efficace pour trouver ce nombre.\n",
    "2. Écris un algorithme plus efficace pour trouver ce nombre."
   ]
  },
  {
   "cell_type": "markdown",
   "metadata": {
    "slideshow": {
     "slide_type": "slide"
    }
   },
   "source": [
    "## Recherche dichotomique"
   ]
  },
  {
   "cell_type": "markdown",
   "metadata": {
    "slideshow": {
     "slide_type": "fragment"
    }
   },
   "source": [
    "La recherche dichotomique est un procédé classique de recherche **très efficace**.\n",
    "\n",
    "Pour fonctionner, il faut un tableau **trié**, par exemple par ordre croissant."
   ]
  },
  {
   "cell_type": "markdown",
   "metadata": {},
   "source": [
    "![](https://raw.githubusercontent.com/padilla-nsi/1nsi/main/cours/algo/algos_1/dichotomie/res/dichotomie_0_tab.png)"
   ]
  },
  {
   "cell_type": "markdown",
   "metadata": {
    "slideshow": {
     "slide_type": "skip"
    }
   },
   "source": [
    "Supposons que l'on cherche l'élément `elem` dans le tableau `tab` de taille $n$.\n",
    "\n",
    "Pour mettre en œuvre la recherche dichotomique, on va délimiter la **portion** du tableau dans laquelle la recherche est actuellement réduite à l'aide de deux **indices** : `g` et `d`.\n",
    "\n",
    "Initialement, la recherche se fait dans le tableau en entier et donc on prendra pour commencer :\n",
    "\n",
    "- `g` ← $0$\n",
    "- `d` ← $n-1$"
   ]
  },
  {
   "cell_type": "markdown",
   "metadata": {
    "slideshow": {
     "slide_type": "subslide"
    }
   },
   "source": [
    "![](https://raw.githubusercontent.com/padilla-nsi/1nsi/main/cours/algo/algos_1/dichotomie/res/dichotomie_0.png)"
   ]
  },
  {
   "cell_type": "markdown",
   "metadata": {
    "slideshow": {
     "slide_type": "skip"
    }
   },
   "source": [
    "\n",
    "Au fur et à mesure de la recherche, la portion de tableau à explorer va se réduire. Les indices `g` et `d` seront modifiés pour que si `elem` est dans le tableau, il soit forcément entre les indices `g` et `d`.\n",
    "\n",
    "Ainsi, \n",
    "\n",
    "- tout élément d'indice inférieur à `g` est inférieur à `elem`\n",
    "- tout élément d'indice supérieur à `d` est supérieur à `elem`."
   ]
  },
  {
   "cell_type": "markdown",
   "metadata": {
    "slideshow": {
     "slide_type": "subslide"
    }
   },
   "source": [
    "Supposons maintenant la situation courante du schéma :"
   ]
  },
  {
   "cell_type": "markdown",
   "metadata": {},
   "source": [
    "![](https://raw.githubusercontent.com/padilla-nsi/1nsi/main/cours/algo/algos_1/dichotomie/res/dichotomie_2.png)"
   ]
  },
  {
   "cell_type": "markdown",
   "metadata": {
    "slideshow": {
     "slide_type": "skip"
    }
   },
   "source": [
    "La dichotomie se poursuivra **tant que** la portion de recherche n'est pas vide et à chaque tour de boucle, il faudra comparer `elem` avec la valeur médiane de la portion `tab[i_med]`. \n",
    "\n",
    "- Si cette valeur médiane est égale à `elem` alors on renvoie l'indice de cette valeur (le renvoie arrête instantanément la fonction de recherche).\n",
    "- Sinon, on met à jour la portion de recherche en modifiant \n",
    "  - soit `g` : pour que la prochaine boucle explore la portion **supérieure** à la valeur médiane\n",
    "  - soit `d` : pour que la prochaine boucle explore la portion **inférieure** à la valeur médiane."
   ]
  },
  {
   "cell_type": "markdown",
   "metadata": {
    "slideshow": {
     "slide_type": "slide"
    }
   },
   "source": [
    "### Activités"
   ]
  },
  {
   "cell_type": "markdown",
   "metadata": {},
   "source": [
    "Pour définir correctement la boucle **tant que** : \n",
    "\n",
    "1. Déterminer sa **condition d'arrêt**.\n",
    "2. Déterminer ses **conditions initiales**.\n",
    "\n",
    "\n",
    "Intéressons-nous à la valeur médiane de la portion du tableau.\n",
    "\n",
    "3. Proposer une valeur de `i_med` en fonction de `g` et de `d`\n",
    "4. Implémenter la recherche dichotomique."
   ]
  },
  {
   "cell_type": "code",
   "execution_count": 1,
   "metadata": {},
   "outputs": [],
   "source": [
    "def recherche_dichotomique(tab: list, elem) -> int:\n",
    "    \"\"\"\n",
    "    Recherche dichotomique dans un tableau trié\n",
    "    \"\"\"\n",
    "    # \n",
    "    ...\n",
    "    # todo\n",
    "    ... "
   ]
  },
  {
   "cell_type": "markdown",
   "metadata": {},
   "source": [
    "5. Implémenter une recherche brute et comparer des durées d'exécution avec des tableaux de plus en plus grand"
   ]
  },
  {
   "cell_type": "code",
   "execution_count": 2,
   "metadata": {},
   "outputs": [
    {
     "data": {
      "text/plain": [
       "Ellipsis"
      ]
     },
     "execution_count": 2,
     "metadata": {},
     "output_type": "execute_result"
    }
   ],
   "source": [
    "def recherche_brute(tab: list, elem) -> int:\n",
    "    \"\"\"\n",
    "    Algorithme de recherche brute dans un tableau trié\n",
    "    \"\"\"\n",
    "    ...\n",
    "    # todo\n",
    "    ...\n",
    "\n",
    "\n",
    "from time import time\n",
    "...\n"
   ]
  }
 ],
 "metadata": {
  "celltoolbar": "Diaporama",
  "interpreter": {
   "hash": "916dbcbb3f70747c44a77c7bcd40155683ae19c65e1c03b4aa3499c5328201f1"
  },
  "kernelspec": {
   "display_name": "Python 3",
   "language": "python",
   "name": "python3"
  },
  "language_info": {
   "codemirror_mode": {
    "name": "ipython",
    "version": 3
   },
   "file_extension": ".py",
   "mimetype": "text/x-python",
   "name": "python",
   "nbconvert_exporter": "python",
   "pygments_lexer": "ipython3",
   "version": "3.9.2"
  }
 },
 "nbformat": 4,
 "nbformat_minor": 2
}
