{
 "cells": [
  {
   "cell_type": "markdown",
   "metadata": {},
   "source": [
    "# Recherche dichotomique dans un tableau trié"
   ]
  },
  {
   "cell_type": "markdown",
   "metadata": {},
   "source": [
    "La recherche dichotomique est un procédé classique de recherche **très efficace**.\n",
    "\n",
    "Pour fonctionner, il faut un tableau *préalablement* **trié**."
   ]
  },
  {
   "cell_type": "markdown",
   "metadata": {},
   "source": [
    "![](https://raw.githubusercontent.com/padilla-nsi/1nsi/main/cours/algorithmes/algos_1/dichotomie/res/dichotomie_1.png)"
   ]
  },
  {
   "cell_type": "markdown",
   "metadata": {},
   "source": [
    "Supposons que l'on cherche l'élément `elem` dans le tableau `tab` de taille $n$.\n",
    "\n",
    "Pour implémenter la recherche dichotomique, on va délimiter la **portion** du tableau dans laquelle la recherche est actuellement réduite. Pour cela on utilise deux **indices** : `g` et `d` de sorte que :\n",
    "\n",
    "- tout élément d'indice inférieur à `g` est inférieur à `elem`\n",
    "- tout élément d'indice supérieur à `d` est supérieur à `elem`\n",
    "\n",
    "et donc\n",
    "\n",
    "- si `elem` est dans le tableau, il est forcément entre les indices `g` et `d`.\n",
    "\n"
   ]
  },
  {
   "cell_type": "markdown",
   "metadata": {},
   "source": [
    "Initialement, la recherche se fait dans le tableau en entier et donc on prendra pour commencer :\n",
    "\n",
    "- `g` ← $0$\n",
    "- `d` ← $n-1$"
   ]
  },
  {
   "cell_type": "markdown",
   "metadata": {},
   "source": [
    "Supposons maintenant la situation courante du schéma :"
   ]
  },
  {
   "cell_type": "markdown",
   "metadata": {},
   "source": [
    "![](https://raw.githubusercontent.com/padilla-nsi/1nsi/main/cours/algorithmes/algos_1/dichotomie/res/dichotomie_2.png)"
   ]
  },
  {
   "cell_type": "markdown",
   "metadata": {},
   "source": [
    "La dichotomie se poursuivra **tant que** la portion de recherche n'est pas vide et à chaque tour de boucle, il faudra comparer `elem` avec la valeur médiane de la portion `tab[i_med]`. \n",
    "\n",
    "- Si cette valeur médiane est égale à `elem` alors on renvoie l'indice de cette valeur (le renvoie arrête instantanément la fonction de recherche).\n",
    "- Sinon, on met à jour la portion de recherche en modifiant \n",
    "  - soit `g` : pour que la prochaine boucle explore la portion **supérieure** à la valeur médiane\n",
    "  - soit `d` : pour que la prochaine boucle explore la portion **inférieure** à la valeur médiane."
   ]
  },
  {
   "cell_type": "markdown",
   "metadata": {},
   "source": [
    "### Activités"
   ]
  },
  {
   "cell_type": "markdown",
   "metadata": {},
   "source": [
    "Pour définir correctement la boucle **tant que** : \n",
    "\n",
    "1. Déterminer sa **condition d'arrêt**.\n",
    "2. Déterminer ses **conditions initiales**.\n",
    "\n",
    "\n",
    "Intéressons-nous à la valeur médiane de la portion du tableau.\n",
    "\n",
    "3. Proposer une valeur de `i_med` en fonction de `g` et de `d`\n",
    "4. Implémenter la recherche dichotomique."
   ]
  },
  {
   "cell_type": "code",
   "execution_count": 1,
   "metadata": {},
   "outputs": [],
   "source": [
    "def recherche_dichotomique(tab: list, elem) -> int:\n",
    "    \"\"\"Recherche dichotomique dans un tableau trié\n",
    "\n",
    "    Args:\n",
    "        tab (list): tableau dans lequel on cherche\n",
    "        elem (type): élément à rechercher\n",
    "\n",
    "    Returns:\n",
    "        int:  * si trouvé     : indice de l'élément\n",
    "              * si non trouvé : None\n",
    "    \"\"\"\n",
    "    ...\n",
    "    # todo\n",
    "    ... "
   ]
  },
  {
   "cell_type": "markdown",
   "metadata": {},
   "source": [
    "5. Implémenter une recherche brute et comparer des durées d'exécution avec des tableaux de plus en plus grand"
   ]
  },
  {
   "cell_type": "code",
   "execution_count": 2,
   "metadata": {},
   "outputs": [
    {
     "data": {
      "text/plain": [
       "Ellipsis"
      ]
     },
     "execution_count": 2,
     "metadata": {},
     "output_type": "execute_result"
    }
   ],
   "source": [
    "def recherche_brute(tab: list, elem) -> int:\n",
    "    \"\"\"Recherche brute dans un tableau trié\n",
    "\n",
    "    Args:\n",
    "        tab (list): tableau dans lequel on cherche\n",
    "        elem (type): élément à rechercher\n",
    "\n",
    "    Returns:\n",
    "        int:  * si trouvé     : indice de l'élément\n",
    "              * si non trouvé : None\n",
    "    \"\"\"\n",
    "    ...\n",
    "    # todo\n",
    "    ...\n",
    "\n",
    "\n",
    "from time import time\n",
    "...\n"
   ]
  }
 ],
 "metadata": {
  "interpreter": {
   "hash": "916dbcbb3f70747c44a77c7bcd40155683ae19c65e1c03b4aa3499c5328201f1"
  },
  "kernelspec": {
   "display_name": "Python 3.9.2 64-bit",
   "language": "python",
   "name": "python3"
  },
  "language_info": {
   "codemirror_mode": {
    "name": "ipython",
    "version": 3
   },
   "file_extension": ".py",
   "mimetype": "text/x-python",
   "name": "python",
   "nbconvert_exporter": "python",
   "pygments_lexer": "ipython3",
   "version": "3.9.2"
  },
  "orig_nbformat": 4
 },
 "nbformat": 4,
 "nbformat_minor": 2
}
