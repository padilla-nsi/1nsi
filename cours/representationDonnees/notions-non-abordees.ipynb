{
 "cells": [
  {
   "cell_type": "markdown",
   "metadata": {},
   "source": [
    "# Relatifs"
   ]
  },
  {
   "cell_type": "markdown",
   "metadata": {},
   "source": [
    "### Intervalles de valeurs encodables"
   ]
  },
  {
   "cell_type": "markdown",
   "metadata": {},
   "source": [
    "## Textes"
   ]
  },
  {
   "cell_type": "markdown",
   "metadata": {},
   "source": [
    "\n",
    "Deuxième table (fin 1960) avec les caractères accentués :\n",
    "\n",
    "![](img-iso88591.png?)"
   ]
  },
  {
   "cell_type": "markdown",
   "metadata": {},
   "source": [
    "### UTF-32\n",
    "\n"
   ]
  },
  {
   "cell_type": "markdown",
   "metadata": {},
   "source": [
    "\n",
    "#### Méthode\n",
    "* encodage exactement comme le point de code\n",
    "* taille fixe de 32 bits\n"
   ]
  },
  {
   "cell_type": "markdown",
   "metadata": {},
   "source": [
    "#### Exemple"
   ]
  },
  {
   "cell_type": "markdown",
   "metadata": {},
   "source": [
    "| caractère | encodage UTF-32 binaire |\n",
    "|:-:|-:|\n",
    "|A | 0000 0000 0000 0000  0000 0000 0100 0001 |\n",
    "|&#x3A9; | 0000 0000 0000 0000  0000 0011 1010 1001 |\n",
    "| &#x6587; | 0000 0000 0000 0000  0110 0101 1000 0111 |\n",
    "| &#x10384; |  0000 0000 0000 0001  0000 0011 1000 0100 |"
   ]
  },
  {
   "cell_type": "markdown",
   "metadata": {},
   "source": [
    "\n",
    "#### Remarques\n",
    "\n",
    "* très simple, mais occupe beaucoup de place en mémoire\n",
    "* utile si on désire une longueur fixe (32 bits/caractères)"
   ]
  },
  {
   "cell_type": "markdown",
   "metadata": {},
   "source": [
    "### UTF-16"
   ]
  },
  {
   "cell_type": "markdown",
   "metadata": {},
   "source": [
    "#### Méthode"
   ]
  },
  {
   "cell_type": "markdown",
   "metadata": {},
   "source": [
    "Deux cas possibles en fonction de la longueur du point de code :\n",
    "\n",
    "* point de code de longueur 16 bits ou moins : \n",
    "  * encodage sur 16 bits identique au point de code\n",
    "  * complété par des 0 à gauche si besoin (*padding*)\n",
    "* point de code de longueur supérieure à 16 bits :\n",
    "  * encodage sur 2 × 16 bits\n",
    "  * utilisation de préfixe pour chaque paquet de 16 bits : `110110` et `110111`\n",
    "  * utilisation d'une conversion pour les bits de rang supérieurs à 16\n",
    "\n",
    "\n",
    "|point de code en binaire |valeur en UTF-16| remarque |\n",
    "|-:|-:|-:|\n",
    "|xxxx xxxx xxxx xxxx | xxxx xxxx xxxx xxxx |\n",
    "|000y yyyy xxxx xxxx xxxx xxxx | 1101 10zz zzxx xxxx 1101 11xx xxxx xxxx | zzzz = yyyyy - 1 |"
   ]
  },
  {
   "cell_type": "markdown",
   "metadata": {},
   "source": [
    "#### Exemple"
   ]
  },
  {
   "cell_type": "markdown",
   "metadata": {},
   "source": [
    "| caractère | encodage UTF-16 binaire | remarque\n",
    "|:-:|-:| -: |\n",
    "|A | 0000 0000 0100 0001 | PC = 0100 0001 $\\rightarrow$ 1er cas\n",
    "|&#x3A9; | 0000 0011 1010 1001 | 1er cas\n",
    "| &#x6587; | 0110 0101 1000 0111 | 1er cas\n",
    "| &#x10384; |  1101 1000 0000 0000 1101 1111 1000 0100 | 2ème cas $\\rightarrow$ utilisation de 2 × 16 bits"
   ]
  }
 ],
 "metadata": {
  "interpreter": {
   "hash": "916dbcbb3f70747c44a77c7bcd40155683ae19c65e1c03b4aa3499c5328201f1"
  },
  "kernelspec": {
   "display_name": "Python 3.9.2 64-bit",
   "language": "python",
   "name": "python3"
  },
  "language_info": {
   "name": "python",
   "version": "3.9.2"
  },
  "orig_nbformat": 4
 },
 "nbformat": 4,
 "nbformat_minor": 2
}
