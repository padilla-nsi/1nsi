{
 "cells": [
  {
   "cell_type": "markdown",
   "metadata": {
    "tags": [
     "proposition"
    ]
   },
   "source": [
    "Cette activité de groupe doit être comprise et réalisée en **autonomie**. Chacun de vous doit être capable de faire et d'expliquer les exercices d'applications"
   ]
  },
  {
   "cell_type": "markdown",
   "metadata": {},
   "source": [
    "# Encodage en hexadécimal"
   ]
  },
  {
   "cell_type": "markdown",
   "metadata": {},
   "source": [
    "## 1. Conversions binaire $\\leftrightarrow$ hexadécimal"
   ]
  },
  {
   "cell_type": "markdown",
   "metadata": {},
   "source": [
    "### Les 16 chiffres hexadécimaux"
   ]
  },
  {
   "cell_type": "markdown",
   "metadata": {},
   "source": [
    "En machine, les données sont représentées en binaire. Pour rendre la manipulation des données plus pratique en gardant une forte compatibilité avec le langage en machine, il est courant d'utiliser la représentation hexadécimale."
   ]
  },
  {
   "cell_type": "markdown",
   "metadata": {
    "tags": [
     "retenir"
    ]
   },
   "source": [
    "#### Hexadécimal\n",
    "\n",
    "C'est un système de numération en base 16 qui utilise donc... 16 symboles pour les chiffres. Par convention on utilise les 10 chiffres arabes de $0$ à $9$ puis les lettres majuscules A, B, C, D, E et F.\n",
    "\n",
    "||||||||||||||||||\n",
    "|:-:|:-:|:-:|:-:|:-:|:-:|:-:|:-:|:-:|:-:|:-:|:-:|:-:|:-:|:-:|:-:|:-:|\n",
    "| **symbole**|0|1|2|3|4|5|6|7|8|9|A|B|C|D|E|F|\n",
    "| **chiffre** |0|1|2|3|4|5|6|7|8|9|10|11|12|13|14|15|"
   ]
  },
  {
   "cell_type": "markdown",
   "metadata": {
    "tags": [
     "exemple"
    ]
   },
   "source": [
    "Voici comment s'écrivent en hexadécimal les nombres 16, 24, 25, 26, 27, 31, 32 et 255 :\n",
    "$$\n",
    "\\begin{array}{|c|c|c|c|c|c|c|c|c|} \\hline\n",
    "\\textbf{écriture décimale} & 16_{10} & 24_{10} & 25_{10} & 26_{10} & 27_{10} &  31_{10} & 32_{10} & 255_{10} \\\\\\hline\n",
    "\\textbf{écr. hexadécimale} & 10_{16} & 18_{16} & 19_{16} & 1\\text{A}_{16} &  1\\text{B}_{16} & 1\\text{F}_{16} & 20_{16} & \\text{FF}_{16} \\\\ \\hline\n",
    "\\end{array}\n",
    "$$"
   ]
  },
  {
   "cell_type": "markdown",
   "metadata": {},
   "source": [
    "### Décomposition en base 16"
   ]
  },
  {
   "cell_type": "markdown",
   "metadata": {
    "tags": [
     "exo"
    ]
   },
   "source": [
    "Écrire la valeur des puissances de 16 suivantes :\n",
    "\n",
    "$$\n",
    "\\begin{array}{|c|c|c|c|} \\hline\n",
    "16^0 & 16^1 & 16^2 & 16^3 \\\\ \\hline\n",
    "\\rule{2cm}{0cm} & \\rule{2cm}{0cm} & \\rule{2cm}{0cm} & \\rule{2cm}{0cm} \\\\\\hline\n",
    "\\end{array}\n",
    "$$"
   ]
  },
  {
   "cell_type": "markdown",
   "metadata": {
    "tags": [
     "exemple"
    ]
   },
   "source": [
    "Tout nombre entier se **décompose en somme de puissance de 16** :\n",
    "\n",
    "$242 = 15 \\times 16 + 2 = \\underline{15 \\times 16^1 + 2 \\times 16^0}$\n",
    "\n",
    "$1000 = 3 \\times 256 + 14 \\times 16 + 8 = \\underline{3 \\times 16^2 + 14 \\times 16^1 + 3 \\times 16^0}$"
   ]
  },
  {
   "cell_type": "markdown",
   "metadata": {
    "tags": [
     "exo"
    ]
   },
   "source": [
    "Décomposer les nombres suivants en somme de puissance de 16 : $15 ; 16 ; 273 ; 546$."
   ]
  },
  {
   "cell_type": "markdown",
   "metadata": {},
   "source": [
    "### Padding"
   ]
  },
  {
   "cell_type": "markdown",
   "metadata": {},
   "source": [
    "Dans la machine (mémoire, disque, etc.) les mots binaires se suivent et sont écrits successivement. Par exemple 17 s'écrit `10001` et 12 s'écrit `1100`. Mais si  on écrit ces deux nombres successivement, on obtient `100011100` qui représente... 284 !\n",
    "\n",
    "Pour pallier ce problème, le nombre de bits est fixé **à l'avance**, souvent 7, 8, 16 ou 32 bits."
   ]
  },
  {
   "cell_type": "markdown",
   "metadata": {
    "tags": [
     "retenir"
    ]
   },
   "source": [
    "#### (Déf. padding)\n",
    "\n",
    "Si un nombre binaire s'écrit avec moins de bits, son écriture est complétée par des 0 à gauche. C'est le principe du **padding**."
   ]
  },
  {
   "cell_type": "markdown",
   "metadata": {
    "tags": [
     "exemple"
    ]
   },
   "source": [
    "Sur 8 bits, le nombre 17 s'écrit : $17_{10} = 10001_2 = 00010001_2$"
   ]
  },
  {
   "cell_type": "markdown",
   "metadata": {
    "tags": [
     "remarque"
    ]
   },
   "source": [
    "Par commodité de lecture, nous prendrons l'habitude de grouper les chiffres binaires par paquets de 4 bits.\n",
    "\n",
    "Par exemple, on préférera écrire : $17_{10} = 1~0001_2 = 0001~0001_2$"
   ]
  },
  {
   "cell_type": "markdown",
   "metadata": {},
   "source": [
    "### Binaire vers hexadécimal"
   ]
  },
  {
   "cell_type": "markdown",
   "metadata": {},
   "source": [
    "Un nombre hexadécimal se trouve à partir de regroupements de nombres binaires par paquets de 4 bits. Pourquoi ? Parce que $2^4 = 16$ !"
   ]
  },
  {
   "cell_type": "markdown",
   "metadata": {
    "tags": [
     "retenir"
    ]
   },
   "source": [
    "#### Binaire → hexadécimal\n",
    "\n",
    "Convertir un nombre binaire en hexadécimal :\n",
    "\n",
    "* définir la longueur du nombre hexadécimal à obtenir\n",
    "* regrouper les chiffres par paquets de 4 bits en commençant par la droite\n",
    "* donner la valeur décimale de chaque paquet de 4 bits\n",
    "* représenter chaque valeur décimale par son symbole hexadécimale"
   ]
  },
  {
   "cell_type": "markdown",
   "metadata": {
    "tags": [
     "exemple"
    ]
   },
   "source": [
    "Convertir 242 et 1000 en nombres hexadécimaux de longueur 4:"
   ]
  },
  {
   "cell_type": "markdown",
   "metadata": {},
   "source": [
    "$$\n",
    "\\begin{array}{|cccccc|} \\hline\n",
    "242_{10} & = &        &        & 1111   & 0010_2 \\\\ \n",
    "         &   & 0000   & 0000   & 1111   & 0010_2 \\\\ \n",
    "         &   & 0_{10} & 0_{10} &15_{10} & 2_{10} \\\\ \n",
    "         &   & 0_{16} & 0_{16} & \\text{F}_{16} & 2_{16}\\\\\n",
    "242_{10} & = & \\text{00F2}_{16} & & & \\\\ \\hline\n",
    "\\end{array}\n",
    "\\begin{array}{|cccccc|} \\hline\n",
    "1000_{10} & = & & 0011 & 1110 & 1000_2 \\\\ \n",
    "          &   & 0000 & 0011 & 1110 & 1000_2 \\\\ \n",
    "          &   & 0_{10} & 3_{10} & 14_{10} & 8_{10}\\\\ \n",
    "          &   & 0_{16} & \\text{3}_{16} & \\text{E}_{16} & 8_{16}\\\\\n",
    "1000_{10} & = & \\text{03E8}_{16} & & & \\\\\\hline\n",
    "\\end{array}\n",
    "$$"
   ]
  },
  {
   "cell_type": "markdown",
   "metadata": {},
   "source": [
    "### Hexadécimal vers binaire"
   ]
  },
  {
   "cell_type": "markdown",
   "metadata": {
    "tags": [
     "retenir"
    ]
   },
   "source": [
    "Pour convertir d'une représentation hexadécimale en binaire, c'est exactement le même déroulement...mais à l'envers !"
   ]
  },
  {
   "cell_type": "markdown",
   "metadata": {},
   "source": [
    "## 2. Exercice d'application"
   ]
  },
  {
   "cell_type": "markdown",
   "metadata": {
    "tags": [
     "exo"
    ]
   },
   "source": [
    "Traduire les nombres 15; 16; 273 et 546 en hexadécimaux de longueur 3."
   ]
  },
  {
   "cell_type": "markdown",
   "metadata": {
    "tags": [
     "exo"
    ]
   },
   "source": [
    "Convertir $\\text{2A}_{16}$; $\\text{E5}_{16}$ en binaire, puis en décimal."
   ]
  },
  {
   "cell_type": "markdown",
   "metadata": {
    "tags": [
     "exo"
    ]
   },
   "source": [
    "Traduire les nombres 742; 743; 4095; 4096 et 65535 en hexadécimaux de longueur 4."
   ]
  }
 ],
 "metadata": {
  "interpreter": {
   "hash": "916dbcbb3f70747c44a77c7bcd40155683ae19c65e1c03b4aa3499c5328201f1"
  },
  "kernelspec": {
   "display_name": "Python 3.9.2 64-bit",
   "language": "python",
   "name": "python3"
  },
  "language_info": {
   "codemirror_mode": {
    "name": "ipython",
    "version": 3
   },
   "file_extension": ".py",
   "mimetype": "text/x-python",
   "name": "python",
   "nbconvert_exporter": "python",
   "pygments_lexer": "ipython3",
   "version": "3.9.2"
  },
  "latex_metadata": {
   "theme": "machine",
   "title": "Repr. des données - hexadécimal"
  },
  "orig_nbformat": 4
 },
 "nbformat": 4,
 "nbformat_minor": 2
}
