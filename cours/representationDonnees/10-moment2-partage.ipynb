{
 "cells": [
  {
   "cell_type": "markdown",
   "metadata": {
    "tags": [
     "proposition"
    ]
   },
   "source": [
    "Cette activité de groupe doit être comprise et réalisée en **autonomie**. Chacun de vous doit comprendre **toutes les parties** et être capable de faire **seul** d'autres exercices d'application."
   ]
  },
  {
   "cell_type": "markdown",
   "metadata": {},
   "source": [
    "## 1. Encodage hexadécimal"
   ]
  },
  {
   "cell_type": "markdown",
   "metadata": {
    "tags": [
     "exo"
    ]
   },
   "source": [
    "**(Symboles hexadécimaux)** Combien de symbole en hexadécimal ? lesquels?"
   ]
  },
  {
   "cell_type": "markdown",
   "metadata": {
    "tags": [
     "exo"
    ]
   },
   "source": [
    "**(Puissances de 16)** Quelles sont les puissances de 16 jusqu'à 3?"
   ]
  },
  {
   "cell_type": "markdown",
   "metadata": {
    "tags": [
     "exo"
    ]
   },
   "source": [
    "**(binaire vers hexadécimal)** Traduire en hexadécimal de longueur 4 $10011010_2$, $10110110_2$, $84_{10}$ et $110011101101101_2$."
   ]
  },
  {
   "cell_type": "markdown",
   "metadata": {
    "tags": [
     "exo"
    ]
   },
   "source": [
    "**(hexadécimal vers binaire vers décimal)** Traduire en binaire puis en décimal $\\text{A3}_{16}$, $\\text{4F}_{16}$, $\\text{100}_{16}$."
   ]
  },
  {
   "cell_type": "markdown",
   "metadata": {},
   "source": [
    "## 2. Encodage des entiers relatifs"
   ]
  },
  {
   "cell_type": "markdown",
   "metadata": {
    "tags": [
     "exo"
    ]
   },
   "source": [
    "**(entier relatif)** Qu'est ce qu'un entier relatif?"
   ]
  },
  {
   "cell_type": "markdown",
   "metadata": {
    "tags": [
     "exo"
    ]
   },
   "source": [
    "**(entier relatif vers binaire)** Représenter en binaire sur 1 octet : $6$ et $-4$."
   ]
  },
  {
   "cell_type": "markdown",
   "metadata": {
    "tags": [
     "exo"
    ]
   },
   "source": [
    "**(entier relatif vers binaire)** Représenter en binaire sur 2 octet : $-60$ et $-666$."
   ]
  },
  {
   "cell_type": "markdown",
   "metadata": {
    "tags": [
     "exo"
    ]
   },
   "source": [
    "**(binaire vers entier relatif)** Convertir en écriture décimale les entiers relatifs codés sur 8 bits suivants : $100100_2$, $11010001_2$ et $11101010$."
   ]
  },
  {
   "cell_type": "markdown",
   "metadata": {},
   "source": [
    "## 3. Encodage de textes"
   ]
  },
  {
   "cell_type": "markdown",
   "metadata": {},
   "source": [
    "![](img-ascii.png)"
   ]
  },
  {
   "cell_type": "markdown",
   "metadata": {
    "tags": [
     "exo"
    ]
   },
   "source": [
    "**(Code ASCII)** Quelle est la représentation en **décimal** du caractère `g` ? en **binaire** ? \n",
    "\n",
    "Quelle sont celles de la caractère Q ?\n",
    "Comment représenter le caractère `€` ?"
   ]
  },
  {
   "cell_type": "markdown",
   "metadata": {
    "tags": [
     "exo"
    ]
   },
   "source": [
    "**(Point de code)**\n",
    "Point de code ? Tailles possibles ? "
   ]
  },
  {
   "cell_type": "markdown",
   "metadata": {
    "tags": [
     "exo"
    ]
   },
   "source": [
    "**(Méthode UTF-8)** \n",
    "4 cas possibles pour l'encodage UTF-8?"
   ]
  },
  {
   "cell_type": "markdown",
   "metadata": {
    "tags": [
     "exo"
    ]
   },
   "source": [
    "\\begin{tabular}{|c|r|r|}\\hline\n",
    "    caractère\n",
    "    & \\textbf{point de code} \n",
    "    & \\textbf{UTF-8}\n",
    "    \\\\ \\hline\n",
    "    \\includegraphics[height=1em, valign=c]{./img-unicode-myanmar}\n",
    "    & \\texttt{0000 0001 0000 0010 0100}\n",
    "    & \\texttt{}\n",
    "    \\\\ \\hline\n",
    "    N  \n",
    "    & \\texttt{0000 0000 0000 0100 1110}\n",
    "    & \\texttt{}\n",
    "    \\\\ \\hline\n",
    "    ş \n",
    "    & \\texttt{}\n",
    "    & \\small \\texttt{1100 0101 1001 1111}\n",
    "    \\\\ \\hline\n",
    "    \\includegraphics[height=1em, valign=c]{./img-unicode-tetragram}\n",
    "    & \\texttt{0001 1101 0011 0011 1101}\n",
    "    & \\texttt{}\n",
    "    \\\\\\hline\n",
    "\\end{tabular}\n"
   ]
  },
  {
   "cell_type": "markdown",
   "metadata": {
    "tags": [
     "exo"
    ]
   },
   "source": [
    "\\begin{tabular}{|c|c|r|}\\hline\n",
    "    caractère & point de code hexadécimal & point de code binaire \n",
    "    \\\\\\hline\n",
    "    n & 006E$_{16}$ & $110~1110_2$\n",
    "    \\\\\\hline\n",
    "    s & 0073$_{16}$ & $111~0011_2$ \n",
    "    \\\\\\hline\n",
    "    i & $\\text{0069}_{16}$ & $110~1001_2$\n",
    "    \\\\\\hline\n",
    "    $\\includegraphics[valign=c, height=0.7em]{img-unicode-cas2.png}$ \n",
    "    & $\\text{0554}_{16}$ \n",
    "    & $101~0101~0100_2$ \n",
    "    \\\\\\hline\n",
    "    $\\includegraphics[valign=c, height=0.7em]{img-unicode-cas3.png}$ \n",
    "    & $\\text{0E80}_{16}$ \n",
    "    & $1110~1000~0000_2$ \n",
    "    \\\\\\hline\n",
    "    $\\includegraphics[valign=c, height=0.7em]{img-unicode-cas4.png}$ \n",
    "    & $\\text{1036B}_{16}$ \n",
    "    & $1~0000~0011~0110~1011_2$\n",
    "    \\\\\\hline\n",
    "\\end{tabular}"
   ]
  }
 ],
 "metadata": {
  "interpreter": {
   "hash": "916dbcbb3f70747c44a77c7bcd40155683ae19c65e1c03b4aa3499c5328201f1"
  },
  "kernelspec": {
   "display_name": "Python 3.9.2 64-bit",
   "language": "python",
   "name": "python3"
  },
  "language_info": {
   "codemirror_mode": {
    "name": "ipython",
    "version": 3
   },
   "file_extension": ".py",
   "mimetype": "text/x-python",
   "name": "python",
   "nbconvert_exporter": "python",
   "pygments_lexer": "ipython3",
   "version": "3.9.2"
  },
  "latex_metadata": {
   "theme": "machine",
   "title": "Repr. des données - Act. partage"
  },
  "orig_nbformat": 4
 },
 "nbformat": 4,
 "nbformat_minor": 2
}
