{
 "cells": [
  {
   "cell_type": "markdown",
   "metadata": {},
   "source": [
    "Cette activité de groupe doit être comprise et réalisée en **autonomie**. Chacun de vous doit être capable de faire et d'expliquer les exercices d'applications"
   ]
  },
  {
   "cell_type": "markdown",
   "metadata": {},
   "source": [
    "# Encodage des nombres relatifs"
   ]
  },
  {
   "cell_type": "markdown",
   "metadata": {},
   "source": [
    "## 1. Conversions entier relatif $\\leftrightarrow$ binaire"
   ]
  },
  {
   "cell_type": "markdown",
   "metadata": {},
   "source": [
    "Dans cette activité, nous allons nous intéressé à la représentation réelle en machine des nombres entiers relatifs."
   ]
  },
  {
   "cell_type": "markdown",
   "metadata": {
    "tags": [
     "exo"
    ]
   },
   "source": [
    "Par exemple, le but est de comprendre *comment est représenté dans l'ordinateur le nombre -65*.\n",
    "\n",
    "**Spoil** : sur 8 bits, $-65_{10} = 10111111_2$"
   ]
  },
  {
   "cell_type": "markdown",
   "metadata": {
    "tags": [
     "retenir"
    ]
   },
   "source": [
    "#### Méthode d'*encodage des entiers relatifs*\n",
    "\n",
    "1. la **longueur** en bits d'un binaire relatif est fixée à l'avance\n",
    "2. le **signe** est représenté par le bit de poids fort (le premier bit à gauche) : \n",
    "     * `0` pour un nombre positif ou nul\n",
    "     * `1` pour un nombre négatif\n",
    "3. un entier **positif** : codage classique des entiers naturels\n",
    "4. un entier **négatif** : codage en **complément à deux**"
   ]
  },
  {
   "cell_type": "markdown",
   "metadata": {
    "tags": [
     "retenir"
    ]
   },
   "source": [
    "#### Technique du *Complément à deux* pour déterminer l'opposé d'un entier relatif\n",
    "\n",
    "1. **inverser** les bits \n",
    "2. **additionner** $1$ au résultat"
   ]
  },
  {
   "cell_type": "markdown",
   "metadata": {
    "tags": [
     "solution"
    ]
   },
   "source": [
    "**Comment encoder -65 sur 8 bits ?** \n",
    "\n",
    "(1) on se prépare à utiliser 8 bits donc `-65 = .... ....` \n",
    "\n",
    "(2) -65 est négatif et est l'**opposé de 65**. Appliquons la technique du *complément à deux* sur 65 pour passer du codage binaire de 65 au codage binaire de -65 :\n",
    "$$\\fbox{\\texttt{codage\\_bin}(65)} \\rightarrow \\fbox{\\text{complément à deux}} \\rightarrow \\fbox{\\texttt{codage\\_bin}(-65)}$$\n",
    "\n",
    "Ce qui donne :\n",
    "$$\n",
    "\\overset{65_{10}}{\\fbox{0100~0001$_2$} }\n",
    "\\rightarrow \n",
    "\\overset{\\small\\text{complément à deux}}\n",
    "{\\fbox{\n",
    "    \\begin{minipage}{7cm}\\footnotesize\n",
    "       $\\begin{array}{llrcl}\n",
    "            1. & \\texttt{0100 0001} & & \\rightarrow & \\texttt{1011 1110}\\\\\n",
    "            2. & \\texttt{1011 1110} & \\texttt{+ 1} & = &  \\texttt{1011 1111}\n",
    "        \\end{array}$\n",
    "    \\end{minipage}}}\n",
    "\\rightarrow\n",
    "\\overset{-65_{2}}\n",
    "{\\fbox{1011~1111$_2$}}\n",
    "$$\n",
    "\n",
    "On a donc la réponse attendue (et on peut vérifier avec le bit de poids fort que c'est bien un nombre négatif):\n",
    "$$-65_{10} = 1011 1111_2$$"
   ]
  },
  {
   "cell_type": "markdown",
   "metadata": {},
   "source": [
    "## 2. Exemples"
   ]
  },
  {
   "cell_type": "markdown",
   "metadata": {},
   "source": [
    "Voici quelques exemples à étudier."
   ]
  },
  {
   "cell_type": "markdown",
   "metadata": {
    "tags": [
     "exemple"
    ]
   },
   "source": [
    "Sur **2 octets** : $2021_{10} = 0000~0111~1110~0101_2$ car...\n",
    "\n",
    "comme  $2021$ est positif, on utilise la conversion binaire classique : \n",
    "$$2021 = 1024 + 512 + 256 + 128 + 64 + 32 + 4 + 1$$\n",
    "ce qui donne \n",
    "$$1024 = 2^{10} + 2^9 + 2^8 + 2^7 + 2^6 + 2^2 + 2^0.$$\n",
    "\n",
    "$2021_{10} = 111 1100 0101_2$ et donc sur 16 bits :\n",
    "$$2021_{10} = 0000~0111~1100~0101_2$$"
   ]
  },
  {
   "cell_type": "markdown",
   "metadata": {
    "tags": [
     "exemple"
    ]
   },
   "source": [
    "Sur **2 octets** : $-15_{10} = 1111 1111 1111 0001_2$ car...\n",
    "\n",
    "comme $-15$ est négatif, on va appliquer le *complément à deux* sur le codage binaire du nombre positif $15$ :\n",
    "\n",
    "* codage binaire de 15 sur 16 bits :\n",
    "  1. $15_{10} = 1111_2 = 0000~0000~0000~1111_2$\n",
    "* complément à deux :\n",
    "  2. `0000 0000 0000 1111     → 1111 1111 1111 0000`\n",
    "  3. `1111 1111 1111 0000 + 1 = 1111 1111 1111 0001`\n",
    "\n",
    "Ainsi le codage relatif sur 2 octets devient : `-15 → 1111 1111 1111 0001`"
   ]
  },
  {
   "cell_type": "markdown",
   "metadata": {
    "tags": [
     "exemple"
    ]
   },
   "source": [
    "Sur 2 octets : $1111~1100~1010~1001_2 = -855$ car...\n",
    "\n",
    "`1111 1100 1010 1001` est un nombre négatif puisque son bit de poids fort vaut `1`. Utilisons le **complément à deux** pour déterminer son **opposé** :\n",
    "\n",
    "* complément à deux :\n",
    "  1. `1111 1100 1010 1001     → 0000 0011 0101 0110`\n",
    "  2. `0000 0011 0101 0110 + 1 = 0000 0011 0101 0111`\n",
    "* codage décimal de l'oposé (qui est positif) :\n",
    "  3. $0000~0011~0101~0111_2 = 512_{10} + 256_{10} + 64_{10} + 16_{10} + 4_{10} + 2_{10} + 1_{10} = 855_{10}$\n",
    "\n",
    "Donc $1111~1100~1010~1001_2$ est l'opposé de $855_{10}$. Ainsi :\n",
    "$$1111~1100~1010~1001_2 = -855_{10}.$$"
   ]
  },
  {
   "cell_type": "markdown",
   "metadata": {},
   "source": [
    "## 3. Exercice d'application"
   ]
  },
  {
   "cell_type": "markdown",
   "metadata": {
    "tags": [
     "exo"
    ]
   },
   "source": [
    "Convertir en **binaire relatif sur un octet** les nombres 42 ; -42 ; 0.\n",
    "\n",
    "Convertir en décimal les binaires relatifs codés sur 1 octet : \n",
    "0011 1010 ;  1011 1010 ; 1111 1111."
   ]
  },
  {
   "cell_type": "markdown",
   "metadata": {
    "tags": [
     "exo"
    ]
   },
   "source": [
    "Convertir en **binaire relatif sur deux octet** les nombres -1 ; -2022.\n",
    "\n",
    "Convertir en décimal le binaire relatif codé sur 2 octet 0000 0111 1110 0110."
   ]
  }
 ],
 "metadata": {
  "interpreter": {
   "hash": "916dbcbb3f70747c44a77c7bcd40155683ae19c65e1c03b4aa3499c5328201f1"
  },
  "kernelspec": {
   "display_name": "Python 3.9.2 64-bit",
   "language": "python",
   "name": "python3"
  },
  "language_info": {
   "codemirror_mode": {
    "name": "ipython",
    "version": 3
   },
   "file_extension": ".py",
   "mimetype": "text/x-python",
   "name": "python",
   "nbconvert_exporter": "python",
   "pygments_lexer": "ipython3",
   "version": "3.9.2"
  },
  "latex_metadata": {
   "theme": "machine",
   "title": "Repr. des données - entiers relatifs"
  },
  "orig_nbformat": 4
 },
 "nbformat": 4,
 "nbformat_minor": 2
}
