{
 "cells": [
  {
   "cell_type": "markdown",
   "metadata": {
    "tags": [
     "proposition"
    ]
   },
   "source": [
    "Cette activité de groupe doit être comprise et réalisée en **autonomie**. Chacun de vous doit être capable de faire et d'expliquer les exercices d'applications"
   ]
  },
  {
   "cell_type": "markdown",
   "metadata": {},
   "source": [
    "## 1. Encodage de textes"
   ]
  },
  {
   "cell_type": "markdown",
   "metadata": {},
   "source": [
    "Comment la lettre 'Z' est-elle stockée dans la mémoire de l'ordinateur ? Comment la différencier de la lettre 'A' ?\n",
    "\n",
    "Pour répondre à ces questions, il a fallu créer une **table de conversion** entre un caractère et sa représentation en binaire.\n",
    "\n",
    "\n",
    "Première table utilisée (début 1960) : **ASCII**\n",
    "\n",
    "![](img-ascii.png)\n"
   ]
  },
  {
   "cell_type": "markdown",
   "metadata": {
    "tags": [
     "exo"
    ]
   },
   "source": [
    "Quelle est la représentation en **décimal** du caractère Z ? en **binaire** ? \n",
    "\n",
    "Quelle sont celles de la caractère z ?\n",
    "Comment représenter le caractère `é` ?"
   ]
  },
  {
   "cell_type": "markdown",
   "metadata": {
    "tags": [
     "solution"
    ]
   },
   "source": [
    "`Z` est représenté par le nombre décimal $(90)_{10}$. Ce qui donne en binaire $(1011010)_2$ car $90 = 64 + 16 + 8 + 2 = 2^6 + 2^4 + 2^3 + 2^1$\n",
    "\n",
    "`z` est représenté par le nombre décimal $(122)_{10}$. Ce qui donne en binaire $(1\\textbf{1}11010)_2$ car $122 = 64 + \\textbf{32} + 16 + 8 + 2 = 2^6 + 2^5 + 2^4 + 2^3 + 2^1$\n",
    "\n",
    "Impossible avec la table ASCII. C'est pour cela qu'à la fin des années 1960 ont été introduites d'autres tables (par exemple ISO-8859)."
   ]
  },
  {
   "cell_type": "markdown",
   "metadata": {},
   "source": [
    "## Conversions texte $\\leftrightarrow$ binaire"
   ]
  },
  {
   "cell_type": "markdown",
   "metadata": {
    "tags": [
     "retenir"
    ]
   },
   "source": [
    "La norme Unicode (début 1990) permet une correspondance entre chaque caractère de l'*humanité* utilisé dans le monde (passé et présent) et un nombre entier appelé **point de code**."
   ]
  },
  {
   "cell_type": "markdown",
   "metadata": {},
   "source": [
    "Le point de code d'une taille maximale de 32 bits peut être représenté par des nombres binaires de tailles différentes :\n",
    "\n",
    "* 1 à 4 paquets de taille 8 bits : UTF-8\n",
    "* 1 à 2 paquets de taille 16 bits : UTF-16\n",
    "* 1 paquet de taille 32 bits : UTF-32.\n",
    "\n"
   ]
  },
  {
   "cell_type": "markdown",
   "metadata": {},
   "source": [
    "Dans la suite de ce document, nous allons étudier *uniquement* l'encodage en UTF-8 des caractères suivants :"
   ]
  },
  {
   "cell_type": "markdown",
   "metadata": {},
   "source": [
    "\\begin{tabular}{|r|>{\\raggedleft\\arraybackslash}p{5cm}|>{\\raggedleft\\arraybackslash}p{3.5cm}|r|}\\hline\n",
    "caractère & origine & point de code décimal & point de code binaire \\\\\\hline\n",
    "A & \\includegraphics[height=1em, valign=c]{./img-unicode-emoji} & 65 & 0100 0001 \\\\\\hline\n",
    "Ω & lettre grecque  & 937 & 0011 1010 1001 \\\\\\hline\n",
    "\\includegraphics[height=1em, valign=c]{./img-unicode-kanji} & idéogramme chinois & 25 991 & 0110 0101 1000 0111 \\\\\\hline\n",
    "\\includegraphics[height=1em, valign=c]{./img-unicode-ougaritique} & \\small ougaritique (Syrie) des années -1400 à -1100 & 66 436 & 0001 0000 0011 1000 0100 \\\\ \\hline\n",
    "\\end{tabular}"
   ]
  },
  {
   "cell_type": "markdown",
   "metadata": {},
   "source": [
    "#### Méthode UTF-8\n",
    "\n",
    "4 cas en fonction de la longueur du point de code :"
   ]
  },
  {
   "cell_type": "markdown",
   "metadata": {
    "tags": [
     "retenir"
    ]
   },
   "source": [
    "**Cas 1** : point de code de longueur **7 bits ou moins** :\n",
    "\n",
    "* encodage sur 7 bits identique au point de code\n",
    "* complété par des 0 à gauche pour atteindre une taille de 8 bits (*padding*) \n",
    "\n",
    "\\begin{center}\n",
    "    \\begin{tabular}{|c|c|}\\hline\n",
    "    \\textbf{point de code en binaire} & \\textbf{valeur en UTF-8}\\\\\\hline\n",
    "    \\texttt{0xxx xxxx} & \\texttt{0xxx xxxx} \\\\\\hline\n",
    "    \\end{tabular}\n",
    "\\end{center}"
   ]
  },
  {
   "cell_type": "markdown",
   "metadata": {
    "tags": [
     "retenir"
    ]
   },
   "source": [
    "**Cas 2** : point de code de longueur **8 bits à 11 bits** :\n",
    "\n",
    "* encodage sur 2 × 8 bits\n",
    "* utilisation des préfixes : `110` puis `10`\n",
    "\n",
    "\\begin{center}\n",
    "    \\begin{tabular}{|c|c|}\\hline\n",
    "    \\textbf{point de code en binaire} & \\textbf{valeur en UTF-8}\\\\\\hline\n",
    "    \\texttt{0yyy yyxx xxxx} & \\texttt{110y yyyy 10xx xxxx}\\\\\\hline\n",
    "    \\end{tabular}\n",
    "\\end{center}"
   ]
  },
  {
   "cell_type": "markdown",
   "metadata": {
    "tags": [
     "retenir"
    ]
   },
   "source": [
    "**Cas 3** : point de code de longueur **12 bits à 16 bits** :\n",
    "\n",
    "* encodage sur 3 × 8 bits\n",
    "* utilisation des préfixes : `1110` puis `10` et `10`\n",
    "\n",
    "\\begin{center}\n",
    "    \\begin{tabular}{|c|c|}\\hline\n",
    "    \\textbf{point de code en binaire} & \\textbf{valeur en UTF-8}\\\\\\hline\n",
    "    \\texttt{zzzz yyyy yyxx xxxx} & \\texttt{1110 zzzz 10yy yyyy 10xx xxxx}\\\\\\hline\n",
    "    \\end{tabular}\n",
    "\\end{center}"
   ]
  },
  {
   "cell_type": "markdown",
   "metadata": {
    "tags": [
     "retenir"
    ]
   },
   "source": [
    "**Cas 4** : point de code de longueur **supérieur à 16 bits** :\n",
    "\n",
    "* encodage sur 4 × 8 bits\n",
    "* utilisation des préfixes : `11110` puis `10`,  `10` et `10`\n",
    "\n",
    "\\begin{center}\n",
    "    \\begin{tabular}{|c|c|}\\hline\n",
    "    \\textbf{point de code en binaire} & \\textbf{valeur en UTF-8}\\\\\\hline\n",
    "    \\small \\texttt{000u uuuu zzzz yyyy yyxx xxxx} & \\footnotesize \\texttt{1111 0uuu 10uu zzzz 10yy yyyy 10xx xxxx}\\\\\\hline\n",
    "    \\end{tabular}\n",
    "\\end{center}"
   ]
  },
  {
   "cell_type": "markdown",
   "metadata": {},
   "source": [
    "## 2. Exemples"
   ]
  },
  {
   "cell_type": "markdown",
   "metadata": {},
   "source": [
    "\\begin{tabular}{|c|r|r|p{3cm}|}\\hline\n",
    "    & \\textbf{point de code en binaire} \n",
    "    & \\textbf{valeur en UTF-8}\n",
    "    & \\textbf{remarque}\n",
    "    \\\\ \\hline\n",
    "    A\n",
    "    & \\texttt{0100 0001}\n",
    "    & \\texttt{0100 0001}\n",
    "    & \\small (cas 1) 1×8 bits\n",
    "    \\\\ \\hline\n",
    "    Ω & \\texttt{0011 1010 1001} & \\texttt{1100 1110 1010 1001} \n",
    "    & \\small (cas 2) 2×8 bits \n",
    "    \\\\ \\hline\n",
    "    \\includegraphics[height=1em, valign=c]{./img-unicode-kanji}\n",
    "    & \\small \\texttt{0110 0101 1000 0111}\n",
    "    & \\small \\texttt{1110 0110 1001 0110 1000 0111}\n",
    "    & \\small (cas 3) 3×8 bits\n",
    "    \\\\ \\hline\n",
    "    \\includegraphics[height=1em, valign=c]{./img-unicode-ougaritique}\n",
    "    & \\footnotesize \\texttt{0001 0000 0011 1000 0100}\n",
    "    & \\footnotesize \\texttt{1111 0000 1001 0000 1000 1110 1000 0100}\n",
    "    & \\small (cas 4) 4×8 bits \n",
    "    \\\\\\hline\n",
    "\\end{tabular}"
   ]
  },
  {
   "cell_type": "markdown",
   "metadata": {},
   "source": [
    "#### Remarques\n",
    "\n",
    "UTF-8 est optimisé pour les caractères occidentaux (utilisation de 1 octet) **mais** pas pour les caractères asiatiques (utilisation de 3 octets)."
   ]
  },
  {
   "cell_type": "markdown",
   "metadata": {},
   "source": [
    "## 3. Exercice d'application"
   ]
  },
  {
   "cell_type": "markdown",
   "metadata": {
    "tags": [
     "exo"
    ]
   },
   "source": [
    "Compléter le tableau ci-dessous :\n",
    "\n",
    "\\begin{tabular}{|c|r|r|}\\hline\n",
    "    caractère\n",
    "    & \\textbf{point de code} \n",
    "    & \\textbf{UTF-8}\n",
    "    \\\\ \\hline\n",
    "    \\includegraphics[height=1em, valign=c]{./img-unicode-myanmar}\n",
    "    & \\texttt{0000 0001 0000 0010 0100}\n",
    "    & \\texttt{}\n",
    "    \\\\ \\hline\n",
    "    N  \n",
    "    & \\texttt{0000 0000 0000 0100 1110}\n",
    "    & \\texttt{}\n",
    "    \\\\ \\hline\n",
    "    ş \n",
    "    & \\texttt{}\n",
    "    & \\small \\texttt{1100 0101 1001 1111}\n",
    "    \\\\ \\hline\n",
    "    \\includegraphics[height=1em, valign=c]{./img-unicode-tetragram}\n",
    "    & \\texttt{0001 1101 0011 0011 1101}\n",
    "    & \\texttt{}\n",
    "    \\\\\\hline\n",
    "\\end{tabular}\n"
   ]
  }
 ],
 "metadata": {
  "interpreter": {
   "hash": "916dbcbb3f70747c44a77c7bcd40155683ae19c65e1c03b4aa3499c5328201f1"
  },
  "kernelspec": {
   "display_name": "Python 3.9.2 64-bit",
   "language": "python",
   "name": "python3"
  },
  "language_info": {
   "codemirror_mode": {
    "name": "ipython",
    "version": 3
   },
   "file_extension": ".py",
   "mimetype": "text/x-python",
   "name": "python",
   "nbconvert_exporter": "python",
   "pygments_lexer": "ipython3",
   "version": "3.9.2"
  },
  "latex_metadata": {
   "theme": "machine",
   "title": "Repr. des données - textes"
  },
  "orig_nbformat": 4
 },
 "nbformat": 4,
 "nbformat_minor": 2
}
