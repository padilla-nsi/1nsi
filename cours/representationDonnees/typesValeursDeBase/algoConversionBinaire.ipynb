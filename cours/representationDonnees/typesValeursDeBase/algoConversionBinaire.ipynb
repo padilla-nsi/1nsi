{
 "cells": [
  {
   "cell_type": "markdown",
   "metadata": {},
   "source": [
    "Algorithme de conversion du décimal en binaire\n",
    "\n",
    "définir texte_binaire à la chaîne de caractère vide \"\"\n",
    "répéter 1000 fois:\n",
    "\n",
    "- reste = calcul du reste de la division de nb par 2\n",
    "- quotient = calcul du quotient de la division de nb par 2\n",
    "- texte_binaire = texte_reste écrit à gauche de ce que valait texte_binaire avant\n",
    "- si le quotient vaut 0, on a terminé et donc\n",
    "  - renvoyer texte_binaire (ce qui arrête la boucle)\n",
    "- sinon, il faut recommencer la boucle avec la valeur de nb mise à jour :\n",
    "  - nb = quotient\n",
    "\n",
    "Normalement, le code écrit après la boucle ne doit jamais s'exécuter.\n",
    "\n",
    "\n",
    "En effet, puisqu'à chaque tour de boucle la valeur de nb vaut le nouveau quotient, il arrive forcément un moment où nb vaut 0."
   ]
  }
 ],
 "metadata": {
  "interpreter": {
   "hash": "916dbcbb3f70747c44a77c7bcd40155683ae19c65e1c03b4aa3499c5328201f1"
  },
  "kernelspec": {
   "display_name": "Python 3.9.2 64-bit",
   "language": "python",
   "name": "python3"
  },
  "language_info": {
   "name": "python",
   "version": "3.9.2"
  },
  "orig_nbformat": 4
 },
 "nbformat": 4,
 "nbformat_minor": 2
}
