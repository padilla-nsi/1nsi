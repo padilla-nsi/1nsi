{
 "cells": [
  {
   "cell_type": "markdown",
   "metadata": {},
   "source": [
    "# Recherche dichotomique dans un tableau trié"
   ]
  },
  {
   "cell_type": "markdown",
   "metadata": {},
   "source": [
    "La recherche dichotomique est un procédé classique de recherche **très efficace**.\n",
    "\n",
    "Pour fonctionner, il faut un tableau *préalablement* **trié**."
   ]
  },
  {
   "cell_type": "markdown",
   "metadata": {},
   "source": [
    "![](https://raw.githubusercontent.com/padilla-nsi/1nsi/main/cours/algorithmes/algos_1/dichotomie/res/dichotomie_1.png)"
   ]
  },
  {
   "cell_type": "markdown",
   "metadata": {},
   "source": [
    "Supposons que l'on cherche l'élément `elem` dans le tableau `tab` de taille $n$.\n",
    "\n",
    "Pour implémenter la recherche dichotomique, on va délimiter la **portion** du tableau dans laquelle la recherche est actuellement réduite. Pour cela on utilise deux **indices** : `g` et `d` de sorte que :\n",
    "\n",
    "- tout élément d'indice inférieur à `g` est inférieur à `elem`\n",
    "- tout élément d'indice supérieur à `d` est supérieur à `elem`\n",
    "\n",
    "et donc\n",
    "\n",
    "- si `elem` est dans le tableau, il est forcément entre les indices `g` et `d`.\n",
    "\n"
   ]
  },
  {
   "cell_type": "markdown",
   "metadata": {},
   "source": [
    "Initialement, la recherche se fait dans le tableau en entier et donc on prendra pour commencer :\n",
    "\n",
    "- `g` ← $0$\n",
    "- `d` ← $n-1$"
   ]
  },
  {
   "cell_type": "markdown",
   "metadata": {},
   "source": [
    "Supposons maintenant la situation courante du schéma :"
   ]
  },
  {
   "cell_type": "markdown",
   "metadata": {},
   "source": [
    "![](https://raw.githubusercontent.com/padilla-nsi/1nsi/main/cours/algorithmes/algos_1/dichotomie/res/dichotomie_2.png)"
   ]
  },
  {
   "cell_type": "markdown",
   "metadata": {},
   "source": [
    "La dichotomie se poursuivra **tant que** la portion de recherche n'est pas vide et à chaque tour de boucle, il faudra comparer `elem` avec la valeur médiane de la portion. \n",
    "\n",
    "- Si cette valeur médiane est égale à `elem` alors on renvoie l'indice de cette valeur (le renvoie arrête instantanément la fonction de recherche).\n",
    "- Sinon, on met à jour la portion de recherche en modifiant \n",
    "  - soit `g` : pour chercher dans la portion supérieure à la valeur médiane\n",
    "  - soit `d` : pour chercher dans la portion inférieure à la valeur médiane."
   ]
  }
 ],
 "metadata": {
  "interpreter": {
   "hash": "916dbcbb3f70747c44a77c7bcd40155683ae19c65e1c03b4aa3499c5328201f1"
  },
  "kernelspec": {
   "display_name": "Python 3.9.2 64-bit",
   "language": "python",
   "name": "python3"
  },
  "language_info": {
   "name": "python",
   "version": "3.9.2"
  },
  "orig_nbformat": 4
 },
 "nbformat": 4,
 "nbformat_minor": 2
}
