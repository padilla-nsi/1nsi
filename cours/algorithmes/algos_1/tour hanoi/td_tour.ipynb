{
 "cells": [
  {
   "cell_type": "markdown",
   "metadata": {},
   "source": [
    "Écrire une fonction `hanoi(n)` qui affiche la solution du problème des tours de HanoÏ pour $n$ disques, sous la forme de déplacements élémentaires désignant les trois tiges par les entiers 1, 2 et 3, de la manière suivante:\n",
    "\n",
    "`déplace de 1 vers 3`\n",
    "`déplace de 1 vers 2`\n",
    "\n",
    "Indication: Commencer par une fonction récursive `deplace(a, b, c, k)` qui résout le problème plus général du déplacement de k disques de la tige a vers la tige b en se servant de la tige c comme stockage intermédiaire."
   ]
  },
  {
   "cell_type": "code",
   "execution_count": 4,
   "metadata": {},
   "outputs": [
    {
     "name": "stdout",
     "output_type": "stream",
     "text": [
      "déplace de 1 vers 3\n",
      "déplace de 1 vers 2\n",
      "déplace de 3 vers 2\n",
      "déplace de 1 vers 3\n",
      "déplace de 2 vers 1\n",
      "déplace de 2 vers 3\n",
      "déplace de 1 vers 3\n",
      "déplace de 1 vers 2\n",
      "déplace de 3 vers 2\n",
      "déplace de 3 vers 1\n",
      "déplace de 2 vers 1\n",
      "déplace de 3 vers 2\n",
      "déplace de 1 vers 3\n",
      "déplace de 1 vers 2\n",
      "déplace de 3 vers 2\n"
     ]
    }
   ],
   "source": [
    "def deplace(a, b, c, k):\n",
    "    \"\"\"\n",
    "    déplace k disque de la tige a vers la tige\n",
    "    b en se servant de la tige c comme stockage intermédiaire\n",
    "    \"\"\"\n",
    "    if k == 1:\n",
    "        print(f'déplace de {a} vers {b}')\n",
    "    else:\n",
    "        deplace(a, c, b, k - 1)\n",
    "        print(f'déplace de {a} vers {b}')\n",
    "        deplace(c, b, a, k - 1)\n",
    "\n",
    "\n",
    "def hanoi(n):\n",
    "    \"\"\" déplace n disque de la tige 1 vers la tige 2\"\"\"\n",
    "    deplace(1, 2, 3, n)\n",
    "\n",
    "deplace(1, 2, 3, 4)\n"
   ]
  },
  {
   "cell_type": "markdown",
   "metadata": {},
   "source": [
    "N | nb déplacement\n",
    "-|-\n",
    "1 | 1\n",
    "2 | 3\n",
    "3 | 7\n",
    "4 | 15\n",
    "5 | 31\n",
    "6 |63\n",
    "... | ...\n",
    "\n",
    "Le nombre de déplacement correspond aux nombres de la forme $2^N - 1$.\n",
    "On démontre cela par récurrence sur N.\n",
    "\n",
    "C'est le cas pour $N = 1$.\n",
    "\n",
    "Supposons qu'il faille $2^{N-1} - 1$ déplacements pour $N-1$ tours, alors il y aura $(2^{N-1} - 1) + 1 + (2^{N-1} - 1) = 2^{N} - 1$ déplacements pour $N$ tours.\n"
   ]
  },
  {
   "cell_type": "code",
   "execution_count": 6,
   "metadata": {},
   "outputs": [
    {
     "name": "stdout",
     "output_type": "stream",
     "text": [
      "[5, 3, 2] [1] []\n",
      "[5, 3] [2] [1]\n",
      "[] [2, 1] [5, 3]\n",
      "[5] [3] [2, 1]\n",
      "[2] [5, 1] [3]\n",
      "[] [3, 2] [5, 1]\n",
      "[5] [3, 2, 1] []\n",
      "[] [5] [3, 2, 1]\n",
      "[3, 2] [5, 1] []\n",
      "[3] [2] [5, 1]\n",
      "[5] [2, 1] [3]\n",
      "[] [5, 3] [2, 1]\n",
      "[2] [1] [5, 3]\n",
      "[] [5, 3, 2] [1]\n",
      "[] [5, 3, 2, 1] []\n"
     ]
    }
   ],
   "source": [
    "def deplace(a: list, b: list, c: list, k):\n",
    "    \"\"\"\n",
    "    déplace k disque de la tige a vers la tige\n",
    "    b en se servant de la tige c comme stockage intermédiaire\n",
    "    \"\"\"\n",
    "    if k == 1:\n",
    "        disque = a.pop()\n",
    "        b.append(disque)\n",
    "        print(a, b, c)\n",
    "        return \n",
    "    \n",
    "    deplace(a, c, b, k - 1)\n",
    "    disque = a.pop()\n",
    "    b.append(disque)\n",
    "    print(a, b, c)\n",
    "    deplace(c, b, a, k - 1)\n",
    "\n",
    "a = [5, 3, 2, 1]\n",
    "b = []\n",
    "c = []\n",
    "\n",
    "deplace(a, b, c, 4)"
   ]
  }
 ],
 "metadata": {
  "interpreter": {
   "hash": "767d51c1340bd893661ea55ea3124f6de3c7a262a8b4abca0554b478b1e2ff90"
  },
  "kernelspec": {
   "display_name": "Python 3.9.2 64-bit",
   "language": "python",
   "name": "python3"
  },
  "language_info": {
   "codemirror_mode": {
    "name": "ipython",
    "version": 3
   },
   "file_extension": ".py",
   "mimetype": "text/x-python",
   "name": "python",
   "nbconvert_exporter": "python",
   "pygments_lexer": "ipython3",
   "version": "3.9.2"
  },
  "orig_nbformat": 4
 },
 "nbformat": 4,
 "nbformat_minor": 2
}
