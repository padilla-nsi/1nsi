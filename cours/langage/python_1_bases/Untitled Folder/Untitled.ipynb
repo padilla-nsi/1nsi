{
 "cells": [
  {
   "cell_type": "code",
   "execution_count": 28,
   "id": "emotional-flashing",
   "metadata": {},
   "outputs": [],
   "source": [
    "a=2.0"
   ]
  },
  {
   "cell_type": "code",
   "execution_count": 37,
   "id": "infinite-gardening",
   "metadata": {},
   "outputs": [],
   "source": [
    "a=a*a"
   ]
  },
  {
   "cell_type": "code",
   "execution_count": 38,
   "id": "resistant-security",
   "metadata": {},
   "outputs": [
    {
     "name": "stdout",
     "output_type": "stream",
     "text": [
      "1.3407807929942597e+154\n"
     ]
    }
   ],
   "source": [
    "print(a)"
   ]
  },
  {
   "cell_type": "code",
   "execution_count": 14,
   "id": "discrete-fifteen",
   "metadata": {},
   "outputs": [
    {
     "data": {
      "text/plain": [
       "179769313486231590772930519078902473361797697894230657273430081157732675805500963132708477322407536021120113879871393357658789768814416622492847430639474124377767893424865485276302219601246094119453082952085005768838150682342462881473913110540827237163350510684586298239947245938479716304835356329624224137216"
      ]
     },
     "execution_count": 14,
     "metadata": {},
     "output_type": "execute_result"
    }
   ],
   "source": [
    "a"
   ]
  },
  {
   "cell_type": "code",
   "execution_count": 48,
   "id": "casual-uruguay",
   "metadata": {},
   "outputs": [
    {
     "data": {
      "text/plain": [
       "178"
      ]
     },
     "execution_count": 48,
     "metadata": {},
     "output_type": "execute_result"
    }
   ],
   "source": [
    "int(\"12a\",12)"
   ]
  },
  {
   "cell_type": "code",
   "execution_count": 49,
   "id": "demanding-palace",
   "metadata": {},
   "outputs": [
    {
     "name": "stdout",
     "output_type": "stream",
     "text": [
      "chaine ?12a\n",
      "base ?12\n",
      "178\n"
     ]
    }
   ],
   "source": [
    "chaine = input(\"chaine ?\")\n",
    "base = int(input(\"base ?\"))\n",
    "print(int(chaine, base))"
   ]
  }
 ],
 "metadata": {
  "kernelspec": {
   "display_name": "Python 3",
   "language": "python",
   "name": "python3"
  },
  "language_info": {
   "codemirror_mode": {
    "name": "ipython",
    "version": 3
   },
   "file_extension": ".py",
   "mimetype": "text/x-python",
   "name": "python",
   "nbconvert_exporter": "python",
   "pygments_lexer": "ipython3",
   "version": "3.9.2"
  }
 },
 "nbformat": 4,
 "nbformat_minor": 5
}
