{
 "cells": [
  {
   "cell_type": "markdown",
   "id": "dab8a1e4",
   "metadata": {},
   "source": [
    "## 6 --- Comparaisons, booléens, tests"
   ]
  },
  {
   "cell_type": "markdown",
   "id": "257fd283",
   "metadata": {},
   "source": [
    "### 6.1 Problème : compter les points au mölkky"
   ]
  },
  {
   "cell_type": "markdown",
   "id": "dab4b142",
   "metadata": {
    "tags": [
     "exo"
    ]
   },
   "source": [
    "Au jeu de mölkky, chaque joueur marque à son tour de jeu entre 0 et 12 points, qui viennent s'ajouter à son score précédent. Le premier à atteindre un score de 51 gagne. Mais gare ! Quiconque dépasse le score cible de 51 revient immédiatement à 25 points.\n",
    "\n",
    "Écrire un algorithme demandant un score `\"Entrer le score : \"` et un nombre de points marqués `\"Entrer le gain : \"`, et qui affiche le nouveau score `\"Nouveau score : \"` ou signale une éventuelle victoire `\"Victoire\"`."
   ]
  },
  {
   "cell_type": "markdown",
   "id": "0e1722d0",
   "metadata": {
    "tags": [
     "retenir"
    ]
   },
   "source": [
    "Traiter chacun des cas de l'activité est facile. Pour traiter ces trois cas *simultanément*, il faut utiliser les instructions de **branchement** de ce chapitre. \n",
    "\n",
    "En pseudo-code, on écrira `si ... sinon si ... sinon`, ce qui donnera dans le langage Python : `if ... elif ... else`."
   ]
  },
  {
   "cell_type": "markdown",
   "id": "3a82f9c3",
   "metadata": {},
   "source": [
    "### 6.2 Conditions et branchements\n",
    "\n",
    "L'instruction conditionnelle `si` permet de soumettre l'exécution d'un bloc à une condition :\n",
    "\n",
    "    si n > 0 :\n",
    "        afficher \"le nombre\" n \"est positif.\"\n",
    "\n",
    "\n",
    "Pour l'implémentation de cet algorithme en Python, il faut utiliser le mot-clé `if` suivi d'une **condition** puis terminée par le symbole `:`.\n",
    "\n",
    "Ce qui donne :\n",
    "\n",
    "```python\n",
    "if n > 0:\n",
    "    print(\"le nombre\", n, \"est positif.\")\n",
    "```\n"
   ]
  },
  {
   "cell_type": "markdown",
   "id": "98db5330",
   "metadata": {},
   "source": [
    "#### Les conditions\n",
    "\n",
    "Les conditions peuvent être exprimées en terme de **comparaisons numériques** entre deux expressions :\n",
    "\n",
    "|opérateur Python|rôle|\n",
    "|:-:|:-:|\n",
    "|`>`| plus grand que $$>$$|\n",
    "|`<`| plus petit que $$<$$|\n",
    "| `>=` | supérieur ou égal $$\\geq$$|\n",
    "| `<=` | inférieur ou égal $$\\leq$$|\n",
    "| `==` | égal à $$=$$|\n",
    "| `!=` | différent de $$\\neq$$ |"
   ]
  },
  {
   "cell_type": "markdown",
   "id": "4b6614a4",
   "metadata": {
    "tags": [
     "remarque"
    ]
   },
   "source": [
    "Attention à ne pas confondre en python les opérateurs `=` et `==`.\n",
    "Le premier est utiliser pour l'affectation de variable et le deuxième pour tester une condition. **Ce qui n'a RIEN à voir !**\n",
    "\n",
    "Il n'y a pas ce problème lorsqu'on écrit des algorithmes en **pseudo-code** car l'affectation est notée $\\leftarrow$ et le test de condition $=$.\n",
    "\n",
    "Par exemple, affecter à la variable `age` la valeur `85` s'écrit :\n",
    "\n",
    "| pseudo-code | $age \\leftarrow 85$ |\n",
    "|-|-|\n",
    "|  Python  | `age = 85` |\n",
    "\n",
    "De même tester si la variable `age` vaut la valeur `80` s'écrit :\n",
    "\n",
    "| pseudo-code |  $age = 80$ |\n",
    "|-|-|\n",
    "|  Python  | `age == 80` |"
   ]
  },
  {
   "cell_type": "markdown",
   "id": "5ab34bbf",
   "metadata": {},
   "source": [
    "#### Bloc alternatif"
   ]
  },
  {
   "cell_type": "markdown",
   "id": "a99b634f",
   "metadata": {
    "tags": [
     "proposition"
    ]
   },
   "source": [
    "En plus d'un bloc à n'exécuter que lorsque sa condition est vérifiée, une instruction `si` peut contenir un bloc alternatif : **à n'excuter que dans le cas contraire**.\n",
    "\n",
    "Ce bloc alternatif s'écrit avec le mot-clé `sinon`.\n",
    "\n",
    "On dit alors que l'instruction complète est constituée de deux branches, dont une seule sera choisie lors de l'exécution.\n",
    "\n"
   ]
  },
  {
   "cell_type": "markdown",
   "id": "c39dca88",
   "metadata": {
    "tags": [
     "exemple"
    ]
   },
   "source": [
    "**Pseudo-code**\n",
    "\n",
    "    si n > 0 :\n",
    "        afficher \"Positif\"\n",
    "    sinon :\n",
    "        afficher \"Négatif ou nul\"\n",
    "\n",
    "En langage Python, l'instruction `sinon` est traduit par le mot-clé `else` suivi du symbole `:`.\n",
    "\n",
    "**Python**\n",
    "\n",
    "```python\n",
    "if n > 0:\n",
    "    print(\"Positif\")\n",
    "else:\n",
    "    print(\"Négatif ou nul\")\n",
    "```"
   ]
  },
  {
   "cell_type": "markdown",
   "id": "1c14e02f",
   "metadata": {},
   "source": [
    "![diagramme](res/branche02.png)"
   ]
  },
  {
   "cell_type": "markdown",
   "id": "fd09c23b",
   "metadata": {},
   "source": [
    "#### Trois branches ou plus"
   ]
  },
  {
   "cell_type": "markdown",
   "id": "ef906bca",
   "metadata": {},
   "source": [
    "Enfin, il est possible d'introduire trois branches ou plus. Après un premier test avec le mot-clé `si`, chaque branche suivante peut être ajoutée avec **sa propre condition**.\n",
    "\n",
    "Pour cela on utilise en pseudo-code le mot clé `sinon si` qui est traduit en Python par `elif`.\n",
    "\n",
    "Ce mot-clé est suivi d'une condition terminée par le symbole `:`.\n"
   ]
  },
  {
   "cell_type": "markdown",
   "id": "b362a803",
   "metadata": {
    "tags": [
     "exemple"
    ]
   },
   "source": [
    "\n",
    "**Pseudo-code**\n",
    "\n",
    "    si n < 0:\n",
    "        afficher \"Négatif\"\n",
    "    sinon si n = 0:\n",
    "        afficher \"Nul\"\n",
    "    sinon si n <= 2:\n",
    "        afficher \"Petit\"\n",
    "    sinon:\n",
    "        afficher \"Grand\"\n",
    "\n",
    "**Python**\n",
    "\n",
    "```python\n",
    "if n < 0:\n",
    "    print(\"Négatif\")\n",
    "elif n == 0:\n",
    "    print(\"Nul\")\n",
    "elif n <= 2:\n",
    "    print(\"Petit\")\n",
    "else:\n",
    "    print(\"Grand\")\n",
    "```"
   ]
  },
  {
   "cell_type": "markdown",
   "id": "7693936e",
   "metadata": {},
   "source": [
    "![Diagramme](./res/branche01.png)"
   ]
  },
  {
   "cell_type": "markdown",
   "id": "994dc4dd",
   "metadata": {
    "tags": [
     "remarque"
    ]
   },
   "source": [
    "Remarquez bien que l'**ordre** dans lequel apparaissent les conditions est important."
   ]
  },
  {
   "cell_type": "markdown",
   "id": "7c78792a",
   "metadata": {
    "tags": [
     "remarque"
    ]
   },
   "source": [
    "Les opérateur de comparaison (tout comme on l'a vu `+` et `*`) s'utilisent **aussi** avec **autre chose** que les nombres !\n",
    "\n",
    "Python compare les chaînes en fonction de l'**ordre lexicographique**. \n",
    "\n",
    "Exemples :\n",
    "\n",
    "- `\"abcd\" < \"b\"` est une condition qui est `Vrai` \n",
    "- `\"123\" < \"13\"` est une condition qui est `Vrai`\n",
    "- attention aux majuscules : `\"Z\" < \"a\"` est `Vrai`\n",
    "- attention aux accents : `\"wagon\" < \"été\"` est `Vrai`"
   ]
  },
  {
   "cell_type": "markdown",
   "id": "b357aa79",
   "metadata": {
    "tags": [
     "retenir"
    ]
   },
   "source": [
    "Attention, on ne peut pas comparer une **chaîne de caractère** et un nombre **entier** ou un **flottant**."
   ]
  },
  {
   "cell_type": "markdown",
   "id": "79a6a605",
   "metadata": {
    "tags": [
     "exo"
    ]
   },
   "source": [
    "Au bowling, on a deux chances pour faire tomber un total de dix quilles. Écrire un algorithme qui demande le nombre de quilles renversées avec chacune des deux boules et affiche `\"X\"` si toutes les quilles sont tombées à la première boule, `\"/\"` si toutes les quilles sont tombées, et sinon le nombre de quille renversées.\n",
    "\n",
    " \n",
    "\n",
    "Exemples :\n",
    "\n",
    "    >>> Score première boule : 2\n",
    "    >>> Score deuxième boule : 3\n",
    "    5\n",
    "\n",
    "    >>> Score première boule : 7\n",
    "    >>> Score deuxième boule : 3\n",
    "    /\n",
    "\n",
    "    >>> Score première boule : 10\n",
    "    >>> Score deuxième boule : 0\n",
    "    X\n",
    "\n"
   ]
  },
  {
   "cell_type": "markdown",
   "id": "65d74ff1",
   "metadata": {},
   "source": [
    "### 6.3 Expressions booléennes"
   ]
  },
  {
   "cell_type": "markdown",
   "id": "887dcb13",
   "metadata": {},
   "source": [
    "Les *conditions* sont des expressions algorithmique ordinaire qui produisent un résultat.\n",
    "On les appelle des **expressions booléennes**.\n",
    "\n",
    "Une expression booléenne admet deux résultats possibles :\n",
    "\n",
    "| pseudo-code | `vrai` ou `faux` |\n",
    "|-|-|\n",
    "| Python | `True` ou `False` |\n",
    "\n"
   ]
  },
  {
   "cell_type": "markdown",
   "id": "aab8500f",
   "metadata": {
    "tags": [
     "exemple"
    ]
   },
   "source": [
    "Par exemple, l'expression booléenne $10 < 5$ est évaluée par l'algorithme et produit le résultat `faux`. \n",
    "\n",
    "Ainsi les deux pseudo-code suivant sont équivalent et n'affichent jamais rien : \n",
    "\n",
    "    # algo 1\n",
    "    si 10 < 5:\n",
    "        afficher \"jamais\"\n",
    "        \n",
    "    # algo 2\n",
    "    si faux:\n",
    "        afficher \"jamais\""
   ]
  },
  {
   "cell_type": "markdown",
   "id": "ef570fc2",
   "metadata": {
    "tags": [
     "retenir"
    ]
   },
   "source": [
    "Il est possible de faire des opérations avec les expressions booléennes grâce à trois **opérateurs** :\n",
    "\n",
    "- `et`, appelé la *conjonction*\n",
    "- `ou`, appelé la *disjonction*\n",
    "- `non`, appelé la *négation*\n",
    "\n"
   ]
  },
  {
   "cell_type": "markdown",
   "id": "83b524b4",
   "metadata": {
    "tags": [
     "exemple"
    ]
   },
   "source": [
    "Par exemple, prenons deux expressions booléennes $e_1$ et $e_2$, alors :\n",
    "\n",
    "| $\\big( e_1 \\texttt{ et } e_2 \\big)$ est une expression booléenne `vraie` | si et seulement si $e_1$ est `vraie` et $e_2$ est `vraie` |\n",
    "|-|-|\n",
    "| $\\big( e_1 \\texttt{ ou } e_2 \\big)$ est une expression booléenne `vraie` | si et seulement si $e_1$ est `vraie` ou $e_2$ est `vraie` |\n",
    "| $\\big( \\texttt{non } e_1 \\big)$ est une expression booléenne `vraie` | si et seulement si $e_1$ est `fausse` |\n"
   ]
  },
  {
   "cell_type": "markdown",
   "id": "f8f3d8b1",
   "metadata": {},
   "source": [
    "Les opérateur booléens permettent donc de combiner plusieurs tests de comparaison et d'égalité **en une seule expression**.\n",
    "\n"
   ]
  },
  {
   "cell_type": "markdown",
   "id": "b87a6146",
   "metadata": {
    "tags": [
     "exemple"
    ]
   },
   "source": [
    "Par exemple l'algorithme suivant compare les coordonnées `(xa, ya)` et `xb, yb)` de deux points $x$ et $y$ et affiche des informations sur leurs positions relatives.\n",
    "\n",
    "$$\n",
    "\\begin{array}{ll}\n",
    "\\text{si $x_a = x_b$ et $y_a = y_b$ :} \\\\\n",
    "\\qquad\\text{afficher \"points confondus\"} \\\\\n",
    "\\text{sinon si $x_a = x_b$ ou $y_a = y_b$ :} \\\\\n",
    "\\qquad \\text{afficher \"points alignés horizontalement ou verticalement\"}\\\\\n",
    "\\text{sinon :}\\\\\n",
    "\\qquad\\text{afficher \"points indépendants\"}\n",
    "\\end{array}\n",
    "$$\n",
    "\n",
    "ce qui se traduit en Python par :\n",
    "\n",
    "```python\n",
    "if xa == xb and ya == yb:\n",
    "    print(\"points confondus\")\n",
    "elif xa == xb or ya == yb:\n",
    "    print(\"points alignés horizontalement ou verticalement\")\n",
    "else:\n",
    "    print(\"points indépendants)\n",
    "```"
   ]
  },
  {
   "cell_type": "markdown",
   "id": "6074553d",
   "metadata": {
    "tags": [
     "remarque"
    ]
   },
   "source": [
    "**Priorité des opérateurs booléens**  Comme pour les expressions arithmétiques, on a établit des conventions de priorité :\n",
    "\n",
    "la négation est **plus prioritaire que** la conjonction qui est **plus prioritaire que** la disjonction.\n",
    "\n",
    "L'expression $$\\text{$a$ ou non $b$ et $c$}$$ doit être comprise comme $$\\text{$a$ ou $\\big(($non $b$) et c$\\big)$ .}$$\n",
    "\n",
    "Mais, **il ne faut pas hésiter à mettre des parenthèses** pour faciliter la lecture !"
   ]
  },
  {
   "cell_type": "markdown",
   "id": "651791ec",
   "metadata": {
    "tags": [
     "remarque"
    ]
   },
   "source": [
    "**Paresse des opérateurs booléens en Python** \n",
    "\n",
    "**conjonction :** L'expression booléenne  `e1 and e2` n'est vraie que si `e1` est vraie et `e2` est vraie. Ainsi, **il suffit que** `e1` soit fausse pour que l'expression complète soit fausse, et ceci, sans même avoir à évaluer l'expression `e2` ! \n",
    "\n",
    "Et c'est exactement ce que fait l'interprète Python : il tente d'éviter d'évaluer une expression si le résultat final est déjà connu. Dans notre exemple, l'interprète fonctionne ainsi :\n",
    "\n",
    "1. évaluer `e1`\n",
    "2. si `e1` est `faux` alors la conjonction vaut `faux`\n",
    "3. sinon, évaluer `e2` (et la conjonction à la même valeur que `e2`)"
   ]
  },
  {
   "cell_type": "markdown",
   "id": "90a11357",
   "metadata": {
    "tags": [
     "exemple"
    ]
   },
   "source": [
    "Par exemple, imaginons un algorithme qui indique si un nombre $a$ est divisible par un nombre $b$. Cette situation est caractérisée par le fait que $a$ vaut $0$ ou que le reste de la division de $a$ par $b$ vaut $0$. Le reste s'obtient grâce à l'opérateur $a \\text{ mod } b$ (appelé *modulo* et qui se calcule en Python en écrivant `a % b`)\n",
    "\n",
    "Cependant, l'opérateur *modulo* n'a pas de sens si $b$ vaut $0$ (car on ne peut pas, mais **vraiment pas** diviser par $0$ !!!!), ce qui déclenche une erreur en Python.\n",
    "\n",
    "Ainsi, la condition complète pour savoir si $a$ est divisible par $b$ sera donc :\n",
    "\n",
    "- soit $a = 0$ ;\n",
    "- soit $b \\neq 0$ **et** $a \\text{ mod } b = 0$\n",
    "\n",
    "En l'écrivant ainsi dans un programme en Python, l'évaluation paresseuse du **et** évite l'évaluation problématique de $a \\text{ mod } b$ lorsque $b$ vaut 0.\n",
    "\n",
    "Algorithme correct :\n",
    "\n",
    "$$\n",
    "\\begin{array}{ll}\n",
    "\\text{si $a=0$ ou $\\big( b \\neq 0$ et $a$ mod $b = 0 \\big):$}\\\\\n",
    "\\qquad \\text{afficher \"divisible\"}\\\\\n",
    "\\text{sinon:}\\\\\n",
    "\\qquad \\text{afficher \"pas divisible\"}\n",
    "\\end{array}\n",
    "$$\n",
    "\n",
    "Algorithme incorrect qui engendre une erreur en Python lorsque $b=0$:\n",
    "\n",
    "$$\n",
    "\\begin{array}{ll}\n",
    "\\text{si $a=0$ ou $\\big( a$ mod $b = 0$ et $b \\neq 0\\big)$}\\\\\n",
    "\\qquad \\text{afficher \"divisible\"}\\\\\n",
    "\\text{sinon:}\\\\\n",
    "\\qquad \\text{afficher \"pas divisible\"}\n",
    "\\end{array}\n",
    "$$"
   ]
  },
  {
   "cell_type": "markdown",
   "id": "4f94b913",
   "metadata": {
    "tags": [
     "exo"
    ]
   },
   "source": [
    "Implémenter un programme qui demande deux nombres à l'utilisateur et affiche `\"divisible\"` si le premier est divisble par le second et qui affiche `\"pas divisible\"` sinon."
   ]
  }
 ],
 "metadata": {
  "celltoolbar": "Tags",
  "interpreter": {
   "hash": "916dbcbb3f70747c44a77c7bcd40155683ae19c65e1c03b4aa3499c5328201f1"
  },
  "kernelspec": {
   "display_name": "Python 3",
   "language": "python",
   "name": "python3"
  },
  "language_info": {
   "codemirror_mode": {
    "name": "ipython",
    "version": 3
   },
   "file_extension": ".py",
   "mimetype": "text/x-python",
   "name": "python",
   "nbconvert_exporter": "python",
   "pygments_lexer": "ipython3",
   "version": "3.9.2"
  },
  "latex_metadata": {
   "theme": "langage",
   "title": "2 --- Programmer en Python"
  },
  "rise": {
   "theme": "serif"
  }
 },
 "nbformat": 4,
 "nbformat_minor": 5
}
