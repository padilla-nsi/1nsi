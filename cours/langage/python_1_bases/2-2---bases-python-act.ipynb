{
 "cells": [
  {
   "cell_type": "markdown",
   "id": "alternate-grammar",
   "metadata": {},
   "source": [
    "## 3 --- Exercices\n",
    "\n"
   ]
  },
  {
   "cell_type": "markdown",
   "id": "medical-floating",
   "metadata": {
    "tags": [
     "exo"
    ]
   },
   "source": [
    "**Observer** les résultats obtenus par l'expression `5 - 3 - 2` et par l'expression `1 / 2 / 2`.\n",
    "\n",
    "**En déduire** la manière dont sont interprétées les soustractions et les divisions enchaînées."
   ]
  },
  {
   "cell_type": "markdown",
   "id": "indonesian-worse",
   "metadata": {
    "tags": [
     "exo"
    ]
   },
   "source": [
    "**Réécrire** les expressions suivantes en explicitant toutes les parenthèses :\n",
    "\n",
    "1. `1 + 2 * 3 - 4`\n",
    "2. `1+2 / 4*3`\n",
    "3. `1-a+a*a/2-a*a*a/6+a*a*a*a/24`"
   ]
  },
  {
   "cell_type": "markdown",
   "id": "helpful-central",
   "metadata": {
    "tags": [
     "solution"
    ]
   },
   "source": [
    "1. `(1 + (2*3)) - 4`\n",
    "2. `1 + ((2/4)*3)`\n",
    "3. `(((1 - a) + ((a*a)/2)) - ((a*a*a)/6)) + ((a*a*a*a)/24)`"
   ]
  },
  {
   "cell_type": "markdown",
   "id": "young-headline",
   "metadata": {
    "tags": [
     "exo"
    ]
   },
   "source": [
    "**Réécrire** les expressions suivantes en utilisant aussi peu de parenthèses que possible sans changer le résultat.\n",
    "\n",
    "1. `1+(2*(3-4))`\n",
    "2. `(1+2)+((5*3)+4)`\n",
    "3. `(1-((2-3)+4))+(((5-6)+((7-8)/2)))`"
   ]
  },
  {
   "cell_type": "markdown",
   "id": "acting-latino",
   "metadata": {
    "tags": [
     "solution"
    ]
   },
   "source": [
    "1. `1 + 2 * (3 - 4)`\n",
    "2. `1 + 2 + 5*3 + 4`\n",
    "3. `1 - (2 - 3 + 4) + 5 - 6 + (7-8)/2`"
   ]
  },
  {
   "cell_type": "markdown",
   "id": "elder-joseph",
   "metadata": {
    "tags": [
     "exo"
    ]
   },
   "source": [
    "**Déterminer** la valeur affichée par l'interprète Python après la séquence d'instructions suivante :\n",
    "\n",
    "```python\n",
    "a = 3\n",
    "a = 4\n",
    "a = a+2\n",
    "a\n",
    "```"
   ]
  },
  {
   "cell_type": "markdown",
   "id": "waiting-utilization",
   "metadata": {
    "tags": [
     "solution"
    ]
   },
   "source": [
    "Après ces instruction, l'interprète affiche `6`. Voici les états ligne par ligne :\n",
    "\n",
    "$$\n",
    "\\overset{\\text{\\#1}}\\longrightarrow\n",
    "\\overset{\\texttt{a}}{\\fbox{\\texttt{3}}}\n",
    "\\overset{\\text{\\#2}}\\longrightarrow\n",
    "\\overset{\\texttt{a}}{\\fbox{\\texttt{4}}}\n",
    "\\overset{\\text{\\#3}}\\longrightarrow\n",
    "\\overset{\\texttt{a}}{\\fbox{\\texttt{6}}}\n",
    "$$\n"
   ]
  },
  {
   "cell_type": "markdown",
   "id": "aware-amount",
   "metadata": {
    "tags": [
     "exo"
    ]
   },
   "source": [
    "**Déterminer** la valeur affichée par l'interprète Python après la séquence d'instructions suivante :\n",
    "\n",
    "```python\n",
    "a = 2\n",
    "b = a*a\n",
    "b = a*b\n",
    "b = b*b\n",
    "b\n",
    "```"
   ]
  },
  {
   "cell_type": "markdown",
   "id": "advance-parish",
   "metadata": {
    "tags": [
     "solution"
    ]
   },
   "source": [
    "L'interprète affiche la valeur de la variable `b`, soit `64`. Voici les états successifs de l'interprète :\n",
    "\n",
    "$$\n",
    "\\overset{\\text{\\#1}}\\longrightarrow\n",
    "\\overset{\\texttt{a}}{\\fbox{\\texttt{2}}}\n",
    "\\overset{\\text{\\#2}}\\longrightarrow\n",
    "\\overset{\\texttt{a}}{\\fbox{\\texttt{2}}}\n",
    "\\overset{\\texttt{b}}{\\fbox{\\texttt{4}}}\n",
    "\\overset{\\text{\\#3}}\\longrightarrow\n",
    "\\overset{\\texttt{a}}{\\fbox{\\texttt{2}}}\n",
    "\\overset{\\texttt{b}}{\\fbox{\\texttt{8}}}\n",
    "\\overset{\\text{\\#4}}\\longrightarrow\n",
    "\\overset{\\texttt{a}}{\\fbox{\\texttt{2}}}\n",
    "\\overset{\\texttt{b}}{\\fbox{\\texttt{64}}}\n",
    "$$\n"
   ]
  },
  {
   "cell_type": "markdown",
   "id": "sized-permission",
   "metadata": {
    "tags": [
     "exo"
    ]
   },
   "source": [
    "Dans un notebook, **initialiser** une variable `a` avec la valeur 2, puis **répéter** dix fois l'instruction `a = a * a`.\n",
    "\n",
    "**Observer** le résultat. Quelle puissance de 2 a-t-on ainsi calculé ?\n",
    "\n",
    "**Recommencer** en affectant cette fois-ci la valeur `2.0` à la variable `a`. **Observer** puis **interpréter** le résultat."
   ]
  },
  {
   "cell_type": "markdown",
   "id": "strong-iceland",
   "metadata": {
    "tags": [
     "solution"
    ]
   },
   "source": [
    "En procédant ainsi l'interprète a calculé $2^{1024}$.\n",
    "\n",
    "En affectant `2.0` à la variable `a`, on obtient `inf` qui signifie *infini* et indique que le nombre flottant n'est pas représentable car il est trop grand.\n",
    "\n"
   ]
  },
  {
   "cell_type": "markdown",
   "id": "cultural-armenia",
   "metadata": {
    "tags": [
     "exo"
    ]
   },
   "source": [
    "**Indiquer** ce qu'affichent les instructions suivantes `print(\"1+\")` et `print(1+)`."
   ]
  },
  {
   "cell_type": "markdown",
   "id": "identified-filling",
   "metadata": {
    "tags": [
     "solution"
    ]
   },
   "source": [
    "Dans le premier cas la chaîne de caractère `1+` est affichée. Dans le second cas, l'expression (addition entre un nombre entier et rien du tout) comporte une erreur de syntaxe. L'exception `SyntaxError` est levée."
   ]
  },
  {
   "cell_type": "markdown",
   "id": "stainless-douglas",
   "metadata": {
    "tags": [
     "exo"
    ]
   },
   "source": [
    "**Indiquer** ce qu'il se passe quand on exécute le code suivant :\n",
    "\n",
    "```python\n",
    "a = input(\"saisir un nombre : \")\n",
    "print(\"le nombre suivant est \", a+1)\n",
    "```\n",
    "\n",
    "**Rectifier** si nécessaire."
   ]
  },
  {
   "cell_type": "markdown",
   "id": "incorporated-hands",
   "metadata": {
    "tags": [
     "solution"
    ]
   },
   "source": [
    "L'expression `a+1` est incorrecte puisqu'elle demande d'effectuer une addition entre `a` qui est une chaîne de caractère et le nombre entier `1`. Cette opération n'est pas définie en Python.\n",
    "\n",
    "Pour corriger ce code, il faut par exemple ajouter dans une ligne intermédiaire le code `a = int(a)`."
   ]
  },
  {
   "cell_type": "markdown",
   "id": "proper-cargo",
   "metadata": {
    "tags": [
     "exo"
    ]
   },
   "source": [
    "**Indiquer** ce que fait la séquence d'instruction suivante en supposant qu'à l'origine les variables `a` et `b` contiennent un nombre entier.\n",
    "\n",
    "```python\n",
    "tmp = a\n",
    "a = b\n",
    "b = tmp\n",
    "```"
   ]
  },
  {
   "cell_type": "markdown",
   "id": "great-cylinder",
   "metadata": {
    "tags": [
     "solution"
    ]
   },
   "source": [
    "Détaillons les états successifs de l'interprète en supposant que la variable `a` contienne la valeur $n_1$ et que la variable `b` contienne la valeur $n_2$.\n",
    "\n",
    "\n",
    "$$\n",
    "\\overset{\\texttt{a}}{\\fbox{$n_1$}}\n",
    "\\overset{\\texttt{b}}{\\fbox{$n_2$}}\n",
    "\\overset{\\text{\\#1}}\\longrightarrow\n",
    "\\overset{\\texttt{a}}{\\fbox{$n_1$}}\n",
    "\\overset{\\texttt{b}}{\\fbox{$n_2$}}\n",
    "\\overset{\\texttt{tmp}}{\\fbox{$n_1$}}\n",
    "\\overset{\\text{\\#2}}\\longrightarrow\n",
    "\\overset{\\texttt{a}}{\\fbox{$n_2$}}\n",
    "\\overset{\\texttt{b}}{\\fbox{$n_2$}}\n",
    "\\overset{\\texttt{tmp}}{\\fbox{$n_1$}}\n",
    "\\overset{\\text{\\#3}}\\longrightarrow\n",
    "\\overset{\\texttt{a}}{\\fbox{$n_2$}}\n",
    "\\overset{\\texttt{b}}{\\fbox{$n_1$}}\n",
    "\\overset{\\texttt{tmp}}{\\fbox{$n_1$}}\n",
    "$$\n",
    "\n",
    "À la fin de l'instruction, les valeurs enregistrées dans les variables `a` et `b` ont été **permutées**."
   ]
  },
  {
   "cell_type": "markdown",
   "id": "optional-revelation",
   "metadata": {
    "tags": [
     "exo"
    ]
   },
   "source": [
    "On met deux entiers dans deux variables `a` et `b`, par exemple 55 et 89. On remplace le contenu de `a` par la somme de celui de `a` et de `b`. Puis on remplace le contenu de `b` par le contenu de `a` moins le contenu de `b`?\n",
    "Enfin on remplace le contenu de `a` par son contenu moins celui de `b`.\n",
    "\n",
    "**Que contiennent** `a` et `b` à la fin de ces opérations ?\n",
    "\n",
    "**Programme** cet algorithme en Python."
   ]
  },
  {
   "cell_type": "markdown",
   "id": "further-electricity",
   "metadata": {
    "tags": [
     "solution"
    ]
   },
   "source": [
    "Notons `va` et `vb` les valeurs initiales des variables `a` et `b`.\n",
    "\n",
    "$$\n",
    "\\overset{\\texttt{a}}{\\fbox{\\texttt{va}}}\n",
    "\\overset{\\texttt{b}}{\\fbox{\\texttt{vb}}}\n",
    "\\longrightarrow\n",
    "\\overset{\\texttt{a}}{\\fbox{\\texttt{va+vb}}}\n",
    "\\overset{\\texttt{b}}{\\fbox{\\texttt{vb}}}\n",
    "\\longrightarrow\n",
    "\\overset{\\texttt{a}}{\\fbox{\\texttt{va+vb}}}\n",
    "\\overset{\\texttt{b}}{\\fbox{\\texttt{va}}}\n",
    "\\longrightarrow\n",
    "\\overset{\\texttt{a}}{\\fbox{\\texttt{vb}}}\n",
    "\\overset{\\texttt{b}}{\\fbox{\\texttt{va}}}\n",
    "$$\n",
    "\n",
    "À la fin de cette séquence d'instructions, les valeurs de `a` et de `b` ont été permutées."
   ]
  },
  {
   "cell_type": "code",
   "execution_count": null,
   "id": "japanese-overview",
   "metadata": {},
   "outputs": [],
   "source": [
    "a = 55\n",
    "b = 89\n",
    "\n",
    "a = a + b\n",
    "b = a - b\n",
    "a = a - b\n",
    "print(\"a vaut\", a, \"et b vaut\", b)"
   ]
  },
  {
   "cell_type": "markdown",
   "id": "inside-trading",
   "metadata": {
    "tags": [
     "exo"
    ]
   },
   "source": [
    "**Écrire** un programme qui demande à l'utilisateur les longueurs (entières) des deux côtés d'un rectangle et affiche son aire."
   ]
  },
  {
   "cell_type": "code",
   "execution_count": null,
   "id": "aerial-quantum",
   "metadata": {},
   "outputs": [],
   "source": [
    "texte_l1 = input(\"Saisir la longueur du premier côté :\")\n",
    "texte_l2 = input(\"Saisir la longueur du second  côté :\")\n",
    "l1 = int(texte_l1)\n",
    "l2 = int(texte_l2)\n",
    "aire = l1 * l2\n",
    "print(\"L'aire du rectangle vaut\", aire)"
   ]
  },
  {
   "cell_type": "markdown",
   "id": "polar-tuner",
   "metadata": {
    "tags": [
     "exo"
    ]
   },
   "source": [
    "**Écrire** un programme qui demande d'entrer une base (entre 2 et 36) et un nombre dans cette base et qui affiche ce nombre en base 10.\n",
    "\n",
    "La notation `int(chaine, base)` permet de convertir une `chaîne` représentant un entier dans une `base` donnée en un entier Python."
   ]
  },
  {
   "cell_type": "code",
   "execution_count": null,
   "id": "supposed-jenny",
   "metadata": {},
   "outputs": [],
   "source": [
    "txt_base = input(\"Saisir la base :\")\n",
    "txt_nb   = input(\"Saisir le nombre :\")\n",
    "base = int(txt_base)\n",
    "nb = int(txt_nb, base)\n",
    "print(\"le nombre\",txt_nb,\"écrit en base\",\n",
    "     txt_base,\"s'écrit en base 10 :\", nb)"
   ]
  },
  {
   "cell_type": "markdown",
   "id": "greater-access",
   "metadata": {
    "tags": [
     "exo"
    ]
   },
   "source": [
    "**Écrire** un programme qui demande à l'utilisateur d'entrer un nombre de secondes et qui l'affiche sous la forme d'heures/minutes/secondes."
   ]
  },
  {
   "cell_type": "code",
   "execution_count": null,
   "id": "alike-canal",
   "metadata": {},
   "outputs": [],
   "source": [
    "txt_seconde = input(\"Saisir un nombre de secondes :\")\n",
    "seconde = int(txt_seconde)\n",
    "minute = seconde // 60\n",
    "seconde = seconde % 60\n",
    "\n",
    "heure = minute // 60\n",
    "minute = minute % 60\n",
    "\n",
    "print(heure,\"h\", minute,\"min\", seconde,\"s\")"
   ]
  },
  {
   "cell_type": "markdown",
   "id": "corresponding-nurse",
   "metadata": {
    "tags": [
     "exo"
    ]
   },
   "source": [
    "On  souhaite écrire un programme qui demande à l'utilisateur un nombre d'œufs et affiche le nombre de boîtes de 6 œufs nécessaires à leur transport. On considère ce programme qui utilise la division euclidienne.\n",
    "\n",
    "```python\n",
    "n = int(input(\"combien d'œufs : \"))\n",
    "print(n//6)\n",
    "```\n",
    "\n",
    "**Tester** ce programme sur différentes entrées.\n",
    "\n",
    "1. Sur quelles valeurs de `n` ce programme est-il correct ?\n",
    "2. Pourquoi n'est-il pas correct de remplacer `n // 6` par `n // 6 + 1` ?\n",
    "3. Proposer une solution correcte."
   ]
  },
  {
   "cell_type": "markdown",
   "id": "perceived-shirt",
   "metadata": {
    "tags": [
     "solution"
    ]
   },
   "source": [
    "1. Ce programme n'est correct que pour les nombres `n` multiples de 6.\n",
    "2. Avec la modification proposée, le programme est correct pour les valeurs qui ne sont pas multiples de 6, mais est devenu incorrect pour les valeurs multiples de 6.\n",
    "3. Un programme correct est :\n",
    "\n",
    "```python\n",
    "n = int(input(\"combien d'œufs : \"))\n",
    "print((n+5) // 6)\n",
    "```"
   ]
  }
 ],
 "metadata": {
  "celltoolbar": "Tags",
  "interpreter": {
   "hash": "916dbcbb3f70747c44a77c7bcd40155683ae19c65e1c03b4aa3499c5328201f1"
  },
  "kernelspec": {
   "display_name": "Python 3",
   "language": "python",
   "name": "python3"
  },
  "language_info": {
   "codemirror_mode": {
    "name": "ipython",
    "version": 3
   },
   "file_extension": ".py",
   "mimetype": "text/x-python",
   "name": "python",
   "nbconvert_exporter": "python",
   "pygments_lexer": "ipython3",
   "version": "3.9.2"
  },
  "latex_metadata": {
   "theme": "langage",
   "title": "2 --- Programmer en Python"
  },
  "rise": {
   "theme": "serif"
  }
 },
 "nbformat": 4,
 "nbformat_minor": 5
}
