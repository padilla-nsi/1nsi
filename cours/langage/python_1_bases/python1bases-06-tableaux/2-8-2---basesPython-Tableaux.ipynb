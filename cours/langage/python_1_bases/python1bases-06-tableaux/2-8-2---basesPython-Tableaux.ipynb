{
 "cells": [
  {
   "cell_type": "markdown",
   "id": "8769558a",
   "metadata": {},
   "source": [
    "### 8.2 Notion de tableau"
   ]
  },
  {
   "cell_type": "markdown",
   "id": "3465eba2",
   "metadata": {},
   "source": [
    "#### Création d'un tableau"
   ]
  },
  {
   "cell_type": "markdown",
   "id": "0dbec105",
   "metadata": {},
   "source": [
    "Un tableau permet de stocker plusieurs valeurs dans une seule variable et d'y accéder ensuite facilement.\n",
    "En Python, on construit un tableau en énumérant ses valeurs entre crochets et séparées par des virgules.\n",
    "\n",
    "```python\n",
    ">>> t = [2, 3, 5]\n",
    "```"
   ]
  },
  {
   "cell_type": "code",
   "execution_count": 4,
   "id": "a7b33cce",
   "metadata": {},
   "outputs": [],
   "source": [
    "t = [2, 3, 5]"
   ]
  },
  {
   "cell_type": "markdown",
   "id": "60586ba7",
   "metadata": {},
   "source": [
    "Ici, on a déclaré une variable `t` contenant un tableau. Ce tableau contient trois entiers. Les valeurs sont **ordonnées**. \n",
    "\n",
    "- la première valeur est `2`\n",
    "- la deuxième `3`\n",
    "- la troisième `5`\n",
    "\n",
    "On peut se représenter un tableau comme des cases consécutives\n",
    "\n",
    "$$\n",
    "\\begin{array}{|c|c|c|}\n",
    "\\hline\n",
    "\\texttt{2} & \\texttt{3} & \\texttt{5} \\\\\n",
    "\\hline\n",
    "\\end{array}\n",
    "$$\n",
    "\n",
    "C'est en effet ainsi qu'**un tableau est organisé dans la mémoire de l'ordinateur** : ses valeurs y sont rangées consécutivement."
   ]
  },
  {
   "cell_type": "markdown",
   "id": "7b77c931",
   "metadata": {},
   "source": [
    "#### Indices d'un tableau"
   ]
  },
  {
   "cell_type": "markdown",
   "id": "f6f443a5",
   "metadata": {},
   "source": [
    "Pour accéder à une valeur contenue dans le tableau `t`, il faut utiliser la notation `t[i]` où `i` désigne la numéro de la case à laquelle on veut accéder.\n",
    "\n",
    "**Les cases sont numérotées à partir de zéro.**\n",
    "\n",
    "Ainsi, la valeur contenue dans la première case du tableau est\n",
    "\n",
    "```python\n",
    ">>> t[0]\n",
    "2\n",
    "```\n",
    "\n"
   ]
  },
  {
   "cell_type": "code",
   "execution_count": 5,
   "id": "36af4980",
   "metadata": {},
   "outputs": [
    {
     "data": {
      "text/plain": [
       "2"
      ]
     },
     "execution_count": 5,
     "metadata": {},
     "output_type": "execute_result"
    }
   ],
   "source": [
    "t[0]"
   ]
  },
  {
   "cell_type": "markdown",
   "id": "d31b35ae",
   "metadata": {},
   "source": [
    "Écrire un code qui essaye d'accéder à une case en dehors des limites du tableau."
   ]
  },
  {
   "cell_type": "code",
   "execution_count": 6,
   "id": "9e02e4d3",
   "metadata": {},
   "outputs": [
    {
     "ename": "IndexError",
     "evalue": "list index out of range",
     "output_type": "error",
     "traceback": [
      "\u001b[0;31m---------------------------------------------------------------------------\u001b[0m",
      "\u001b[0;31mIndexError\u001b[0m                                Traceback (most recent call last)",
      "\u001b[0;32m/tmp/ipykernel_17490/3611909921.py\u001b[0m in \u001b[0;36m<module>\u001b[0;34m\u001b[0m\n\u001b[0;32m----> 1\u001b[0;31m \u001b[0mt\u001b[0m\u001b[0;34m[\u001b[0m\u001b[0;36m3\u001b[0m\u001b[0;34m]\u001b[0m\u001b[0;34m\u001b[0m\u001b[0;34m\u001b[0m\u001b[0m\n\u001b[0m",
      "\u001b[0;31mIndexError\u001b[0m: list index out of range"
     ]
    }
   ],
   "source": [
    "t[3]"
   ]
  },
  {
   "cell_type": "markdown",
   "id": "15d1e9e7",
   "metadata": {},
   "source": [
    "On dit que 0 est l'**indice** de la première case.\n",
    "\n",
    "La **taille** d'un tableau est son nombre de cases.\n",
    "\n",
    "On obtient la taille d'un tableau avec l'opération `len(t)`.\n",
    "\n",
    "```python\n",
    ">>> len(t)\n",
    "3\n",
    "```"
   ]
  },
  {
   "cell_type": "code",
   "execution_count": 7,
   "id": "ab644878",
   "metadata": {},
   "outputs": [
    {
     "data": {
      "text/plain": [
       "3"
      ]
     },
     "execution_count": 7,
     "metadata": {},
     "output_type": "execute_result"
    }
   ],
   "source": [
    "len(t)"
   ]
  },
  {
   "cell_type": "markdown",
   "id": "5680695a",
   "metadata": {},
   "source": [
    "Les indices d'un tableau `t` prennent donc des valeurs comprises entre `0` et `len(t)-1`.\n",
    "\n",
    "Ce qui donne la représentation mentale suivante :\n",
    "\n",
    "\n",
    "$$\n",
    "\\begin{array}{ccc}\n",
    "0 & 1 & 2\n",
    "\\end{array}\n",
    "\\\\\n",
    "\\begin{array}{|c|c|c|}\n",
    "\\hline\n",
    "\\texttt{2} & \\texttt{3} & \\texttt{5} \\\\\n",
    "\\hline\n",
    "\\end{array}\n",
    "$$\n",
    "\n",
    "Mais **attention**, seules les valeurs sont stockées en mémoire de l'ordinateur. Les indices n'ont pas besoin d'être matérialisés.\n"
   ]
  },
  {
   "cell_type": "markdown",
   "id": "25e049ec",
   "metadata": {},
   "source": [
    "#### Retour sur la pyramide des âges"
   ]
  },
  {
   "cell_type": "markdown",
   "id": "72a62a84",
   "metadata": {},
   "source": [
    "Créer un tableau `pda` contenant les 10 premiers effectifs de la pyramide des âges."
   ]
  },
  {
   "cell_type": "code",
   "execution_count": 8,
   "id": "3f0711e2",
   "metadata": {},
   "outputs": [],
   "source": [
    "pda = [691754, 714585, 723589, 741105, 761638, 782397, 806296, 813727, 830361, 836626]"
   ]
  },
  {
   "cell_type": "markdown",
   "id": "b0460a92",
   "metadata": {},
   "source": [
    "Dans la case `i` du tableau `pda` on retrouve le nombre de français ayant exactement l'âge `i`."
   ]
  },
  {
   "cell_type": "markdown",
   "id": "c1690e3a",
   "metadata": {},
   "source": [
    "Créer un programme qui demande un âge à l'utilisateur et affiche le nombre de français ayant cet âge-là."
   ]
  },
  {
   "cell_type": "markdown",
   "id": "dfe13f48",
   "metadata": {},
   "source": [
    "#### Modification du contenu d'un tableau"
   ]
  },
  {
   "cell_type": "markdown",
   "id": "2d1e2026",
   "metadata": {},
   "source": [
    "Le contenu d'un tableau peut être modifié.\n",
    "Pour cela, on utilise un **affectation** exactement comme on le ferait avec une variable.\n",
    "\n",
    "Ainsi, pour modifier le contenu de la seconde case du tableau `t` pour y remplacer la valeur 3 par la valeur 17 :\n",
    "\n",
    "```python\n",
    ">>> t[1] = 17\n",
    "```"
   ]
  },
  {
   "cell_type": "code",
   "execution_count": 9,
   "id": "2fc547f6",
   "metadata": {},
   "outputs": [],
   "source": [
    "t[1] = 17"
   ]
  },
  {
   "cell_type": "markdown",
   "id": "939d7f6b",
   "metadata": {},
   "source": [
    "Modifier le tableau `pda` pour y traduire une naissance."
   ]
  },
  {
   "cell_type": "code",
   "execution_count": 10,
   "id": "445c7e7a",
   "metadata": {},
   "outputs": [
    {
     "data": {
      "text/plain": [
       "[691755,\n",
       " 714585,\n",
       " 723589,\n",
       " 741105,\n",
       " 761638,\n",
       " 782397,\n",
       " 806296,\n",
       " 813727,\n",
       " 830361,\n",
       " 836626]"
      ]
     },
     "execution_count": 10,
     "metadata": {},
     "output_type": "execute_result"
    }
   ],
   "source": [
    "pda[0] = pda[0] + 1\n",
    "pda"
   ]
  }
 ],
 "metadata": {
  "celltoolbar": "Diaporama",
  "interpreter": {
   "hash": "916dbcbb3f70747c44a77c7bcd40155683ae19c65e1c03b4aa3499c5328201f1"
  },
  "kernelspec": {
   "display_name": "Python 3",
   "language": "python",
   "name": "python3"
  },
  "language_info": {
   "codemirror_mode": {
    "name": "ipython",
    "version": 3
   },
   "file_extension": ".py",
   "mimetype": "text/x-python",
   "name": "python",
   "nbconvert_exporter": "python",
   "pygments_lexer": "ipython3",
   "version": "3.9.2"
  },
  "latex_metadata": {
   "theme": "langage",
   "title": "8 --- Tableaux"
  },
  "rise": {
   "theme": "serif"
  }
 },
 "nbformat": 4,
 "nbformat_minor": 5
}
