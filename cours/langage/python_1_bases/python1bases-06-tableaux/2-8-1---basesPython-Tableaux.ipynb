{
 "cells": [
  {
   "cell_type": "markdown",
   "id": "dab8a1e4",
   "metadata": {
    "slideshow": {
     "slide_type": "slide"
    }
   },
   "source": [
    "## 8 --- Tableaux"
   ]
  },
  {
   "cell_type": "markdown",
   "id": "8769558a",
   "metadata": {},
   "source": [
    "### 8.1 Pyramide des âges"
   ]
  },
  {
   "cell_type": "markdown",
   "id": "16f48920",
   "metadata": {},
   "source": [
    "Considérons un programme qui stoke la pyramide des âges des français.\n",
    "\n",
    "- [pyramide des âges en 2021, source INSEE](https://www.insee.fr/fr/statistiques/2381472)\n",
    "\n",
    "Dans ce programme, on peut par exemple :\n",
    "\n",
    "- saisir un âge\n",
    "  - et le programme affiche le nombre de français ayant cet âge-là\n",
    "- saisir deux âges\n",
    "  - et le programme affiche le nombre de français ayant un âge compris entre ces deux valeurs"
   ]
  },
  {
   "cell_type": "markdown",
   "id": "49322252",
   "metadata": {},
   "source": [
    "Réaliser un programme qui réalise cela pour les âges compris entre 0 an(inclus) et 5 ans (exclus)."
   ]
  },
  {
   "cell_type": "markdown",
   "id": "e1741e74",
   "metadata": {},
   "source": [
    "Données extraites du site de l'insee.\n",
    "\n",
    "Année de naissance |Âge révolu |Ensemble\n",
    "-|-|-\n",
    "2020 |0 |691 754\n",
    "2019 |1 |714 585\n",
    "2018 |2 |723 589\n",
    "2017 |3 |741 105\n",
    "2016 |4 |761 638\n",
    "2015 |5 |782 397\n",
    "2014 |6 |806 296\n",
    "2013 |7 |813 727\n",
    "2012 |8 |830 361\n",
    "2011 |9 |836 626\n",
    "2010 |10 |857 412\n",
    "2009 |11 |846 079\n",
    "..."
   ]
  }
 ],
 "metadata": {
  "celltoolbar": "Diaporama",
  "interpreter": {
   "hash": "916dbcbb3f70747c44a77c7bcd40155683ae19c65e1c03b4aa3499c5328201f1"
  },
  "kernelspec": {
   "display_name": "Python 3",
   "language": "python",
   "name": "python3"
  },
  "language_info": {
   "codemirror_mode": {
    "name": "ipython",
    "version": 3
   },
   "file_extension": ".py",
   "mimetype": "text/x-python",
   "name": "python",
   "nbconvert_exporter": "python",
   "pygments_lexer": "ipython3",
   "version": "3.9.2"
  },
  "latex_metadata": {
   "theme": "langage",
   "title": "8 --- Tableaux"
  },
  "rise": {
   "theme": "serif"
  }
 },
 "nbformat": 4,
 "nbformat_minor": 5
}
