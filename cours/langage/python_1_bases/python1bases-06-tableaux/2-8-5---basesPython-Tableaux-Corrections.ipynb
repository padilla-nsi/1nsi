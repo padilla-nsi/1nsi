{
 "cells": [
  {
   "cell_type": "markdown",
   "metadata": {},
   "source": [
    "# Exercices sur les tableaux (correction)"
   ]
  },
  {
   "cell_type": "markdown",
   "metadata": {
    "tags": [
     "exo"
    ]
   },
   "source": [
    "<div class=\"alert alert-warning\" role=\"alert\">\n",
    "\n",
    "**Exercice 1**\n",
    "\n",
    "Créer une fonction `somme_pda(age_min, age_max))` qui renvoie le nombre total de personne en France ayant entre `age_min` ans (inclu)) et `age_max` ans (exclu)).\n",
    "\n",
    "Pour cela, on s'appuiera sur les données 2021 de l'INSEE dont les valeurs sont données ci-dessous. Le tableau `pda` contient le nombre de personnes. Chaque indice du tableau correspond à un âge. Donc la case `pda[10]` contient le nombre de personnes ayant 10 ans. Le tableau `pda` contient 100 valeurs.\n",
    "\n",
    "```python\n",
    "pda = [691754, 714585, 723589, 741105, 761638, 782397, 806296, 813727, 830361, 836626,\n",
    "       857412, 846079, 853732, 844444, 859144, 843717, 839171, 830450, 823756, 824021, \n",
    "       825068, 771160, 758647, 732962, 739197, 732521, 715066, 719576, 756910, 774944, \n",
    "       796258, 802788, 815670, 818399, 832977, 832461, 825974, 817778, 865383, 871959, \n",
    "       881060, 833394, 813784, 816353, 795349, 820771, 861730, 906113, 924323, 919896, \n",
    "       899550, 886276, 875462, 871272, 891426, 892392, 899362, 886362, 856619, 855441, \n",
    "       848042, 841009, 820136, 812492, 804014, 793523, 786152, 768512, 775095, 751752, \n",
    "       773191, 754577, 747317, 725950, 679274, 507127, 490957, 471618, 430510, 376688, \n",
    "       383970, 392579, 373969, 355308, 341153, 314805, 301041, 269011, 253855, 222346, \n",
    "       198098, 158712, 134827, 108837, 88250, 69403, 52436, 38806, 27854, 27497]\n",
    "\n",
    "def somme_pda(age_min, age_max)):\n",
    "    ...\n",
    "```\n",
    "\n",
    "#### Tests et exemples d'usage :\n",
    "\n",
    "```python\n",
    ">>> print(somme_pda(0, 1))\n",
    "691754\n",
    ">>> print(somme_pda(0, 100))\n",
    "67387330\n",
    ">>> print(somme_pda(50, 67))\n",
    "14519530\n",
    "```\n",
    "</div>"
   ]
  },
  {
   "cell_type": "code",
   "execution_count": 2,
   "metadata": {},
   "outputs": [],
   "source": [
    "pda = [691754, 714585, 723589, 741105, 761638, 782397, 806296, 813727, 830361, 836626,\n",
    "       857412, 846079, 853732, 844444, 859144, 843717, 839171, 830450, 823756, 824021, \n",
    "       825068, 771160, 758647, 732962, 739197, 732521, 715066, 719576, 756910, 774944, \n",
    "       796258, 802788, 815670, 818399, 832977, 832461, 825974, 817778, 865383, 871959, \n",
    "       881060, 833394, 813784, 816353, 795349, 820771, 861730, 906113, 924323, 919896, \n",
    "       899550, 886276, 875462, 871272, 891426, 892392, 899362, 886362, 856619, 855441, \n",
    "       848042, 841009, 820136, 812492, 804014, 793523, 786152, 768512, 775095, 751752, \n",
    "       773191, 754577, 747317, 725950, 679274, 507127, 490957, 471618, 430510, 376688, \n",
    "       383970, 392579, 373969, 355308, 341153, 314805, 301041, 269011, 253855, 222346, \n",
    "       198098, 158712, 134827, 108837, 88250, 69403, 52436, 38806, 27854, 27497]"
   ]
  },
  {
   "cell_type": "code",
   "execution_count": 4,
   "metadata": {},
   "outputs": [
    {
     "name": "stdout",
     "output_type": "stream",
     "text": [
      "691754\n",
      "67387330\n",
      "14519530\n"
     ]
    }
   ],
   "source": [
    "def somme_pda(age_min, age_max)):\n",
    "    n = 0\n",
    "    for age in range(age_min, age_max)):\n",
    "        n += pda[age]\n",
    "    \n",
    "    return n\n",
    "\n",
    "print(somme_pda(0, 1))))\n",
    "print(somme_pda(0, 100))))\n",
    "print(somme_pda(50, 67))))"
   ]
  },
  {
   "cell_type": "markdown",
   "metadata": {
    "tags": [
     "exo"
    ]
   },
   "source": [
    "<div class=\"alert alert-warning\" role=\"alert\">\n",
    "\n",
    "**Exercice 2**\n",
    "\n",
    "Créer une fonction somme_pda(age_min, age_max)) plus robuste qui:\n",
    "- qui renvoie le nombre total de personne en France ayant entre age_min ans (inclu)) et age_max ans (exclu)) ;\n",
    "- qui **n'échoue pas** si l'utilisateur spécifie un age_max arbitrairement grand.\n",
    "\n",
    "Pour cela, on s'appuiera sur les données 2021 de l'INSEE dont les valeurs sont données ci-dessous. Le tableau `pda` contient le nombre de personnes. Chaque indice du tableau correspond à un âge. Donc la case `pda[10]` contient le nombre de personnes ayant 10 ans. Le tableau `pda` contient 100 valeurs.\n",
    "\n",
    "```python\n",
    "pda = [691754, 714585, 723589, 741105, 761638, 782397, 806296, 813727, 830361, 836626,\n",
    "       857412, 846079, 853732, 844444, 859144, 843717, 839171, 830450, 823756, 824021, \n",
    "       825068, 771160, 758647, 732962, 739197, 732521, 715066, 719576, 756910, 774944, \n",
    "       796258, 802788, 815670, 818399, 832977, 832461, 825974, 817778, 865383, 871959, \n",
    "       881060, 833394, 813784, 816353, 795349, 820771, 861730, 906113, 924323, 919896, \n",
    "       899550, 886276, 875462, 871272, 891426, 892392, 899362, 886362, 856619, 855441, \n",
    "       848042, 841009, 820136, 812492, 804014, 793523, 786152, 768512, 775095, 751752, \n",
    "       773191, 754577, 747317, 725950, 679274, 507127, 490957, 471618, 430510, 376688, \n",
    "       383970, 392579, 373969, 355308, 341153, 314805, 301041, 269011, 253855, 222346, \n",
    "       198098, 158712, 134827, 108837, 88250, 69403, 52436, 38806, 27854, 27497]\n",
    "\n",
    "def somme_pda(age_min, age_max)):\n",
    "    ...\n",
    "```\n",
    "\n",
    "#### Tests et exemples d'usage :\n",
    "\n",
    "```python\n",
    ">>> print(somme_pda(0, 1))\n",
    "691754\n",
    ">>> print(somme_pda(1, 0))\n",
    "0\n",
    ">>> print(somme_pda(0, 100))\n",
    "67387330\n",
    ">>> print(somme_pda(0, 101))\n",
    "67387330\n",
    ">>> print(somme_pda(0, 150))\n",
    "67387330\n",
    ">>> print(somme_pda(50, 67))\n",
    "14519530\n",
    ">>> print(somme_pda(50, 100))\n",
    "26884855\n",
    ">>> print(somme_pda(50, 242))\n",
    "26884855\n",
    "```\n",
    "\n",
    "</div>"
   ]
  },
  {
   "cell_type": "code",
   "execution_count": 6,
   "metadata": {},
   "outputs": [],
   "source": [
    "pda = [691754, 714585, 723589, 741105, 761638, 782397, 806296, 813727, 830361, 836626,\n",
    "       857412, 846079, 853732, 844444, 859144, 843717, 839171, 830450, 823756, 824021, \n",
    "       825068, 771160, 758647, 732962, 739197, 732521, 715066, 719576, 756910, 774944, \n",
    "       796258, 802788, 815670, 818399, 832977, 832461, 825974, 817778, 865383, 871959, \n",
    "       881060, 833394, 813784, 816353, 795349, 820771, 861730, 906113, 924323, 919896, \n",
    "       899550, 886276, 875462, 871272, 891426, 892392, 899362, 886362, 856619, 855441, \n",
    "       848042, 841009, 820136, 812492, 804014, 793523, 786152, 768512, 775095, 751752, \n",
    "       773191, 754577, 747317, 725950, 679274, 507127, 490957, 471618, 430510, 376688, \n",
    "       383970, 392579, 373969, 355308, 341153, 314805, 301041, 269011, 253855, 222346, \n",
    "       198098, 158712, 134827, 108837, 88250, 69403, 52436, 38806, 27854, 27497]"
   ]
  },
  {
   "cell_type": "code",
   "execution_count": 8,
   "metadata": {},
   "outputs": [],
   "source": [
    "def somme_pda(age_min, age_max):\n",
    "    n = 0\n",
    "    if age_max > len(pda):\n",
    "        age_max = len(pda)\n",
    "\n",
    "    for age in range(age_min, age_max):\n",
    "        n += pda[age]\n",
    "    \n",
    "    return n"
   ]
  },
  {
   "cell_type": "code",
   "execution_count": 11,
   "metadata": {},
   "outputs": [
    {
     "name": "stdout",
     "output_type": "stream",
     "text": [
      "691754\n",
      "67387330\n",
      "67387330\n",
      "67387330\n",
      "14519530\n",
      "26884855\n",
      "26884855\n"
     ]
    }
   ],
   "source": [
    "print(somme_pda(0, 1))\n",
    "print(somme_pda(0, 100))\n",
    "print(somme_pda(0, 101))\n",
    "print(somme_pda(0, 150))\n",
    "print(somme_pda(50, 67))\n",
    "print(somme_pda(50, 100))\n",
    "print(somme_pda(50, 242))\n"
   ]
  },
  {
   "cell_type": "markdown",
   "metadata": {
    "tags": [
     "exo"
    ]
   },
   "source": [
    "<div class=\"alert alert-warning\" role=\"alert\">\n",
    "\n",
    "**Exercice 3**\n",
    "\n",
    "Écrire une fonction `occurences(val, tab)` qui renvoie le nombre d'occurrences de la valeur `val` dans le tableau `tab`.\n",
    "\n",
    "#### Tests et exemples d'usage :\n",
    "\n",
    "```python\n",
    ">>> occurences(0, [0, 1, 1, 3, 1])\n",
    "1\n",
    ">>> occurences(1, [0, 1, 1, 3, 1])\n",
    "3\n",
    ">>> occurences(\"a\", [\"abc\", \"a\", \"b\", \"c\"])\n",
    "1\n",
    "```\n",
    "\n",
    "</div>\n"
   ]
  },
  {
   "cell_type": "code",
   "execution_count": 12,
   "metadata": {},
   "outputs": [],
   "source": [
    "def occurences(val, tab):\n",
    "    n = 0\n",
    "    for i in range(0, len(tab)):\n",
    "        if tab[i] == val:\n",
    "            n = n + 1\n",
    "\n",
    "    return n"
   ]
  },
  {
   "cell_type": "code",
   "execution_count": 15,
   "metadata": {},
   "outputs": [
    {
     "name": "stdout",
     "output_type": "stream",
     "text": [
      "1\n",
      "3\n",
      "1\n"
     ]
    }
   ],
   "source": [
    "print(occurences(0, [0, 1, 1, 3, 1]))\n",
    "print(occurences(1, [0, 1, 1, 3, 1]))\n",
    "print(occurences(\"a\", [\"abc\", \"a\", \"b\", \"c\"]))\n"
   ]
  },
  {
   "cell_type": "markdown",
   "metadata": {
    "tags": [
     "exo"
    ]
   },
   "source": [
    "<div class=\"alert alert-warning\" role=\"alert\">\n",
    "\n",
    "**Exercice 4**\n",
    "\n",
    "Écrire un programme qui construit un tableau de 100 entiers tirés au hasard entre 1 et 1000, puis qui l'affiche.\n",
    "\n",
    " \n",
    "\n",
    "Attention : Pour les besoins du juge en ligne (= tests automatiques), il faut commencer votre programme par :\n",
    "\n",
    "```python\n",
    "from random import *\n",
    "seed(42)\n",
    "...\n",
    "```\n",
    "\n",
    "#### Tests et exemples d'usage :\n",
    "\n",
    "```python\n",
    "[655, 115,... , 167, 380]\n",
    "```\n",
    "</div>"
   ]
  },
  {
   "cell_type": "code",
   "execution_count": 16,
   "metadata": {},
   "outputs": [
    {
     "name": "stdout",
     "output_type": "stream",
     "text": [
      "[655, 115, 26, 760, 282, 251, 229, 143, 755, 105, 693, 759, 914, 559, 90, 605, 433, 33, 31, 96, 224, 239, 518, 617, 28, 575, 204, 734, 666, 719, 559, 430, 226, 460, 604, 285, 829, 891, 7, 778, 826, 164, 715, 433, 349, 285, 160, 221, 981, 782, 345, 105, 95, 390, 100, 368, 868, 353, 619, 271, 827, 45, 748, 471, 550, 128, 997, 945, 388, 81, 566, 301, 850, 644, 634, 907, 883, 371, 592, 197, 722, 72, 47, 678, 234, 792, 297, 82, 876, 239, 888, 104, 390, 285, 465, 651, 855, 374, 167, 380]\n"
     ]
    }
   ],
   "source": [
    "from random import *\n",
    "seed(42)\n",
    "\n",
    "tab = [0] * 100\n",
    "for i in range(100):\n",
    "    tab[i] = randint(1, 1000)\n",
    "print(tab)"
   ]
  },
  {
   "cell_type": "markdown",
   "metadata": {
    "tags": [
     "exo"
    ]
   },
   "source": [
    "<div class=\"alert alert-warning\" role=\"alert\">\n",
    "\n",
    "**Exercice 5**\n",
    "\n",
    "Écrire une fonction maxi_tab(t) qui prend en paramètre un tableau t et renvoie la valeur maximale de ce tableau.\n",
    "\n",
    "#### Tests et exemples d'usage :\n",
    "\n",
    "```python\n",
    ">>> maxi_tab([1, 2, 3])\n",
    "3\n",
    ">>> maxi_tab([10, 11, 3, 4])\n",
    "11\n",
    "```\n",
    "\n",
    "</div>"
   ]
  },
  {
   "cell_type": "code",
   "execution_count": 18,
   "metadata": {},
   "outputs": [
    {
     "name": "stdout",
     "output_type": "stream",
     "text": [
      "3\n",
      "11\n"
     ]
    }
   ],
   "source": [
    "def maxi_tab(t):\n",
    "    maxi = t[0]\n",
    "    for i in range(1, len(t)):\n",
    "        if t[i] > maxi:\n",
    "            maxi = t[i]\n",
    "    return maxi\n",
    "\n",
    "print(maxi_tab([1, 2, 3]))\n",
    "print(maxi_tab([10, 11, 3, 4]))"
   ]
  },
  {
   "cell_type": "markdown",
   "metadata": {
    "tags": [
     "exo"
    ]
   },
   "source": [
    "<div class=\"alert alert-warning\" role=\"alert\">\n",
    "\n",
    "**Exercice 6.a**\n",
    "\n",
    "Créer un programme qui tire au hasard mille entiers entre 1 et 10 et affiche ensuite le nombre de fois que chaque nombre a été tiré. Afficher le résultats sous la forme `\"le nombre ... a été tiré ... fois\"`.\n",
    "\n",
    "Remarque : pour des raisons de juge en ligne, commencer votre code par :\n",
    "\n",
    "```python\n",
    "from random import *\n",
    "seed(42)\n",
    "...\n",
    "```\n",
    "\n",
    " \n",
    "#### Tests et exemples d'usage :\n",
    "\n",
    "```python\n",
    "le nombre 1 a été tiré 91 fois\n",
    "le nombre 2 a été tiré 108 fois\n",
    "...\n",
    "...\n",
    "le nombre 10 a été tiré 95 fois\n",
    "```\n",
    "</div>\n",
    "\n",
    "\n",
    "\n",
    "</div>"
   ]
  },
  {
   "cell_type": "code",
   "execution_count": 20,
   "metadata": {},
   "outputs": [
    {
     "name": "stdout",
     "output_type": "stream",
     "text": [
      "le nombre 1 a été tiré 91 fois\n",
      "le nombre 2 a été tiré 108 fois\n",
      "le nombre 3 a été tiré 85 fois\n",
      "le nombre 4 a été tiré 116 fois\n",
      "le nombre 5 a été tiré 113 fois\n",
      "le nombre 6 a été tiré 82 fois\n",
      "le nombre 7 a été tiré 102 fois\n",
      "le nombre 8 a été tiré 105 fois\n",
      "le nombre 9 a été tiré 103 fois\n",
      "le nombre 10 a été tiré 95 fois\n"
     ]
    }
   ],
   "source": [
    "from random import *\n",
    "seed(42)\n",
    "\n",
    "effectifs = [0] * 10\n",
    "\n",
    "for i in range(1000):\n",
    "    n = randint(1, 10)\n",
    "    effectifs[n - 1] += 1\n",
    "\n",
    "for i in range(len(effectifs)):\n",
    "        print(\"le nombre\", i+1, \"a été tiré\", effectifs[i], \"fois\")"
   ]
  },
  {
   "cell_type": "markdown",
   "metadata": {
    "tags": [
     "exo"
    ]
   },
   "source": [
    "<div class=\"alert alert-warning\" role=\"alert\">\n",
    "\n",
    "**Exercice 6.b**\n",
    "\n",
    "Vous allez modifier légèrement le code de l'exercice précédent afin de pouvoir le tester plus efficacement avec le juge en ligne.\n",
    "\n",
    "Pour cela :\n",
    "\n",
    "1. demander à l'utilisateur de saisir un nombre entier que vous affecterez à la variable `gen`.\n",
    "2. Copier/coller ensuite votre code de l'exercice précédent.\n",
    "3. Remplacer l'instruction `seed(42)` par `seed(gen)`.\n",
    "\n",
    "Normalement, votre programme devrait commencer de la façon suivante :\n",
    "\n",
    "```python\n",
    "gen = int(input(\"saisir une valeur pour le générateur aléatoire : \"))\n",
    "from random import *\n",
    "seed(gen)\n",
    "...\n",
    "```\n",
    "\n",
    "Ainsi un utilisateur qui saisi le nombre `42` devrait voir s'afficher exactement le même résultat que l'exercice précédent.\n",
    "\n",
    "Le juge en ligne peut désormais tester de multiples façon votre programme :)\n",
    "\n",
    " \n",
    "\n",
    "#### Tests et exemples d'usage :\n",
    "\n",
    "```python\n",
    ">>> saisir une valeur pour le générateur aléatoire : 42\n",
    "le nombre 1 a été tiré 91 fois\n",
    "le nombre 2 a été tiré 108 fois\n",
    "...\n",
    "le nombre 9 a été tiré 103 fois\n",
    "le nombre 10 a été tiré 95 fois\n",
    "```\n",
    "\n",
    "\n",
    "</div>"
   ]
  },
  {
   "cell_type": "code",
   "execution_count": 23,
   "metadata": {},
   "outputs": [
    {
     "name": "stdout",
     "output_type": "stream",
     "text": [
      "le nombre 1 a été tiré 91 fois\n",
      "le nombre 2 a été tiré 108 fois\n",
      "le nombre 3 a été tiré 85 fois\n",
      "le nombre 4 a été tiré 116 fois\n",
      "le nombre 5 a été tiré 113 fois\n",
      "le nombre 6 a été tiré 82 fois\n",
      "le nombre 7 a été tiré 102 fois\n",
      "le nombre 8 a été tiré 105 fois\n",
      "le nombre 9 a été tiré 103 fois\n",
      "le nombre 10 a été tiré 95 fois\n"
     ]
    }
   ],
   "source": [
    "gen = int(input(\"saisir une valeur pour le générateur aléatoire : \"))\n",
    "from random import *\n",
    "seed(gen)\n",
    "\n",
    "effectifs = [0] * 10\n",
    "\n",
    "for i in range(1000):\n",
    "    n = randint(1, 10)\n",
    "    effectifs[n - 1] += 1\n",
    "\n",
    "for i in range(len(effectifs)):\n",
    "    print(\"le nombre\", i+1, \"a été tiré\", effectifs[i], \"fois\")"
   ]
  },
  {
   "cell_type": "markdown",
   "metadata": {
    "tags": [
     "exo"
    ]
   },
   "source": [
    "<div class=\"alert alert-warning\" role=\"alert\">\n",
    "\n",
    "**Exercice 7**\n",
    "\n",
    "En mathématiques, la très célèbre suite de **Fibonacci** est une séquence infinie d'entiers définie de la façon suivante : on part des deux entiers $0$ et $1$ puis on construit à chaque fois l'entier suivant comme la somme des deux entiers précédents.\n",
    "\n",
    "$$0, 1, 1, 2, 3, 5, ...$$\n",
    "\n",
    "**Écrire** un programme qui construit puis affiche un tableau contenant les 30 premiers termes de la suite.\n",
    "\n",
    "\n",
    "#### Tests et exemples d'usage :\n",
    "\n",
    "```python\n",
    "[0, 1, 1, 2, 3, 5,... , 514229]\n",
    "\n",
    "</div>"
   ]
  },
  {
   "cell_type": "code",
   "execution_count": 24,
   "metadata": {},
   "outputs": [
    {
     "name": "stdout",
     "output_type": "stream",
     "text": [
      "[0, 1, 1, 2, 3, 5, 8, 13, 21, 34, 55, 89, 144, 233, 377, 610, 987, 1597, 2584, 4181, 6765, 10946, 17711, 28657, 46368, 75025, 121393, 196418, 317811, 514229]\n"
     ]
    }
   ],
   "source": [
    "tab = [0] * 30\n",
    "\n",
    "tab[0] = 0\n",
    "tab[1] = 1\n",
    "\n",
    "for i in range(2, 30):\n",
    "    tab[i] = tab[i-2] + tab[i-1]\n",
    "\n",
    "print(tab)"
   ]
  },
  {
   "cell_type": "markdown",
   "metadata": {
    "tags": [
     "exo"
    ]
   },
   "source": [
    "<div class=\"alert alert-warning\" role=\"alert\">\n",
    "\n",
    "**Exercice 8**\n",
    "\n",
    "Écrire une fonction `copie(tab)` qui prend en paramètre un tableau `tab` et renvoie une copie de ce tableau.\n",
    "\n",
    "\n",
    "#### Tests et exemple d'usage :\n",
    "\n",
    "```python\n",
    ">>> u = []          # u est un tableau vide\n",
    ">>> t = [1, 2, 3]\n",
    ">>> u = copie(t)\n",
    ">>> print(u)        # vérifier que u contient les mêmes valeurs que t\n",
    "[1, 2, 3]\n",
    ">>> t[2] = 7        # vérifier que lorsqu'on modifie t\n",
    ">>> print(t)        #   alors u n'est PAS modifié par effets de bords\n",
    "[1, 2, 7]\n",
    ">>> print(u)\n",
    "[1, 2, 3]\n",
    "```\n",
    "\n",
    "    return tab_2\n",
    "\n",
    "</div>"
   ]
  },
  {
   "cell_type": "code",
   "execution_count": 30,
   "metadata": {},
   "outputs": [],
   "source": [
    "def copie(tab):\n",
    "    n = len(tab)\n",
    "    tab_2 = [0] * n\n",
    "\n",
    "    for i in range(n):\n",
    "        tab_2[i] = tab[i]\n",
    "    \n",
    "    return tab_2\n",
    "    "
   ]
  },
  {
   "cell_type": "code",
   "execution_count": 31,
   "metadata": {},
   "outputs": [
    {
     "name": "stdout",
     "output_type": "stream",
     "text": [
      "[1, 2, 3]\n"
     ]
    }
   ],
   "source": [
    "u = []          # u est un tableau vide\n",
    "t = [1, 2, 3]\n",
    "u = copie(t)\n",
    "print(u)        # vérifier que u contient les mêmes valeurs que t\n"
   ]
  },
  {
   "cell_type": "code",
   "execution_count": 32,
   "metadata": {},
   "outputs": [
    {
     "name": "stdout",
     "output_type": "stream",
     "text": [
      "[1, 2, 7]\n"
     ]
    }
   ],
   "source": [
    "t[2] = 7        # vérifier que lorsqu'on modifie t\n",
    "print(t)"
   ]
  },
  {
   "cell_type": "code",
   "execution_count": 33,
   "metadata": {},
   "outputs": [
    {
     "name": "stdout",
     "output_type": "stream",
     "text": [
      "[1, 2, 3]\n"
     ]
    }
   ],
   "source": [
    "print(u)"
   ]
  },
  {
   "cell_type": "markdown",
   "metadata": {
    "tags": [
     "exo"
    ]
   },
   "source": [
    "<div class=\"alert alert-warning\" role=\"alert\">\n",
    "\n",
    "**Exercice 9**\n",
    "\n",
    "\n",
    "Écrire une fonction `ajout(val, tab)` qui renvoie un nouveau tableau contenant d'abord tous les éléments de `tab` puis la valeur `val`.\n",
    "\n",
    "\n",
    "#### Tests et exemples :\n",
    "\n",
    "```python\n",
    ">>> print( ajout(42, []) )\n",
    "[42]\n",
    "\n",
    ">>> print( ajout(10, [5, 4, 3, 2, 1]) )\n",
    "[5, 4, 3, 2, 1, 10]\n",
    "\n",
    ">>> u = []\n",
    ">>> t = [1, 2, 3]\n",
    ">>> u = ajout(4, t)\n",
    ">>> print(u)        # u est une copie de t avec 4 ajouté à la fin\n",
    "[1, 2, 3, 4]\n",
    ">>> print(t)        # t inchangé\n",
    "[1, 2, 3]\n",
    "```\n",
    "\n",
    "\n",
    "\n",
    "</div>"
   ]
  },
  {
   "cell_type": "code",
   "execution_count": 34,
   "metadata": {},
   "outputs": [],
   "source": [
    "def ajout(val, tab):\n",
    "    n = len(tab)\n",
    "    tab_2 = [0] * (n + 1)\n",
    "    for i in range(n):\n",
    "        tab_2[i] = tab[i]\n",
    "    tab_2[n] = val\n",
    "    return tab_2"
   ]
  },
  {
   "cell_type": "code",
   "execution_count": 35,
   "metadata": {},
   "outputs": [
    {
     "name": "stdout",
     "output_type": "stream",
     "text": [
      "[1, 2, 3, 4]\n",
      "[1, 2, 3]\n",
      "[5, 4, 3, 2, 1, 10]\n"
     ]
    }
   ],
   "source": [
    "u = []\n",
    "t = [1, 2, 3]\n",
    "u = ajout(4, t)\n",
    "print(u)        # u est une copie de t avec 4 ajouté à la fin\n",
    "print(t)        # t inchangé\n",
    "print( ajout(10, [5, 4, 3, 2, 1]) )\n"
   ]
  }
 ],
 "metadata": {
  "interpreter": {
   "hash": "916dbcbb3f70747c44a77c7bcd40155683ae19c65e1c03b4aa3499c5328201f1"
  },
  "latex_metadata": {
   "theme": "langage",
   "title": "8 --- Tableaux"
  },
  "kernelspec": {
   "display_name": "Python 3.9.2 64-bit",
   "language": "python",
   "name": "python3"
  },
  "language_info": {
   "codemirror_mode": {
    "name": "ipython",
    "version": 3
   },
   "file_extension": ".py",
   "mimetype": "text/x-python",
   "name": "python",
   "nbconvert_exporter": "python",
   "pygments_lexer": "ipython3",
   "version": "3.9.2"
  },
  "orig_nbformat": 4
 },
 "nbformat": 4,
 "nbformat_minor": 2
}
