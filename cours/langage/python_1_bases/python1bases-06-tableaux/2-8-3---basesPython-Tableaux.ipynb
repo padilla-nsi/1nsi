{
 "cells": [
  {
   "cell_type": "markdown",
   "id": "24fcd5ea",
   "metadata": {},
   "source": [
    "### 8.3 --- Parcours d'un tableau"
   ]
  },
  {
   "cell_type": "markdown",
   "id": "8a555b00",
   "metadata": {},
   "source": [
    "En utilisant le tableau `pda` de la partie précédente, proposer un programme permettant d'obtenir le nombre de français ayant entre 1 et 8 ans."
   ]
  },
  {
   "cell_type": "code",
   "execution_count": 1,
   "id": "3f0711e2",
   "metadata": {},
   "outputs": [
    {
     "data": {
      "text/plain": [
       "6173698"
      ]
     },
     "execution_count": 1,
     "metadata": {},
     "output_type": "execute_result"
    }
   ],
   "source": [
    "pda = [691754, 714585, 723589, 741105, 761638, 782397, 806296, 813727, 830361, 836626]\n",
    "pda[1] + pda[2] + pda[3] + pda[4] + pda[5] + pda[6] + pda[7] + pda[8]"
   ]
  },
  {
   "cell_type": "markdown",
   "id": "7f85b091",
   "metadata": {},
   "source": [
    "Comment s'y prendre quand le tableau est beaucoup plus long ?\n",
    "\n",
    "Une meilleure solution consiste à utiliser une **boucle** pour parcourir les cases du tableau concernées en **accumulant** le nombre total dans une variable.\n",
    "\n",
    "On commence par initialiser la variable `n` à `0` :\n",
    "\n",
    "```python\n",
    "n = 0\n",
    "```"
   ]
  },
  {
   "cell_type": "markdown",
   "id": "450808fd",
   "metadata": {},
   "source": [
    "Puis on effectue une boucle `for` donnant successivement à la variable `i` toutes les valeurs entre 1 et 8, et on ajoute à chaque fois la valeur `pda[i]` à la variable `n` :\n",
    "\n",
    "```python\n",
    "for i in range(1, 9):\n",
    "    n += pda[i]\n",
    "```\n",
    "\n",
    "On peut vérifier qu'après la boucle la variable `n` contient bien la valeur précédente.\n"
   ]
  },
  {
   "cell_type": "code",
   "execution_count": 3,
   "id": "8beda383",
   "metadata": {},
   "outputs": [
    {
     "data": {
      "text/plain": [
       "6173698"
      ]
     },
     "execution_count": 3,
     "metadata": {},
     "output_type": "execute_result"
    }
   ],
   "source": [
    "n = 0\n",
    "for i in range (1, 9):\n",
    "    n += pda[i]\n",
    "\n",
    "n"
   ]
  },
  {
   "cell_type": "markdown",
   "id": "61d9f26a",
   "metadata": {},
   "source": [
    "Écrire un programme qui demande à l'utilisateur\n",
    "\n",
    "- un âge minimal\n",
    "- un âge maximal\n",
    "\n",
    "et qui renvoie le nombre de français dont l'âge est compris entre le minimal (inclu) et le maximal (exclu).\n",
    "\n",
    "Par exemple :\n",
    "\n",
    "        >>> âge minimum (inclu) : 1\n",
    "        >>> âge maximum (exclu) : 9\n",
    "        il y a 6173698 personnes qui ont entre 1 et 9 ans"
   ]
  },
  {
   "cell_type": "markdown",
   "id": "bfe088fa",
   "metadata": {},
   "source": []
  },
  {
   "cell_type": "markdown",
   "id": "41a3448b",
   "metadata": {},
   "source": [
    "Pour parcourir **toutes les cases** d'un tableau `t`, on peut utiliser une  boucle `for` allant de 0 inclus à `len(t)` exclu."
   ]
  },
  {
   "cell_type": "markdown",
   "id": "2f8a7986",
   "metadata": {},
   "source": [
    "Proposer un programme qui affiche le nombre total de français contenus dans votre tableau `pda`."
   ]
  },
  {
   "cell_type": "code",
   "execution_count": 7,
   "id": "a874b8ee",
   "metadata": {},
   "outputs": [
    {
     "name": "stdout",
     "output_type": "stream",
     "text": [
      "7702078\n"
     ]
    }
   ],
   "source": [
    "population_totale = 0\n",
    "for i in range (0, len(pda)):\n",
    "    population_totale += pda[i]\n",
    "\n",
    "print(population_totale)"
   ]
  },
  {
   "cell_type": "markdown",
   "id": "d9fd6a0a",
   "metadata": {},
   "source": [
    "### 8.4 --- Construire de grands tableaux"
   ]
  },
  {
   "cell_type": "markdown",
   "id": "10ec8341",
   "metadata": {},
   "source": [
    "Pour construire des tableaux d'une taille arbitraire, on peut utiliser la syntaxe :\n",
    "\n",
    "```python\n",
    ">>> t = [0] * 1000\n",
    "```\n",
    "\n",
    "On donne la taille du tableau après le symbole `*` (ici `1000`) et entre crochet une valeur qui sera donnée à toutes les cases du tableau (ici `0`).\n",
    "\n",
    "On obtient donc un tableau de taille 1000 dont toutes les cases contiennent pour l'instant la valeur `0`."
   ]
  },
  {
   "cell_type": "markdown",
   "id": "3b8a05f4",
   "metadata": {},
   "source": [
    "Créer un tel tableau et vérifier sa taille."
   ]
  },
  {
   "cell_type": "code",
   "execution_count": 8,
   "id": "c3bf14ca",
   "metadata": {},
   "outputs": [
    {
     "data": {
      "text/plain": [
       "1000"
      ]
     },
     "execution_count": 8,
     "metadata": {},
     "output_type": "execute_result"
    }
   ],
   "source": [
    "t = [0] * 1000\n",
    "len(t)"
   ]
  },
  {
   "cell_type": "markdown",
   "id": "74530d55",
   "metadata": {},
   "source": [
    "Une fois le tableau créé, on peut le **remplir** avec des valeurs de son choix."
   ]
  },
  {
   "cell_type": "markdown",
   "id": "cc61449e",
   "metadata": {},
   "source": [
    "Remplir le tableau `t` avec la valeur des carrés des 1000 premiers entiers."
   ]
  },
  {
   "cell_type": "code",
   "execution_count": 11,
   "id": "d50bfe7f",
   "metadata": {},
   "outputs": [
    {
     "data": {
      "text/plain": [
       "100"
      ]
     },
     "execution_count": 11,
     "metadata": {},
     "output_type": "execute_result"
    }
   ],
   "source": [
    "for i in range(0, 1000):\n",
    "    t[i] = i * i"
   ]
  },
  {
   "cell_type": "markdown",
   "id": "f521abde",
   "metadata": {},
   "source": [
    "**Attention**, l'opération `[0]*1000` n'implique par une multiplication (même si on voit le symbole `*`). Il s'agit là d'une opération spécifique aux tableaux.\n"
   ]
  },
  {
   "cell_type": "markdown",
   "id": "c976cd9a",
   "metadata": {},
   "source": [
    "Il est possible de *concaténer* deux tableaux, c'est-à-dire de construire un nouveau tableau contenant bout à bout les éléments des deux tableaux. On le fait avec l'opération `+` :\n",
    "\n",
    "```python\n",
    ">>> [8, 13, 21] + [34, 55]\n",
    "[8, 13, 21, 34, 55]\n",
    "```"
   ]
  },
  {
   "cell_type": "markdown",
   "id": "090657bf",
   "metadata": {},
   "source": [
    "#### Tableaux et chaînes de caractères"
   ]
  },
  {
   "cell_type": "markdown",
   "id": "000a8aa3",
   "metadata": {},
   "source": [
    "Les chaînes de caractères offrent certaines ressemblance avec les tableaux.\n",
    "\n",
    "- taille d'une chaîne de caractère : `len(ch)`\n",
    "- accès au i-ème caractère d'une chaîne : `ch[i]`\n",
    "- concaténation : `+`\n",
    "- répétition d'un valeur : `*`"
   ]
  },
  {
   "cell_type": "markdown",
   "id": "2ee12fda",
   "metadata": {},
   "source": [
    "1. Créer la variable `ch` initialisée à la chaîne de caractères `\"bonjour\"`.\n",
    "2. Afficher la longueur de la chaîne. \n",
    "3. Vérifier que le 3ème caractère de la chaîne est bien le `n`\n",
    "4. Concaténer cette chaîne avec la deuxième chaîne `\" le monde !\"`"
   ]
  },
  {
   "cell_type": "code",
   "execution_count": 15,
   "id": "8fa5ce3f",
   "metadata": {},
   "outputs": [
    {
     "name": "stdout",
     "output_type": "stream",
     "text": [
      "7\n",
      "n\n",
      "bonjour le monde !\n"
     ]
    }
   ],
   "source": [
    "ch = \"bonjour\"\n",
    "print(len(ch))\n",
    "print(ch[2])\n",
    "ch = ch + \" le monde !\"\n",
    "print(ch)"
   ]
  },
  {
   "cell_type": "markdown",
   "id": "ee7c8e80",
   "metadata": {},
   "source": [
    "**Attention**, contrairement aux tableaux, les caractères d'une chaîne ne peuvent pas être modifiés. On dit qu'une chaîne est immuable."
   ]
  },
  {
   "cell_type": "code",
   "execution_count": 18,
   "id": "af6944f9",
   "metadata": {},
   "outputs": [
    {
     "ename": "TypeError",
     "evalue": "'str' object does not support item assignment",
     "output_type": "error",
     "traceback": [
      "\u001b[0;31m---------------------------------------------------------------------------\u001b[0m",
      "\u001b[0;31mTypeError\u001b[0m                                 Traceback (most recent call last)",
      "\u001b[0;32m/tmp/ipykernel_17904/1875237351.py\u001b[0m in \u001b[0;36m<module>\u001b[0;34m\u001b[0m\n\u001b[0;32m----> 1\u001b[0;31m \u001b[0mch\u001b[0m\u001b[0;34m[\u001b[0m\u001b[0;36m2\u001b[0m\u001b[0;34m]\u001b[0m \u001b[0;34m=\u001b[0m \u001b[0;34m\"Z\"\u001b[0m\u001b[0;34m\u001b[0m\u001b[0;34m\u001b[0m\u001b[0m\n\u001b[0m",
      "\u001b[0;31mTypeError\u001b[0m: 'str' object does not support item assignment"
     ]
    }
   ],
   "source": [
    "ch[2] = \"Z\""
   ]
  }
 ],
 "metadata": {
  "celltoolbar": "Diaporama",
  "interpreter": {
   "hash": "916dbcbb3f70747c44a77c7bcd40155683ae19c65e1c03b4aa3499c5328201f1"
  },
  "kernelspec": {
   "display_name": "Python 3",
   "language": "python",
   "name": "python3"
  },
  "language_info": {
   "codemirror_mode": {
    "name": "ipython",
    "version": 3
   },
   "file_extension": ".py",
   "mimetype": "text/x-python",
   "name": "python",
   "nbconvert_exporter": "python",
   "pygments_lexer": "ipython3",
   "version": "3.9.2"
  },
  "latex_metadata": {
   "theme": "langage",
   "title": "8 --- Tableaux"
  },
  "rise": {
   "theme": "serif"
  }
 },
 "nbformat": 4,
 "nbformat_minor": 5
}
