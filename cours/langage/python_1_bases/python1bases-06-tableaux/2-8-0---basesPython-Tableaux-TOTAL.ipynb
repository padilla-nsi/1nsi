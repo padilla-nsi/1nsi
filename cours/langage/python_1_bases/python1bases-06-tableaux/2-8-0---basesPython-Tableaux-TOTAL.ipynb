{
 "cells": [
  {
   "cell_type": "markdown",
   "id": "dab8a1e4",
   "metadata": {
    "slideshow": {
     "slide_type": "slide"
    }
   },
   "source": [
    "## 8 --- Tableaux"
   ]
  },
  {
   "cell_type": "markdown",
   "id": "8769558a",
   "metadata": {},
   "source": [
    "### 8.1 Pyramide des âges"
   ]
  },
  {
   "cell_type": "markdown",
   "id": "122e2b18",
   "metadata": {},
   "source": [
    "Imaginons un programme qui stoke la pyramide des âges des français (source : [pyramide des âges en 2021, source INSEE](https://www.insee.fr/fr/statistiques/2381472))."
   ]
  },
  {
   "cell_type": "markdown",
   "id": "e1741e74",
   "metadata": {},
   "source": [
    "Année de naissance |Âge révolu |Ensemble\n",
    "-|-|-\n",
    "2020 |0 |691 754\n",
    "2019 |1 |714 585\n",
    "2018 |2 |723 589\n",
    "2017 |3 |741 105\n",
    "2016 |4 |761 638\n",
    "2015 |5 |782 397\n",
    "2014 |6 |806 296\n",
    "2013 |7 |813 727\n",
    "2012 |8 |830 361\n",
    "2011 |9 |836 626\n",
    "2010 |10 |857 412\n",
    "2009 |11 |846 079\n",
    "..."
   ]
  },
  {
   "cell_type": "markdown",
   "id": "16f48920",
   "metadata": {},
   "source": [
    "Ce programme pourrait avoir deux fonctionnalités : \n",
    "\n",
    "1. si l'utilisateur saisie un âge alors le programme affiche le nombre de français ayant cet âge-là\n",
    "2. si l'utilisateur saisie deux âges, alors le programme affiche le nombre de français ayant un âge compris entre ces deux valeurs"
   ]
  },
  {
   "cell_type": "markdown",
   "id": "49322252",
   "metadata": {},
   "source": [
    "Réaliser un programme qui réalise cela pour les âges compris entre 0 an(inclus) et 5 ans (exclus)."
   ]
  },
  {
   "cell_type": "code",
   "execution_count": 1,
   "id": "baad0d03",
   "metadata": {},
   "outputs": [],
   "source": [
    "# essayer d'écrire le programme ici..\n",
    "..."
   ]
  },
  {
   "cell_type": "markdown",
   "id": "24a4bc5f",
   "metadata": {},
   "source": [
    "On voit bien qu'il faudra utiliser beaucoup de variables. Une variable pour chaque année. C'est très pénible et heureusement, le langage Python propose une alternative bien pratique..."
   ]
  },
  {
   "cell_type": "markdown",
   "id": "written-smile",
   "metadata": {},
   "source": [
    "### 8.2 Notion de tableau"
   ]
  },
  {
   "cell_type": "markdown",
   "id": "3465eba2",
   "metadata": {},
   "source": [
    "#### Création d'un tableau"
   ]
  },
  {
   "cell_type": "markdown",
   "id": "0dbec105",
   "metadata": {},
   "source": [
    "Un tableau permet de stocker plusieurs valeurs dans une seule variable et d'y accéder ensuite facilement.\n",
    "En Python, on construit un tableau en énumérant ses valeurs entre crochets et séparées par des virgules.\n",
    "\n",
    "```python\n",
    ">>> t = [2, 3, 5]\n",
    "```"
   ]
  },
  {
   "cell_type": "code",
   "execution_count": 2,
   "id": "a7b33cce",
   "metadata": {},
   "outputs": [],
   "source": [
    "t = [2, 3, 5]"
   ]
  },
  {
   "cell_type": "markdown",
   "id": "60586ba7",
   "metadata": {},
   "source": [
    "Ici, on a déclaré une variable `t` contenant un tableau. Ce tableau contient trois entiers. Les valeurs sont **ordonnées**. \n",
    "\n",
    "- la première valeur est `2`\n",
    "- la deuxième `3`\n",
    "- la troisième `5`\n",
    "\n",
    "On peut se représenter un tableau comme des cases consécutives\n",
    "\n",
    "$$\n",
    "\\begin{array}{|c|c|c|}\n",
    "\\hline\n",
    "\\texttt{2} & \\texttt{3} & \\texttt{5} \\\\\n",
    "\\hline\n",
    "\\end{array}\n",
    "$$\n",
    "\n",
    "C'est en effet ainsi qu'**un tableau est organisé dans la mémoire de l'ordinateur** : ses valeurs y sont rangées consécutivement."
   ]
  },
  {
   "cell_type": "markdown",
   "id": "7b77c931",
   "metadata": {},
   "source": [
    "#### Indices d'un tableau"
   ]
  },
  {
   "cell_type": "markdown",
   "id": "f6f443a5",
   "metadata": {},
   "source": [
    "Pour accéder à une valeur contenue dans le tableau `t`, il faut utiliser la notation `t[i]` où `i` désigne la numéro de la case à laquelle on veut accéder.\n",
    "\n",
    "**Les cases sont numérotées à partir de zéro.**\n",
    "\n",
    "Ainsi, la valeur contenue dans la première case du tableau est\n",
    "\n",
    "```python\n",
    ">>> t[0]\n",
    "2\n",
    "```\n",
    "\n"
   ]
  },
  {
   "cell_type": "code",
   "execution_count": 3,
   "id": "36af4980",
   "metadata": {},
   "outputs": [
    {
     "data": {
      "text/plain": [
       "2"
      ]
     },
     "execution_count": 3,
     "metadata": {},
     "output_type": "execute_result"
    }
   ],
   "source": [
    "t[0]"
   ]
  },
  {
   "cell_type": "markdown",
   "id": "d31b35ae",
   "metadata": {},
   "source": [
    "Écrire un code qui essaye d'accéder à une case en dehors des limites du tableau."
   ]
  },
  {
   "cell_type": "code",
   "execution_count": 4,
   "id": "9e02e4d3",
   "metadata": {},
   "outputs": [
    {
     "ename": "IndexError",
     "evalue": "list index out of range",
     "output_type": "error",
     "traceback": [
      "\u001b[0;31m---------------------------------------------------------------------------\u001b[0m",
      "\u001b[0;31mIndexError\u001b[0m                                Traceback (most recent call last)",
      "\u001b[0;32m/tmp/ipykernel_118370/3611909921.py\u001b[0m in \u001b[0;36m<module>\u001b[0;34m\u001b[0m\n\u001b[0;32m----> 1\u001b[0;31m \u001b[0mt\u001b[0m\u001b[0;34m[\u001b[0m\u001b[0;36m3\u001b[0m\u001b[0;34m]\u001b[0m\u001b[0;34m\u001b[0m\u001b[0;34m\u001b[0m\u001b[0m\n\u001b[0m",
      "\u001b[0;31mIndexError\u001b[0m: list index out of range"
     ]
    }
   ],
   "source": [
    "t[3]"
   ]
  },
  {
   "cell_type": "markdown",
   "id": "15d1e9e7",
   "metadata": {},
   "source": [
    "On dit que 0 est l'**indice** de la première case.\n",
    "\n",
    "La **taille** d'un tableau est son nombre de cases.\n",
    "\n",
    "On obtient la taille d'un tableau avec l'opération `len(t)`.\n",
    "\n",
    "```python\n",
    ">>> len(t)\n",
    "3\n",
    "```"
   ]
  },
  {
   "cell_type": "code",
   "execution_count": 5,
   "id": "ab644878",
   "metadata": {},
   "outputs": [
    {
     "data": {
      "text/plain": [
       "3"
      ]
     },
     "execution_count": 5,
     "metadata": {},
     "output_type": "execute_result"
    }
   ],
   "source": [
    "len(t)"
   ]
  },
  {
   "cell_type": "markdown",
   "id": "5680695a",
   "metadata": {},
   "source": [
    "Les indices d'un tableau `t` prennent donc des valeurs comprises entre `0` et `len(t)-1`.\n",
    "\n",
    "Ce qui donne la représentation mentale suivante :\n",
    "\n",
    "\n",
    "$$\n",
    "\\begin{array}{ccc}\n",
    "0 & 1 & 2\n",
    "\\end{array}\n",
    "\\\\\n",
    "\\begin{array}{|c|c|c|}\n",
    "\\hline\n",
    "\\texttt{2} & \\texttt{3} & \\texttt{5} \\\\\n",
    "\\hline\n",
    "\\end{array}\n",
    "$$\n",
    "\n",
    "Mais **attention**, seules les valeurs sont stockées en mémoire de l'ordinateur. Les indices n'ont pas besoin d'être matérialisés.\n"
   ]
  },
  {
   "cell_type": "markdown",
   "id": "25e049ec",
   "metadata": {},
   "source": [
    "#### Retour sur la pyramide des âges"
   ]
  },
  {
   "cell_type": "markdown",
   "id": "72a62a84",
   "metadata": {},
   "source": [
    "Créer un tableau `pda` contenant les 10 premiers effectifs de la pyramide des âges."
   ]
  },
  {
   "cell_type": "code",
   "execution_count": 6,
   "id": "3f0711e2",
   "metadata": {},
   "outputs": [],
   "source": [
    "pda = [691754, 714585, 723589, 741105, 761638, 782397, 806296, 813727, 830361, 836626]"
   ]
  },
  {
   "cell_type": "markdown",
   "id": "b0460a92",
   "metadata": {},
   "source": [
    "Dans la case `i` du tableau `pda` on retrouve le nombre de français ayant exactement l'âge `i`."
   ]
  },
  {
   "cell_type": "markdown",
   "id": "c1690e3a",
   "metadata": {},
   "source": [
    "Créer un programme qui demande un âge à l'utilisateur et affiche le nombre de français ayant cet âge-là."
   ]
  },
  {
   "cell_type": "markdown",
   "id": "dfe13f48",
   "metadata": {},
   "source": [
    "#### Modification du contenu d'un tableau"
   ]
  },
  {
   "cell_type": "markdown",
   "id": "2d1e2026",
   "metadata": {},
   "source": [
    "Le contenu d'un tableau peut être modifié.\n",
    "Pour cela, on utilise un **affectation** exactement comme on le ferait avec une variable.\n",
    "\n",
    "Ainsi, pour modifier le contenu de la seconde case du tableau `t` pour y remplacer la valeur 3 par la valeur 17 :\n",
    "\n",
    "```python\n",
    ">>> t[1] = 17\n",
    "```"
   ]
  },
  {
   "cell_type": "code",
   "execution_count": 7,
   "id": "2fc547f6",
   "metadata": {},
   "outputs": [],
   "source": [
    "t[1] = 17"
   ]
  },
  {
   "cell_type": "markdown",
   "id": "939d7f6b",
   "metadata": {},
   "source": [
    "Modifier le tableau `pda` pour y traduire une naissance."
   ]
  },
  {
   "cell_type": "code",
   "execution_count": 8,
   "id": "445c7e7a",
   "metadata": {},
   "outputs": [
    {
     "data": {
      "text/plain": [
       "[691755,\n",
       " 714585,\n",
       " 723589,\n",
       " 741105,\n",
       " 761638,\n",
       " 782397,\n",
       " 806296,\n",
       " 813727,\n",
       " 830361,\n",
       " 836626]"
      ]
     },
     "execution_count": 8,
     "metadata": {},
     "output_type": "execute_result"
    }
   ],
   "source": [
    "pda[0] = pda[0] + 1\n",
    "pda"
   ]
  },
  {
   "cell_type": "markdown",
   "id": "24fcd5ea",
   "metadata": {},
   "source": [
    "### 8.3 --- Parcours d'un tableau"
   ]
  },
  {
   "cell_type": "markdown",
   "id": "8a555b00",
   "metadata": {},
   "source": [
    "En utilisant le tableau `pda` de la partie précédente, proposer un programme permettant d'obtenir le nombre de français ayant entre 1 et 8 ans."
   ]
  },
  {
   "cell_type": "code",
   "execution_count": 9,
   "id": "duplicate-retirement",
   "metadata": {},
   "outputs": [
    {
     "data": {
      "text/plain": [
       "6173698"
      ]
     },
     "execution_count": 9,
     "metadata": {},
     "output_type": "execute_result"
    }
   ],
   "source": [
    "pda = [691754, 714585, 723589, 741105, 761638, 782397, 806296, 813727, 830361, 836626]\n",
    "pda[1] + pda[2] + pda[3] + pda[4] + pda[5] + pda[6] + pda[7] + pda[8]"
   ]
  },
  {
   "cell_type": "markdown",
   "id": "7f85b091",
   "metadata": {},
   "source": [
    "Comment s'y prendre quand le tableau est beaucoup plus long ?\n",
    "\n",
    "Une meilleure solution consiste à utiliser une **boucle** pour parcourir les cases du tableau concernées en **accumulant** le nombre total dans une variable.\n",
    "\n",
    "On commence par initialiser la variable `n` à `0` :\n",
    "\n",
    "```python\n",
    "n = 0\n",
    "```"
   ]
  },
  {
   "cell_type": "markdown",
   "id": "450808fd",
   "metadata": {},
   "source": [
    "Puis on effectue une boucle `for` donnant successivement à la variable `i` toutes les valeurs entre 1 et 8, et on ajoute à chaque fois la valeur `pda[i]` à la variable `n` :\n",
    "\n",
    "```python\n",
    "for i in range(1, 9):\n",
    "    n += pda[i]\n",
    "```\n",
    "\n",
    "On peut vérifier qu'après la boucle la variable `n` contient bien la valeur précédente.\n"
   ]
  },
  {
   "cell_type": "code",
   "execution_count": 10,
   "id": "8beda383",
   "metadata": {},
   "outputs": [
    {
     "data": {
      "text/plain": [
       "6173698"
      ]
     },
     "execution_count": 10,
     "metadata": {},
     "output_type": "execute_result"
    }
   ],
   "source": [
    "n = 0\n",
    "for i in range (1, 9):\n",
    "    n += pda[i]\n",
    "\n",
    "n"
   ]
  },
  {
   "cell_type": "markdown",
   "id": "61d9f26a",
   "metadata": {},
   "source": [
    "Écrire un programme qui demande à l'utilisateur\n",
    "\n",
    "- un âge minimal\n",
    "- un âge maximal\n",
    "\n",
    "et qui renvoie le nombre de français dont l'âge est compris entre le minimal (inclu) et le maximal (exclu).\n",
    "\n",
    "Par exemple :\n",
    "\n",
    "        >>> âge minimum (inclu) : 1\n",
    "        >>> âge maximum (exclu) : 9\n",
    "        il y a 6173698 personnes qui ont entre 1 et 9 ans"
   ]
  },
  {
   "cell_type": "markdown",
   "id": "bfe088fa",
   "metadata": {},
   "source": []
  },
  {
   "cell_type": "markdown",
   "id": "41a3448b",
   "metadata": {},
   "source": [
    "Pour parcourir **toutes les cases** d'un tableau `t`, on peut utiliser une  boucle `for` allant de 0 inclus à `len(t)` exclu."
   ]
  },
  {
   "cell_type": "markdown",
   "id": "2f8a7986",
   "metadata": {},
   "source": [
    "Proposer un programme qui affiche le nombre total de français contenus dans votre tableau `pda`."
   ]
  },
  {
   "cell_type": "code",
   "execution_count": 11,
   "id": "a874b8ee",
   "metadata": {},
   "outputs": [
    {
     "name": "stdout",
     "output_type": "stream",
     "text": [
      "7702078\n"
     ]
    }
   ],
   "source": [
    "population_totale = 0\n",
    "for i in range (0, len(pda)):\n",
    "    population_totale += pda[i]\n",
    "\n",
    "print(population_totale)"
   ]
  },
  {
   "cell_type": "markdown",
   "id": "d9fd6a0a",
   "metadata": {},
   "source": [
    "### 8.4 --- Construire de grands tableaux"
   ]
  },
  {
   "cell_type": "markdown",
   "id": "10ec8341",
   "metadata": {},
   "source": [
    "Pour construire des tableaux d'une taille arbitraire, on peut utiliser la syntaxe :\n",
    "\n",
    "```python\n",
    ">>> t = [0] * 1000\n",
    "```\n",
    "\n",
    "On donne la taille du tableau après le symbole `*` (ici `1000`) et entre crochet une valeur qui sera donnée à toutes les cases du tableau (ici `0`).\n",
    "\n",
    "On obtient donc un tableau de taille 1000 dont toutes les cases contiennent pour l'instant la valeur `0`."
   ]
  },
  {
   "cell_type": "markdown",
   "id": "3b8a05f4",
   "metadata": {},
   "source": [
    "Créer un tel tableau et vérifier sa taille."
   ]
  },
  {
   "cell_type": "code",
   "execution_count": 12,
   "id": "c3bf14ca",
   "metadata": {},
   "outputs": [
    {
     "data": {
      "text/plain": [
       "1000"
      ]
     },
     "execution_count": 12,
     "metadata": {},
     "output_type": "execute_result"
    }
   ],
   "source": [
    "t = [0] * 1000\n",
    "len(t)"
   ]
  },
  {
   "cell_type": "markdown",
   "id": "74530d55",
   "metadata": {},
   "source": [
    "Une fois le tableau créé, on peut le **remplir** avec des valeurs de son choix."
   ]
  },
  {
   "cell_type": "markdown",
   "id": "cc61449e",
   "metadata": {},
   "source": [
    "Remplir le tableau `t` avec la valeur des carrés des 1000 premiers entiers."
   ]
  },
  {
   "cell_type": "code",
   "execution_count": 13,
   "id": "d50bfe7f",
   "metadata": {},
   "outputs": [],
   "source": [
    "for i in range(0, 1000):\n",
    "    t[i] = i * i"
   ]
  },
  {
   "cell_type": "markdown",
   "id": "f521abde",
   "metadata": {},
   "source": [
    "**Attention**, l'opération `[0]*1000` n'implique par une multiplication (même si on voit le symbole `*`). Il s'agit là d'une opération spécifique aux tableaux.\n"
   ]
  },
  {
   "cell_type": "markdown",
   "id": "c976cd9a",
   "metadata": {},
   "source": [
    "Il est possible de *concaténer* deux tableaux, c'est-à-dire de construire un nouveau tableau contenant bout à bout les éléments des deux tableaux. On le fait avec l'opération `+` :\n",
    "\n",
    "```python\n",
    ">>> [8, 13, 21] + [34, 55]\n",
    "[8, 13, 21, 34, 55]\n",
    "```"
   ]
  },
  {
   "cell_type": "markdown",
   "id": "090657bf",
   "metadata": {},
   "source": [
    "#### Tableaux et chaînes de caractères"
   ]
  },
  {
   "cell_type": "markdown",
   "id": "000a8aa3",
   "metadata": {},
   "source": [
    "Les chaînes de caractères offrent certaines ressemblance avec les tableaux.\n",
    "\n",
    "- taille d'une chaîne de caractère : `len(ch)`\n",
    "- accès au i-ème caractère d'une chaîne : `ch[i]`\n",
    "- concaténation : `+`\n",
    "- répétition d'un valeur : `*`"
   ]
  },
  {
   "cell_type": "markdown",
   "id": "2ee12fda",
   "metadata": {},
   "source": [
    "1. Créer la variable `ch` initialisée à la chaîne de caractères `\"bonjour\"`.\n",
    "2. Afficher la longueur de la chaîne. \n",
    "3. Vérifier que le 3ème caractère de la chaîne est bien le `n`\n",
    "4. Concaténer cette chaîne avec la deuxième chaîne `\" le monde !\"`"
   ]
  },
  {
   "cell_type": "code",
   "execution_count": 14,
   "id": "8fa5ce3f",
   "metadata": {},
   "outputs": [
    {
     "name": "stdout",
     "output_type": "stream",
     "text": [
      "7\n",
      "n\n",
      "bonjour le monde !\n"
     ]
    }
   ],
   "source": [
    "ch = \"bonjour\"\n",
    "print(len(ch))\n",
    "print(ch[2])\n",
    "ch = ch + \" le monde !\"\n",
    "print(ch)"
   ]
  },
  {
   "cell_type": "markdown",
   "id": "ee7c8e80",
   "metadata": {},
   "source": [
    "**Attention**, contrairement aux tableaux, les caractères d'une chaîne ne peuvent pas être modifiés. On dit qu'une chaîne est immuable."
   ]
  },
  {
   "cell_type": "code",
   "execution_count": 15,
   "id": "af6944f9",
   "metadata": {},
   "outputs": [
    {
     "ename": "TypeError",
     "evalue": "'str' object does not support item assignment",
     "output_type": "error",
     "traceback": [
      "\u001b[0;31m---------------------------------------------------------------------------\u001b[0m",
      "\u001b[0;31mTypeError\u001b[0m                                 Traceback (most recent call last)",
      "\u001b[0;32m/tmp/ipykernel_118370/1875237351.py\u001b[0m in \u001b[0;36m<module>\u001b[0;34m\u001b[0m\n\u001b[0;32m----> 1\u001b[0;31m \u001b[0mch\u001b[0m\u001b[0;34m[\u001b[0m\u001b[0;36m2\u001b[0m\u001b[0;34m]\u001b[0m \u001b[0;34m=\u001b[0m \u001b[0;34m\"Z\"\u001b[0m\u001b[0;34m\u001b[0m\u001b[0;34m\u001b[0m\u001b[0m\n\u001b[0m",
      "\u001b[0;31mTypeError\u001b[0m: 'str' object does not support item assignment"
     ]
    }
   ],
   "source": [
    "ch[2] = \"Z\""
   ]
  },
  {
   "cell_type": "markdown",
   "id": "russian-handling",
   "metadata": {},
   "source": [
    "### 8.5 --- Tableaux et variables"
   ]
  },
  {
   "cell_type": "markdown",
   "id": "bb11846e",
   "metadata": {},
   "source": [
    "<div class=\"alert alert-warning\" role=\"alert\">\n",
    "    \n",
    "### Activité\n",
    "\n",
    "Le bloc de code ci-dessous fait appel à un outil **indispensable** : [Python Tutor](https://pythontutor.com). Je vous invite à l'utiliser en autonomie chaque fois que vous voulez comprendre ou visualiser un algorithme, une erreur, etc.\n",
    "\n",
    "\n",
    "1. Exécuter le bloc de code\n",
    "2. Visualiser l'exécution du code pas à pas (en cliquant sur <kbd>Forward ></kbd>) et répondre aux questions suivantes :\n",
    "   1. Comment s'appelle l'instruction de la ligne 1 ?\n",
    "   2. Est-ce que l'instruction de la ligne 4 modifie le contenu de la variable `x` ?\n",
    "   3. Même question pour l'instruction de la ligne 7.\n",
    "   4. Proposer une explication...\n",
    "\n",
    "</div>"
   ]
  },
  {
   "cell_type": "code",
   "execution_count": null,
   "id": "550e85b4",
   "metadata": {},
   "outputs": [],
   "source": [
    "from tutor import tutor\n",
    "\n",
    "x = 1\n",
    "x = 2\n",
    "y = x\n",
    "y = 3\n",
    "t = [1, 2, 3]\n",
    "u = t\n",
    "u[2] = 7\n",
    "print(t[2])\n",
    "\n",
    "tutor()"
   ]
  },
  {
   "cell_type": "markdown",
   "id": "b34c5a9b",
   "metadata": {},
   "source": [
    "... bloc de réponse ..."
   ]
  },
  {
   "cell_type": "markdown",
   "id": "9b266ce7",
   "metadata": {},
   "source": [
    "Petite explication de ce phénomène d'**effet de bords** lié aux tableaux.\n",
    "\n",
    "En réalité, ce n'est pas un tableau qui est stocké en mémoire, mais l'*adresse mémoire* du tableau (c'est pour cela que la représentation adoptée est celle d'une flèche : l'adresse mémoire désigne l'emplacement où se trouve le tableau).\n",
    "\n",
    "Du coup, les deux variables `t` et `u` désignent **le même** tableau ! Et donc toute modification du contenu du tableau `u` sera visible dans le tableau `t`."
   ]
  },
  {
   "cell_type": "markdown",
   "id": "78efa0fb",
   "metadata": {},
   "source": [
    "### 8-6 --- Tableaux et fonctions"
   ]
  },
  {
   "cell_type": "markdown",
   "id": "08d15d61",
   "metadata": {},
   "source": [
    "#### Tableau en argument"
   ]
  },
  {
   "cell_type": "markdown",
   "id": "f17a2f70",
   "metadata": {},
   "source": [
    "Dans le même ordre d'idée, nous allons passer un tableau en argument d'une fonction dans l'exemple ci-dessous."
   ]
  },
  {
   "cell_type": "markdown",
   "id": "surface-commons",
   "metadata": {},
   "source": [
    "<div class=\"alert alert-warning\" role=\"alert\">\n",
    "    \n",
    "### Activité\n",
    "\n",
    "\n",
    "\n",
    "1. Observer le code ci-dessous et répondre aux questions suivantes :\n",
    "   1. À quel type de valeur correspondent les variables `x` et `t` lorsqu'elles sont initialisées ?\n",
    "   2. Quelles sont les valeurs initiales des variables `x` et `t` ?\n",
    "   3. Que fait la fonction `f` ?\n",
    "2. Exécuter le bloc de code ci-dessous.\n",
    "3. Visualiser l'exécution du code pas à pas et répondre aux questions suivantes :\n",
    "   1. Quelles sont les valeurs des variables `x` et `t` **après** l'exécution complète de l'instruction ligne 8 ?\n",
    "   5. Expliquer pourquoi la variable `x` est inchangée alors que `t` a été modifiée ?\n",
    "\n",
    "</div>"
   ]
  },
  {
   "cell_type": "code",
   "execution_count": null,
   "id": "51256ccb",
   "metadata": {},
   "outputs": [],
   "source": [
    "from tutor import tutor\n",
    "\n",
    "x = 1\n",
    "t = [1, 2, 3]\n",
    "\n",
    "def f(a, b):\n",
    "    a = a + 1\n",
    "    b[a] = 7\n",
    "    \n",
    "f(x, t)\n",
    "\n",
    "tutor()"
   ]
  },
  {
   "cell_type": "markdown",
   "id": "2627b835",
   "metadata": {},
   "source": [
    "... bloc de réponse ..."
   ]
  },
  {
   "cell_type": "markdown",
   "id": "af17ecff",
   "metadata": {},
   "source": [
    "Comme on le constate, le contenu du tableau `t` a été modifié par la fonction, mais pas le contenu de la variable `x` : **une fonction peut modifier le contenu d'un tableau qui lui est passé en argument**.\n",
    "\n",
    "Nous écrirons par la suite de nombreuses fonctions opérant ainsi sur les tableaux. Par exemple en créant des fonctions qui trient le contenu d'un tableau."
   ]
  },
  {
   "cell_type": "markdown",
   "id": "8c2e040f",
   "metadata": {},
   "source": [
    "#### Tableau renvoyé par une fonction"
   ]
  },
  {
   "cell_type": "markdown",
   "id": "d5bac75e",
   "metadata": {},
   "source": [
    "Une fonction peut aussi renvoyer un tableau comme résultat.\n",
    "\n",
    "Pour bien comprendre ce qu'il se passe, illustrons cela par un autre exemple."
   ]
  },
  {
   "cell_type": "markdown",
   "id": "41374360",
   "metadata": {},
   "source": [
    "<div class=\"alert alert-warning\" role=\"alert\">\n",
    "    \n",
    "### Activité\n",
    "\n",
    "\n",
    "1. Lire le code ci-dessous et répondre aux questions suivantes :\n",
    "   1. Que fait la fonction `carres(n)` lorsqu'on lui passe un nombre entier `n` en argument ?\n",
    "   2. Lorsqu'on exécute l'instruction `c = carres(4)`, la fonction s'exécute. En arrivant à la ligne `return`, combien y a-t-il de variables locales à la fonction en mémoire ?\n",
    "   3. Une fois que la fonction s'est complètement exécutée, combien reste-t-il de variables locales à la fonction en mémoire ?\n",
    "2. Exécuter le bloc de code ci-dessous.\n",
    "3. Visualiser l'exécution du code pas à pas et répondre aux questions suivantes :\n",
    "   1. Est-ce que la variable `t` a survécu à l'appel à la fonction ?\n",
    "   2. Est-ce que le contenu de la variable `t` a survécu ?\n",
    "\n",
    "</div>"
   ]
  },
  {
   "cell_type": "code",
   "execution_count": null,
   "id": "2ab98bdd",
   "metadata": {},
   "outputs": [],
   "source": [
    "from tutor import tutor\n",
    "\n",
    "def carres(n):\n",
    "    t = [0] * n\n",
    "    for i in range(n):\n",
    "        t[i] = i * i\n",
    "    return t\n",
    "\n",
    "c = carres(4)\n",
    "\n",
    "tutor()"
   ]
  }
 ],
 "metadata": {
  "celltoolbar": "Diaporama",
  "interpreter": {
   "hash": "916dbcbb3f70747c44a77c7bcd40155683ae19c65e1c03b4aa3499c5328201f1"
  },
  "kernelspec": {
   "display_name": "Python 3",
   "language": "python",
   "name": "python3"
  },
  "language_info": {
   "codemirror_mode": {
    "name": "ipython",
    "version": 3
   },
   "file_extension": ".py",
   "mimetype": "text/x-python",
   "name": "python",
   "nbconvert_exporter": "python",
   "pygments_lexer": "ipython3",
   "version": "3.9.2"
  },
  "latex_metadata": {
   "theme": "langage",
   "title": "8 --- Tableaux"
  },
  "rise": {
   "theme": "serif"
  }
 },
 "nbformat": 4,
 "nbformat_minor": 5
}
