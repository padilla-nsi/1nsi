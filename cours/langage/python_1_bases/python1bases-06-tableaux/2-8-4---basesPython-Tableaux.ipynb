{
 "cells": [
  {
   "cell_type": "markdown",
   "id": "24fcd5ea",
   "metadata": {},
   "source": [
    "### 8.5 --- Tableaux et variables"
   ]
  },
  {
   "cell_type": "markdown",
   "id": "bb11846e",
   "metadata": {},
   "source": [
    "<div class=\"alert alert-warning\" role=\"alert\">\n",
    "    \n",
    "### Activité\n",
    "\n",
    "Le bloc de code ci-dessous fait appel à un outil **indispensable** : [Python Tutor](https://pythontutor.com). Je vous invite à l'utiliser en autonomie chaque fois que vous voulez comprendre ou visualiser un algorithme, une erreur, etc.\n",
    "\n",
    "\n",
    "1. Exécuter le bloc de code\n",
    "2. Visualiser l'exécution du code pas à pas (en cliquant sur <kbd>Forward ></kbd>) et répondre aux questions suivantes :\n",
    "   1. Comment s'appelle l'instruction de la ligne 1 ?\n",
    "   2. Est-ce que l'instruction de la ligne 4 modifie le contenu de la variable `x` ?\n",
    "   3. Même question pour l'instruction de la ligne 7.\n",
    "   4. Proposer une explication...\n",
    "\n",
    "</div>"
   ]
  },
  {
   "cell_type": "code",
   "execution_count": null,
   "id": "550e85b4",
   "metadata": {},
   "outputs": [],
   "source": [
    "from tutor import tutor\n",
    "\n",
    "x = 1\n",
    "x = 2\n",
    "y = x\n",
    "y = 3\n",
    "t = [1, 2, 3]\n",
    "u = t\n",
    "u[2] = 7\n",
    "print(t[2])\n",
    "\n",
    "tutor()"
   ]
  },
  {
   "cell_type": "markdown",
   "id": "b34c5a9b",
   "metadata": {},
   "source": [
    "... bloc de réponse ..."
   ]
  },
  {
   "cell_type": "markdown",
   "id": "9b266ce7",
   "metadata": {},
   "source": [
    "Petite explication de ce phénomène d'**effet de bords** lié aux tableaux.\n",
    "\n",
    "En réalité, ce n'est pas un tableau qui est stocké en mémoire, mais l'*adresse mémoire* du tableau (c'est pour cela que la représentation adoptée est celle d'une flèche : l'adresse mémoire désigne l'emplacement où se trouve le tableau).\n",
    "\n",
    "Du coup, les deux variables `t` et `u` désignent **le même** tableau ! Et donc toute modification du contenu du tableau `u` sera visible dans le tableau `t`."
   ]
  },
  {
   "cell_type": "markdown",
   "id": "78efa0fb",
   "metadata": {},
   "source": [
    "### 8-6 --- Tableaux et fonctions"
   ]
  },
  {
   "cell_type": "markdown",
   "id": "08d15d61",
   "metadata": {},
   "source": [
    "#### Tableau en argument"
   ]
  },
  {
   "cell_type": "markdown",
   "id": "f17a2f70",
   "metadata": {},
   "source": [
    "Dans le même ordre d'idée, nous allons passer un tableau en argument d'une fonction dans l'exemple ci-dessous."
   ]
  },
  {
   "cell_type": "markdown",
   "id": "bb11846e",
   "metadata": {},
   "source": [
    "<div class=\"alert alert-warning\" role=\"alert\">\n",
    "    \n",
    "### Activité\n",
    "\n",
    "\n",
    "\n",
    "1. Observer le code ci-dessous et répondre aux questions suivantes :\n",
    "   1. À quel type de valeur correspondent les variables `x` et `t` lorsqu'elles sont initialisées ?\n",
    "   2. Quelles sont les valeurs initiales des variables `x` et `t` ?\n",
    "   3. Que fait la fonction `f` ?\n",
    "2. Exécuter le bloc de code ci-dessous.\n",
    "3. Visualiser l'exécution du code pas à pas et répondre aux questions suivantes :\n",
    "   1. Quelles sont les valeurs des variables `x` et `t` **après** l'exécution complète de l'instruction ligne 8 ?\n",
    "   5. Expliquer pourquoi la variable `x` est inchangée alors que `t` a été modifiée ?\n",
    "\n",
    "</div>"
   ]
  },
  {
   "cell_type": "code",
   "execution_count": null,
   "id": "51256ccb",
   "metadata": {},
   "outputs": [],
   "source": [
    "from tutor import tutor\n",
    "\n",
    "x = 1\n",
    "t = [1, 2, 3]\n",
    "\n",
    "def f(a, b):\n",
    "    a = a + 1\n",
    "    b[a] = 7\n",
    "    \n",
    "f(x, t)\n",
    "\n",
    "tutor()"
   ]
  },
  {
   "cell_type": "markdown",
   "id": "2627b835",
   "metadata": {},
   "source": [
    "... bloc de réponse ..."
   ]
  },
  {
   "cell_type": "markdown",
   "id": "af17ecff",
   "metadata": {},
   "source": [
    "Comme on le constate, le contenu du tableau `t` a été modifié par la fonction, mais pas le contenu de la variable `x` : **une fonction peut modifier le contenu d'un tableau qui lui est passé en argument**.\n",
    "\n",
    "Nous écrirons par la suite de nombreuses fonctions opérant ainsi sur les tableaux. Par exemple en créant des fonctions qui trient le contenu d'un tableau."
   ]
  },
  {
   "cell_type": "markdown",
   "id": "8c2e040f",
   "metadata": {},
   "source": [
    "#### Tableau renvoyé par une fonction"
   ]
  },
  {
   "cell_type": "markdown",
   "id": "d5bac75e",
   "metadata": {},
   "source": [
    "Une fonction peut aussi renvoyer un tableau comme résultat.\n",
    "\n",
    "Pour bien comprendre ce qu'il se passe, illustrons cela par un autre exemple."
   ]
  },
  {
   "cell_type": "markdown",
   "id": "41374360",
   "metadata": {},
   "source": [
    "<div class=\"alert alert-warning\" role=\"alert\">\n",
    "    \n",
    "### Activité\n",
    "\n",
    "\n",
    "1. Lire le code ci-dessous et répondre aux questions suivantes :\n",
    "   1. Que fait la fonction `carres(n)` lorsqu'on lui passe un nombre entier `n` en argument ?\n",
    "   2. Lorsqu'on exécute l'instruction `c = carres(4)`, la fonction s'exécute. En arrivant à la ligne `return`, combien y a-t-il de variables locales à la fonction en mémoire ?\n",
    "   3. Une fois que la fonction s'est complètement exécutée, combien reste-t-il de variables locales à la fonction en mémoire ?\n",
    "2. Exécuter le bloc de code ci-dessous.\n",
    "3. Visualiser l'exécution du code pas à pas et répondre aux questions suivantes :\n",
    "   1. Est-ce que la variable `t` a survécu à l'appel à la fonction ?\n",
    "   2. Est-ce que le contenu de la variable `t` a survécu ?\n",
    "\n",
    "</div>"
   ]
  },
  {
   "cell_type": "code",
   "execution_count": null,
   "id": "2ab98bdd",
   "metadata": {},
   "outputs": [],
   "source": [
    "from tutor import tutor\n",
    "\n",
    "def carres(n):\n",
    "    t = [0] * n\n",
    "    for i in range(n):\n",
    "        t[i] = i * i\n",
    "    return t\n",
    "\n",
    "c = carres(4)\n",
    "\n",
    "tutor()"
   ]
  },
  {
   "cell_type": "markdown",
   "id": "1c9b81e5",
   "metadata": {},
   "source": []
  }
 ],
 "metadata": {
  "celltoolbar": "Diaporama",
  "interpreter": {
   "hash": "916dbcbb3f70747c44a77c7bcd40155683ae19c65e1c03b4aa3499c5328201f1"
  },
  "kernelspec": {
   "display_name": "Python 3",
   "language": "python",
   "name": "python3"
  },
  "language_info": {
   "codemirror_mode": {
    "name": "ipython",
    "version": 3
   },
   "file_extension": ".py",
   "mimetype": "text/x-python",
   "name": "python",
   "nbconvert_exporter": "python",
   "pygments_lexer": "ipython3",
   "version": "3.9.2"
  },
  "latex_metadata": {
   "theme": "langage",
   "title": "8 --- Tableaux"
  },
  "rise": {
   "theme": "serif"
  }
 },
 "nbformat": 4,
 "nbformat_minor": 5
}
