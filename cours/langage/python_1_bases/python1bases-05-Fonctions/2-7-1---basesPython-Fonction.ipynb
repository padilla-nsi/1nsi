{
 "cells": [
  {
   "cell_type": "markdown",
   "id": "dab8a1e4",
   "metadata": {
    "slideshow": {
     "slide_type": "slide"
    }
   },
   "source": [
    "## 7 --- Fonctions"
   ]
  },
  {
   "cell_type": "markdown",
   "id": "14e7d863",
   "metadata": {
    "slideshow": {
     "slide_type": "slide"
    }
   },
   "source": [
    "### Introduction"
   ]
  },
  {
   "cell_type": "markdown",
   "id": "8618289a",
   "metadata": {
    "slideshow": {
     "slide_type": "subslide"
    },
    "tags": [
     "exo"
    ]
   },
   "source": [
    "On souhaite réaliser une application. Lors de l'exécution de notre application, avant d'arriver à l'écran de menus, il est habituel d'afficher un écran d'accueil appelé *splash screen* affichant le nom de l'application, une référence à l'équipe de production.\n",
    "\n",
    "L'application affiche un écran d'accueil le nom de l'application, sa version et le nom de l'équipe de production. Après le chargement des données, on indiquera à l'utilisateur qu'il doit appuyer sur `Entrée` pour passer à la suite.\n",
    "Lorsque l'utilisateur valide, afficher un menu (par exemple `\"Nouvelle Partie\"`, `\"Sauvegardes\"`, `\"Configuration\"`)."
   ]
  },
  {
   "cell_type": "markdown",
   "id": "28ede67c",
   "metadata": {
    "tags": [
     "solution"
    ]
   },
   "source": [
    "Le programme réalisé est peu satisfaisant. Il comporte clairement trois grandes parties différentes mais tout est écrit en un seul bloc. Il serait pratique de structurer le code en trois sous fonctionnalités :\n",
    "\n",
    "- `afficher_splash`, \n",
    "- `charger_data` et \n",
    "- `afficher_menu`."
   ]
  },
  {
   "cell_type": "markdown",
   "id": "b5680025",
   "metadata": {
    "slideshow": {
     "slide_type": "subslide"
    }
   },
   "source": [
    "\n",
    "\n",
    "Nous allons voir dans cette leçon comment rendre le code plus élégant en définissant des **fonctions**, c'est à dire des fragments de codes réutilisables réalisant une tâche donnée pouvant dépendre d'un certain nombre de paramètres."
   ]
  },
  {
   "cell_type": "markdown",
   "id": "f58c2863",
   "metadata": {
    "slideshow": {
     "slide_type": "slide"
    }
   },
   "source": [
    "### Définir une fonction"
   ]
  },
  {
   "cell_type": "markdown",
   "id": "c8f49371",
   "metadata": {
    "slideshow": {
     "slide_type": "subslide"
    }
   },
   "source": [
    "Une fonction associe une séquence d'instructions à un nom. "
   ]
  },
  {
   "cell_type": "markdown",
   "id": "9c02a046",
   "metadata": {
    "tags": [
     "exemple"
    ]
   },
   "source": [
    "**Suite de l'activité 1.** Voici par exemple un exemple simple d'une fonction `afficher_menu` qui affiche un menu composé de trois lignes : `\"Nouvelle Partie\"`, `\"Sauvegardes\"`, `\"Configuration\"`.\n",
    "\n",
    "```python\n",
    "def afficher_menu():\n",
    "    print(\"===============\")\n",
    "    print(\"Nouvelle Partie\")\n",
    "    print(\"---------------\")\n",
    "    print(\"  Sauvegardes\")\n",
    "    print(\"---------------\")\n",
    "    print(\" Configuration\")\n",
    "    print(\"===============\")\n",
    "```"
   ]
  },
  {
   "cell_type": "markdown",
   "id": "162e83e7",
   "metadata": {
    "slideshow": {
     "slide_type": "subslide"
    },
    "tags": [
     "retenir"
    ]
   },
   "source": [
    "La **définition** commence par\n",
    "\n",
    "- le mot-clé `def`, suivi par \n",
    "- le nom de la fonction (ici `afficher_menu`), puis\n",
    "- une paire de parenthèses et\n",
    "- deux points."
   ]
  },
  {
   "cell_type": "markdown",
   "id": "b702e05e",
   "metadata": {
    "tags": [
     "exemple"
    ]
   },
   "source": [
    "**Suite de l'activité 1.** La fonction est constituée d'un bloc de 7 instructions : le *corps de la fonction*.\n",
    "\n",
    "Comme pour un bloc `for` ou `if`, le corps est écrit en retrait."
   ]
  },
  {
   "cell_type": "markdown",
   "id": "25f2607d",
   "metadata": {
    "slideshow": {
     "slide_type": "subslide"
    },
    "tags": [
     "retenir"
    ]
   },
   "source": [
    "Pour exécuter la fonction `afficher_menu`, on **appelle** la fonction avec la syntaxe suivante :"
   ]
  },
  {
   "cell_type": "markdown",
   "id": "a521019b",
   "metadata": {
    "tags": [
     "exemple"
    ]
   },
   "source": [
    "**Suite de l'activité 1.** Voici comment appeler la fonction `afficher_menu` pour que le menu s'affiche :\n",
    "\n",
    "```python\n",
    "afficher_menu()\n",
    "```\n",
    "\n",
    "| | | \n",
    "|-|-|\n",
    "|Appeler la fonction produit le même résultat que si on avait exécuté le corps de la fonction directement. On peut visualiser son exécution sur [Python Tutor](https://pythontutor.com/visualize.html#code='def%20afficher_menu%28%29%3A%0A%20%20%20%20print%28%22%3D%3D%3D%3D%3D%3D%3D%3D%3D%3D%3D%3D%3D%3D%3D%22%29%0A%20%20%20%20print%28%22Nouvelle%20Partie%22%29%0A%20%20%20%20print%28%22---------------%22%29%0A%20%20%20%20print%28%22%20%20Sauvegardes%22%29%0A%20%20%20%20print%28%22---------------%22%29%0A%20%20%20%20print%28%22%20Configuration%22%29%0A%20%20%20%20print%28%22%3D%3D%3D%3D%3D%3D%3D%3D%3D%3D%3D%3D%3D%3D%3D%22%29%0A%20%20%20%20%0Aafficher_menu%28%29'&cumulative=false&curInstr=0&heapPrimitives=nevernest&mode=display&origin=opt-frontend.js&py=3&rawInputLstJSON=%5B%5D&textReferences=false).| $\\includegraphics[width=5cm, valign=t]{./qr_afficher_menu.png}$ |\n",
    "\n",
    "\n"
   ]
  },
  {
   "cell_type": "markdown",
   "id": "30a34b3c",
   "metadata": {
    "slideshow": {
     "slide_type": "subslide"
    }
   },
   "source": [
    "### Fonction avec paramètres"
   ]
  },
  {
   "cell_type": "markdown",
   "id": "ea9a81d9",
   "metadata": {},
   "source": [
    "Les fonctions peuvent dépendre d'un **paramètre**. C'est-à-dire d'une valeur qui sera précisée à **chaque** appel de la fonction.\n",
    "\n",
    "Cette valeur peut être différente d'un appel à un autre."
   ]
  },
  {
   "cell_type": "markdown",
   "id": "f67e003a",
   "metadata": {
    "slideshow": {
     "slide_type": "fragment"
    },
    "tags": [
     "exemple"
    ]
   },
   "source": [
    "**Suite de l'activité 1.** Soit la fonction `charger_data` qui affiche une barre de chargement. Imaginons que la durée du chargement doive **varier** d'un appel à un autre.\n",
    "\n",
    "Pour réaliser cela, on définit un paramètre qu'on nomme `duree`.\n",
    "\n",
    "Chaque appel se fait avec une valeur concrète dans la parenthèse. Par exemple `charger_data(2)` pour signifier une durée de 2 secondes.\n",
    "\n",
    "De son côté, la fonction crée une variable locale `duree` qui est initialisée avec la valeur concrète passée en paramètre. Par exemple après l'appel `charger_data(2)`, on a l'affectation suivante $\\texttt{duree} \\leftarrow 2$. On obtient donc en mémoire locale à la fonction :\n",
    "\n",
    "\n",
    "\\begin{center}\n",
    "    Mémoire locale à la fonction \\texttt{charger\\_data}\\\\\n",
    "    {\\setlength{\\fboxrule}{2pt}\n",
    "    \\fcolorbox{black}{white}{\n",
    "        \\parbox{4cm}{\\centering\n",
    "            \\begin{tabular}{r|c|}\n",
    "                & ... \n",
    "                \\\\ \\cline{2-2}\n",
    "                \\texttt{duree} & $2$\n",
    "                \\\\ \\cline{2-2}\n",
    "                & ... \n",
    "                \\\\\n",
    "            \\end{tabular}\n",
    "    }}}\n",
    "\\end{center}\n",
    "\n",
    "\n",
    "Puis lors de l'exécution de la fonction, chaque référence à la variable `duree` fait pointer vers la variable concrète locale à la fonction."
   ]
  },
  {
   "cell_type": "code",
   "execution_count": 2,
   "id": "30543dcf",
   "metadata": {
    "slideshow": {
     "slide_type": "subslide"
    }
   },
   "outputs": [
    {
     "name": "stdout",
     "output_type": "stream",
     "text": [
      "chargement en 1 secondes\n",
      "[###############]\n",
      "fin\n",
      "\n",
      "chargement en 2 secondes\n",
      "[###############]\n",
      "fin\n",
      "\n",
      "chargement en 4 secondes\n",
      "[###############]\n",
      "fin\n",
      "\n"
     ]
    }
   ],
   "source": [
    "def charger_data(duree):\n",
    "    print(\"chargement en\", duree, \"secondes\")\n",
    "\n",
    "    fraction_duree = duree / 16\n",
    "    from time import sleep\n",
    "    print(f\"[{' '*15}]\", end=\"\")\n",
    "    for i in range(16):\n",
    "        print(f\"\\r[{'#'*(i)}\", end=\"\")\n",
    "        sleep(fraction_duree)\n",
    "    print(\"\\nfin\\n\")\n",
    "\n",
    "\n",
    "charger_data(1)  # la fonction s'exécute avec `duree` qui vaut 1\n",
    "charger_data(2)  # la fonction s'exécute avec `duree` qui vaut 2\n",
    "charger_data(4)  # la fonction s'exécute avec `duree` qui vaut 4"
   ]
  },
  {
   "cell_type": "markdown",
   "id": "39dcad13",
   "metadata": {
    "slideshow": {
     "slide_type": "subslide"
    }
   },
   "source": [
    "### Fonction à plusieurs paramètres"
   ]
  },
  {
   "cell_type": "markdown",
   "id": "lesser-piano",
   "metadata": {
    "tags": [
     "retenir"
    ]
   },
   "source": [
    "Il peut être nécessaire d'avoir des fonctions avec **plusieurs** arguments.\n",
    "\n",
    "Pour ajouter des arguments, on ajoute des noms de variables dans les parenthèses de la fonction."
   ]
  },
  {
   "cell_type": "markdown",
   "id": "b2fce25c",
   "metadata": {
    "tags": [
     "exemple"
    ]
   },
   "source": [
    "**Pythagore.** Par exemple pour savoir si un triangle est rectangle, il faut connaître les longueurs de ses **trois côtés**. On peut donc imaginer une fonction `test_pythagore()` qui indique si oui ou non un triangle est rectangle. \n",
    "\n",
    "Pour s'adapter à chaque triangle, il est nécessaire d'indiquer à chaque appel de la fonction les valeurs des trois longueurs. La fonction nécessite donc **3 arguments** : un pour chaque longueur.\n",
    "\n",
    "```python\n",
    "def test_pythagore(longueur_1, longueur_2, longueur_3):\n",
    "    ...\n",
    "```"
   ]
  },
  {
   "cell_type": "markdown",
   "id": "lesser-auditor",
   "metadata": {
    "tags": [
     "exemple"
    ]
   },
   "source": [
    "**Fonctions prédéfinies.** Depuis le début de l'année, vous avez utilisé et manipulé de nombreuses fonction qui sont prédéfinie en Python. \n",
    "\n",
    "Par exemple :\n",
    "\n",
    "- `print()` pour afficher du texte (qui admet en argument un n-uplet (`tuple`)\n",
    "- `int()` pour convertir en nombre entier (qui admet en argument la chaîne de caractère et (facultatif) la base)\n",
    "- `float()` pour convertir en nombre décimal une chaîne de caractère\n",
    "- `input()` pour afficher un texte (argument de la fonction) et renvoyer le texte écrit par l'utilisateur."
   ]
  },
  {
   "cell_type": "markdown",
   "id": "3a5fe848",
   "metadata": {
    "tags": [
     "remarque"
    ]
   },
   "source": [
    "`break` ou `continue` ne sont pas des fonctions, mais des *mots clés*.\n",
    "\n",
    "Il n'y a pas de parenthèses après les mots-clés !"
   ]
  },
  {
   "cell_type": "markdown",
   "id": "4dfd6032",
   "metadata": {
    "slideshow": {
     "slide_type": "slide"
    }
   },
   "source": [
    "### Renvoyer un résultat"
   ]
  },
  {
   "cell_type": "markdown",
   "id": "interim-auction",
   "metadata": {},
   "source": [
    "Lorsqu'un fonction termine son exécution, tout son espace mémoire local est supprimé. Ainsi, **tous les résultats** obtenus par la fonction sont effacés.\n",
    "\n",
    "Mais avant cette suppression, la fonction peut **renvoyer** un résultat. C'est-à-dire que l'appel de la fonction *devient* le résultat renvoyé.\n"
   ]
  },
  {
   "cell_type": "markdown",
   "id": "56a58640",
   "metadata": {
    "tags": [
     "exemple"
    ]
   },
   "source": [
    "**Double d'un nombre.** Imaginons la fonction `double(x)` qui admette un paramètre `x` et calcule son double. On souhaite donc qu'après l'instruction suivante `a = double(7)` la variable `a` contienne la valeur `14`.\n",
    "\n",
    "\n",
    "$$\n",
    "\\fbox{\\parbox{3cm}{\\centering\n",
    "    \\begin{tabular}{r|c|}\n",
    "    & \\ldots \\\\ \\cline{2-2}\n",
    "    & \\ldots \\\\ \\cline{2-2}\n",
    "    & \\ldots \n",
    "    \\end{tabular}\n",
    "}}\n",
    "\\hfill\n",
    "\\quad\\underrightarrow{~~\\texttt{a = double(7)}~~}\\quad\n",
    "\\hfill\n",
    "\\fbox{\\parbox{3cm}{\\centering\n",
    "    \\begin{tabular}{r|c|}\n",
    "    & \\ldots \\\\ \\cline{2-2}\n",
    "    \\texttt{a} & $14$ \\\\ \\cline{2-2}\n",
    "    & \\ldots \n",
    "    \\end{tabular}\n",
    "}}\n",
    "$$\n",
    "\n",
    "\n",
    "\n",
    "Mais, *si la fonction ne renvoie rien*, alors on aura plutôt :\n",
    "\n",
    "\n",
    "$$\n",
    "\\fbox{\\parbox{3cm}{\\centering\n",
    "    \\begin{tabular}{r|c|}\n",
    "    & \\ldots \\\\ \\cline{2-2}\n",
    "    & \\ldots \\\\ \\cline{2-2}\n",
    "    & \\ldots \n",
    "    \\end{tabular}\n",
    "}}\n",
    "\\hfill\n",
    "\\quad\\underrightarrow{~~\\texttt{a = double(7)}~~}\\quad\n",
    "\\hfill\n",
    "\\fbox{\\parbox{3cm}{\\centering\n",
    "    \\begin{tabular}{r|c|}\n",
    "    & \\ldots \\\\ \\cline{2-2}\n",
    "    \\texttt{a} & \\texttt{None} \\\\ \\cline{2-2}\n",
    "    & \\ldots \n",
    "    \\end{tabular}\n",
    "}}\n",
    "$$\n",
    "\n",
    "\n",
    "\n",
    "La variable `a` existe mais ne contient... rien du tout.\n",
    "\n",
    "C'est pour cela que la fonction **doit renvoyer un résultat** !"
   ]
  },
  {
   "cell_type": "markdown",
   "id": "367ea847",
   "metadata": {},
   "source": [
    "Pour renvoyer un résultats, on utilise le mot clé `return` suivi du résultat."
   ]
  },
  {
   "cell_type": "markdown",
   "id": "short-disabled",
   "metadata": {
    "tags": [
     "exemple"
    ]
   },
   "source": [
    "**Double d'un nombre (suite).** La fonction `double` peut être implémentée comme ceci :\n",
    "\n",
    "```python\n",
    "def double(x):\n",
    "    reponse = x * 2\n",
    "    return reponse\n",
    "\n",
    "a = double(7)\n",
    "print(a)\n",
    "```\n",
    "\n",
    "1. L'instruction `a = double(7)` appelle la fonction avec le paramètre `7`.\n",
    "2. Un espace mémoire local à la fonction est réservé et la variable `x` est initialisée avec la valeur `7`\n",
    "\n",
    "\n",
    "\\begin{center}\n",
    "    \\fcolorbox{black}{white}{\\parbox{4cm}{\\centering\n",
    "        \\begin{tabular}{r|c|}\n",
    "        & \\ldots                    \\\\ \\cline{2-2}\n",
    "        \\texttt{x}          & $7$     \\\\ \\cline{2-2}\n",
    "        & \\ldots \n",
    "        \\end{tabular}\n",
    "    }}\n",
    "\\end{center}\n",
    "\n",
    "\n",
    "3. La première ligne de la fonction initialise la variable `reponse` avec la valeur égale au résultat de `x * 2`. Comme `x` contient le nombre `7`, `x * 2` est évalué à `14` et donc on a l'affectation $\\texttt{reponse} \\leftarrow 14$. \n",
    "\n",
    "\n",
    "\\begin{center}\n",
    "    \\fcolorbox{black}{white}{\\parbox{4cm}{\\centering\n",
    "        \\begin{tabular}{r|c|}\n",
    "        & \\ldots                    \\\\ \\cline{2-2}\n",
    "        \\texttt{x}          & $7$     \\\\ \\cline{2-2}\n",
    "        \\texttt{reponse}    & $14$    \\\\ \\cline{2-2}\n",
    "        & \\ldots \n",
    "        \\end{tabular}\n",
    "    }}\n",
    "\\end{center}\n",
    "\n",
    "\n",
    "4. En écrivant `return reponse`, la fonction se termine **immédiatement** en renvoyant la valeur contenue dans la variable `reponse` : $14$.\n",
    "5. Le résultat du calcul de `double(7)` devient donc égal à `14`. Ainsi, l'affectation $\\texttt{a} \\leftarrow \\texttt{double(7)}$ devient $\\texttt{a} \\leftarrow 14$. \n",
    "\n",
    "\n",
    "\\begin{center}\n",
    "    \\fcolorbox{black}{white}{\\parbox{4cm}{\\centering\n",
    "        \\begin{tabular}{r|c|}\n",
    "        & \\ldots                    \\\\ \\cline{2-2}\n",
    "        \\texttt{a}          & $14$     \\\\ \\cline{2-2}\n",
    "        & \\ldots \n",
    "        \\end{tabular}\n",
    "    }}\n",
    "\\end{center}"
   ]
  },
  {
   "cell_type": "markdown",
   "id": "existing-opportunity",
   "metadata": {
    "tags": [
     "exemple"
    ]
   },
   "source": [
    "**Exécution en ligne.** \n",
    "\n",
    "| | |\n",
    "|-|-|\n",
    "|Voici un lien pour visualiser l'instruction `print(double(10) * 3)` : [Python Tutor](https://pythontutor.com/visualize.html#code=def%20double%28x%29%3A%0A%20%20%20%20reponse%20%3D%20x%20*%202%0A%20%20%20%20print%28%22la%20r%C3%A9ponse%20est%3A%22,%20reponse%29%0A%20%20%20%20return%20reponse%0A%20%20%20%20%0Aprint%28double%2810%29*3%29&cumulative=false&curInstr=0&heapPrimitives=nevernest&mode=display&origin=opt-frontend.js&py=3&rawInputLstJSON=%5B%5D&textReferences=false) | $\\includegraphics[width=5cm, valign=t]{./qr_double.png}$ |"
   ]
  },
  {
   "cell_type": "markdown",
   "id": "47b2ff4f",
   "metadata": {
    "tags": [
     "remarque"
    ]
   },
   "source": [
    "Une fonction qui ne renvoie rien s'appelle une *procédure*. \n",
    "\n",
    "En l'absence de `return`, la procédure renvoie malgré tout `None`."
   ]
  },
  {
   "cell_type": "markdown",
   "id": "bb029a9e",
   "metadata": {
    "slideshow": {
     "slide_type": "subslide"
    }
   },
   "source": [
    "### Renvoyer plusieurs résultats"
   ]
  },
  {
   "cell_type": "markdown",
   "id": "human-worry",
   "metadata": {},
   "source": [
    "Une fonction peut aussi renvoyer plusieurs résultats. Pour cela, elle revoit un seul objet : un *n-uplet*."
   ]
  },
  {
   "cell_type": "markdown",
   "id": "eabf979d",
   "metadata": {
    "tags": [
     "remarque"
    ]
   },
   "source": [
    "Point de vocabulaire à propos des *n-uplets*.\n",
    "\n",
    "\\begin{center}\n",
    "    \\begin{tabular}{|c|c|l|}\\hline\n",
    "        Nombre d'éléments & Exemple & Nom usuel \\\\ \\hline\n",
    "        2 & $(4, 5)$ & couple \\\\ \\hline\n",
    "        3 & $(3, 1, 4)$ & tri\\textbf{plet} \\\\ \\hline\n",
    "        5 & $(2, 4, 6, 8, 10)$ & quint\\textbf{uplet} \\\\ \\hline\n",
    "        7 & $(0, 1, 2, 3, 4, 5, 6)$ & sept\\textbf{uplet} \\\\ \\hline\n",
    "    \\end{tabular}\n",
    "\\end{center}"
   ]
  },
  {
   "cell_type": "markdown",
   "id": "cleared-filling",
   "metadata": {},
   "source": [
    "Pour renvoyer un n-uplet, il suffit d'indiquer après le mot-clé `return` le n-uplet. En Python, un n-uplet est un objet de type `tuple` qui s'obtient grâce à des **parenthèses**."
   ]
  },
  {
   "cell_type": "markdown",
   "id": "d7174593",
   "metadata": {
    "tags": [
     "exemple"
    ]
   },
   "source": [
    "Ainsi on peut créer une fonction `calcul` qui renvoie le double et le triple d'un nombre entier `n`\n",
    "\n",
    "```python\n",
    "def calcul(n):\n",
    "    double = n * 2\n",
    "    triple = n * 3\n",
    "    return (double, triple)\n",
    "```"
   ]
  },
  {
   "cell_type": "markdown",
   "id": "static-detection",
   "metadata": {
    "tags": [
     "remarque"
    ]
   },
   "source": [
    "Un décorateur Python tolère la syntaxe *sans les parenthèses* : `return double, triple`.\n",
    "\n",
    "Ce décorateur fonctionne aussi pour l'affectation. Les deux syntaxes suivantes sont donc équivalentes :\n",
    "\n",
    "```python\n",
    "(d_2, t_2) = calcul(2)   # tuple explicite\n",
    "d_10, t_10 = calcul(10)  # décorateur: tuple implicite\n",
    "```\n",
    "\n",
    "Ce code modifie l'état des variabels `d_2`, `t_2`, `d_10` et `t_10`. Il effectue les affectations suivantes :\n",
    "\n",
    "\n",
    "$$\n",
    "\\fcolorbox{black}{white}{\\parbox{3cm}{\\centering\n",
    "    \\begin{tabular}{r|c|}\n",
    "    & \\ldots \\\\ \\cline{2-2}\n",
    "    & \\ldots \\\\ \\cline{2-2}\n",
    "    & \\ldots \n",
    "    \\end{tabular}\n",
    "}}\n",
    "\\hfill\n",
    "\\quad\\underrightarrow{\n",
    "    \\begin{array}{l}\n",
    "    \\texttt{(d\\_2, t\\_2) = calcul(2)} \\\\\n",
    "    \\texttt{d\\_10, t\\_10 = calcul(10)}\\\\\n",
    "    \\end{array}\n",
    "    }\\quad\n",
    "\\hfill\n",
    "\\fcolorbox{black}{white}{\\parbox{3.5cm}{\\centering\n",
    "    \\begin{tabular}{r|c|}\n",
    "    & \\ldots \\\\ \\cline{2-2}\n",
    "    \\texttt{d\\_2} & $4$ \\\\ \\cline{2-2}\n",
    "    \\texttt{t\\_2} & $6$ \\\\ \\cline{2-2}\n",
    "    \\texttt{d\\_10} & $20$ \\\\ \\cline{2-2}\n",
    "    \\texttt{t\\_10} & $30$ \\\\ \\cline{2-2}\n",
    "    & \\ldots \n",
    "    \\end{tabular}\n",
    "}}\n",
    "$$"
   ]
  },
  {
   "cell_type": "markdown",
   "id": "514fe63e",
   "metadata": {
    "slideshow": {
     "slide_type": "slide"
    }
   },
   "source": [
    "### Variables locales à une fonction"
   ]
  },
  {
   "cell_type": "markdown",
   "id": "official-section",
   "metadata": {},
   "source": [
    "Une variable créée en dehors d'une fonction n'a pas d'existence au sein de la fonction.\n",
    "Et réciproquement, une variable créée dans une fonction, n'a pas d'existence en dehors de la fonction.\n",
    "\n",
    "C'est ce qu'on appelle variable *globale* et variable *locale*."
   ]
  },
  {
   "cell_type": "markdown",
   "id": "assured-minutes",
   "metadata": {
    "tags": [
     "exo"
    ]
   },
   "source": [
    "Soit le code ci-dessous :\n",
    "\n",
    "```python\n",
    "def modifier():\n",
    "    a = 100\n",
    "\n",
    "a = 1\n",
    "modifier()\n",
    "print(a)\n",
    "```\n",
    "\n",
    "Quelle valeur va être affichée à l'écrant? Proposer une explication.\n"
   ]
  },
  {
   "cell_type": "markdown",
   "id": "095bc453",
   "metadata": {
    "tags": [
     "solution"
    ]
   },
   "source": [
    "La variable `a` initialisée à `1` avant l'appel de la fonction `modifier` vaut **toujours** `1` après l'appel.\n",
    "\n",
    "En effet, c'est la variable `a` *locale* (à l'intérieur de la fonction) qui a été modifiée et non pas la variable *globale* (celle à l'extérieur).\n",
    "\n",
    "Tout ce passe comme si ces deux variables sont différentes (ce qui est le cas en mémoire d'ailleurs !)\n",
    "\n",
    "\n",
    "$$\n",
    "\\begin{array}{ccc}\n",
    "\\textbf{Avant l'appel}\n",
    "&\n",
    "\\textbf{Pendant l'appel}\n",
    "&\n",
    "\\textbf{Après l'appel}\n",
    "\\\\  \n",
    "\\fcolorbox{black}{white}{\\parbox{3cm}{\\centering\n",
    "    \\begin{tabular}{r|c|}\n",
    "    & \\ldots \\\\ \\cline{2-2}\n",
    "    \\texttt{a} & $1$ \\\\ \\cline{2-2}\n",
    "    & \\ldots \n",
    "    \\end{tabular}\n",
    "}}\n",
    "&\n",
    "\\fcolorbox{black}{white}{\\parbox{5cm}{\\centering\n",
    "    \\begin{tabular}{r|c|}\n",
    "    & \\ldots \\\\ \\cline{2-2}\n",
    "    \\texttt{a} & $1$ \\\\ \\cline{2-2}\n",
    "    & \\ldots \n",
    "    \\end{tabular}\n",
    "    \\hfill\n",
    "    \\fcolorbox{black}{orange!10}{\\parbox{2.25cm}{\\centering\\footnotesize\n",
    "        \\texttt{modifier()}\\\\[.5em]\n",
    "        \\begin{tabular}{r|c|}\n",
    "        & \\ldots \\\\ \\cline{2-2}\n",
    "        \\texttt{a} & $100$ \\\\ \\cline{2-2}\n",
    "        & \\ldots \n",
    "    \\end{tabular}\n",
    "    }}\n",
    "}}\n",
    "&\n",
    "\\fcolorbox{black}{white}{\\parbox{3cm}{\\centering\n",
    "    \\begin{tabular}{r|c|}\n",
    "    & \\ldots \\\\ \\cline{2-2}\n",
    "    \\texttt{a} & $1$ \\\\ \\cline{2-2}\n",
    "    & \\ldots \n",
    "    \\end{tabular}\n",
    "}}\\\\ \n",
    "\\end{array}\n",
    "$$\n",
    "\n",
    "Comme on le voit, il y a bien **deux** variables `a` situées à des endroits différents. Chaque zone est imperméable à l'autre. Seule les *paramètres* des fonctions et les valeurs *renvoyées* permettent une communication."
   ]
  },
  {
   "cell_type": "markdown",
   "id": "hourly-staff",
   "metadata": {
    "tags": [
     "remarque"
    ]
   },
   "source": [
    "L'application en ligne Python Tutor permet de voir l'état de la mémoire lors de l'exécution d'un code.\n",
    "\n",
    "\\begin{center}\n",
    "    \\includegraphics[width=0.75\\linewidth]{img-var.png}\n",
    "\\end{center}"
   ]
  },
  {
   "cell_type": "markdown",
   "id": "incoming-essex",
   "metadata": {
    "tags": [
     "exo"
    ]
   },
   "source": [
    "Qu'affiche l'exécution du code suivant ?\n",
    "\n",
    "```python\n",
    "def incrementer(x):\n",
    "    x = x + 1\n",
    "    print(\"dans la fonction, x:\", x)\n",
    "\n",
    "x = 1\n",
    "print(\"au moment de l'appel, x:\", x)\n",
    "incrementer(x)\n",
    "print(\"après l'appel, x:\", x)\n",
    "```"
   ]
  },
  {
   "cell_type": "markdown",
   "id": "22215275",
   "metadata": {
    "tags": [
     "solution"
    ]
   },
   "source": [
    "1. Au moment de l'appel à la fonction `incrementer`, la variable `x` vaut 1. Un premier affichage indique donc `au moment de l'appel, x: 1`.\n",
    "2. La appel à la fonction `incrementer` avec pour argument `x` a pour effet immédiat de créer une variable **locale** `x` qui est initialisée avec la valeur `1` contenue dans la variable **globale** `x`. Puis la première instruction de la fonction modifie cette variable *locale* qui vaut maintenant `2`. Enfin, la deuxième instruction affiche la valeur de de cette variable *locale* et affiche donc `dans la fonction, x: 2`.\n",
    "3. La fonction se termine et la variable *locale* `x` disparaît. En revanche, la variable globale `x` est toujours présente et n'a absolument pas été modifiée. Et la dernière instruction affiche `après l'appel, x: 1`."
   ]
  },
  {
   "cell_type": "markdown",
   "id": "606c9f43",
   "metadata": {
    "slideshow": {
     "slide_type": "slide"
    }
   },
   "source": [
    "### Sortie anticipée"
   ]
  },
  {
   "cell_type": "markdown",
   "id": "informed-palace",
   "metadata": {},
   "source": [
    "Dès que le mot clé `return` est rencontré, l'exécution de la fonction s'arrête **immédiatement**. \n",
    "\n",
    "La fonction renvoie alors le ou les résultats situés à droite du mot-clé."
   ]
  },
  {
   "cell_type": "markdown",
   "id": "99f7c3d9",
   "metadata": {
    "tags": [
     "exo"
    ]
   },
   "source": [
    "Qu'affiche le programme ci-dessous ?\n",
    "\n",
    "```python\n",
    "def sortie(n):\n",
    "    if n > 100:\n",
    "        return True\n",
    "    return False\n",
    "\n",
    "print( (sortie(101), sortie(99)) )\n",
    "```"
   ]
  },
  {
   "cell_type": "markdown",
   "id": "a40698e0",
   "metadata": {
    "tags": [
     "solution"
    ]
   },
   "source": [
    "Le programme affiche un n-uplet composé de (1) le résultat de l'appel à `sortie(101)` et de (2) le résultat de l'appel à `sortie(99)`.\n",
    "\n",
    "Commençons par le (2). La fonction s'initialise avec `n` qui vaut 99. Comme 99 est inférieur à 100, on a la condition `n > 100` qui est fausse. Le bloc conditionnel n'est pas exécuté. Le programme *saute* à la ligne 3 qui renvoie `False`.\n",
    "\n",
    "Pour le (1), la variable `n` est initialisée à 101. La condition `n > 100` est vraie. Le bloc conditionnel est exécuté. La ligne 2 est un renvoie qui **interrompt immédiatement** le programme. La fonction renvoie la valeur `True`.\n",
    "\n",
    "Pour conclure, le programme affiche le tuple : `(True, False)`."
   ]
  },
  {
   "cell_type": "markdown",
   "id": "a64f3bfb",
   "metadata": {
    "slideshow": {
     "slide_type": "slide"
    }
   },
   "source": [
    "### Exercices"
   ]
  },
  {
   "cell_type": "markdown",
   "id": "0baa7fb6",
   "metadata": {
    "slideshow": {
     "slide_type": "subslide"
    },
    "tags": [
     "exo"
    ]
   },
   "source": [
    "**Définir** une fonction `test_Pythagore` qui prend trois entiers $a$, $b$ et $c$ en arguments et renvoie un booléen indiquant si $a^2 + b^2 = c^2$, ou $b^2 + c^2 = a^2$ ou $c^2 + a^2 = b^2$."
   ]
  },
  {
   "cell_type": "markdown",
   "id": "88ac8df7",
   "metadata": {
    "slideshow": {
     "slide_type": "subslide"
    },
    "tags": [
     "exo"
    ]
   },
   "source": [
    "**Définir** une fonction `valeur_absolue` qui prend un entier en argument et renvoie sa valeur absolue."
   ]
  },
  {
   "cell_type": "markdown",
   "id": "238d6280",
   "metadata": {
    "slideshow": {
     "slide_type": "subslide"
    },
    "tags": [
     "exo"
    ]
   },
   "source": [
    "**Créer** une fonction `multiples`  pour qu'elle prenne la limite en argument plutôt que d'utiliser la valeur $999$. En déduire une fonction `multiples_3_ou_5(borne_sup)` qui renvoie la somme des multiples de 3 ou 5 inférieurs ou égaux à `borne_sup`."
   ]
  },
  {
   "cell_type": "markdown",
   "id": "0faa9984",
   "metadata": {
    "slideshow": {
     "slide_type": "subslide"
    },
    "tags": [
     "exo"
    ]
   },
   "source": [
    "**Écrire** une fonction `max2(a, b)` qui renvoie le plus grand des deux entiers `a` et `b`."
   ]
  },
  {
   "cell_type": "markdown",
   "id": "9c1731aa",
   "metadata": {
    "slideshow": {
     "slide_type": "subslide"
    },
    "tags": [
     "exo"
    ]
   },
   "source": [
    "En supposant la fonction `max2` précédente disponible, **écrire** une fonction `max3(a, b, c)` qui utilise la fonction `max2` de l'exercice précédent et qui renvoie le plus grand des trois entiers `a`, `b`, `c`."
   ]
  },
  {
   "cell_type": "markdown",
   "id": "a7d2010b",
   "metadata": {
    "slideshow": {
     "slide_type": "subslide"
    },
    "tags": [
     "exo"
    ]
   },
   "source": [
    "**Écrire** une fonction `puissance(x, k)` qui renvoie `x` à la puissance `k` (utilisation de l'opérateur `**` interdit ! évidemment...).\n",
    "On utilisera une boucle `for` pour faire le calcul.\n",
    "\n",
    "On suppose que $k\\geq 0$ et on rappelle que $x^0 = 1$."
   ]
  },
  {
   "cell_type": "markdown",
   "id": "e323d7d8",
   "metadata": {
    "slideshow": {
     "slide_type": "subslide"
    },
    "tags": [
     "exo"
    ]
   },
   "source": [
    "**Écrire** une fonction `est_bissextile(annee)` qui renvoie un booléen indiquant si l'année  `annee` est une année bissextile.\n",
    "\n",
    "On rappelle qu'une année bissextile est une année multiple de 4 mais pas de 100, ou multiple de 400."
   ]
  },
  {
   "cell_type": "markdown",
   "id": "d3d938af",
   "metadata": {
    "slideshow": {
     "slide_type": "subslide"
    },
    "tags": [
     "exo"
    ]
   },
   "source": [
    "**Écrire** une fonctions `nb_jours_annee(annee)` qui renvoie le nombre de jour de l'année `annee`. La fonction `est_bissextile` de l'exercice précédent est disponible et vous pouvez l'utiliser (ce qui est bien pratique quand même)."
   ]
  },
  {
   "cell_type": "markdown",
   "id": "9f6becc4",
   "metadata": {
    "slideshow": {
     "slide_type": "subslide"
    },
    "tags": [
     "exo"
    ]
   },
   "source": [
    "En supposant que le mois `mois` est un entier compris entre 1 (pour janvier) et 12 (décembre), **écrire** une fonction `nb_jours_mois(annee, mois)` qui renvoie le nombre de jours dans le mois `mois` de l'année `annee`. La fonction `est_bissextile` de l'exercice précédent est disponible (ce qui est bien pratique)."
   ]
  },
  {
   "cell_type": "markdown",
   "id": "05dd5dd1",
   "metadata": {
    "slideshow": {
     "slide_type": "subslide"
    },
    "tags": [
     "exo"
    ]
   },
   "source": [
    "En supposant les fonctions `nb_jours_annnee` et `nb_jours_mois` disponibles, **écrire** une fonction `nb_jours(j_debut, m_debut, a_debut, j_fin, m_fin, a_fin)` qui renvoie le nombre de jours compris entre deux dates données (incluses)."
   ]
  }
 ],
 "metadata": {
  "celltoolbar": "Diaporama",
  "interpreter": {
   "hash": "916dbcbb3f70747c44a77c7bcd40155683ae19c65e1c03b4aa3499c5328201f1"
  },
  "kernelspec": {
   "display_name": "Python 3",
   "language": "python",
   "name": "python3"
  },
  "language_info": {
   "codemirror_mode": {
    "name": "ipython",
    "version": 3
   },
   "file_extension": ".py",
   "mimetype": "text/x-python",
   "name": "python",
   "nbconvert_exporter": "python",
   "pygments_lexer": "ipython3",
   "version": "3.9.2"
  },
  "latex_metadata": {
   "theme": "langage",
   "title": "2.7 --- Programmer en Python"
  },
  "rise": {
   "theme": "serif"
  }
 },
 "nbformat": 4,
 "nbformat_minor": 5
}
