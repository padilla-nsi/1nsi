{
 "cells": [
  {
   "cell_type": "markdown",
   "id": "dab8a1e4",
   "metadata": {
    "slideshow": {
     "slide_type": "slide"
    }
   },
   "source": [
    "## 7 --- Fonctions"
   ]
  },
  {
   "cell_type": "markdown",
   "id": "14e7d863",
   "metadata": {
    "slideshow": {
     "slide_type": "slide"
    }
   },
   "source": [
    "### Introduction"
   ]
  },
  {
   "cell_type": "markdown",
   "id": "8618289a",
   "metadata": {
    "slideshow": {
     "slide_type": "subslide"
    }
   },
   "source": [
    "On souhaite réaliser une application. Lors de l'exécution de notre application, avant d'arriver à l'écran de menus, il est habituel d'afficher un écran d'accueil appelé *splash screen* affichant le nom de l'application, une référence à l'équipe de production.\n",
    "\n",
    "L'application affiche un écran d'accueil le nom de l'application, sa version et le nom de l'équipe de production. Après le chargement des données, on indiquer à l'utilisateur qu'il doit appuyer sur `Entrée` pour passer à la suite.\n",
    "Lorsque l'utilisateur valide, afficher un menu (par exemple `\"Nouvelle Partie\"`, `\"Sauvegardes\"`, `\"Configuration\"`)."
   ]
  },
  {
   "cell_type": "markdown",
   "id": "b5680025",
   "metadata": {
    "slideshow": {
     "slide_type": "subslide"
    }
   },
   "source": [
    "Le programme réalisé est peu satisfaisant. Il comporte clairement trois grandes parties différentes mais tout est écrit en un seul bloc.\n",
    "\n",
    "Nous allons voir dans cette leçon comment rendre le code plus élégant en définissant des **fonctions**, c'est à dire des fragments de codes réutilisables réalisant une tâche donnée pouvant dépendre d'un certain nombre de paramètres.\n",
    "\n",
    "Ainsi nous auront accès aux nouvelles instructions `afficher_splash`, `charger_data` et `afficher_menu` qui permettent de structurer clairement le code."
   ]
  },
  {
   "cell_type": "markdown",
   "id": "f58c2863",
   "metadata": {
    "slideshow": {
     "slide_type": "slide"
    }
   },
   "source": [
    "### Définir une fonction"
   ]
  },
  {
   "cell_type": "markdown",
   "id": "c8f49371",
   "metadata": {
    "slideshow": {
     "slide_type": "subslide"
    }
   },
   "source": [
    "Une fonction associe une séquence d'instructions à un nom. \n",
    "Voici par exemple un exemple simple d'une fonction `afficher_menu` qui affiche un menu composé de trois lignes : `\"Nouvelle Partie\"`, `\"Sauvegardes\"`, `\"Configuration\"`."
   ]
  },
  {
   "cell_type": "code",
   "execution_count": 2,
   "id": "c8d2314e",
   "metadata": {
    "slideshow": {
     "slide_type": "fragment"
    }
   },
   "outputs": [],
   "source": [
    "def afficher_menu():\n",
    "    print(\"===============\")\n",
    "    print(\"Nouvelle Partie\")\n",
    "    print(\"---------------\")\n",
    "    print(\"  Sauvegardes\")\n",
    "    print(\"---------------\")\n",
    "    print(\" Configuration\")\n",
    "    print(\"===============\")\n"
   ]
  },
  {
   "cell_type": "markdown",
   "id": "162e83e7",
   "metadata": {
    "slideshow": {
     "slide_type": "subslide"
    }
   },
   "source": [
    "La définition commence par\n",
    "\n",
    "- le mot-clé `def`, suivi par \n",
    "- le nom de la fonction (ici `afficher_menu`), puis\n",
    "- une paire de parenthèses et\n",
    "- deux points.\n",
    "\n",
    "La fonction est constituée d'un bloc de 7 instructions : le **corps de la fonction**.\n",
    "Comme pour un bloc `for` ou `if`, le corps est écrit en retrait."
   ]
  },
  {
   "cell_type": "markdown",
   "id": "25f2607d",
   "metadata": {
    "slideshow": {
     "slide_type": "subslide"
    }
   },
   "source": [
    "Pour exécuter la fonction `afficher_menu`, on **appelle** la fonction avec la syntaxe suivante :"
   ]
  },
  {
   "cell_type": "code",
   "execution_count": 3,
   "id": "376f7b5a",
   "metadata": {
    "slideshow": {
     "slide_type": "fragment"
    }
   },
   "outputs": [
    {
     "name": "stdout",
     "output_type": "stream",
     "text": [
      "===============\n",
      "Nouvelle Partie\n",
      "---------------\n",
      "  Sauvegardes\n",
      "---------------\n",
      " Configuration\n",
      "===============\n"
     ]
    }
   ],
   "source": [
    "afficher_menu()"
   ]
  },
  {
   "cell_type": "markdown",
   "id": "df45c60e",
   "metadata": {
    "slideshow": {
     "slide_type": "subslide"
    }
   },
   "source": [
    "Appeler la fonction produit le même résultat que si on avait exécuté le corps de la fonction directement.\n",
    "\n",
    "On peut visualiser son exécution sur [Python Tutor](https://pythontutor.com/visualize.html#code=def%20afficher_menu%28%29%3A%0A%20%20%20%20print%28%22%3D%3D%3D%3D%3D%3D%3D%3D%3D%3D%3D%3D%3D%3D%3D%22%29%0A%20%20%20%20print%28%22Nouvelle%20Partie%22%29%0A%20%20%20%20print%28%22---------------%22%29%0A%20%20%20%20print%28%22%20%20Sauvegardes%22%29%0A%20%20%20%20print%28%22---------------%22%29%0A%20%20%20%20print%28%22%20Configuration%22%29%0A%20%20%20%20print%28%22%3D%3D%3D%3D%3D%3D%3D%3D%3D%3D%3D%3D%3D%3D%3D%22%29%0A%20%20%20%20%0Aafficher_menu%28%29&cumulative=false&curInstr=0&heapPrimitives=nevernest&mode=display&origin=opt-frontend.js&py=3&rawInputLstJSON=%5B%5D&textReferences=false)."
   ]
  },
  {
   "cell_type": "markdown",
   "id": "30a34b3c",
   "metadata": {
    "slideshow": {
     "slide_type": "subslide"
    }
   },
   "source": [
    "#### Fonction avec paramètres"
   ]
  },
  {
   "cell_type": "markdown",
   "id": "f67e003a",
   "metadata": {
    "slideshow": {
     "slide_type": "fragment"
    }
   },
   "source": [
    "Pour notre simulation d'application, la fonction `charger_data` doit afficher une barre de chargement. Afin de voir réellement la barre se charger, on peut ajouter un paramètre à la fonction indiquant la durée en seconde de chargement souhaité."
   ]
  },
  {
   "cell_type": "code",
   "execution_count": 26,
   "id": "30543dcf",
   "metadata": {
    "slideshow": {
     "slide_type": "subslide"
    }
   },
   "outputs": [],
   "source": [
    "def charger_data(duree):\n",
    "    print(\"debut chargement\")\n",
    "\n",
    "    fraction_duree = duree / 16\n",
    "    from time import sleep\n",
    "    for i in range(15):\n",
    "        print(\"|\", end=\"\")\n",
    "        sleep(fraction_duree)\n",
    "    print(\"|\")\n",
    "    print(\"fin chargement\")\n",
    "    \n"
   ]
  },
  {
   "cell_type": "code",
   "execution_count": 27,
   "id": "veterinary-notice",
   "metadata": {},
   "outputs": [
    {
     "name": "stdout",
     "output_type": "stream",
     "text": [
      "debut chargement\n",
      "||||||||||||||||\n",
      "fin chargement\n"
     ]
    }
   ],
   "source": [
    "charger_data(4)"
   ]
  },
  {
   "cell_type": "markdown",
   "id": "39dcad13",
   "metadata": {
    "slideshow": {
     "slide_type": "subslide"
    }
   },
   "source": [
    "#### Fonction à plusieurs paramètres"
   ]
  },
  {
   "cell_type": "markdown",
   "id": "lesser-piano",
   "metadata": {},
   "source": [
    "Il peut être nécessaire d'avoir des fonctions avec plus d'un argument.\n",
    "\n",
    "Par exemple pour savoir si un triangle est rectangle, il faut connaître les longueurs de ses **trois côtés**. La fonction `test_pythagore()` nécessitera donc **3 arguments**."
   ]
  },
  {
   "cell_type": "code",
   "execution_count": 36,
   "id": "fewer-electron",
   "metadata": {},
   "outputs": [],
   "source": [
    "def test_pythagore(longueur_1, longueur_2, longueur_3):\n",
    "    ..."
   ]
  },
  {
   "cell_type": "markdown",
   "id": "distant-answer",
   "metadata": {},
   "source": [
    "Pour ajouter des arguments, on ajoute des noms de variables dans les parenthèses de la fonction."
   ]
  },
  {
   "cell_type": "markdown",
   "id": "643a07fe",
   "metadata": {
    "slideshow": {
     "slide_type": "subslide"
    }
   },
   "source": [
    "#### Fonctions prédéfinies"
   ]
  },
  {
   "cell_type": "markdown",
   "id": "lesser-auditor",
   "metadata": {},
   "source": [
    "Depuis le début de l'année, vous avez utilisé et manipulé de nombreuses fonction qui sont prédéfinie en Python. \n",
    "\n",
    "Par exemple :\n",
    "\n",
    "- `print()` pour afficher du texte (qui admet en argument un n-uplet (`tuple`)\n",
    "- `int()` pour convertir en nombre entier (qui admet en argument la chaîne de caractère et (facultatif) la base)\n",
    "- `float()` pour convertir en nombre décimal une chaîne de caractère\n",
    "- `input()` pour afficher un texte (argument de la fonction) et renvoyer le texte écrit par l'utilisateur.\n",
    "\n",
    "Attention : `break` ou `continue` sont des *mots clés*"
   ]
  },
  {
   "cell_type": "markdown",
   "id": "4dfd6032",
   "metadata": {
    "slideshow": {
     "slide_type": "slide"
    }
   },
   "source": [
    "### Renvoyer un résultat"
   ]
  },
  {
   "cell_type": "markdown",
   "id": "interim-auction",
   "metadata": {},
   "source": [
    "Une fonction Python peut, une fois son exécution terminée, **renvoyer un résultat** qui peut être utilisé plus tard (pour un affichage, un calcul, etc.). \n",
    "\n",
    "Pour indiquer la valeur à renvoyer, on utilise le mot clé `return`."
   ]
  },
  {
   "cell_type": "markdown",
   "id": "behavioral-pastor",
   "metadata": {},
   "source": [
    "Dans l'exemple ci-dessous, la fonction `double` affiche une information et renvoie le nombre entier égal au double de son argument.\n",
    "\n",
    "Ainsi la valeur renvoyée peut être réexploitée, par exemple en la multipliant par 3."
   ]
  },
  {
   "cell_type": "code",
   "execution_count": 37,
   "id": "random-priest",
   "metadata": {},
   "outputs": [
    {
     "name": "stdout",
     "output_type": "stream",
     "text": [
      "la réponse est: 20\n",
      "60\n"
     ]
    }
   ],
   "source": [
    "def double(x):\n",
    "    reponse = x * 2\n",
    "    print(\"la réponse est:\", reponse)\n",
    "    return reponse\n",
    "    \n",
    "print(double(10)*3)"
   ]
  },
  {
   "cell_type": "markdown",
   "id": "amber-surfing",
   "metadata": {},
   "source": [
    "Pour voir l'exécution du code précédent : [Python Tutor](https://pythontutor.com/visualize.html#code=def%20double%28x%29%3A%0A%20%20%20%20reponse%20%3D%20x%20*%202%0A%20%20%20%20print%28%22la%20r%C3%A9ponse%20est%3A%22,%20reponse%29%0A%20%20%20%20return%20reponse%0A%20%20%20%20%0Aprint%28double%2810%29*3%29&cumulative=false&curInstr=0&heapPrimitives=nevernest&mode=display&origin=opt-frontend.js&py=3&rawInputLstJSON=%5B%5D&textReferences=false)"
   ]
  },
  {
   "cell_type": "markdown",
   "id": "bb029a9e",
   "metadata": {
    "slideshow": {
     "slide_type": "subslide"
    }
   },
   "source": [
    "#### Renvoyer plusieurs résultats"
   ]
  },
  {
   "cell_type": "markdown",
   "id": "human-worry",
   "metadata": {},
   "source": [
    "."
   ]
  },
  {
   "cell_type": "code",
   "execution_count": null,
   "id": "earlier-strategy",
   "metadata": {},
   "outputs": [],
   "source": [
    "..."
   ]
  },
  {
   "cell_type": "markdown",
   "id": "514fe63e",
   "metadata": {
    "slideshow": {
     "slide_type": "slide"
    }
   },
   "source": [
    "### Variables locales à une fonction"
   ]
  },
  {
   "cell_type": "markdown",
   "id": "official-section",
   "metadata": {},
   "source": [
    "."
   ]
  },
  {
   "cell_type": "code",
   "execution_count": null,
   "id": "false-despite",
   "metadata": {},
   "outputs": [],
   "source": [
    "..."
   ]
  },
  {
   "cell_type": "markdown",
   "id": "9fa4b190",
   "metadata": {
    "slideshow": {
     "slide_type": "subslide"
    }
   },
   "source": [
    "#### Exemples incrémentation"
   ]
  },
  {
   "cell_type": "markdown",
   "id": "incoming-essex",
   "metadata": {},
   "source": [
    "."
   ]
  },
  {
   "cell_type": "code",
   "execution_count": null,
   "id": "legendary-montgomery",
   "metadata": {},
   "outputs": [],
   "source": [
    "..."
   ]
  },
  {
   "cell_type": "markdown",
   "id": "2f1f543c",
   "metadata": {
    "slideshow": {
     "slide_type": "subslide"
    }
   },
   "source": [
    "#### Représentation de l'exécution"
   ]
  },
  {
   "cell_type": "markdown",
   "id": "loose-dollar",
   "metadata": {},
   "source": [
    "."
   ]
  },
  {
   "cell_type": "code",
   "execution_count": null,
   "id": "improved-clause",
   "metadata": {},
   "outputs": [],
   "source": [
    "..."
   ]
  },
  {
   "cell_type": "markdown",
   "id": "606c9f43",
   "metadata": {
    "slideshow": {
     "slide_type": "slide"
    }
   },
   "source": [
    "### Sortie anticipée"
   ]
  },
  {
   "cell_type": "markdown",
   "id": "fifth-measure",
   "metadata": {},
   "source": [
    "."
   ]
  },
  {
   "cell_type": "code",
   "execution_count": null,
   "id": "large-layout",
   "metadata": {},
   "outputs": [],
   "source": [
    "..."
   ]
  },
  {
   "cell_type": "markdown",
   "id": "a64f3bfb",
   "metadata": {
    "slideshow": {
     "slide_type": "slide"
    }
   },
   "source": [
    "### Exercices"
   ]
  },
  {
   "cell_type": "markdown",
   "id": "0baa7fb6",
   "metadata": {
    "slideshow": {
     "slide_type": "subslide"
    },
    "tags": [
     "exo"
    ]
   },
   "source": [
    "Définir une fonction `test_Pythagore` qui prend trois entiers $a$, $b$ et $c$ en arguments et renvoie un booléen indiquant si $a^2 + b^2 = c^2$, ou $b^2 + c^2 = a^2$ ou $c^2 + a^2 = b^2$."
   ]
  },
  {
   "cell_type": "markdown",
   "id": "88ac8df7",
   "metadata": {
    "slideshow": {
     "slide_type": "subslide"
    },
    "tags": [
     "exo"
    ]
   },
   "source": [
    "Définir une fonction `valeur_absolue` qui prend un entier en argument et renvoie sa valeur absolue."
   ]
  },
  {
   "cell_type": "markdown",
   "id": "238d6280",
   "metadata": {
    "slideshow": {
     "slide_type": "subslide"
    },
    "tags": [
     "exo"
    ]
   },
   "source": [
    "Modifier la fonction `multiples` pour qu'elle prenne la limite en argument plutôt que d'utiliser la valeur $999$. En déduire une fonction `multiples_3_ou_5(borne_sup)` qui renvoie la somme des multiples de 3 ou 5 inférieurs ou égaux à `borne_sup`."
   ]
  },
  {
   "cell_type": "markdown",
   "id": "0faa9984",
   "metadata": {
    "slideshow": {
     "slide_type": "subslide"
    },
    "tags": [
     "exo"
    ]
   },
   "source": [
    "Écrire une fonction `max2(a, b)` qui renvoie le plus grand des deux entiers `a` et `b`."
   ]
  },
  {
   "cell_type": "markdown",
   "id": "9c1731aa",
   "metadata": {
    "slideshow": {
     "slide_type": "subslide"
    },
    "tags": [
     "exo"
    ]
   },
   "source": [
    "Écrire une fonction `max3(a, b, c)` qui utilise la fonction `max2` de l'exercice précédent et qui renvoie le plus grand des trois entiers `a`, `b`, `c`.\n",
    "\n",
    "La fonction `max2` est disponible et vous pouvez l'utiliser sans l'implémenter."
   ]
  },
  {
   "cell_type": "markdown",
   "id": "a7d2010b",
   "metadata": {
    "slideshow": {
     "slide_type": "subslide"
    },
    "tags": [
     "exo"
    ]
   },
   "source": [
    "Écrire une fonction `puissance(x, k)` qui renvoie `x` à la puissance `k` (utilisation de l'opérateur `**` interdit ! évidemment...).\n",
    "On utilisera une boucle `for` pour faire le calcul.\n",
    "\n",
    "On suppose que $k\\geq 0$ et on rappelle que $x^0 = 1$."
   ]
  },
  {
   "cell_type": "markdown",
   "id": "e323d7d8",
   "metadata": {
    "slideshow": {
     "slide_type": "subslide"
    },
    "tags": [
     "exo"
    ]
   },
   "source": [
    "Écrire une fonction `est_bissextile(annee)` qui renvoie un booléen indiquant si l'année  `annee` est une année bissextile.\n",
    "\n",
    "On rappelle qu'une année bissextile est une année multiple de 4 mais pas de 100, ou multiple de 400."
   ]
  },
  {
   "cell_type": "markdown",
   "id": "d3d938af",
   "metadata": {
    "slideshow": {
     "slide_type": "subslide"
    },
    "tags": [
     "exo"
    ]
   },
   "source": [
    "Écrire une fonctions `nb_jours_annee(annee)` qui renvoie le nombre de jour de l'année `annee`. La fonction `est_bissextile` de l'exercice précédent est disponible et vous pouvez l'utiliser (ce qui est bien pratique quand même)."
   ]
  },
  {
   "cell_type": "markdown",
   "id": "9f6becc4",
   "metadata": {
    "slideshow": {
     "slide_type": "subslide"
    },
    "tags": [
     "exo"
    ]
   },
   "source": [
    "Écrire une fonction `nb_jours_mois(annee, mois)` qui renvoie le nombre de jours dans le mois `mois` de l'année `annee`. La fonction `est_bissextile` de l'exercice précédent est disponible (ce qui est bien pratique).\n",
    "\n",
    "On suppose que le mois `mois` est un entier compris entre 1 (pour janvier) et 12 (décembre)."
   ]
  },
  {
   "cell_type": "markdown",
   "id": "05dd5dd1",
   "metadata": {
    "slideshow": {
     "slide_type": "subslide"
    },
    "tags": [
     "exo"
    ]
   },
   "source": [
    "En utilisant les fonctions `nb_jours_annnee` et `nb_jours_mois` (qui sont disponibles), écrire une fonction `nb_jours(j_debut, m_debut, a_debut, j_fin, m_fin, a_fin)` qui renvoie le nombre de jours compris entre deux dates données (incluses)."
   ]
  }
 ],
 "metadata": {
  "celltoolbar": "Diaporama",
  "interpreter": {
   "hash": "916dbcbb3f70747c44a77c7bcd40155683ae19c65e1c03b4aa3499c5328201f1"
  },
  "kernelspec": {
   "display_name": "Python 3",
   "language": "python",
   "name": "python3"
  },
  "language_info": {
   "codemirror_mode": {
    "name": "ipython",
    "version": 3
   },
   "file_extension": ".py",
   "mimetype": "text/x-python",
   "name": "python",
   "nbconvert_exporter": "python",
   "pygments_lexer": "ipython3",
   "version": "3.9.2"
  },
  "latex_metadata": {
   "theme": "langage",
   "title": "2 --- Programmer en Python"
  },
  "rise": {
   "theme": "serif"
  }
 },
 "nbformat": 4,
 "nbformat_minor": 5
}
