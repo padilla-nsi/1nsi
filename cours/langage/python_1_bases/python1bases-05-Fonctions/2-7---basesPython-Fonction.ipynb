{
 "cells": [
  {
   "cell_type": "markdown",
   "id": "dab8a1e4",
   "metadata": {},
   "source": [
    "## 7 --- Fonctions"
   ]
  },
  {
   "cell_type": "markdown",
   "id": "14e7d863",
   "metadata": {},
   "source": [
    "### Introduction"
   ]
  },
  {
   "cell_type": "markdown",
   "id": "f58c2863",
   "metadata": {},
   "source": [
    "### Définir une fonction"
   ]
  },
  {
   "cell_type": "markdown",
   "id": "4dfd6032",
   "metadata": {},
   "source": [
    "### Renvoyer un résultat"
   ]
  },
  {
   "cell_type": "markdown",
   "id": "514fe63e",
   "metadata": {},
   "source": [
    "### Variables locales à une fonction"
   ]
  },
  {
   "cell_type": "markdown",
   "id": "606c9f43",
   "metadata": {},
   "source": [
    "### Sortie anticipée"
   ]
  },
  {
   "cell_type": "markdown",
   "id": "a64f3bfb",
   "metadata": {},
   "source": [
    "### Exercices"
   ]
  },
  {
   "cell_type": "markdown",
   "id": "0baa7fb6",
   "metadata": {
    "tags": [
     "exo"
    ]
   },
   "source": [
    "Définir une fonction `test_Pythagore` qui prend trois entiers $a$, $b$ et $c$ en arguments et renvoie un booléen indiquant si $a^2 + b^2 = c^2$, ou $b^2 + c^2 = a^2$ ou $c^2 + a^2 = b^2$."
   ]
  },
  {
   "cell_type": "markdown",
   "id": "88ac8df7",
   "metadata": {
    "tags": [
     "exo"
    ]
   },
   "source": [
    "Définir une fonction `valeur_absolue` qui prend un entier en argument et renvoie sa valeur absolue."
   ]
  },
  {
   "cell_type": "markdown",
   "id": "238d6280",
   "metadata": {
    "tags": [
     "exo"
    ]
   },
   "source": [
    "Modifier la fonction `multiples` pour qu'elle prenne la limite en argument plutôt que d'utiliser la valeur $999$. En déduire une fonction `multiples_3_ou_5(borne_sup)` qui renvoie la somme des multiples de 3 ou 5 inférieurs ou égaux à `borne_sup`."
   ]
  },
  {
   "cell_type": "markdown",
   "id": "0faa9984",
   "metadata": {
    "tags": [
     "exo"
    ]
   },
   "source": [
    "Écrire une fonction `max2(a, b)` qui renvoie le plus grand des deux entiers `a` et `b`."
   ]
  },
  {
   "cell_type": "markdown",
   "id": "9c1731aa",
   "metadata": {
    "tags": [
     "exo"
    ]
   },
   "source": [
    "Écrire une fonction `max3(a, b, c)` qui utilise la fonction `max2` de l'exercice précédent et qui renvoie le plus grand des trois entiers `a`, `b`, `c`.\n",
    "\n",
    "La fonction `max2` est disponible et vous pouvez l'utiliser sans l'implémenter."
   ]
  },
  {
   "cell_type": "markdown",
   "id": "a7d2010b",
   "metadata": {
    "tags": [
     "exo"
    ]
   },
   "source": [
    "Écrire une fonction `puissance(x, k)` qui renvoie `x` à la puissance `k` (utilisation de l'opérateur `**` interdit ! évidemment...).\n",
    "On utilisera une boucle `for` pour faire le calcul.\n",
    "\n",
    "On suppose que $k\\geq 0$ et on rappelle que $x^0 = 1$."
   ]
  },
  {
   "cell_type": "markdown",
   "id": "e323d7d8",
   "metadata": {
    "tags": [
     "exo"
    ]
   },
   "source": [
    "Écrire une fonction `est_bissextile(annee)` qui renvoie un booléen indiquant si l'année  `annee` est une année bissextile.\n",
    "\n",
    "On rappelle qu'une année bissextile est une année multiple de 4 mais pas de 100, ou multiple de 400."
   ]
  },
  {
   "cell_type": "markdown",
   "id": "d3d938af",
   "metadata": {
    "tags": [
     "exo"
    ]
   },
   "source": [
    "Écrire une fonctions `nb_jours_annee(annee)` qui renvoie le nombre de jour de l'année `annee`. La fonction `est_bissextile` de l'exercice précédent est disponible et vous pouvez l'utiliser (ce qui est bien pratique quand même)."
   ]
  },
  {
   "cell_type": "markdown",
   "id": "9f6becc4",
   "metadata": {
    "tags": [
     "exo"
    ]
   },
   "source": [
    "Écrire une fonction `nb_jours_mois(annee, mois)` qui renvoie le nombre de jours dans le mois `mois` de l'année `annee`. La fonction `est_bissextile` de l'exercice précédent est disponible (ce qui est bien pratique).\n",
    "\n",
    "On suppose que le mois `mois` est un entier compris entre 1 (pour janvier) et 12 (décembre)."
   ]
  },
  {
   "cell_type": "markdown",
   "id": "05dd5dd1",
   "metadata": {
    "tags": [
     "exo"
    ]
   },
   "source": [
    "En utilisant les fonctions `nb_jours_annnee` et `nb_jours_mois` (qui sont disponibles), écrire une fonction `nb_jours(j_debut, m_debut, a_debut, j_fin, m_fin, a_fin)` qui renvoie le nombre de jours compris entre deux dates données (incluses)."
   ]
  },
  {
   "cell_type": "markdown",
   "id": "38d6557f",
   "metadata": {
    "tags": [
     "exo"
    ]
   },
   "source": []
  }
 ],
 "metadata": {
  "celltoolbar": "Tags",
  "interpreter": {
   "hash": "916dbcbb3f70747c44a77c7bcd40155683ae19c65e1c03b4aa3499c5328201f1"
  },
  "kernelspec": {
   "display_name": "Python 3",
   "language": "python",
   "name": "python3"
  },
  "language_info": {
   "codemirror_mode": {
    "name": "ipython",
    "version": 3
   },
   "file_extension": ".py",
   "mimetype": "text/x-python",
   "name": "python",
   "nbconvert_exporter": "python",
   "pygments_lexer": "ipython3",
   "version": "3.9.2"
  },
  "latex_metadata": {
   "theme": "langage",
   "title": "2 --- Programmer en Python"
  },
  "rise": {
   "theme": "serif"
  }
 },
 "nbformat": 4,
 "nbformat_minor": 5
}
