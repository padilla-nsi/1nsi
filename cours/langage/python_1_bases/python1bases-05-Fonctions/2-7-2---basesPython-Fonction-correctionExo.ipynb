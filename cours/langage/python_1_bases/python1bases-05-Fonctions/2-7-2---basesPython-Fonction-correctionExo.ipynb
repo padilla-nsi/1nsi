{
 "cells": [
  {
   "cell_type": "markdown",
   "metadata": {},
   "source": [
    "## 7 --- Fonctions - Exercices fonctions (correction)"
   ]
  },
  {
   "cell_type": "markdown",
   "metadata": {
    "tags": [
     "exo"
    ]
   },
   "source": [
    "<div class=\"alert alert-warning\" role=\"alert\">\n",
    "\n",
    "**Exercice 1**\n",
    "\n",
    "Définir une fonction `test_Pythagore` qui prend trois entiers $a$, $b$ et $c$ en arguments et renvoie un booléen indiquant si $a^2 + b^2 = c^2$, ou $b^2 + c^2 = a^2$ ou $c^2 + a^2 = b^2$.\n",
    "\n",
    "#### Tests et exemples d'usage :\n",
    "\n",
    "```python\n",
    ">>> print(test_pythagore(3, 4, 5))\n",
    "True\n",
    ">>> print(test_pythagore(7, 2, 12))\n",
    "False\n",
    ">>> print(test_pythagore(3, 5, 4))\n",
    "True\n",
    ">>> print(test_pythagore(5, 4, 3))\n",
    "True\n",
    "```\n",
    "</div>"
   ]
  },
  {
   "cell_type": "code",
   "execution_count": 1,
   "metadata": {},
   "outputs": [
    {
     "name": "stdout",
     "output_type": "stream",
     "text": [
      "True\n",
      "False\n",
      "True\n",
      "True\n"
     ]
    }
   ],
   "source": [
    "def test_pythagore(a, b, c):\n",
    "    est_rectangle = a*a + b*b == c*c \\\n",
    "                    or b*b + c*c == a*a \\\n",
    "                    or c*c + a*a == b*b\n",
    "    return est_rectangle\n",
    "\n",
    "\n",
    "print(test_pythagore(3, 4, 5))\n",
    "print(test_pythagore(7, 2, 12))\n",
    "print(test_pythagore(3, 5, 4))\n",
    "print(test_pythagore(5, 4, 3))"
   ]
  },
  {
   "cell_type": "markdown",
   "id": "88ac8df7",
   "metadata": {
    "slideshow": {
     "slide_type": "subslide"
    },
    "tags": [
     "exo"
    ]
   },
   "source": [
    "<div class=\"alert alert-warning\" role=\"alert\">\n",
    "\n",
    "**Exercice 2**\n",
    "\n",
    "Définir une fonction `valeur_absolue` qui prend un entier en argument et renvoie sa valeur absolue.\n",
    "\n",
    "#### Exemples et tests:\n",
    "\n",
    "```python\n",
    ">>> print(valeur_absolue(5))\n",
    "5\n",
    ">>> print(valeur_absolue(-5))\n",
    "5\n",
    ">>> print(valeur_absolue(0))\n",
    "0\n",
    ">>> print(valeur_absolue(-42))\n",
    "42\n",
    "```\n",
    "\n",
    "</div>"
   ]
  },
  {
   "cell_type": "code",
   "execution_count": 2,
   "metadata": {},
   "outputs": [
    {
     "name": "stdout",
     "output_type": "stream",
     "text": [
      "5\n",
      "5\n",
      "0\n",
      "42\n"
     ]
    }
   ],
   "source": [
    "def valeur_absolue(n):\n",
    "    if n >= 0:\n",
    "        return n\n",
    "        \n",
    "    return -n\n",
    "\n",
    "\n",
    "print(valeur_absolue(5))\n",
    "print(valeur_absolue(-5))\n",
    "print(valeur_absolue(0))\n",
    "print(valeur_absolue(-42))"
   ]
  },
  {
   "cell_type": "markdown",
   "id": "238d6280",
   "metadata": {
    "slideshow": {
     "slide_type": "subslide"
    },
    "tags": [
     "exo"
    ]
   },
   "source": [
    "<div class=\"alert alert-warning\" role=\"alert\">\n",
    "\n",
    "**Exercice 3**\n",
    "\n",
    "Créer une fonction `multiples`  pour qu'elle prenne la limite en argument plutôt que d'utiliser la valeur $999$. En déduire une fonction `multiples_3_ou_5(borne_sup)` qui renvoie la somme des multiples de 3 ou 5 inférieurs ou égaux à `borne_sup`.\n",
    "\n",
    "#### Exemples et tests:\n",
    "\n",
    "```python\n",
    ">>> print(multiples_3_ou_5(2))\n",
    "0\n",
    ">>> print(multiples_3_ou_5(6))\n",
    "14\n",
    ">>> print(multiples_3_ou_5(10))\n",
    "33\n",
    ">>> print(multiples_3_ou_5(100))\n",
    "2418\n",
    "```\n",
    "\n",
    "</div>"
   ]
  },
  {
   "cell_type": "code",
   "execution_count": 4,
   "metadata": {},
   "outputs": [
    {
     "name": "stdout",
     "output_type": "stream",
     "text": [
      "0\n",
      "14\n",
      "33\n",
      "2418\n"
     ]
    }
   ],
   "source": [
    "def multiples_3_ou_5(borne_sup):\n",
    "    somme = 0\n",
    "    for i in range(borne_sup+1):\n",
    "        if i % 3 == 0 or i % 5 == 0:\n",
    "            somme += i\n",
    "    return somme\n",
    "\n",
    "\n",
    "print(multiples_3_ou_5(2))\n",
    "print(multiples_3_ou_5(6))\n",
    "print(multiples_3_ou_5(10))\n",
    "print(multiples_3_ou_5(100))"
   ]
  },
  {
   "cell_type": "markdown",
   "id": "0faa9984",
   "metadata": {
    "slideshow": {
     "slide_type": "subslide"
    },
    "tags": [
     "exo"
    ]
   },
   "source": [
    "<div class=\"alert alert-warning\" role=\"alert\">\n",
    "\n",
    "**Exercice 4**\n",
    "\n",
    "Écrire une fonction `max2(a, b)` qui renvoie le plus grand des deux entiers `a` et `b`.\n",
    "\n",
    "### Exemples et tests:\n",
    "\n",
    "```python\n",
    ">>> print(max(0, 0))\n",
    "0\n",
    ">>> print(max(1, 2))\n",
    "2\n",
    ">>> print(max(-2, -1))\n",
    "-1\n",
    "```\n",
    "</div>"
   ]
  },
  {
   "cell_type": "code",
   "execution_count": 5,
   "metadata": {},
   "outputs": [
    {
     "name": "stdout",
     "output_type": "stream",
     "text": [
      "0\n",
      "2\n",
      "-1\n"
     ]
    }
   ],
   "source": [
    "def max2(a, b):\n",
    "    if a >= b:\n",
    "        return a\n",
    "    \n",
    "    return b\n",
    "\n",
    "\n",
    "print(max(0,0))\n",
    "print(max(1,2))\n",
    "print(max(-2,-1))"
   ]
  },
  {
   "cell_type": "markdown",
   "id": "9c1731aa",
   "metadata": {
    "slideshow": {
     "slide_type": "subslide"
    },
    "tags": [
     "exo"
    ]
   },
   "source": [
    "<div class=\"alert alert-warning\" role=\"alert\">\n",
    "\n",
    "**Exercice 5**\n",
    "\n",
    "Écrire une fonction `max3(a, b, c)` qui utilise la fonction `max2` de l'exercice précédent et qui renvoie le plus grand des trois entiers `a`, `b`, `c`.\n",
    "\n",
    "La fonction `max2` est disponible et vous pouvez l'utiliser sans l'implémenter.\n",
    "\n",
    "\n",
    "#### Exemples et tests:\n",
    "\n",
    "```python\n",
    ">>> max3(0, 0, 0)\n",
    "0\n",
    ">>> print(max3(0,5,2))\n",
    "5\n",
    ">>> print(max3(-10,5,21))\n",
    "21\n",
    "```\n",
    "\n",
    "</div>"
   ]
  },
  {
   "cell_type": "code",
   "execution_count": 6,
   "metadata": {},
   "outputs": [
    {
     "name": "stdout",
     "output_type": "stream",
     "text": [
      "0\n",
      "5\n",
      "21\n"
     ]
    }
   ],
   "source": [
    "def max3(a, b, c):\n",
    "    return max2(a, max2(b, c))\n",
    "\n",
    "\n",
    "print(max3(0, 0, 0))\n",
    "print(max3(0,5,2))\n",
    "print(max3(-10,5,21))"
   ]
  },
  {
   "cell_type": "markdown",
   "id": "a7d2010b",
   "metadata": {
    "slideshow": {
     "slide_type": "subslide"
    },
    "tags": [
     "exo"
    ]
   },
   "source": [
    "<div class=\"alert alert-warning\" role=\"alert\">\n",
    "\n",
    "**Exercice 6**\n",
    "\n",
    "Écrire une fonction `puissance(x, k)` qui renvoie `x` à la puissance `k` (utilisation de l'opérateur `**` interdit ! évidemment...).\n",
    "On utilisera une boucle `for` pour faire le calcul.\n",
    "\n",
    "On suppose que $k\\geq 0$ et on rappelle que $x^0 = 1$.\n",
    "\n",
    "#### Exemples et tests:\n",
    "\n",
    "```python\n",
    ">>> print(puissance(5, 2))\n",
    "25\n",
    ">>> print(puissance(100, 0))\n",
    "1\n",
    ">>> print(puissance(2, 10))\n",
    "1024\n",
    "```\n",
    "\n",
    "</div>"
   ]
  },
  {
   "cell_type": "code",
   "execution_count": 9,
   "metadata": {},
   "outputs": [
    {
     "name": "stdout",
     "output_type": "stream",
     "text": [
      "25\n",
      "1\n",
      "1024\n"
     ]
    }
   ],
   "source": [
    "def puissance(x, k):\n",
    "    resultat = 1\n",
    "    for i in range(k):\n",
    "        resultat = resultat * x\n",
    "    \n",
    "    return resultat\n",
    "\n",
    "\n",
    "print(puissance(5, 2))\n",
    "print(puissance(100, 0))\n",
    "print(puissance(2, 10))"
   ]
  },
  {
   "cell_type": "markdown",
   "id": "e323d7d8",
   "metadata": {
    "slideshow": {
     "slide_type": "subslide"
    },
    "tags": [
     "exo"
    ]
   },
   "source": [
    "<div class=\"alert alert-warning\" role=\"alert\">\n",
    "\n",
    "**Exercice 7**\n",
    "\n",
    "Écrire une fonction `est_bissextile(annee)` qui renvoie un booléen indiquant si l'année  `annee` est une année bissextile.\n",
    "\n",
    "On rappelle qu'une année bissextile est une année multiple de 4 mais pas de 100, ou multiple de 400.\n",
    "\n",
    "#### Exemples et tests:\n",
    "\n",
    "```python\n",
    ">>> print(est_bissextile(1996))\n",
    "True\n",
    ">>> print(est_bissextile(2024))\n",
    "True\n",
    ">>> print(est_bissextile(2022))\n",
    "False\n",
    "```\n",
    "\n",
    "</div>"
   ]
  },
  {
   "cell_type": "code",
   "execution_count": 10,
   "metadata": {},
   "outputs": [
    {
     "name": "stdout",
     "output_type": "stream",
     "text": [
      "True\n",
      "True\n",
      "False\n"
     ]
    }
   ],
   "source": [
    "def est_bissextile(annee):\n",
    "    est_div_4   = annee % 4   == 0\n",
    "    est_div_100 = annee % 100 == 0\n",
    "    est_div_400 = annee % 400 == 0\n",
    "    if (est_div_4 and not est_div_100) \\\n",
    "        or est_div_400:\n",
    "        return True\n",
    "    \n",
    "    return False\n",
    "\n",
    "\n",
    "print(est_bissextile(1996))\n",
    "print(est_bissextile(2024))\n",
    "print(est_bissextile(2022))"
   ]
  },
  {
   "cell_type": "markdown",
   "id": "d3d938af",
   "metadata": {
    "slideshow": {
     "slide_type": "subslide"
    },
    "tags": [
     "exo"
    ]
   },
   "source": [
    "<div class=\"alert alert-warning\" role=\"alert\">\n",
    "\n",
    "**Exercice 8**\n",
    "\n",
    "Écrire une fonctions `nb_jours_annee(annee)` qui renvoie le nombre de jour de l'année `annee`. La fonction `est_bissextile` de l'exercice précédent est disponible et vous pouvez l'utiliser (ce qui est bien pratique quand même).\n",
    "\n",
    "#### Exemples et tests:\n",
    "\n",
    "```python\n",
    ">>> print(nb_jours_annee(1996))\n",
    "366\n",
    ">>> print(nb_jours_annee(2024))\n",
    "366\n",
    ">>> print(nb_jours_annee(2022))\n",
    "365\n",
    "```\n",
    "\n",
    "</div>"
   ]
  },
  {
   "cell_type": "code",
   "execution_count": 11,
   "metadata": {},
   "outputs": [
    {
     "name": "stdout",
     "output_type": "stream",
     "text": [
      "366\n",
      "366\n",
      "365\n"
     ]
    }
   ],
   "source": [
    "def nb_jours_annee(annee):\n",
    "    if est_bissextile(annee):\n",
    "        return 366\n",
    "    return 365\n",
    "\n",
    "\n",
    "print(nb_jours_annee(1996))\n",
    "print(nb_jours_annee(2024))\n",
    "print(nb_jours_annee(2022))"
   ]
  },
  {
   "cell_type": "markdown",
   "id": "05dd5dd1",
   "metadata": {
    "slideshow": {
     "slide_type": "subslide"
    },
    "tags": [
     "exo"
    ]
   },
   "source": [
    "<div class=\"alert alert-warning\" role=\"alert\">\n",
    "\n",
    "**Exercice 9**\n",
    "\n",
    "Écrire une fonction `nb_jours_mois(annee, mois)` qui renvoie le nombre de jours dans le mois `mois` de l'année `annee`. La fonction `est_bissextile` de l'exercice précédent est disponible (ce qui est bien pratique).\n",
    "\n",
    "On suppose que le mois `mois` est un entier compris entre `1` (pour janvier) et `12` (décembre).\n",
    "\n",
    "#### Exemples et tests:\n",
    "\n",
    "```python\n",
    ">>> print(nb_jours_mois(1900, 1))\n",
    "31\n",
    ">>> print(nb_jours_mois(1900, 2))\n",
    "28\n",
    ">>> print(nb_jours_mois(1904, 2))\n",
    "29\n",
    ">>> print(nb_jours_mois(2021, 9))\n",
    "30\n",
    "```\n",
    "\n",
    "</div>"
   ]
  },
  {
   "cell_type": "code",
   "execution_count": 13,
   "metadata": {},
   "outputs": [
    {
     "name": "stdout",
     "output_type": "stream",
     "text": [
      "31\n",
      "28\n",
      "29\n",
      "30\n"
     ]
    }
   ],
   "source": [
    "def nb_jours_mois(annee, mois):\n",
    "    if mois == 2:\n",
    "        if est_bissextile(annee):\n",
    "            return 29\n",
    "        else:\n",
    "            return 28\n",
    "    \n",
    "    if mois == 4 or mois == 6 or mois == 9 or mois == 11:\n",
    "        return 30\n",
    "    \n",
    "    return 31\n",
    "\n",
    "\n",
    "print(nb_jours_mois(1900, 1))\n",
    "print(nb_jours_mois(1900, 2))\n",
    "print(nb_jours_mois(1904, 2))\n",
    "print(nb_jours_mois(2021, 9))"
   ]
  },
  {
   "cell_type": "markdown",
   "id": "05dd5dd1",
   "metadata": {
    "slideshow": {
     "slide_type": "subslide"
    },
    "tags": [
     "exo"
    ]
   },
   "source": [
    "<div class=\"alert alert-warning\" role=\"alert\">\n",
    "\n",
    "**Exercice 10**\n",
    "\n",
    "En utilisant les fonctions `nb_jours_annnee` et `nb_jours_mois` (qui sont disponibles), écrire une fonction `nb_jours(j_debut, m_debut, a_debut, j_fin, m_fin, a_fin)` qui renvoie le nombre de jours compris entre deux dates données (incluses).\n",
    "\n",
    "\n",
    "#### Exemples et tests:\n",
    "\n",
    "```python\n",
    ">>> print(nb_jours(1,1,2021,15,1,2021))\n",
    "15\n",
    ">>> print(nb_jours(1,1,2021,31,12,2021))\n",
    "365\n",
    ">>> print(nb_jours(1,1,2024,31,12,2024))\n",
    "366\n",
    ">>> print(nb_jours(1,1,1970,31,12,2021))\n",
    "18993\n",
    "```\n",
    "\n",
    "</div>"
   ]
  },
  {
   "cell_type": "code",
   "execution_count": 18,
   "metadata": {},
   "outputs": [],
   "source": [
    "def nb_jours(j_debut, m_debut, a_debut, j_fin, m_fin, a_fin):\n",
    "    # nombre de jours avant la date de\n",
    "    # départ pour compléter la première année\n",
    "    nbjours_avant = 0\n",
    "    nbjours_avant = nbjours_avant + j_debut - 1\n",
    "    for m in range (1, m_debut):\n",
    "        nbjours_avant = nbjours_avant + nb_jours_mois(a_debut, m)\n",
    "\n",
    "    # nombre de jours après la date de\n",
    "    # fin nécessaires pour compléter la dernière année\n",
    "    nbjours_apres = 0\n",
    "    nbjours_apres = nbjours_apres + nb_jours_mois(a_fin, m_fin) - j_fin\n",
    "    for m in range(m_fin + 1, 13):\n",
    "        nbjours_apres = nbjours_apres + nb_jours_mois(a_fin, m)\n",
    "\n",
    "    # nombres de jours entre l'année de début et l'année de fin\n",
    "    total = 0\n",
    "    for a in range(a_debut, a_fin+1):\n",
    "        total = total + nb_jours_annee(a)\n",
    "\n",
    "    # retirer les jours en trop des\n",
    "    # premières et dernières années\n",
    "    return total - nbjours_avant - nbjours_apres"
   ]
  },
  {
   "cell_type": "code",
   "execution_count": 16,
   "metadata": {},
   "outputs": [
    {
     "name": "stdout",
     "output_type": "stream",
     "text": [
      "15\n",
      "365\n",
      "366\n",
      "18993\n"
     ]
    }
   ],
   "source": [
    "print(nb_jours(1,1,2021,15,1,2021))\n",
    "print(nb_jours(1,1,2021,31,12,2021))\n",
    "print(nb_jours(1,1,2024,31,12,2024))\n",
    "print(nb_jours(1,1,1970,31,12,2021))"
   ]
  }
 ],
 "metadata": {
  "interpreter": {
   "hash": "916dbcbb3f70747c44a77c7bcd40155683ae19c65e1c03b4aa3499c5328201f1"
  },
  "latex_metadata": {
   "theme": "langage",
   "title": "7 --- Fonction"
  },
  "kernelspec": {
   "display_name": "Python 3.9.2 64-bit",
   "language": "python",
   "name": "python3"
  },
  "language_info": {
   "codemirror_mode": {
    "name": "ipython",
    "version": 3
   },
   "file_extension": ".py",
   "mimetype": "text/x-python",
   "name": "python",
   "nbconvert_exporter": "python",
   "pygments_lexer": "ipython3",
   "version": "3.9.2"
  },
  "orig_nbformat": 4
 },
 "nbformat": 4,
 "nbformat_minor": 2
}
