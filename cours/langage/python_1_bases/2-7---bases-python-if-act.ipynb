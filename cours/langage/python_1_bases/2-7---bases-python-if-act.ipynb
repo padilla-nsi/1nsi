{
 "cells": [
  {
   "cell_type": "markdown",
   "id": "257fd283",
   "metadata": {},
   "source": [
    "### 6.4 --- Activités"
   ]
  },
  {
   "cell_type": "markdown",
   "id": "dab4b142",
   "metadata": {
    "tags": [
     "exo"
    ]
   },
   "source": [
    "Au jeu de mölkky, chaque joueur marque à son tour de jeu entre 0 et 12 points, qui viennent s'ajouter à son score précédent. Le premier à atteindre un score de 51 gagne. Mais gare ! Quiconque dépasse le score cible de 51 revient immédiatement à 25 points.\n",
    "\n",
    "Écrire un algorithme demandant un score `\"Entrer le score : \"` et un nombre de points marqués `\"Entrer le gain : \"`, et qui affiche le nouveau score `\"Nouveau score : \"` ou signale une éventuelle victoire `\"Victoire\"`."
   ]
  },
  {
   "cell_type": "code",
   "execution_count": null,
   "id": "f0048fb2",
   "metadata": {
    "tags": [
     "solution"
    ]
   },
   "outputs": [],
   "source": [
    "score = int(input(\"Entrer le score : \"))\n",
    "gain  = int(input(\"Entrer le gain : \"))\n",
    "nouveau_score = score + gain\n",
    "if nouveau_score == 51:\n",
    "    print(\"Victoire\")\n",
    "elif nouveau_score < 51:\n",
    "    print(\"Nouveau score :\", nouveau_score)\n",
    "else:\n",
    "    print(\"Nouveau score : 25\")\n"
   ]
  },
  {
   "cell_type": "markdown",
   "id": "79a6a605",
   "metadata": {
    "tags": [
     "exo"
    ]
   },
   "source": [
    "Au bowling, on a deux chances pour faire tomber un total de dix quilles. Écrire un algorithme qui demande le nombre de quilles renversées avec chacune des deux boules et affiche `\"X\"` si toutes les quilles sont tombées à la première boule, `\"/\"` si toutes les quilles sont tombées, et sinon le nombre de quille renversées.\n",
    "\n",
    " \n",
    "\n",
    "Exemples :\n",
    "\n",
    "    >>> Score première boule : 2\n",
    "    >>> Score deuxième boule : 3\n",
    "    5\n",
    "\n",
    "    >>> Score première boule : 7\n",
    "    >>> Score deuxième boule : 3\n",
    "    /\n",
    "\n",
    "    >>> Score première boule : 10\n",
    "    >>> Score deuxième boule : 0\n",
    "    X\n",
    "\n"
   ]
  },
  {
   "cell_type": "code",
   "execution_count": null,
   "id": "f3f7837a",
   "metadata": {
    "tags": [
     "solution"
    ]
   },
   "outputs": [],
   "source": [
    "score_1 = int(input(\"Score première boule : \"))\n",
    "score_2 = int(input(\"Score deuxième boule : \"))\n",
    "if score_1 == 10:\n",
    "    print(\"X\")\n",
    "elif score_1 + score_2 == 10:\n",
    "    print(\"/\")\n",
    "else:\n",
    "    print(score_1 + score_2)"
   ]
  },
  {
   "cell_type": "markdown",
   "id": "4f94b913",
   "metadata": {
    "tags": [
     "exo"
    ]
   },
   "source": [
    "Implémenter un programme qui demande deux nombres à l'utilisateur et affiche `\"divisible\"` si le premier est divisble par le second et qui affiche `\"pas divisible\"` sinon."
   ]
  },
  {
   "cell_type": "code",
   "execution_count": null,
   "id": "d955def2",
   "metadata": {
    "tags": [
     "solution"
    ]
   },
   "outputs": [],
   "source": [
    "a = int(input(\"saisir un premier nombre: \"))\n",
    "b = int(input(\"saisir un premier nombre: \"))\n",
    "\n",
    "if a % b == 0:\n",
    "    print(\"divisible\")\n",
    "else:\n",
    "    print(\"pas divisible\")"
   ]
  },
  {
   "cell_type": "markdown",
   "id": "019c4ad1",
   "metadata": {
    "tags": [
     "exo"
    ]
   },
   "source": [
    "Écrire un programme qui demande un entier `\"Entrer un nombre entier : \"` à l'utilisateur et affiche tous ses diviseurs.\n",
    "\n",
    " \n",
    "\n",
    "Exemples :\n",
    "\n",
    "        >>> Entrer un nombre entier : 26\n",
    "        1\n",
    "        2\n",
    "        13\n",
    "        26\n",
    "\n",
    "        >>> Entrer un nombre entier : 10\n",
    "        1\n",
    "        2\n",
    "        5\n",
    "        10\n",
    "\n"
   ]
  },
  {
   "cell_type": "code",
   "execution_count": null,
   "id": "209dca6f",
   "metadata": {
    "tags": [
     "solution"
    ]
   },
   "outputs": [],
   "source": [
    "n = int(input(\"Entrer un nombre entier positif : \"))\n",
    "for i in range(1, n+1):\n",
    "    if n % i == 0:\n",
    "        print(i)"
   ]
  },
  {
   "cell_type": "markdown",
   "id": "8360b804",
   "metadata": {
    "tags": [
     "exo"
    ]
   },
   "source": [
    "Écrire un programme qui demande un entier `n` à l'utilisateur et affiche tous ses diviseurs en précisant à la fin de l'affichage si le nombre est premier ou pas.\n",
    "\n",
    " \n",
    "\n",
    "Exemples :\n",
    "\n",
    "        >>> Entrer un nombre entier positif : 26\n",
    "        1\n",
    "        2\n",
    "        13\n",
    "        26\n",
    "        26 n'est pas premier\n",
    "\n",
    "        >>> Entrer un nombre entier positif : 41\n",
    "        1\n",
    "        41\n",
    "        41 est premier\n",
    "\n"
   ]
  },
  {
   "cell_type": "code",
   "execution_count": null,
   "id": "b4f80f3d",
   "metadata": {
    "tags": [
     "solution"
    ]
   },
   "outputs": [],
   "source": [
    "n = int(input(\"Entrer un nombre entier positif : \"))\n",
    "if n < 0:\n",
    "    print(n, \"n'est pas positif\")\n",
    "else:\n",
    "    nb_diviseurs = 2\n",
    "    print(1)\n",
    "    for i in range(2, n//2 + 1):\n",
    "        if n % i == 0:\n",
    "            nb_diviseurs = nb_diviseurs + 1\n",
    "            print(i)\n",
    "    print(n)\n",
    "    if nb_diviseurs == 2:\n",
    "        print(n, \"est premier\")\n",
    "    else:\n",
    "        print(n, \"n'est pas premier\")"
   ]
  },
  {
   "cell_type": "markdown",
   "id": "51794ff0",
   "metadata": {
    "tags": [
     "exo"
    ]
   },
   "source": [
    "Au bowling, on a deux chances pour faire tomber un total de dix quilles. Écrire un programme qui demande le nombre de quilles renversées avec chacune des deux boules et affiche `X` si toutes les quilles sont tombées à la première boule, `/` si toutes les quilles sont tombées, et sinon le nombre de quille renversées.\n",
    "\n",
    "Améliorer votre programme en ne demandant les informations de la deuxième boule que si elle a besoin d'être lancée.\n",
    "\n",
    " \n",
    "\n",
    "Exemples :\n",
    "\n",
    "        >>> Score première boule : 2\n",
    "        >>> Score deuxième boule : 3\n",
    "        5\n",
    "\n",
    "        >>> Score première boule : 7\n",
    "        >>> Score deuxième boule : 3\n",
    "        /\n",
    "\n",
    "        >>> Score première boule : 10\n",
    "        X\n",
    "\n"
   ]
  },
  {
   "cell_type": "code",
   "execution_count": null,
   "id": "83c9eee4",
   "metadata": {
    "tags": [
     "solution"
    ]
   },
   "outputs": [],
   "source": [
    "score_1 = int(input(\"Score première boule : \"))\n",
    "if score_1 == 10:\n",
    "    print(\"X\")\n",
    "else:\n",
    "    score_2 = int(input(\"Score deuxième boule : \"))\n",
    "    if score_1 + score_2 == 10:\n",
    "        print(\"/\")\n",
    "    else:\n",
    "        print(score_1 + score_2)"
   ]
  },
  {
   "cell_type": "markdown",
   "id": "367e18f9",
   "metadata": {
    "tags": [
     "exo"
    ]
   },
   "source": [
    "\n",
    "\n",
    "Au bowling, on a deux chances pour faire tomber un total de dix quilles. Écrire un programme qui demande le nombre de quilles renversées avec chacune des deux boules et affiche `X` si toutes les quilles sont tombées à la première boule, `/` si toutes les quilles sont tombées, et sinon le nombre de quille renversées.\n",
    "\n",
    "Améliorer votre programme en ne demandant les informations de la deuxième boule que si elle a besoin d'être lancée.\n",
    "\n",
    "Améliorer votre programme en affichant `!` si les scores saisis sont impossibles.\n",
    "\n",
    " \n",
    "\n",
    "Exemples :\n",
    "\n",
    "        >>> Score première boule : 2\n",
    "        >>> Score deuxième boule : 3\n",
    "        5\n",
    "\n",
    "        >>> Score première boule : 7\n",
    "        >>> Score deuxième boule : 3\n",
    "        /\n",
    "\n",
    "        >>> Score première boule : 10\n",
    "        X\n",
    "\n",
    "        >>> Score première boule : -5\n",
    "        !\n",
    "\n",
    "        >>> Score première boule : 13\n",
    "        !\n",
    "\n",
    "        >>> Score première boule : 2\n",
    "        >>> Score deuxième boule : -3\n",
    "        !\n",
    "\n",
    "        >>> Score première boule : 2\n",
    "        >>> Score deuxième boule : 9\n",
    "        !\n",
    "\n"
   ]
  },
  {
   "cell_type": "code",
   "execution_count": null,
   "id": "dd6dc78f",
   "metadata": {
    "tags": [
     "solution"
    ]
   },
   "outputs": [],
   "source": [
    "score_1 = int(input(\"Score première boule : \"))\n",
    "if score_1 < 0 or score_1 > 10:\n",
    "    print(\"!\")\n",
    "elif score_1 == 10:\n",
    "    print(\"X\")\n",
    "else:\n",
    "    score_2 = int(input(\"Score deuxième boule : \"))\n",
    "    if score_2 < 0 or score_1 + score_2 > 10:\n",
    "        print(\"!\")\n",
    "    elif score_1 + score_2 == 10:\n",
    "        print(\"/\")\n",
    "    else:\n",
    "        print(score_1 + score_2)\n"
   ]
  },
  {
   "cell_type": "markdown",
   "id": "88432d8e",
   "metadata": {
    "tags": [
     "exo"
    ]
   },
   "source": [
    "\n",
    "\n",
    "Écrire un programme qui demande trois longueurs à l'utilisateur, indique si ces trois longueurs peuvent être les longueurs des trois côtés d'un triangle et, le cas échéant, s'il s'agit d'un triangle équilatéral, isocèle, rectangle ou scalène (trois côtés de longueurs différentes)\n",
    "\n",
    " \n",
    "\n",
    "Exemples :\n",
    "\n",
    "        >>> Entrer la première distance : 2\n",
    "        >>> Entrer la deuxième distance : 3\n",
    "        >>> Entrer la troisième distance : 10\n",
    "        Ceci n'est pas un triangle\n",
    "\n",
    "        >>> Entrer la première distance : 3\n",
    "        >>> Entrer la deuxième distance : 5\n",
    "        >>> Entrer la troisième distance : 6\n",
    "        Ceci est un triangle\n",
    "        scalène\n",
    "\n",
    "        >>> Entrer la première distance : 3\n",
    "        >>> Entrer la deuxième distance : 3\n",
    "        >>> Entrer la troisième distance : 5\n",
    "        Ceci est un triangle\n",
    "        isocèle\n",
    "\n",
    "        >>> Entrer la première distance : 5 \n",
    "        >>> Entrer la deuxième distance : 5\n",
    "        >>> Entrer la troisième distance : 5\n",
    "        Ceci est un triangle\n",
    "        équilatéral\n",
    "\n",
    "        >>> Entrer la première distance : 3\n",
    "        >>> Entrer la deuxième distance : 4\n",
    "        >>> Entrer la troisième distance : 5\n",
    "        Ceci est un triangle\n",
    "        scalène\n",
    "        rectangle\n",
    "\n"
   ]
  },
  {
   "cell_type": "code",
   "execution_count": null,
   "id": "d3580d99",
   "metadata": {
    "tags": [
     "solution"
    ]
   },
   "outputs": [],
   "source": [
    "a = int(input(\"Entrer la première distance : \"))\n",
    "b = int(input(\"Entrer la deuxième distance : \"))\n",
    "c = int(input(\"Entrer la troisième distance : \"))\n",
    "if a+b >= c and b+c >= a and c+a >= b:\n",
    "    print(\"Ceci est un triangle\")\n",
    "    if a == b and b == c:\n",
    "        print(\"équilatéral\")\n",
    "    elif a == b or b == c or c == a:\n",
    "        print(\"isocèle\")\n",
    "    else:\n",
    "        print(\"scalène\")\n",
    "    \n",
    "    if a*a+b*b == c*c or b*b+c*c == a*a or c*c+a*a == b*b:\n",
    "        print(\"rectangle\")\n",
    "    \n",
    "else:\n",
    "    print(\"Ceci n'est pas un triangle\")"
   ]
  },
  {
   "cell_type": "markdown",
   "id": "ed0c3891",
   "metadata": {
    "tags": [
     "exo"
    ]
   },
   "source": [
    "\n",
    "Pour limiter les erreurs dans la transmission d'un message, une technique simple appelée code de répétition d'ordre $k$ consiste à répéter $k$ fois chaque lettre.\n",
    "\n",
    "Lors de la réception du message, il suffit alors de regarder quelle lettre est majoritaire dans chaque paquet de lettres.\n",
    "\n",
    "Dans cet exercice, on ne considérera comme lettre que les nombres `0` et `1`.\n",
    "\n",
    "\n",
    " \n",
    "\n",
    "Écrire un programme qui demande à l'utilisateur de saisir deux lettres et qui affiche la lettre majoritaire, ou `X` si aucune n'est majoritaire.\n",
    "\n",
    " \n",
    "\n",
    "Exemples :\n",
    "\n",
    "        >>> Première lettre : 0\n",
    "        >>> Deuxième lettre : 0\n",
    "        0\n",
    "\n",
    "        >>> Première lettre : 1\n",
    "        >>> Deuxième lettre : 0\n",
    "        X\n",
    "\n",
    "        >>> Première lettre : 0\n",
    "        >>> Deuxième lettre : 1\n",
    "        X\n",
    "\n",
    "        >>> Première lettre : 1\n",
    "        >>> Deuxième lettre : 1\n",
    "        1\n",
    "\n"
   ]
  },
  {
   "cell_type": "code",
   "execution_count": null,
   "id": "74cafb6c",
   "metadata": {
    "tags": [
     "solution"
    ]
   },
   "outputs": [],
   "source": [
    "l1 = input(\"Première lettre : \")\n",
    "l2 = input(\"Deuxième lettre : \")\n",
    "if l1 == l2:\n",
    "    print(l1)\n",
    "else:\n",
    "    print(\"X\")"
   ]
  },
  {
   "cell_type": "markdown",
   "id": "c7cbfe26",
   "metadata": {
    "tags": [
     "exo"
    ]
   },
   "source": [
    "\n",
    "\n",
    "Pour limiter les erreurs dans la transmission d'un message, une technique simple appelée code de répétition d'ordre $k$ consiste à répéter $k$ fois chaque lettre.\n",
    "\n",
    "Lors de la réception du message, il suffit alors de regarder quelle lettre est majoritaire dans chaque paquet de lettres.\n",
    "\n",
    "Dans cet exercice, on ne considérera comme lettre que les nombres `0` et `1`.\n",
    "\n",
    " \n",
    "\n",
    "Écrire un programme qui demande à l'utilisateur de saisir trois lettres et qui affiche la lettre majoritaire.\n",
    "\n",
    " \n",
    "\n",
    "Exemples :\n",
    "\n",
    "        >>> Première lettre : 0\n",
    "        >>> Deuxième lettre : 1\n",
    "        >>> Troisième lettre : 1\n",
    "        1\n",
    "\n",
    "        >>> Première lettre : 1\n",
    "        >>> Deuxième lettre : 0\n",
    "        >>> Troisième lettre : 0\n",
    "        0\n",
    "\n"
   ]
  },
  {
   "cell_type": "code",
   "execution_count": null,
   "id": "5444fc3c",
   "metadata": {
    "tags": [
     "solution"
    ]
   },
   "outputs": [],
   "source": [
    "l1 = input(\"Première lettre : \")\n",
    "l2 = input(\"Deuxième lettre : \")\n",
    "l3 = input(\"Troisième lettre : \")\n",
    "\n",
    "if l1 == l2 or l1 == l3:\n",
    "    print(l1)\n",
    "else:\n",
    "    print(l3)"
   ]
  },
  {
   "cell_type": "markdown",
   "id": "c62dc324",
   "metadata": {
    "tags": [
     "exo"
    ]
   },
   "source": [
    "\n",
    "\n",
    "Pour limiter les erreurs dans la transmission d'un message, une technique simple appelée code de répétition d'ordre $k$ consiste à répéter $k$ fois chaque lettre.\n",
    "\n",
    "Lors de la réception du message, il suffit alors de regarder quelle lettre est majoritaire dans chaque paquet de lettres.\n",
    "\n",
    "Dans cet exercice, on ne considérera comme lettre que les nombres `0` et `1`.\n",
    "\n",
    " \n",
    "\n",
    "Écrire un programme qui demande à l'utilisateur la valeur de l'ordre k, puis demande de saisir k lettres. Le programme affiche la lettre majoritaire, ou X si aucune n'est majoritaire.\n",
    "\n",
    " \n",
    "\n",
    "Exemples :\n",
    "\n",
    "        >>> Entrer l'ordre du code : 5\n",
    "        >>> Saisir le lettre : 0\n",
    "        >>> Saisir le lettre : 1\n",
    "        >>> Saisir le lettre : 1\n",
    "        >>> Saisir le lettre : 1\n",
    "        >>> Saisir le lettre : 0\n",
    "        1"
   ]
  },
  {
   "cell_type": "code",
   "execution_count": null,
   "id": "1c1aa5b3",
   "metadata": {
    "tags": [
     "solution"
    ]
   },
   "outputs": [],
   "source": [
    "n = 0\n",
    "k = int(input(\"Entrer l'ordre du code : \"))\n",
    "for _ in range(k):\n",
    "    l = input(\"Saisir le lettre : \")\n",
    "    if l == \"1\":\n",
    "        n = n + 1\n",
    "if n > k - n:\n",
    "    print(\"1\")\n",
    "elif n < k - n:\n",
    "    print(\"0\")\n",
    "else:\n",
    "    print(\"X\")\n"
   ]
  }
 ],
 "metadata": {
  "celltoolbar": "Tags",
  "interpreter": {
   "hash": "916dbcbb3f70747c44a77c7bcd40155683ae19c65e1c03b4aa3499c5328201f1"
  },
  "kernelspec": {
   "display_name": "Python 3",
   "language": "python",
   "name": "python3"
  },
  "language_info": {
   "codemirror_mode": {
    "name": "ipython",
    "version": 3
   },
   "file_extension": ".py",
   "mimetype": "text/x-python",
   "name": "python",
   "nbconvert_exporter": "python",
   "pygments_lexer": "ipython3",
   "version": "3.9.2"
  },
  "latex_metadata": {
   "theme": "langage",
   "title": "2 --- Programmer en Python"
  },
  "rise": {
   "theme": "serif"
  }
 },
 "nbformat": 4,
 "nbformat_minor": 5
}
