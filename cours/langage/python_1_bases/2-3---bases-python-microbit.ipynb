{
 "cells": [
  {
   "cell_type": "markdown",
   "source": [
    "## 4 --- La bibliothèque `microbit`"
   ],
   "metadata": {}
  },
  {
   "cell_type": "markdown",
   "source": [
    "## 4.1 --- Découverte de l'environnement $\\texttt{Micro:bit}$"
   ],
   "metadata": {}
  },
  {
   "cell_type": "markdown",
   "source": [
    "### 4.1.1 --- Découverte de la carte $\\texttt{Micro:bit}$"
   ],
   "metadata": {}
  },
  {
   "cell_type": "markdown",
   "source": [
    "Répondre aux questions suivantes concernant la carte Micro:bit :\n",
    "\n",
    "1. **Observer** la carte et **énumérer** les différents constituants de la carte $\\texttt{Micro:bit}$.\n",
    "2. **Indiquer** le rôle de chacun.\n",
    "3. **D'après vous**, à quoi sert le composant *Processor*? que contient-il ?"
   ],
   "metadata": {
    "tags": [
     "exo"
    ]
   }
  },
  {
   "cell_type": "markdown",
   "source": [
    "Comme tout modèle d'ordinateurs, la structure de la carte $\\texttt{Micro:bit}$ est conforme à un schéma inventé en 1945 et qui a peu évolué depuis : l'**architecture de Von Neumann**.\n",
    "  \n",
    "![](./res/archi.png)\n",
    "  \n",
    "Cerveau de la machine, l'unité centrale (ou *microprocesseur*) est constituée d'une **unité arithmétique et logique** (pour effectuer les calculs) et d'une **unité de contrôle** (pour pilote les échanges à travers le **Bus**.\n",
    "  \n",
    "    \n",
    "La **mémoire** contient à la fois les données et les programmes.\n",
    "\n",
    "Les périphériques d'**entrées/sorties** permettent d'envoyer ou de recevoir des données avec l'extérieur (clavier, souris, écran, imprimante, etc.).\n"
   ],
   "metadata": {
    "tags": [
     "retenir"
    ]
   }
  },
  {
   "cell_type": "markdown",
   "source": [
    "### 4.1.2 --- Premier programme avec la carte $\\texttt{Micro:bit}$"
   ],
   "metadata": {}
  },
  {
   "cell_type": "markdown",
   "source": [
    "**D'après toi**, que fait le programme ci-dessous ? \n",
    "\n",
    "```python\n",
    "from microbit import *\n",
    "e0 = button_a.is_pressed()\n",
    "if e0:\n",
    "    display.show(\"1\")\n",
    "else:\n",
    "    display.show(\"0\")\n",
    "```\n",
    "\n",
    "**Ouvrir** l'éditeur `Mu-editor`, **recopier** ce programme et le **téléverser** sur la carte (bouton `Flasher` ![](res/flash.png)).\n",
    "\n",
    "2. **Observe** le fonctionnement de la carte et **propose** une ou plusieurs interprétations (pour confirmer/infirmer tes observations, tu peux manipuler les boutons présents sur la carte : A / B / Reset).\n",
    "\n",
    "**Présenter** tes réponses au professeur.\n",
    "\n",
    "3. **Indique** le nombre de fois qu'est exécutée l'instruction conditionnelle. \n",
    "4. **D'après toi**, combien de fois doit être exécutée l'instruction conditionnelle pour que la carte reste à l'écoute des entrées et réagisse chaque fois que l'état du bouton A change ?\n",
    "5. **Améliore** le programme en tenant compte de tes observations et de tes réponses aux questions précédentes.\n",
    "\n",
    "\n",
    "**Présente** la carte programmée au professeur.\n",
    "\n",
    "La fonction `button_a.is_pressed()` peut être avantageusement remplacée par un appel à la fonction `button_a.was_pressed()`.\n",
    "\n",
    "Son appel renvoie une valeur booléenne `True` (vrai) ou `False` (faux) et permet de savoir si le bouton A *a été pressé* depuis la dernière fois que cette fonction a été appelée. Cette fonction renvoie `True` s'il a été pressé entre deux appels et `False` sinon.\n",
    "\n",
    "6. **Modifie** le programme pour que l'affichage `0/1` change uniquement lorsque l'on presse le bouton A (et pas lorsqu'on le relâche)."
   ],
   "metadata": {
    "tags": [
     "exo"
    ]
   }
  },
  {
   "cell_type": "markdown",
   "source": [
    "## 4.2 --- Commandes de base pour programmer avec $\\texttt{Micro:bit}$"
   ],
   "metadata": {}
  },
  {
   "cell_type": "markdown",
   "source": [
    "Dans la suite, tu utiliseras l'éditeur `mu-editor` pour programmer ta carte $\\texttt{Micro:bit}$. Si tu le souhaites tu pourras, **sur ton temps personnel**, essayer de programmer la carte avec VSCodium..."
   ],
   "metadata": {}
  },
  {
   "cell_type": "markdown",
   "source": [
    "3.2.1 --- La bibliothèque `microbit`"
   ],
   "metadata": {}
  },
  {
   "cell_type": "markdown",
   "source": [
    "\n",
    "En Python, les entrées/sorties de la carte $\\texttt{Micro:bit}$ ne sont pas *nativement* accessibles. Afin de pouvoir utiliser les fonctions prévues à cet effet, il faut utiliser la bibliothèque `microbit`.\n"
   ],
   "metadata": {}
  },
  {
   "cell_type": "markdown",
   "source": [
    "\n",
    "Pour importer cette bibliothèque, il faut utiliser la commande:\n",
    "    \n",
    "    \n",
    "```python\n",
    "from microbit import *\n",
    "```"
   ],
   "metadata": {
    "tags": [
     "exemple"
    ]
   }
  },
  {
   "cell_type": "markdown",
   "source": [
    "L'utilisation de cette bibliothèque nous permettra d'utiliser différentes fonctionnalités de la carte $\\texttt{Micro:bit}$ :\n",
    "\n",
    "- **Image** pour créer et manipuler les images. \n",
    "- **Button** avec deux *instances* `button_a` et `button_b` pour connaître l'état des boutons.\n",
    "- **Pin** avec différentes *instances* en fonction du type de broche (par exemple `pin0`, `pin1` et `pin2`).\n",
    "- **display** pour gérer l'écran de LED\n",
    "- **accelerometer** pour interroger l'accéléromètre\n",
    "- **compass** pour manipuler et interroger la boussole\n",
    "- **music** pour créer et manipuler de la musique\n",
    "- **speech** pour faire parler le $\\texttt{Micro:bit}$\n",
    "- **radio** pour communiquer entres plusieurs $\\texttt{Micro:bit}$ via un protocole simple."
   ],
   "metadata": {}
  },
  {
   "cell_type": "markdown",
   "source": [
    "### 4.2.2 --- Micropython dans la carte $\\texttt{Micro:bit}$\n"
   ],
   "metadata": {}
  },
  {
   "cell_type": "markdown",
   "source": [
    "\n",
    "Lorsque la carte $\\texttt{Micro:bit}$ est flashée par `mu-editor` avec la bibliothèque `microbit`, elle contient un noyau *micropython*. Il est alors possible d'écrire du code qui sera interprété par ce noyau micropython de la carte.\n",
    "\n",
    "\n",
    "Pour accéder à l'interprète Python de la carte, il suffit de cliquer sur l'icône REPL de l'application.\n",
    "\n"
   ],
   "metadata": {}
  },
  {
   "cell_type": "markdown",
   "source": [
    "Pour utiliser le terminal de la carte $\\texttt{Micro:bit}$ :\n",
    "\n",
    "1. Flasher la carte $\\texttt{Micro:bit}$ avec micropython.\n",
    "2. Ouvrir le terminal de la carte en cliquant sur REPL\n",
    "3. Écrire le code ci-dessous :\n",
    "\n",
    "```python\n",
    "print(\"Hello, World!\")\n",
    "```\n"
   ],
   "metadata": {
    "tags": [
     "exemple"
    ]
   }
  },
  {
   "cell_type": "markdown",
   "source": [
    "### 4.2.3 --- Afficher un texte\n"
   ],
   "metadata": {}
  },
  {
   "cell_type": "markdown",
   "source": [
    "Le module `display` permet de gérer l’écran de LED de $\\texttt{Micro:bit}$. Les fonctionnalités offertes par ce module sont accessible en ajoutant un point `'.'` après `'display'` puis en écrivant le nom de la fonction à appeler :\n",
    "\n",
    "- `display.show(mon_texte)` permet d’afficher la chaîne de caractère contenue dans la variable `mon_texte`\n",
    "- `display.scroll(mon_texte)` permet de la $\\texttt{Micro:bit}$\n",
    "- `display.clear()` permet d'effacer l'écran.\n"
   ],
   "metadata": {}
  },
  {
   "cell_type": "markdown",
   "source": [
    "$\\texttt{Micro:bit}$ le mot `Hello` puis afficher la chaîne `World!`."
   ],
   "metadata": {
    "tags": [
     "exo"
    ]
   }
  },
  {
   "cell_type": "code",
   "execution_count": null,
   "source": [
    "from microbit import *\n",
    "display.scroll(\"Hello,\")\n",
    "display.show(\"World!\")"
   ],
   "outputs": [],
   "metadata": {
    "tags": [
     "solution"
    ]
   }
  },
  {
   "cell_type": "markdown",
   "source": [
    "### 4.2.4 --- Des images\n"
   ],
   "metadata": {}
  },
  {
   "cell_type": "markdown",
   "source": [
    "La classe `Image` contient comme *attributs* de nombreuses images pré-programmées. Ces constantes sont accessibles grâce à un point `'.'` placé après `'Image'`. Par exemple l'image du coeur est accessible via l'instruction `Image.HEART` :\n",
    "\n",
    "![](res/mbpy-init-heart.png)\n",
    "\n",
    "Comme pour les textes, les images s'affichent grâce à l'instruction `display.show()`."
   ],
   "metadata": {}
  },
  {
   "cell_type": "markdown",
   "source": [
    "Voici par exemple comment afficher successivement des images : une image est affichée pendant une seconde puis ensuite une autre image s'affiche. Une seconde plus tard, l'écran s'efface.\n",
    "\n",
    "```python\n",
    "from microbit import *\n",
    "display.show(Image.HAPPY)\n",
    "sleep(1000)\n",
    "display.show(Image.ANGRY)\n",
    "sleep(1000)\n",
    "display.clear()\n",
    "```\n",
    "\n",
    "Il faut mettre le $\\texttt{Micro:bit}$ en pause. Sinon l'utilisateur n'aura pas le temps de tout voir. La commande `sleep(duree)` arrête donc la carte pendant une durée `duree` exprimée en milliseconde par un nombre entier (int)."
   ],
   "metadata": {
    "tags": [
     "exemple"
    ]
   }
  },
  {
   "cell_type": "markdown",
   "source": [
    "### 4.2.5 --- Des boutons\n"
   ],
   "metadata": {}
  },
  {
   "cell_type": "markdown",
   "source": [
    "Pour connaître les états des boutons de la carte $\\texttt{Micro:bit}$ on utilise les classes `button_a` (pour le bouton A de la carte) et `button_b` (pour le bouton B).\n",
    "\n",
    "Comme d'habitude, les fonctionnalités offertes par ces classes sont accessibles via un point `'.'` placé après le nom de la classe :\n",
    "\n",
    "- `.get_presses()` renvoie le **nombre** de fois que le bouton a été pressé depuis le dernier appel de cette fonction\n",
    "- `.is_pressed()` renvoie une **valeur booléenne** (vrai `True` ou fausse `False`) qui indique si le bouton est *actuellement* pressé\n",
    "- `.was_pressed()` renvoie une **valeur booléenne** qui indique si le bouton *a été* pressé depuis le dernier appel de cette méthode.\n"
   ],
   "metadata": {}
  },
  {
   "cell_type": "markdown",
   "source": [
    "Écris un code permettant d'afficher le nombre de fois que le bouton B a été pressé dans les 10 secondes qui ont suivies l'alimentation de la carte.\n",
    "\n",
    "*(bon à savoir) : la fonction `str(nb)` permet de transformer le nombre en entier `nb` en une chaîne de caractère qu'on peut $\\texttt{Micro:bit}$.*"
   ],
   "metadata": {
    "tags": [
     "exo"
    ]
   }
  },
  {
   "cell_type": "code",
   "execution_count": null,
   "source": [
    "from microbit import *\n",
    "sleep(10000)\n",
    "display.scroll(str( button_a.get_presses() ))"
   ],
   "outputs": [],
   "metadata": {
    "tags": [
     "solution"
    ]
   }
  },
  {
   "cell_type": "markdown",
   "source": [
    "Une carte $\\texttt{Micro:bit}$ est un objet connecté qui, entres autres, est à l'écoute de certains **évènements**. Pour programmer cette capacité d'écoute, il est possible d'appliquer le principe fondamental des objets connectés :  créer une **boucle infinie** `while True:`.\n",
    "\n",
    "À chaque tour de cette boucle, le programme doit vérifier la réalisation de l'évènement attendu.\n",
    "\n",
    "Lorsque l'événement se réalise, il est possible d'utiliser le mot clé `break` qui permet alors de quitter la boucle infinie.\n"
   ],
   "metadata": {}
  },
  {
   "cell_type": "markdown",
   "source": [
    "Le programme ci-dessous tourne en boucle :\n",
    "\n",
    "- Lorsque aucun évènement n'est détecté, c'est l'image triste `Image.SAD` qui s'affiche.\n",
    "- Pendant que le bouton A est pressé, l'image joyeuse `Image.HAPPY` s'affiche.\n",
    "- Pendant que la broche `pin1` est touchée (pour cela, pincer en même temps que la broche `GND` avec la main droite et la broche `pin1` avec la main gauche), l'image endormie `Image.ASLEEP` s'affiche.\n",
    "- Enfin, lorsque le bouton B est pressé, l'écran s'efface et le programme quitte la boucle.\n",
    "\n",
    "\n",
    "```python\n",
    "from microbit import *\n",
    "while True:\n",
    "    if button_a.is_pressed():\n",
    "        display.show(Image.HAPPY)\n",
    "    elif pin1.is_touched():\n",
    "        display.show(Image.ASLEEP)\n",
    "    elif button_b.is_pressed():\n",
    "        display.clear()\n",
    "        break\n",
    "    else:\n",
    "        display.show(Image.SAD)\n",
    "```"
   ],
   "metadata": {
    "tags": [
     "exemple"
    ]
   }
  },
  {
   "cell_type": "markdown",
   "source": [
    "Les broches `pin0`, `pin1` et `pin2` peuvent aussi servir de bouton. Ainsi la méthode `.is_touched()`} permet de renvoyer une valeur booléenne qui vaut `True` lorsqu'une personne en contact avec la masse (broche `GND`) touche puis relâche la broche en question.\n",
    "\n",
    "En effet quand l'instruction est exécutée, la carte mesure la résistance entre la broche à laquelle l'instruction s'applique et la masse (broche `GND`). Si cette dernière a varié et est passée d'une valeur quasi infinie à une valeur faible, le test devient vrai (`True`). Cet évènement arrive lorsqu'une personne en contact avec `GND` touche la broche puis la relâche."
   ],
   "metadata": {
    "tags": [
     "remarque"
    ]
   }
  },
  {
   "cell_type": "markdown",
   "source": [
    "### 4.2.6 Le hasard\n",
    "\n",
    "La bibliothèque `random` est utilisable avec $\\texttt{Micro:bit}$. Grâce à cette bibliothèque, il est très simple de générer des nombres aléatoires avec les fonctions :\n",
    "\n",
    "- `random()` pour tirer un nombre décimal (`float`) compris entre 0 (inclus) et 1 (exclu)\n",
    "- `randint(a,b)` pour tirer un nombre entier (`int`) appartenant à `a..b` (inclus).\n"
   ],
   "metadata": {}
  },
  {
   "cell_type": "markdown",
   "source": [
    "Le programme ci-dessous affiche très rapidement 50 nombres aléatoires tirés entre 1 et 6. Le dernier nombre tiré est affiché pendant une seconde puis effacé.\n",
    "\n",
    "```python\n",
    "from microbit import *\n",
    "from random import randint\n",
    "for i in range(50):\n",
    "    display.show(random.randint(1, 6))\n",
    "    sleep(20)\n",
    "sleep(1000)\n",
    "display.clear()\n",
    "``` \n"
   ],
   "metadata": {
    "tags": [
     "exemple"
    ]
   }
  },
  {
   "cell_type": "markdown",
   "source": [
    "### 4.2.7 --- Le mouvement\n",
    "\n",
    "L'accéléromètre de la carte $\\texttt{Micro:bit}$ est accessible par le module `accelerometer`.\n",
    "\n",
    "Il est alors possible de récupérer une des coordonnées du vecteur accélération. Par exemple avec un appel à la fonction `.get_x()`.\n"
   ],
   "metadata": {}
  },
  {
   "cell_type": "markdown",
   "source": [
    "Le programme ci-dessous affiche une flèche en fonction de l'inclinaison de la carte $\\texttt{Micro:bit}$.\n",
    "\n",
    "Le bouton B permet de quitter la boucle infinie.\n",
    "\n",
    "```python\n",
    "from microbit import *\n",
    "button_b.was_pressed()\n",
    "while True:\n",
    "    capteur = accelerometer.get_x()\n",
    "    if capteur > 40:\n",
    "        display.show(Image.ARROW_E)\n",
    "    elif capteur < -40:\n",
    "        display.show(Image.ARROW_W)\n",
    "    else:\n",
    "        display.show(\"-\")\n",
    "        \n",
    "    if button_b.was_pressed():\n",
    "        display.clear()\n",
    "        break\n",
    "``` \n"
   ],
   "metadata": {
    "tags": [
     "exemple"
    ]
   }
  },
  {
   "cell_type": "markdown",
   "source": [
    "### 4.2.8 --- Les gestes\n",
    "\n",
    "Le module `accelerometer` peut aussi détecter  des mouvements ou des positions pré-programmés : les *gestes* (`'up'`, `'down'`, `'left'`, `'right'`, `'face up'`, `'face down'`, `'freefall'`, `'3g'`, `'6g'`, `'8g'`, `'shake'`).\n",
    "\n"
   ],
   "metadata": {}
  },
  {
   "cell_type": "markdown",
   "source": [
    "L'utilisation des gestes est très lente."
   ],
   "metadata": {
    "tags": [
     "remarque"
    ]
   }
  },
  {
   "cell_type": "markdown",
   "source": [
    "Pour cela, il existe :\n",
    "\n",
    "- `accelerometer.get_gestures()` qui renvoie un ensemble appelé `tuple` contenant l'historique des gestes. Le dernier élément du tuple est le geste le plus récent. Le tuple est réinitialisé à chaque appel de cette fonction.\n",
    "- `accelerometer.is_gesture(nom_du_geste)` qui renvoie une **valeur booléenne** indiquant si le geste en cours est `nom_du_geste`\n",
    "- `accelerometer.was_pressed(nom_du_geste)` qui renvoie une **valeur booléenne** indiquant si le geste `nom_du_geste` *a été* pressé depuis le dernier appel de cette fonction.\n",
    "\n",
    "\n"
   ],
   "metadata": {}
  },
  {
   "cell_type": "markdown",
   "source": [
    "Le programme ci-dessous affiche le nombre \"8\".\n",
    "\n",
    "Lorsque la carte $\\texttt{Micro:bit}$ est secoué, il s'affiche une seconde plus tard de manière aléatoire et équiprobable soit `\"Oui\"`, soit `\"Non\"`.\n",
    "\n",
    "Après une petite pause, le jeu recommence sauf si on appui sur le bouton B ce qui fait sortir de la boucle.\n",
    "\n",
    "```python\n",
    "from microbit import *\n",
    "from random import choice\n",
    "button_b.was_pressed()\n",
    "while True:\n",
    "    display.show(\"8\")\n",
    "    if accelerometer.was_gesture(\"shake\"):\n",
    "        display.clear()\n",
    "        sleep(1000)\n",
    "        display.scroll(random.choice([\"Oui\",\"Non\"]))\n",
    "        sleep(250)\n",
    "    if button_b.was_pressed():\n",
    "        break\n",
    "``` "
   ],
   "metadata": {
    "tags": [
     "exemple"
    ]
   }
  },
  {
   "cell_type": "markdown",
   "source": [
    "### 4.2.9 --- La radio\n",
    "\n",
    "Les cartes $\\texttt{Micro:bit}$ peuvent communiquer entres elles au moyen du module `radio`.\n",
    "\n",
    "- `radio.send(texte)` permet d'envoyer par radio la chaîne de caractère `texte`.\n",
    "- `radio.receive()` renvoie les données reçues par radio converties en une chaîne de caractère. Si rien n'a été reçu, la chaîne vaut `None`.\n",
    "\n"
   ],
   "metadata": {}
  },
  {
   "cell_type": "markdown",
   "source": [
    "Le programme ci dessous est à téléverser sur 2 cartes $\\texttt{Micro:bit}$. Il contient à la fois une partie émetteur et une partie récepteur. Un appui sur les boutons A ou B de l'une ou l'autre  des cartes $\\texttt{Micro:bit}$ affiche les texte \"A\" ou \"B\" sur l'autre. Un appui sur la broche `pin0` arrête le programme.\n",
    "\n",
    "```python\n",
    "from microbit import *\n",
    "button_a.was_pressed()\n",
    "button_b.was_pressed()\n",
    "while True:\n",
    "    # émetteur\n",
    "    if button_a.was_pressed():\n",
    "        radio.send(\"A\")\n",
    "    if button_b.was_pressed():\n",
    "        radio.send(\"B\")\n",
    "    # récepteur\n",
    "    message = radio.receive()\n",
    "    if message == \"A\":\n",
    "        display.scroll(\"A\")\n",
    "    if message == \"B\":\n",
    "        display.scroll(\"B\")\n",
    "    # pause pour éviter de saturer la carte\n",
    "    sleep(20)\n",
    "    # sortir de la boucle\n",
    "    if pin0.is_touched():\n",
    "        display.clear()\n",
    "        break\n",
    "``` \n"
   ],
   "metadata": {
    "tags": [
     "exemple"
    ]
   }
  },
  {
   "cell_type": "markdown",
   "source": [
    "### 4.2.10 --- La boussole\n",
    "\n",
    "Pour utiliser la boussole de la carte $\\texttt{Micro:bit}$, il faut utiliser le module `compass`.\n",
    "\n",
    "- `compass.get_x()` (ou `.get_y()` ou `.get_y()`) renvoient une des composantes du vecteur champ magnétique.\n",
    "- `compass.heading()` renvoie un nombre entier (`int`) correspondant à l'angle en degré entre l'orientation de la carte $\\texttt{Micro:bit}$ et le nord magnétique.\n"
   ],
   "metadata": {}
  },
  {
   "cell_type": "markdown",
   "source": [
    "Avant d'utiliser une fonctionnalité du module `compass`, il faut obligatoirement *calibrer* la carte. Sans cela, les valeurs renvoyées sont fausses à cause du *bruit magnétique* présent dans l'environnement de la carte.\n",
    "\n",
    "Au moment de calibrer la boussole, l'utilisateur doit bouger la carte dans différentes positions jusqu'à faire passer le point clignotant par toutes les LED de l'écran.\n",
    "    \n",
    "L'outil de calibration se lance automatiquement mais il est possible de programmer son exécution en appelant l'instruction `compass.calibrate()`.\n"
   ],
   "metadata": {
    "tags": [
     "remarque"
    ]
   }
  },
  {
   "cell_type": "markdown",
   "source": [
    "Le programme ci-dessous fait office de boussole et indique le nord magnétique.\n",
    "\n",
    "Attention, le capteur est sensible aux objets tels que téléphones, ordinateurs ou aux lieux tels que ascenseurs ou salle informatique...\n",
    "\n",
    "```python\n",
    "from microbit import *\n",
    "compass.calibrate()\n",
    "button_b.was_pressed()\n",
    "while True:\n",
    "    cap = ((15 - compass.heading()) // 30) % 12\n",
    "    display.show(Image.ALL_CLOCKS[cap])\n",
    "    if button_b.was_pressed():\n",
    "        display.clear()\n",
    "        break\n",
    "```"
   ],
   "metadata": {
    "tags": [
     "exemple"
    ]
   }
  },
  {
   "cell_type": "markdown",
   "source": [
    "### 4.2.11 --- Nuages de points avec `Mu-editor`\n",
    "\n",
    "Il est possible de tracer un **nuage de points** avec l'éditeur `Mu-editor`.\n",
    "\n",
    "Pour cela, il faut \n",
    "\n",
    "- utiliser l'outil `Graphique` de `Mu-editor`,\n",
    "- faire afficher par le programme en cours d'exécution un `tuple` de nombres.\n",
    "\n"
   ],
   "metadata": {}
  },
  {
   "cell_type": "markdown",
   "source": [
    "Le programme ci-dessous affiche dans le terminal (ou dans le **Graphique** si l'outil de l'IDE est cliqué)  deux nombres aléatoires appartenant à -100..100.\n",
    "\n",
    "```python\n",
    "from microbit import *\n",
    "from random import randint\n",
    "drapeau = True\n",
    "while True:\n",
    "    sleep(50)\n",
    "    if button_a.was_pressed():\n",
    "        drapeau = not drapeau\n",
    "    if drapeau:\n",
    "        nb1 = randint(-100,100)\n",
    "        nb2 = randint(-100,100)\n",
    "        print( (nb1,nb2) )\n",
    "```"
   ],
   "metadata": {
    "tags": [
     "exemple"
    ]
   }
  }
 ],
 "metadata": {
  "celltoolbar": "Tags",
  "interpreter": {
   "hash": "916dbcbb3f70747c44a77c7bcd40155683ae19c65e1c03b4aa3499c5328201f1"
  },
  "kernelspec": {
   "display_name": "Python 3",
   "language": "python",
   "name": "python3"
  },
  "latex_metadata": {
   "theme": "langage",
   "title": "2 --- Programmer en Python"
  },
  "rise": {
   "theme": "serif"
  }
 },
 "nbformat": 4,
 "nbformat_minor": 5
}