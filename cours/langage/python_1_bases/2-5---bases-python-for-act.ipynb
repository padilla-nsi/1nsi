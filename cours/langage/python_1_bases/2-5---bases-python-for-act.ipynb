{
 "cells": [
  {
   "cell_type": "markdown",
   "metadata": {},
   "source": [
    "## 5.4 Activités"
   ]
  },
  {
   "cell_type": "markdown",
   "metadata": {
    "tags": [
     "exo"
    ]
   },
   "source": [
    "*(Capytale : 0fcb-77439)* Écrire un programme qui demande un entier `n` à l'utilisateur, puis calcule et affiche le résultat de la multiplication $\\overbrace{2 \\times 2 \\times 2 \\times \\ldots \\times 2}^{n \\text{ fois}}$."
   ]
  },
  {
   "cell_type": "markdown",
   "metadata": {
    "tags": [
     "exo"
    ]
   },
   "source": [
    "Écrire un programme qui calcule et affiche $1 \\times 2 \\times \\ldots \\times 100$."
   ]
  },
  {
   "cell_type": "markdown",
   "metadata": {
    "tags": [
     "exo"
    ]
   },
   "source": [
    "Écrire un programme qui demande un entier `n`  à l'utilisateur puis calcule et affiche \n",
    "\n",
    "1. $1 + 2 + \\ldots + \\texttt{n}$\n",
    "2. le nombre entier `n*(n+1)//2`"
   ]
  },
  {
   "cell_type": "code",
   "execution_count": null,
   "metadata": {},
   "outputs": [],
   "source": [
    "n = int(input(\"entrer un nombre\"))\n",
    "\n",
    "# Question 1\n",
    "r = 0\n",
    "for i in range(n):\n",
    "    r = r + i + 1\n",
    "print(\"réponse 1:\", r)\n",
    "\n",
    "# Question 2\n",
    "print(\"réponse 2:\", n*(n+1)//2)"
   ]
  },
  {
   "cell_type": "markdown",
   "metadata": {
    "tags": [
     "exo"
    ]
   },
   "source": [
    "*(Capytale : 1983-77502)* Écrire un programme qui demande à l'utilisateur \n",
    "\n",
    "- une somme d'argent initiale `s` déposée sur un livret, \n",
    "- un taux d'intérêt annuel `t` exprimé en pourcents\n",
    "- un nombre d'année `n`\n",
    "\n",
    "et qui affiche les intérêts perçus chaque année ainsi que le montant total présent sur le livret après `n` années.\n",
    "\n",
    "*(chaque année, il faut ajouter à `s` la quantité `s*t/100`)*"
   ]
  },
  {
   "cell_type": "code",
   "execution_count": null,
   "metadata": {},
   "outputs": [],
   "source": [
    "s = 10_000  # 10000,00 mais écrit plus lisible\n",
    "t = 1.5     #     1,50 %\n",
    "n = 5\n",
    "\n",
    "for _ in range(n):\n",
    "    interet = s*t/100\n",
    "    s = s + interet\n",
    "\n",
    "print(\"somme finale :\", s)"
   ]
  },
  {
   "cell_type": "markdown",
   "metadata": {
    "tags": [
     "exo"
    ]
   },
   "source": [
    "*(Capytale : e7b7-77504)* \n",
    "\n",
    "1. Écrire un programme qui demande à l'utilisateur un nombre de chiffres `n` puis `n` chiffres, et qui calcule et affiche le nombre formé avec les `n` chiffres fournis dans l'ordre.\n",
    "2. Écrire une variante du programme précédent dans lequel les chiffres sont donnés dans l'ordre inverse. "
   ]
  },
  {
   "cell_type": "markdown",
   "metadata": {},
   "source": [
    "L'idée du code suivant est d'écrire le prochain chiffre à droite de tous les précédents. Cela revient donc à multiplier par 10 le nombre obtenu jusque là et à ajouter le nouveau chiffre."
   ]
  },
  {
   "cell_type": "code",
   "execution_count": null,
   "metadata": {},
   "outputs": [],
   "source": [
    "n = int(input(\"nombre de chiffres\"))\n",
    "\n",
    "r = 0\n",
    "for i in range(n):\n",
    "    chiffre = int(input(\"Entrer le prochain chiffre : \"))\n",
    "    r = 10 * r + chiffre\n",
    "\n",
    "print(r)"
   ]
  },
  {
   "cell_type": "markdown",
   "metadata": {},
   "source": [
    "Dans le cas où les chiffres sont données en sens inverses, chaque chiffre à ajouter est multiplié par une puissance de 10 correspondant à sa position."
   ]
  },
  {
   "cell_type": "code",
   "execution_count": null,
   "metadata": {},
   "outputs": [],
   "source": [
    "n = int(input(\"Entrer le nombre de chiffres : \"))\n",
    "\n",
    "r = 0\n",
    "for i in range(n):\n",
    "    chiffre = int(input(\"Entrer le prochain chiffre : \"))\n",
    "    r = r +  chiffre * (10**i)\n",
    "\n",
    "print(r)"
   ]
  },
  {
   "cell_type": "markdown",
   "metadata": {
    "tags": [
     "exo"
    ]
   },
   "source": [
    "*(Capytale : a7bc-77505)* Écrire un programme qui demande à l'utilisateur un nombre entier `n` et un nombre de chiffres `k`, et qui affiche successivement les `k` derniers chiffres de `n`, en commençant par les unités.\n",
    "\n",
    "Si `n` contient moins de `k` chiffres, il suffira d'afficher des zéros à la fin.\n",
    "\n",
    "*(on rappelle que `n % 10` renvoie le chiffre des unités de `n`)*"
   ]
  },
  {
   "cell_type": "code",
   "execution_count": null,
   "metadata": {},
   "outputs": [],
   "source": [
    "n = int(input(\"Entrer un nombre entier : \"))\n",
    "k = int(input(\"Entrer un nombre de chiffres : \"))\n",
    "\n",
    "for _ in range(k):\n",
    "    print(n % 10)\n",
    "    n = n // 10"
   ]
  },
  {
   "cell_type": "markdown",
   "metadata": {
    "tags": [
     "exo"
    ]
   },
   "source": [
    "*(Capytale : 2294-77506)* La suite de Fibonacci est la suite d'entiers $(F_n)$ définie par $F_0 = 0, F_1 = 1$ et, pour tout entier $n$ à partir de 2, $F_n = F_{n-1} + F_{n-2}$.\n",
    "\n",
    "Écrire un programme qui demande à l'utilisateur un entier `n` qu'on supposera supérieur ou égal à `1`, et qui affiche la valeur de $F_n$.\n",
    "\n",
    "*(on utilisera deux variables pour mémoriser $F_n$ et $F_{n-1}$ ainsi qu'une variable temporaire)*"
   ]
  },
  {
   "cell_type": "code",
   "execution_count": null,
   "metadata": {},
   "outputs": [],
   "source": [
    "n = int(input(\"Entrer un nombre entier : \"))\n",
    "\n",
    "fib_m = 0   # valeur en n-1\n",
    "fib_n = 1   # valeur en n\n",
    "\n",
    "for _ in range(2, n+1):\n",
    "    tmp = fib_m\n",
    "    fib_m = fib_n\n",
    "    fib_n = fib_m + tmp\n",
    "\n",
    "print(fib_n)"
   ]
  }
 ],
 "metadata": {
  "celltoolbar": "Tags",
  "interpreter": {
   "hash": "916dbcbb3f70747c44a77c7bcd40155683ae19c65e1c03b4aa3499c5328201f1"
  },
  "kernelspec": {
   "display_name": "Python 3.9.2 64-bit",
   "name": "python3"
  },
  "language_info": {
   "codemirror_mode": {
    "name": "ipython",
    "version": 3
   },
   "file_extension": ".py",
   "mimetype": "text/x-python",
   "name": "python",
   "nbconvert_exporter": "python",
   "pygments_lexer": "ipython3",
   "version": "3.9.2"
  },
  "latex_metadata": {
   "theme": "langage",
   "title": "2 --- Programmer en Python"
  },
  "rise": {
   "theme": "serif"
  }
 },
 "nbformat": 4,
 "nbformat_minor": 5
}
