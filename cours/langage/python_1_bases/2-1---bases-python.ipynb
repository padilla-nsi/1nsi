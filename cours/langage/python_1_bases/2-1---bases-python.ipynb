{
 "cells": [
  {
   "cell_type": "markdown",
   "source": [
    "# Chap. 2 --- Programmer en Python ([pa.dilla.fr/15](https://pa.dilla.fr/15) ![](res/qr-basthon.png))\n"
   ],
   "metadata": {
    "slideshow": {
     "slide_type": "slide"
    }
   }
  },
  {
   "cell_type": "markdown",
   "source": [
    "Dans ce chapitre, tu vas travailler sur :\n",
    "\n",
    "- les notebooks et les programmes en Python\n",
    "- les expressions arithmétiques\n",
    "- les messages d'erreur\n",
    "- les variables\n",
    "- les séquences d'instructions\n",
    "- la lecture et l'écriture de chaînes de caractères"
   ],
   "metadata": {
    "slideshow": {
     "slide_type": "slide"
    },
    "tags": [
     "cacher"
    ]
   }
  },
  {
   "cell_type": "markdown",
   "source": [
    "D'après toi, pourquoi HTML et CSS ne sont **pas** des langages de programmation ?"
   ],
   "metadata": {}
  },
  {
   "cell_type": "markdown",
   "source": [
    "HTML et CSS sont incapables d'effectuer le moindre calcul.\n",
    "\n",
    "On peut aussi remarquer qu'il manque des instructions essentielles comme les répétitions, les branchements conditionnels ou encore les affectations."
   ],
   "metadata": {}
  },
  {
   "cell_type": "markdown",
   "source": [
    "Python est un langage de programmation qui peut être utilisé de différentes façon. Dans ce cours nous verrons :\n",
    "\n",
    "- le mode *interactif*  dans des notebooks\n",
    "- le mode *programme* dans l'interface de développement (IDE) VSCodium."
   ],
   "metadata": {}
  },
  {
   "cell_type": "markdown",
   "source": [
    "## 1 --- Le mode interactif"
   ],
   "metadata": {
    "slideshow": {
     "slide_type": "slide"
    }
   }
  },
  {
   "cell_type": "markdown",
   "source": [
    "Le mode interactif se comporte un peu comme une calculatrice. Nous allons explorer ce mode à travers les **notebooks**."
   ],
   "metadata": {}
  },
  {
   "cell_type": "markdown",
   "source": [
    "\n",
    "### 1.1 --- Les notebooks"
   ],
   "metadata": {}
  },
  {
   "cell_type": "markdown",
   "source": [
    "Un *notebook* est une page HTML qui contient des blocs de texte et des blocs de code :\n",
    "\n",
    "- les blocs de  **texte** permettent d'afficher et de modifier du texte écrit en langage `Markdown`. Cette simplification du  HTML permet d'afficher du texte (normal, gras, italique, etc.), des listes, des tableaux, des liens, du code ou encore des média comme les images et les vidéos. \n",
    "- les blocs de **code** permettent de saisir, modifier et d'exécuter du code Python. L'interprète Python est chargé avec la page HTML puis ensuite il calcule et affiche les résultats."
   ],
   "metadata": {}
  },
  {
   "cell_type": "markdown",
   "source": [
    "La page de ce cours consultable à l'adresse [https://pa.dilla.fr/15](https://pa.dilla.fr/15) **est un notebook**."
   ],
   "metadata": {}
  },
  {
   "cell_type": "markdown",
   "source": [
    "Dans le notebook, ceci est un bloc de texte avec des mots en *italiques* et d'autres en **gras**."
   ],
   "metadata": {}
  },
  {
   "cell_type": "code",
   "execution_count": null,
   "source": [
    "# Ceci est un bloc de CODE.\n",
    "# Les lignes qui commencent pas un # sont des commentaires\n",
    "# Les commentaires ne seront pas interprétés par Python\n",
    "\n",
    "print(\"Dans le notebook, ceci est un bloc de code\")"
   ],
   "outputs": [],
   "metadata": {}
  },
  {
   "cell_type": "markdown",
   "source": [
    "Dans la suite, tu vas apprendre quelques manipulations sur les notebooks et revoir des éléments **essentiels** de Python."
   ],
   "metadata": {}
  },
  {
   "cell_type": "markdown",
   "source": [
    "Comment modifier un bloc de texte ou de code ?\n",
    "\n",
    "\n",
    "Pour cela tu peux utiliser la souris ou le clavier :\n",
    "\n",
    "1. méthode avec la souris :\n",
    "   - double-cliquer sur ce bloc de texte pour l'*éditer*,\n",
    "   - modifier/corriger le texte\n",
    "   - cliquer sur le bouton `Run` pour interpréter ce bloc et sortir du mode *édition*\n",
    "2. méthode au clavier :\n",
    "   - utiliser les flèches `<`&#x2191;`>` et `<`&#x2193;`>` pour sélectionner le bloc de texte à modifier\n",
    "   - appuyer sur `<Entrée>` pour *éditer* le bloc\n",
    "   - modifier/corriger le texte \n",
    "   - pour interpréter le résultats tu peux utiliser au choix :\n",
    "     - `<Ctrl> + <Entrée>` pour interpréter le bloc ou\n",
    "     - `<Shift> + <Entrée>` pour interpréter le  bloc *et* passer au bloc suivant."
   ],
   "metadata": {}
  },
  {
   "cell_type": "markdown",
   "source": [
    "**Accède** à la version *notebook* de ce chapitre.\n",
    "\n",
    "1. **Corrige** la faute d'aurthografe de ce bloc de texte.\n",
    "2. **Écris** dans le bloc de code ci-dessous les trois caractères `1+2` puis fait calculer le résultats par l'interprète Python.\n"
   ],
   "metadata": {}
  },
  {
   "cell_type": "code",
   "execution_count": null,
   "source": [],
   "outputs": [],
   "metadata": {}
  },
  {
   "cell_type": "markdown",
   "source": [
    "Dans un notebook, tu peux ajouter autant de bloc que tu le souhaites. Pour cela, \n",
    "\n",
    "1. tu peux utiliser dans les outils le bouton `+` ![](res/tuto-01.png).\n",
    "2. Si tu souhaites que le bloc soit du code, sélectionne `Code` dans la liste déroulante.\n",
    "3. Si tu souhaites un bloc de texte, sélectionne alors `Markdown`.\n",
    "\n",
    "![](res/tuto-02.png)"
   ],
   "metadata": {}
  },
  {
   "cell_type": "markdown",
   "source": [
    "\n",
    "\n",
    "### 1.2 --- Arithmétique\n"
   ],
   "metadata": {}
  },
  {
   "cell_type": "markdown",
   "source": [
    "En Python, on peut saisir des combinaires arbitraires d'opérations arithmétiques, en utilisant notamment les quatre opérations les plus communes."
   ],
   "metadata": {}
  },
  {
   "cell_type": "code",
   "execution_count": null,
   "source": [
    "2 + 5 * (10 - 1 / 2)"
   ],
   "outputs": [],
   "metadata": {}
  },
  {
   "cell_type": "markdown",
   "source": [
    "Quelques remarques \n",
    "\n",
    "1. Les symboles des quatre opérations sont `+` (addition), `-` (soustraction), `*` (multiplication) et `/` (division).\n",
    "2. La priorité des opérations est usuelle et on peut utiliser les parenthèses.\n",
    "3. Les espaces sont purement décoratifs : ils rendent plus lisibles mais n'agissent pas sur la priorité des opérations"
   ],
   "metadata": {}
  },
  {
   "cell_type": "code",
   "execution_count": null,
   "source": [
    "1+2     * 3"
   ],
   "outputs": [],
   "metadata": {}
  },
  {
   "cell_type": "markdown",
   "source": [
    "Remarque bien que l'interprète Python n'accepte pas les expressions qui sont mal formées ou comportent des erreurs."
   ],
   "metadata": {}
  },
  {
   "cell_type": "markdown",
   "source": [
    "Dans le bloc de code ci-dessous, **écris** `1 + * 2`.\n",
    "\n",
    "**Indique** le type d'erreur affiché."
   ],
   "metadata": {}
  },
  {
   "cell_type": "markdown",
   "source": [
    "Lorsque l'on fait des erreurs de syntaxe car l'expression est mal formée, l'interprète affiche `SyntaxError`. Pour aider l'utilisateur, l'interprète montre l'endroit exact de l'erreur avec le symbole `^` qui pointe sous le `*`."
   ],
   "metadata": {}
  },
  {
   "cell_type": "markdown",
   "source": [
    "*Pour répondre aux questions suivantes, tu peux ajouter des blocs de texte ou des blocs de code...*\n",
    "\n",
    "En mathématique, est-il possible de **diviser un nombre par zéro** ?\n",
    "\n",
    "Et en **Python** ?"
   ],
   "metadata": {}
  },
  {
   "cell_type": "markdown",
   "source": [
    "### 1.3 --- Les nombres"
   ],
   "metadata": {}
  },
  {
   "cell_type": "markdown",
   "source": [
    "En Python, les nombres sont de deux *types* :\n",
    "\n",
    "- soit des **entiers relatifs** (appelés *entiers*)\n",
    "- soit des **nombres décimaux** (appelés *flottants*).\n",
    "\n"
   ],
   "metadata": {}
  },
  {
   "cell_type": "markdown",
   "source": [
    "Attention, les nombres flottans s'écrivent à *l'anglo-saxonne* avec un point `.`. Par exemple le nombre $1,2$ s'écrit en Python `1.2`"
   ],
   "metadata": {}
  },
  {
   "cell_type": "markdown",
   "source": [
    "**Indique** ce qu'affiche les commandes suivantes : \n",
    "\n",
    "1. Commande 1 :  `1,2 + 3,4`.\n",
    "2. Commande 2 : `1,2 * 3`\n",
    "\n",
    "**D'après toi**, à quoi sert le symbole virgule `,` en Python ?\n"
   ],
   "metadata": {}
  },
  {
   "cell_type": "markdown",
   "source": [
    "En Python :\n",
    "\n",
    "- les *entiers* sont de **taille arbitraire** ;\n",
    "- les *flottants* en revanche ont une **capacité limitée** et sont souvent des approximations qui ne représentent alors qu'une partie des nombres décimaux.\n",
    "\n",
    "Quand tu en as le choix, travaille de préférence avec les entiers."
   ],
   "metadata": {}
  },
  {
   "cell_type": "markdown",
   "source": [
    "### 1.4 --- Autres opérations"
   ],
   "metadata": {}
  },
  {
   "cell_type": "markdown",
   "source": [
    "**Détermine** le type de nombre que l'on obtient lorsque l'on divise entre eux deux nombres entiers."
   ],
   "metadata": {}
  },
  {
   "cell_type": "markdown",
   "source": [
    "La division avec l'opération `/` donne un nombre flottant. Ainsi `10/2` donne `5.0` et `7/2` donne `3.5`. Ces deux résultats sont de types *flottant* car ils sont écrits avec une virgule.\n"
   ],
   "metadata": {}
  },
  {
   "cell_type": "markdown",
   "source": [
    "**Effectue** *à la main* les divisions euclidiennes :\n",
    "\n",
    "- $\\frac 72$\n",
    "- $\\frac {98}{10}$"
   ],
   "metadata": {}
  },
  {
   "cell_type": "markdown",
   "source": [
    "$7/2$ donne $3$ et il reste $1$. L'égalité $7 = 3 \\times 2 + 1$ est vérifiée.\n",
    "\n",
    "$98 / 10$ donne $9$ et il reste $8$. L'égalité $98 = 9 \\times 10 + 8$ est vérifiée."
   ],
   "metadata": {}
  },
  {
   "cell_type": "markdown",
   "source": [
    "Pour effectuer la **division entière**, il faut utiliser l'opération `//`. \n",
    "\n",
    "`a // b` peut être vu comme le plus grand nombre entier inférieur ou égal à $a/b$.\n",
    "\n",
    "\n",
    "Pour obtenir le **reste de la division euclidienne**, on utilise l'opération `%` (qui se dit *\"modulo\"*).\n"
   ],
   "metadata": {}
  },
  {
   "cell_type": "markdown",
   "source": [
    "**Vérifie** à l'aide des opérations *division entière* et *modulo* les résultats de l'activité précédente."
   ],
   "metadata": {}
  },
  {
   "cell_type": "code",
   "execution_count": null,
   "source": [
    "7//2"
   ],
   "outputs": [],
   "metadata": {}
  },
  {
   "cell_type": "code",
   "execution_count": null,
   "source": [
    "7%2"
   ],
   "outputs": [],
   "metadata": {}
  },
  {
   "cell_type": "code",
   "execution_count": null,
   "source": [
    "98 // 10"
   ],
   "outputs": [],
   "metadata": {}
  },
  {
   "cell_type": "code",
   "execution_count": null,
   "source": [
    "98 % 10"
   ],
   "outputs": [],
   "metadata": {}
  },
  {
   "cell_type": "markdown",
   "source": [
    "L'opération `**` calcule la *puissance* d'un nombre.\n",
    "\n",
    "Ainsi, $10^{3}$ s'écrit `10 ** 3`."
   ],
   "metadata": {}
  },
  {
   "cell_type": "markdown",
   "source": [
    "**Calculer** dans un bloc de code $2 ^{1024}$.\n",
    "\n",
    "Dans un autre bloc de code, **calculer** $2,0 ^ {1024}$.\n",
    "\n",
    "**Propose** une explication à tes observations."
   ],
   "metadata": {}
  },
  {
   "cell_type": "code",
   "execution_count": null,
   "source": [
    "2**1024"
   ],
   "outputs": [],
   "metadata": {}
  },
  {
   "cell_type": "code",
   "execution_count": null,
   "source": [
    "2.0**1024"
   ],
   "outputs": [],
   "metadata": {}
  },
  {
   "cell_type": "markdown",
   "source": [
    "### 1.3 --- Variables"
   ],
   "metadata": {}
  },
  {
   "cell_type": "markdown",
   "source": [
    "Les résultats calculés peuvent être **mémorisés** afin d'être utilisés plus tard."
   ],
   "metadata": {}
  },
  {
   "cell_type": "code",
   "execution_count": null,
   "source": [
    "a = 1 + 1"
   ],
   "outputs": [],
   "metadata": {}
  },
  {
   "cell_type": "markdown",
   "source": [
    "La notation `a =` permet de donner un nom à l'information mémorisée. Ici, l'interprète Python calcule le résultat de `1 + 1` et le mémorise dans la **variable** `a`.\n",
    "\n",
    "Aucun résultat n'est affiché. On accède à la valeur mémorisée en utilisant le nom `a`."
   ],
   "metadata": {}
  },
  {
   "cell_type": "code",
   "execution_count": null,
   "source": [
    "a"
   ],
   "outputs": [],
   "metadata": {}
  },
  {
   "cell_type": "markdown",
   "source": [
    "Affiche maintenant le résultat du calcul `a * (a + 1)`."
   ],
   "metadata": {}
  },
  {
   "cell_type": "code",
   "execution_count": null,
   "source": [
    "a * (a+1)"
   ],
   "outputs": [],
   "metadata": {}
  },
  {
   "cell_type": "markdown",
   "source": [
    "Le symbole `=` utilisé pour définir la variable `a` désigne une opération d'**affectation**.\n",
    "\n",
    "Ce symbole attend à *gauche* un nom de variable et à *droite* une expression.\n",
    "\n",
    "On peut donner une nouvelle valeur à la variable `a` avec une nouvelle affectation. Cette valeur *remplace* la précédente."
   ],
   "metadata": {}
  },
  {
   "cell_type": "code",
   "execution_count": null,
   "source": [
    "a = 3\n",
    "a * (a+1)"
   ],
   "outputs": [],
   "metadata": {}
  },
  {
   "cell_type": "markdown",
   "source": [
    "Le calcul de la nouvelle valeur de `a` peut utiliser la valeur courante de `a`."
   ],
   "metadata": {}
  },
  {
   "cell_type": "code",
   "execution_count": null,
   "source": [
    "a = a + 1\n",
    "a"
   ],
   "outputs": [],
   "metadata": {}
  },
  {
   "cell_type": "markdown",
   "source": [
    "Un nom de variable peut être formé de plusieurs caractères (lettre, chiffres et tiret bas). Il est recommandé de :\n",
    "\n",
    "- ne pas utilisé de caractères accentués\n",
    "- se limiter aux caractères minuscules."
   ],
   "metadata": {}
  },
  {
   "cell_type": "code",
   "execution_count": null,
   "source": [
    "cube = a * a * a\n",
    "ma_variable = 42\n",
    "ma_variable2 = 2021"
   ],
   "outputs": [],
   "metadata": {}
  },
  {
   "cell_type": "markdown",
   "source": [
    "Une variable peut être imaginée comme un **emplacement en mémoire** portant une  **étiquette** et contenant une **valeur**. \n",
    "\n",
    "Ainsi, on peut représenter la variable déclarée par `x = 1` comme un emplacement appelé `x` et contenant la valeur `1` par : \n",
    "$\\overset{\\texttt{x}}{\\fbox{\\texttt{1}}}$"
   ],
   "metadata": {}
  },
  {
   "cell_type": "markdown",
   "source": [
    "### 1.4 --- État"
   ],
   "metadata": {}
  },
  {
   "cell_type": "markdown",
   "source": [
    "L'ensemble des associations entre des noms de variables et des valeurs constitue **l'état** de l'interprète Python.\n",
    "\n",
    "Cet état évolue en fonction des instructions exécutées. Les instructions qui modifient l'état sont dites *à effet de bord*."
   ],
   "metadata": {}
  },
  {
   "cell_type": "markdown",
   "source": [
    "À partir de l'état $\\overset{\\texttt{a}}{\\fbox{\\texttt{1}}}\\overset{\\texttt{b}}{\\fbox{\\texttt{2}}}\\overset{\\texttt{c}}{\\fbox{\\texttt{3}}}\\overset{\\texttt{d}}{\\fbox{\\texttt{-12}}}$, les instructions suivantes sont exécutées :\n",
    "\n",
    "```python\n",
    "a = c - a\n",
    "e = b + c\n",
    "d = a\n",
    "a = 7\n",
    "```\n",
    "\n",
    "Après l'exécution de chaque instruction, **écrire** le nouvel état de l'interprète."
   ],
   "metadata": {}
  },
  {
   "cell_type": "markdown",
   "source": [
    "L'instruction `a = c - a` modifie la valeur de `a` en fonction des valeurs de `c` et de `a`. L'état sera : \n",
    "\n",
    "$$\n",
    "\\overset{\\texttt{a}}{\\fbox{\\texttt{2}}}\\overset{\\texttt{b}}{\\fbox{\\texttt{2}}}\\overset{\\texttt{c}}{\\fbox{\\texttt{3}}}\\overset{\\texttt{d}}{\\fbox{\\texttt{-12}}}.\n",
    "$$\n",
    "\n",
    "Puis l'instruction `e = b + c` affecte la variable `e` pour la première fois. Celle-ci fait donc son apparition dans l'état : \n",
    "\n",
    "$$\n",
    "\\overset{\\texttt{a}}{\\fbox{\\texttt{2}}}\\overset{\\texttt{b}}{\\fbox{\\texttt{2}}}\\overset{\\texttt{c}}{\\fbox{\\texttt{3}}}\\overset{\\texttt{d}}{\\fbox{\\texttt{-12}}}\\overset{\\texttt{e}}{\\fbox{\\texttt{5}}}.\n",
    "$$\n",
    "\n",
    "L'instructions `d = a` affecte à `d` la valeur pointée par `a`. \n",
    "Il est important de comprendre que `a` et `d` sont deux emplacements différents et donc indépendants. Ainsi, l'instruction suivante n'aura pas d'effet sur la variable `d`\n",
    "\n",
    "$$\n",
    "\\overset{\\texttt{a}}{\\fbox{\\texttt{2}}}\\overset{\\texttt{b}}{\\fbox{\\texttt{2}}}\\overset{\\texttt{c}}{\\fbox{\\texttt{3}}}\\overset{\\texttt{d}}{\\fbox{\\texttt{2}}}\\overset{\\texttt{e}}{\\fbox{\\texttt{5}}}.\n",
    "$$\n",
    "\n",
    "La dernière instruction `a = 7` affecte à la variable `a` la valeur `7`. \n",
    "\n",
    "$$\n",
    "\\overset{\\texttt{a}}{\\fbox{\\texttt{7}}}\\overset{\\texttt{b}}{\\fbox{\\texttt{2}}}\\overset{\\texttt{c}}{\\fbox{\\texttt{3}}}\\overset{\\texttt{d}}{\\fbox{\\texttt{2}}}\\overset{\\texttt{e}}{\\fbox{\\texttt{5}}}.\n",
    "$$\n",
    "\n",
    "On peut voir une modélisation de l'état sur le site suivant : [https://pythontutor.com](https://pythontutor.com/visualize.html#code=a%20%3D%201%0Ab%20%3D%202%0Ac%20%3D%203%0Ad%20%3D%20-12%0A%0Aa%20%3D%20c%20-%20a%0Ae%20%3D%20b%20%2B%20c%0A%0Ad%20%3D%20a%0Aa%20%3D%207&cumulative=true&curInstr=0&heapPrimitives=true&mode=display&origin=opt-frontend.js&py=3&rawInputLstJSON=%5B%5D&textReferences=false)\n"
   ],
   "metadata": {}
  },
  {
   "cell_type": "markdown",
   "source": [
    "## 2 --- Le mode programme\n",
    "\n",
    "Le mode programme de Python consiste à écrire une suite d'instructions dans un fichier et à les faire exécuter par l'interprète Python.\n",
    "\n",
    "Cette suite d'instruction s'appelle un **programme** ou encore un **code source**."
   ],
   "metadata": {}
  },
  {
   "cell_type": "markdown",
   "source": [
    "### 2.1 --- VSCodium\n",
    "\n",
    "Pour écrire des programmes, le plus simple est d'utiliser un **environnement de développement** (IDE). Cette année, nous allons essentiellement utiliser **`VSCodium`**.\n",
    "\n",
    "- Après avoir ouvert le logiciel, créer un nouveau fichier (`<Ctrl> + <N>`).\n",
    "- Sauvegarder le (`<Ctrl> + <S>`) en donnant un nom qui a pour *extension* `.py` (par exemple `test.py`).\n",
    "- Puis une fois votre programme écrit, pour l'exécuter :\n",
    "  - en mode *débogage* : `<F5>`\n",
    "  - en mode *sans débogage* : `<Ctrl> + <F5>`"
   ],
   "metadata": {}
  },
  {
   "cell_type": "markdown",
   "source": [
    "### 2.2 --- Affichage\n",
    "\n",
    "En mode programme, les résultats calculés ne sont plus affichés. Il faut utiliser pour ceci une instruction d'affichage.\n",
    "\n",
    "En Python, elle s'appelle `print`. Ainsi le programme `test.py` contenant l'unique ligne `print(3)` affichera `3`."
   ],
   "metadata": {}
  },
  {
   "cell_type": "markdown",
   "source": [
    "L'instruction `print` admet une expression arbitraire. Elle commence d'abord par calculer le résultat de cette expression puis l'affiche à l'écran.\n",
    "\n",
    "Par exemple l'instruction suivante calcule d'abord l'expression `1+3` puis affiche `4` à l'écran"
   ],
   "metadata": {}
  },
  {
   "cell_type": "code",
   "execution_count": 4,
   "source": [
    "print(1+3)"
   ],
   "outputs": [
    {
     "output_type": "stream",
     "name": "stdout",
     "text": [
      "4\n"
     ]
    }
   ],
   "metadata": {}
  },
  {
   "cell_type": "markdown",
   "source": [
    "### 2.3 --- Affichage des textes"
   ],
   "metadata": {}
  },
  {
   "cell_type": "markdown",
   "source": [
    "### 2.4 --- Séquence d'instructions"
   ],
   "metadata": {}
  },
  {
   "cell_type": "markdown",
   "source": [],
   "metadata": {}
  },
  {
   "cell_type": "markdown",
   "source": [
    "### 2.5 --- Interagir avec l'utilisateur"
   ],
   "metadata": {}
  },
  {
   "cell_type": "markdown",
   "source": [
    "### 2.6 --- Un programme complet"
   ],
   "metadata": {}
  },
  {
   "cell_type": "markdown",
   "source": [
    "### 2.7 --- Représentation de l'exécution"
   ],
   "metadata": {}
  },
  {
   "cell_type": "markdown",
   "source": [
    "## 3 --- Exemple de bibliothèque `Turtle`"
   ],
   "metadata": {}
  },
  {
   "cell_type": "markdown",
   "source": [
    "\n"
   ],
   "metadata": {}
  }
 ],
 "metadata": {
  "celltoolbar": "Tags",
  "interpreter": {
   "hash": "916dbcbb3f70747c44a77c7bcd40155683ae19c65e1c03b4aa3499c5328201f1"
  },
  "kernelspec": {
   "name": "python3",
   "display_name": "Python 3.9.2 64-bit"
  },
  "language_info": {
   "codemirror_mode": {
    "name": "ipython",
    "version": 3
   },
   "file_extension": ".py",
   "mimetype": "text/x-python",
   "name": "python",
   "nbconvert_exporter": "python",
   "pygments_lexer": "ipython3",
   "version": "3.9.2"
  },
  "latex_metadata": {
   "theme": "langage",
   "title": "2 --- Modularité"
  },
  "rise": {
   "theme": "serif"
  }
 },
 "nbformat": 4,
 "nbformat_minor": 5
}