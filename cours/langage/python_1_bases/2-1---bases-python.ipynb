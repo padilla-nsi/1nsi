{
 "cells": [
  {
   "cell_type": "markdown",
   "source": [
    "# Chap. 2 --- Programmer en Python ([pa.dilla.fr/15](https://pa.dilla.fr/15) ![](res/qr-basthon.png))\n"
   ],
   "metadata": {
    "slideshow": {
     "slide_type": "slide"
    }
   }
  },
  {
   "cell_type": "markdown",
   "source": [
    "Dans ce chapitre, tu vas travailler sur :\n",
    "\n",
    "- les notebooks et les programmes en Python\n",
    "- les expressions arithmétiques\n",
    "- les messages d'erreur\n",
    "- les variables\n",
    "- les séquences d'instructions\n",
    "- la lecture et l'écriture de chaînes de caractères"
   ],
   "metadata": {
    "slideshow": {
     "slide_type": "slide"
    },
    "tags": [
     "cacher"
    ]
   }
  },
  {
   "cell_type": "markdown",
   "source": [
    "D'après toi, pourquoi HTML et CSS ne sont **pas** des langages de programmation ?"
   ],
   "metadata": {}
  },
  {
   "cell_type": "markdown",
   "source": [
    "HTML et CSS sont incapables d'effectuer le moindre calcul.\n",
    "\n",
    "On peut aussi remarquer qu'il manque des instructions essentielles comme les répétitions, les branchements conditionnels ou encore les affectations."
   ],
   "metadata": {}
  },
  {
   "cell_type": "markdown",
   "source": [
    "Python est un langage de programmation qui peut être utilisé de différentes façon. Dans ce cours nous verrons :\n",
    "\n",
    "- le mode *interactif*  dans des notebooks\n",
    "- le mode *programme* dans l'interface de développement (IDE) VSCodium."
   ],
   "metadata": {}
  },
  {
   "cell_type": "markdown",
   "source": [
    "## 1 --- Le mode interactif"
   ],
   "metadata": {
    "slideshow": {
     "slide_type": "slide"
    }
   }
  },
  {
   "cell_type": "markdown",
   "source": [
    "Le mode interactif se comporte un peu comme une calculatrice. Nous allons explorer ce mode à travers les **notebooks**."
   ],
   "metadata": {}
  },
  {
   "cell_type": "markdown",
   "source": [
    "\n",
    "### 1.1 --- Les notebooks"
   ],
   "metadata": {}
  },
  {
   "cell_type": "markdown",
   "source": [
    "Un *notebook* est une page HTML qui contient des blocs de texte et des blocs de code :\n",
    "\n",
    "- les blocs de  **texte** permettent d'afficher et de modifier du texte écrit en langage `Markdown`. Cette simplification du  HTML permet d'afficher du texte (normal, gras, italique, etc.), des listes, des tableaux, des liens, du code ou encore des média comme les images et les vidéos. \n",
    "- les blocs de **code** permettent de saisir, modifier et d'exécuter du code Python. L'interprète Python est chargé avec la page HTML puis ensuite il calcule et affiche les résultats."
   ],
   "metadata": {}
  },
  {
   "cell_type": "markdown",
   "source": [
    "La page de ce cours consultable à l'adresse [https://pa.dilla.fr/15](https://pa.dilla.fr/15) **est un notebook**."
   ],
   "metadata": {}
  },
  {
   "cell_type": "markdown",
   "source": [
    "Dans la suite, tu vas apprendre quelques manipulations sur les notebooks et revoir des éléments **essentiels** de Python."
   ],
   "metadata": {}
  },
  {
   "cell_type": "markdown",
   "source": [
    "**Accède** à la version *notebook* de ce chapitre et **corrige** la faute d'aurthografe de ce bloc de texte.\n",
    "\n",
    "Pour cela tu peux :\n",
    "\n",
    "1. méthode avec la souris :\n",
    "   - double-cliquer sur ce bloc de texte pour l'*éditer*,\n",
    "   - modifier/corriger le texte\n",
    "   - cliquer sur le bouton `Run` pour interpréter ce bloc et sortir du mode *édition*\n",
    "2. méthode au clavier :\n",
    "   - utiliser les flèches `<`&#x2191;`>` et `<`&#x2193;`>` pour sélectionner le bloc de texte à modifier\n",
    "   - appuyer sur `<Entrée>` pour *éditer* le bloc\n",
    "   - modifier/corriger le texte puis au choix :\n",
    "     - `<Ctrl> + <Entrée>` pour interpréter le bloc ou\n",
    "     - `<Shift> + <Entrée>` pour interpréter le  bloc *et* passer au bloc suivant."
   ],
   "metadata": {}
  },
  {
   "cell_type": "markdown",
   "source": [
    "\n",
    "\n",
    "### 1.2 --- Arithmétique\n"
   ],
   "metadata": {}
  },
  {
   "cell_type": "markdown",
   "source": [],
   "metadata": {}
  },
  {
   "cell_type": "markdown",
   "source": [
    "### 1.3 --- Variables"
   ],
   "metadata": {}
  },
  {
   "cell_type": "markdown",
   "source": [
    "### 1.4 --- État"
   ],
   "metadata": {}
  },
  {
   "cell_type": "markdown",
   "source": [
    "## 2 --- Le mode programme"
   ],
   "metadata": {}
  },
  {
   "cell_type": "markdown",
   "source": [
    "### 2.1 --- VSCodium"
   ],
   "metadata": {}
  },
  {
   "cell_type": "markdown",
   "source": [
    "### 2.2 --- Affichage"
   ],
   "metadata": {}
  },
  {
   "cell_type": "markdown",
   "source": [
    "### 2.3 --- Affichage des textes"
   ],
   "metadata": {}
  },
  {
   "cell_type": "markdown",
   "source": [
    "### 2.4 --- Séquence d'instructions"
   ],
   "metadata": {}
  },
  {
   "cell_type": "markdown",
   "source": [],
   "metadata": {}
  },
  {
   "cell_type": "markdown",
   "source": [
    "### 2.5 --- Interagir avec l'utilisateur"
   ],
   "metadata": {}
  },
  {
   "cell_type": "markdown",
   "source": [
    "### 2.6 --- Un programme complet"
   ],
   "metadata": {}
  },
  {
   "cell_type": "markdown",
   "source": [
    "### 2.7 --- Représentation de l'exécution"
   ],
   "metadata": {}
  },
  {
   "cell_type": "markdown",
   "source": [
    "## 3 --- Exemple de bibliothèque `Turtle`"
   ],
   "metadata": {}
  },
  {
   "cell_type": "markdown",
   "source": [],
   "metadata": {}
  }
 ],
 "metadata": {
  "celltoolbar": "Tags",
  "interpreter": {
   "hash": "916dbcbb3f70747c44a77c7bcd40155683ae19c65e1c03b4aa3499c5328201f1"
  },
  "kernelspec": {
   "name": "python3",
   "display_name": "Python 3.9.2 64-bit"
  },
  "language_info": {
   "codemirror_mode": {
    "name": "ipython",
    "version": 3
   },
   "file_extension": ".py",
   "mimetype": "text/x-python",
   "name": "python",
   "nbconvert_exporter": "python",
   "pygments_lexer": "ipython3",
   "version": "3.9.2"
  },
  "latex_metadata": {
   "theme": "langage",
   "title": "2 --- Modularité"
  },
  "rise": {
   "theme": "serif"
  }
 },
 "nbformat": 4,
 "nbformat_minor": 5
}