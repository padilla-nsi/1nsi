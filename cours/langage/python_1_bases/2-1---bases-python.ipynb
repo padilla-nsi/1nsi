{
 "cells": [
  {
   "cell_type": "markdown",
   "source": [
    "# Chap. 2 --- Programmer en Python ([pa.dilla.fr/15](https://pa.dilla.fr/15) ![](res/qr-basthon.png))\n"
   ],
   "metadata": {
    "slideshow": {
     "slide_type": "slide"
    }
   }
  },
  {
   "cell_type": "markdown",
   "source": [
    "Dans ce chapitre, tu vas travailler sur :\n",
    "\n",
    "- les notebooks et les programmes en Python\n",
    "- les expressions arithmétiques\n",
    "- les messages d'erreur\n",
    "- les variables\n",
    "- les séquences d'instructions\n",
    "- la lecture et l'écriture de chaînes de caractères"
   ],
   "metadata": {
    "slideshow": {
     "slide_type": "slide"
    },
    "tags": [
     "cacher"
    ]
   }
  },
  {
   "cell_type": "markdown",
   "source": [
    "D'après toi, pourquoi HTML et CSS ne sont **pas** des langages de programmation ?"
   ],
   "metadata": {
    "tags": [
     "exo"
    ]
   }
  },
  {
   "cell_type": "markdown",
   "source": [
    "HTML et CSS sont incapables d'effectuer le moindre calcul.\n",
    "\n",
    "On peut aussi remarquer qu'il manque des instructions essentielles comme les répétitions, les branchements conditionnels ou encore les affectations."
   ],
   "metadata": {
    "tags": [
     "solution"
    ]
   }
  },
  {
   "cell_type": "markdown",
   "source": [
    "Python est un langage de programmation qui peut être utilisé de différentes façon. Dans ce cours tu verras :\n",
    "\n",
    "- le mode *interactif*  dans des notebooks\n",
    "- le mode *programme* dans l'interface de développement (IDE) VSCodium."
   ],
   "metadata": {}
  },
  {
   "cell_type": "markdown",
   "source": [
    "## 1 --- Le mode interactif"
   ],
   "metadata": {
    "slideshow": {
     "slide_type": "slide"
    }
   }
  },
  {
   "cell_type": "markdown",
   "source": [
    "Le mode interactif se comporte un peu comme une calculatrice. Nous allons explorer ce mode à travers les **notebooks**."
   ],
   "metadata": {}
  },
  {
   "cell_type": "markdown",
   "source": [
    "\n",
    "### 1.1 --- Les notebooks"
   ],
   "metadata": {}
  },
  {
   "cell_type": "markdown",
   "source": [
    "Un *notebook* est une page HTML qui contient des blocs de texte et des blocs de code :\n",
    "\n",
    "- les blocs de  **texte** permettent d'afficher et de modifier du texte écrit en langage `Markdown`. Cette simplification du  HTML permet d'afficher du texte (normal, gras, italique, etc.), des listes, des tableaux, des liens, du code ou encore des média comme les images et les vidéos. \n",
    "- les blocs de **code** permettent de saisir, modifier et d'exécuter du code Python. L'interprète Python est chargé avec la page HTML puis ensuite il calcule et affiche les résultats."
   ],
   "metadata": {}
  },
  {
   "cell_type": "markdown",
   "source": [
    "La page de ce cours consultable à l'adresse [https://pa.dilla.fr/15](https://pa.dilla.fr/15) **est un notebook**."
   ],
   "metadata": {
    "tags": [
     "exemple"
    ]
   }
  },
  {
   "cell_type": "code",
   "execution_count": null,
   "source": [
    "# Ceci est un bloc de CODE.\n",
    "# Les lignes qui commencent pas un # sont des commentaires\n",
    "# Les commentaires ne seront pas interprétés par Python\n",
    "#\n",
    "# Les blocs de code se reconnaissent facilement car ils\n",
    "# possèdent une indication dans la marge \"In []\" ou \"Entrée []\"\n",
    "# Si le bloc a été exécuté, alors un compteur apparait dans \"[...]\"\n",
    "\n",
    "print(\"Dans le notebook, ceci est un bloc de code\")"
   ],
   "outputs": [],
   "metadata": {
    "tags": [
     "exemple"
    ]
   }
  },
  {
   "cell_type": "markdown",
   "source": [
    "Pour  **modifier un bloc de texte ou de code** tu peux utiliser la souris ou le clavier :\n",
    "\n",
    "1. méthode avec la souris :\n",
    "   - double-cliquer sur ce bloc de texte pour l'*éditer*,\n",
    "   - modifier/corriger le texte\n",
    "   - cliquer sur le bouton $\\fbox{\\texttt{Run}}$ ou $\\fbox{\\texttt{Exécuter}}$ pour interpréter ce bloc et sortir du mode *édition*\n",
    "2. méthode au clavier :\n",
    "   - utiliser les flèches `<`&#x2191;`>` et `<`&#x2193;`>` pour sélectionner le bloc de texte à modifier\n",
    "   - appuyer sur `<Entrée>` pour *éditer* le bloc\n",
    "   - modifier/corriger le texte \n",
    "   - pour interpréter le résultats tu peux utiliser au choix :\n",
    "     - `<Ctrl> + <Entrée>` pour interpréter le bloc ou\n",
    "     - `<Shift> + <Entrée>` pour interpréter le  bloc *et* passer au bloc suivant."
   ],
   "metadata": {}
  },
  {
   "cell_type": "markdown",
   "source": [
    "Souvent quand on ouvre un notebook, aucun bloc de code n'a été exécuté. il faut donc passer *dans l'ordre* par tous les blocs de code et les exécuter. \n",
    "\n",
    "C'est pourquoi, quand on lit notebook, il est pratique d'utiliser le raccourcis clavier `<Shift> + <Entrée>` permettant de passer d'un bloc au suivant."
   ],
   "metadata": {
    "tags": [
     "remarque"
    ]
   }
  },
  {
   "cell_type": "markdown",
   "source": [
    "Pour **ajouter des blocs** (de code ou de texte) :  \n",
    "\n",
    "1. tu peux utiliser dans les outils le bouton `+` ![](res/tuto-01.png).\n",
    "2. Si tu souhaites que le bloc soit du code, sélectionne `Code` dans la liste déroulante.\n",
    "3. Si tu souhaites un bloc de texte, sélectionne alors `Markdown`.\n",
    "\n",
    "![](res/tuto-02.png)"
   ],
   "metadata": {}
  },
  {
   "cell_type": "markdown",
   "source": [
    "**Accède** à la version *notebook* de ce chapitre.\n",
    "\n",
    "1. **Corrige** la faute d'aurthografe de ce bloc de texte.\n",
    "2. **Ajoute** juste en dessous un bloc de code et **écris** y : `1+2`. \n",
    "3. Puis fait **calculer** le résultats par l'interprète Python.\n"
   ],
   "metadata": {
    "tags": [
     "exo"
    ]
   }
  },
  {
   "cell_type": "markdown",
   "source": [
    "\n",
    "\n",
    "### 1.2 --- Arithmétique\n"
   ],
   "metadata": {}
  },
  {
   "cell_type": "markdown",
   "source": [
    "En Python, on peut saisir des combinaires arbitraires d'opérations arithmétiques, en utilisant notamment les quatre opérations les plus communes."
   ],
   "metadata": {}
  },
  {
   "cell_type": "markdown",
   "source": [
    "```python\n",
    "2 + 5 * (10 - 1 / 2)\n",
    "```"
   ],
   "metadata": {
    "tags": [
     "exemple"
    ]
   }
  },
  {
   "cell_type": "markdown",
   "source": [
    "Quelques remarques \n",
    "\n",
    "1. Les symboles des quatre opérations sont `+` (addition), `-` (soustraction), `*` (multiplication) et `/` (division).\n",
    "2. La priorité des opérations est usuelle et on peut utiliser les parenthèses.\n",
    "3. Les espaces sont purement décoratifs : ils rendent plus lisibles mais n'agissent pas sur la priorité des opérations"
   ],
   "metadata": {
    "tags": [
     "remarque"
    ]
   }
  },
  {
   "cell_type": "code",
   "execution_count": null,
   "source": [
    "1+2     * 3"
   ],
   "outputs": [],
   "metadata": {
    "tags": [
     "exemple"
    ]
   }
  },
  {
   "cell_type": "markdown",
   "source": [
    "Remarque bien que l'interprète Python n'accepte pas les expressions qui sont mal formées ou comportent des erreurs."
   ],
   "metadata": {}
  },
  {
   "cell_type": "markdown",
   "source": [
    "Dans le bloc de code ci-dessous, **écris** `1 + * 2`.\n",
    "\n",
    "**Indique** le type d'erreur affiché."
   ],
   "metadata": {
    "tags": [
     "exo"
    ]
   }
  },
  {
   "cell_type": "markdown",
   "source": [
    "Lorsque l'on fait des erreurs de syntaxe car l'expression est mal formée, l'interprète affiche `SyntaxError`. Pour aider l'utilisateur, l'interprète montre l'endroit exact de l'erreur avec le symbole `^` qui pointe sous le `*`."
   ],
   "metadata": {
    "tags": [
     "solution"
    ]
   }
  },
  {
   "cell_type": "markdown",
   "source": [
    "*Pour répondre aux questions suivantes, tu peux ajouter des blocs de texte ou des blocs de code...*\n",
    "\n",
    "En mathématique, est-il possible de **diviser un nombre par zéro** ?\n",
    "\n",
    "Et en **Python** ?"
   ],
   "metadata": {
    "tags": [
     "exo"
    ]
   }
  },
  {
   "cell_type": "markdown",
   "source": [
    "### 1.3 --- Les nombres"
   ],
   "metadata": {}
  },
  {
   "cell_type": "markdown",
   "source": [
    "En Python, les nombres sont de deux *types* :\n",
    "\n",
    "- soit des **entiers relatifs** (appelés *entiers*)\n",
    "- soit des **nombres décimaux** (appelés *flottants*).\n",
    "\n"
   ],
   "metadata": {
    "tags": [
     "retenir"
    ]
   }
  },
  {
   "cell_type": "markdown",
   "source": [
    "Attention, les nombres flottans s'écrivent à *l'anglo-saxonne* avec un point `3.14` à la place de la virgule $3,14$."
   ],
   "metadata": {
    "tags": [
     "remarque"
    ]
   }
  },
  {
   "cell_type": "markdown",
   "source": [
    "**Indique** ce qu'affiche les commandes suivantes : \n",
    "\n",
    "1. Commande 1 :  `1,2 + 3,4`.\n",
    "2. Commande 2 : `1,2 * 3`\n",
    "\n",
    "**D'après toi**, à quoi sert le symbole virgule `,` en Python ?\n"
   ],
   "metadata": {
    "tags": [
     "exo"
    ]
   }
  },
  {
   "cell_type": "markdown",
   "source": [
    "En Python :\n",
    "\n",
    "- les *entiers* sont de **taille arbitraire** ;\n",
    "- les *flottants* en revanche ont une **capacité limitée** et sont souvent des approximations qui ne représentent alors qu'une partie des nombres décimaux.\n",
    "\n"
   ],
   "metadata": {}
  },
  {
   "cell_type": "markdown",
   "source": [
    "Quand tu en as le choix, travaille de préférence avec les entiers."
   ],
   "metadata": {
    "tags": [
     "retenir"
    ]
   }
  },
  {
   "cell_type": "markdown",
   "source": [
    "### 1.4 --- Autres opérations"
   ],
   "metadata": {}
  },
  {
   "cell_type": "markdown",
   "source": [
    "**Détermine** le type de nombre que l'on obtient lorsque l'on divise entre eux deux nombres entiers."
   ],
   "metadata": {
    "tags": [
     "exo"
    ]
   }
  },
  {
   "cell_type": "markdown",
   "source": [
    "La division avec l'opération `/` donne un nombre flottant. Ainsi `10/2` donne `5.0` et `7/2` donne `3.5`. Ces deux résultats sont de types *flottant* car ils sont écrits avec une virgule.\n"
   ],
   "metadata": {
    "tags": [
     "solution"
    ]
   }
  },
  {
   "cell_type": "markdown",
   "source": [
    "**Effectue** *à la main* les divisions euclidiennes $7 / 2$ et ${98} / {10}$."
   ],
   "metadata": {
    "tags": [
     "exo"
    ]
   }
  },
  {
   "cell_type": "markdown",
   "source": [
    "$7/2$ donne $3$ et il reste $1$. L'égalité $7 = 3 \\times 2 + 1$ est vérifiée.\n",
    "\n",
    "$98 / 10$ donne $9$ et il reste $8$. L'égalité $98 = 9 \\times 10 + 8$ est vérifiée."
   ],
   "metadata": {
    "tags": [
     "solution"
    ]
   }
  },
  {
   "cell_type": "markdown",
   "source": [
    "Pour effectuer la **division entière**, il faut utiliser l'opération `//`.\n",
    "\n",
    "Ainsi, `a // b` peut être vu comme le plus grand nombre entier inférieur ou égal à $a/b$.\n"
   ],
   "metadata": {
    "tags": [
     "retenir"
    ]
   }
  },
  {
   "cell_type": "markdown",
   "source": [
    "Pour obtenir le **reste de la division euclidienne**, on utilise l'opération `%` (qui se dit *\"modulo\"*).\n"
   ],
   "metadata": {
    "tags": [
     "retenir"
    ]
   }
  },
  {
   "cell_type": "markdown",
   "source": [
    "**Vérifie** à l'aide des opérations *division entière* et *modulo* les résultats de l'activité précédente."
   ],
   "metadata": {
    "tags": [
     "exo"
    ]
   }
  },
  {
   "cell_type": "markdown",
   "source": [
    "Utiliser quatre blocs de code pour afficher les résultats des calculs suivants :\n",
    "\n",
    "```python\n",
    "7//2\n",
    "7 % 2\n",
    "98 // 10\n",
    "98 % 10\n",
    "```"
   ],
   "metadata": {
    "tags": [
     "solution"
    ]
   }
  },
  {
   "cell_type": "markdown",
   "source": [
    "L'opération `**` calcule la **puissance** d'un nombre.\n",
    "\n",
    "Ainsi, $10^{3}$ s'écrit `10**3`."
   ],
   "metadata": {
    "tags": [
     "retenir"
    ]
   }
  },
  {
   "cell_type": "markdown",
   "source": [
    "**Calcule** dans un bloc de code $2 ^{1024}$ puis dans un autre bloc de code : $(2,0) ^ {1024}$.\n",
    "\n",
    "**Propose** une explication à tes observations."
   ],
   "metadata": {
    "tags": [
     "exo"
    ]
   }
  },
  {
   "cell_type": "markdown",
   "source": [
    "`2**1024` est un nombre entier et se calcule correctement.\n",
    "\n",
    "En revance, `2.0**1024` est un nombre flottant trop grand pour être calculé. `OverfflowError` indique que le résultat est hors intervalle."
   ],
   "metadata": {
    "tags": [
     "solution"
    ]
   }
  },
  {
   "cell_type": "markdown",
   "source": [
    "### 1.3 --- Variables"
   ],
   "metadata": {}
  },
  {
   "cell_type": "markdown",
   "source": [
    "Les résultats calculés peuvent être **mémorisés** afin d'être utilisés plus tard."
   ],
   "metadata": {}
  },
  {
   "cell_type": "code",
   "execution_count": null,
   "source": [
    "a = 1 + 1"
   ],
   "outputs": [],
   "metadata": {}
  },
  {
   "cell_type": "markdown",
   "source": [
    "La notation `a =` permet de donner un nom à l'information mémorisée. Ici, l'interprète Python calcule le résultat de `1 + 1` et le mémorise dans la **variable** `a`.\n",
    "\n",
    "Aucun résultat n'est affiché. On accède à la valeur mémorisée en utilisant le nom `a`."
   ],
   "metadata": {}
  },
  {
   "cell_type": "code",
   "execution_count": null,
   "source": [
    "a"
   ],
   "outputs": [],
   "metadata": {}
  },
  {
   "cell_type": "markdown",
   "source": [
    "Le bloc ci-dessous affiche le résultat du calcul `a * (a + 1)` :"
   ],
   "metadata": {}
  },
  {
   "cell_type": "code",
   "execution_count": null,
   "source": [
    "a * (a+1)"
   ],
   "outputs": [],
   "metadata": {}
  },
  {
   "cell_type": "markdown",
   "source": [
    "Le symbole `=` utilisé pour définir la variable `a` désigne une opération d'**affectation**.\n",
    "\n",
    "Ce symbole attend à *gauche* un nom de variable et à *droite* une expression.\n",
    "\n",
    "On peut donner une nouvelle valeur à la variable `a` avec une nouvelle affectation. Cette valeur *remplace* la précédente."
   ],
   "metadata": {
    "tags": [
     "retenir"
    ]
   }
  },
  {
   "cell_type": "code",
   "execution_count": null,
   "source": [
    "a = 3\n",
    "a * (a+1)"
   ],
   "outputs": [],
   "metadata": {}
  },
  {
   "cell_type": "markdown",
   "source": [
    "Le calcul de la nouvelle valeur de `a` peut utiliser la valeur courante de `a`."
   ],
   "metadata": {}
  },
  {
   "cell_type": "code",
   "execution_count": null,
   "source": [
    "a = a + 1\n",
    "a"
   ],
   "outputs": [],
   "metadata": {}
  },
  {
   "cell_type": "markdown",
   "source": [
    "Un nom de variable peut être formé de plusieurs caractères (lettre, chiffres et tiret bas). Il est recommandé de :\n",
    "\n",
    "- ne pas utilisé de caractères accentués\n",
    "- se limiter aux caractères minuscules."
   ],
   "metadata": {
    "tags": [
     "remarque"
    ]
   }
  },
  {
   "cell_type": "code",
   "execution_count": null,
   "source": [
    "cube = a * a * a\n",
    "ma_variable = 42\n",
    "ma_variable2 = 2021"
   ],
   "outputs": [],
   "metadata": {}
  },
  {
   "cell_type": "markdown",
   "source": [
    "Une variable peut être imaginée comme un **emplacement en mémoire** portant une  **étiquette** et contenant une **valeur**."
   ],
   "metadata": {
    "tags": [
     "retenir"
    ]
   }
  },
  {
   "cell_type": "markdown",
   "source": [
    "`x = 1` se représente par un emplacement `x` contenant la valeur `1`: $\\overset{\\texttt{x}}{\\fbox{1}}$"
   ],
   "metadata": {
    "tags": [
     "exemple"
    ]
   }
  },
  {
   "cell_type": "markdown",
   "source": [
    "### 1.4 --- État"
   ],
   "metadata": {}
  },
  {
   "cell_type": "markdown",
   "source": [
    "L'ensemble des associations entre des noms de variables et des valeurs constitue **l'état** de l'interprète Python."
   ],
   "metadata": {
    "tags": [
     "retenir"
    ]
   }
  },
  {
   "cell_type": "markdown",
   "source": [
    "L'état évolue en fonction des instructions exécutées. Les instructions qui modifient l'état sont dites *à effet de bord*."
   ],
   "metadata": {}
  },
  {
   "cell_type": "markdown",
   "source": [
    "À partir de l'état $\\overset{\\texttt{a}}{\\fbox{1}}\\overset{\\texttt{b}}{\\fbox{2}}\\overset{\\texttt{c}}{\\fbox{3}}\\overset{\\texttt{d}}{\\fbox{-12}}$, les instructions suivantes sont exécutées :\n",
    "\n",
    "```python\n",
    "a = c - a\n",
    "e = b + c\n",
    "d = a\n",
    "a = 7\n",
    "```\n",
    "\n",
    "Après l'exécution de chaque instruction, **écrire** le nouvel état de l'interprète."
   ],
   "metadata": {
    "tags": [
     "exo"
    ]
   }
  },
  {
   "cell_type": "markdown",
   "source": [
    "L'instruction `a = c - a` modifie la valeur de `a` en fonction des valeurs de `c` et de `a`. L'état sera : \n",
    "\n",
    "$$\n",
    "\\overset{\\texttt{a}}{\\fbox{2}}\\overset{\\texttt{b}}{\\fbox{2}}\\overset{\\texttt{c}}{\\fbox{3}}\\overset{\\texttt{d}}{\\fbox{-12}}.\n",
    "$$\n",
    "\n",
    "Puis l'instruction `e = b + c` affecte la variable `e` pour la première fois. Celle-ci fait donc son apparition dans l'état : \n",
    "\n",
    "$$\n",
    "\\overset{\\texttt{a}}{\\fbox{2}}\\overset{\\texttt{b}}{\\fbox{2}}\\overset{\\texttt{c}}{\\fbox{3}}\\overset{\\texttt{d}}{\\fbox{-12}}\\overset{\\texttt{e}}{\\fbox{5}}.\n",
    "$$\n",
    "\n",
    "L'instructions `d = a` affecte à `d` la valeur pointée par `a`. \n",
    "Il est important de comprendre que `a` et `d` sont deux emplacements différents et donc indépendants. Ainsi, l'instruction suivante n'aura pas d'effet sur la variable `d`\n",
    "\n",
    "$$\n",
    "\\overset{\\texttt{a}}{\\fbox{2}}\\overset{\\texttt{b}}{\\fbox{2}}\\overset{\\texttt{c}}{\\fbox{3}}\\overset{\\texttt{d}}{\\fbox{2}}\\overset{\\texttt{e}}{\\fbox{5}}.\n",
    "$$\n",
    "\n",
    "La dernière instruction `a = 7` affecte à la variable `a` la valeur `7`. \n",
    "\n",
    "$$\n",
    "\\overset{\\texttt{a}}{\\fbox{7}}\\overset{\\texttt{b}}{\\fbox{2}}\\overset{\\texttt{c}}{\\fbox{3}}\\overset{\\texttt{d}}{\\fbox{2}}\\overset{\\texttt{e}}{\\fbox{5}}.\n",
    "$$\n",
    "\n",
    "On peut voir une modélisation de l'état sur le site suivant : [https://pythontutor.com](https://pythontutor.com/visualize.html#code=a%20%3D%201%0Ab%20%3D%202%0Ac%20%3D%203%0Ad%20%3D%20-12%0A%0Aa%20%3D%20c%20-%20a%0Ae%20%3D%20b%20%2B%20c%0A%0Ad%20%3D%20a%0Aa%20%3D%207&cumulative=true&curInstr=0&heapPrimitives=true&mode=display&origin=opt-frontend.js&py=3&rawInputLstJSON=%5B%5D&textReferences=false)\n"
   ],
   "metadata": {
    "tags": [
     "solution"
    ]
   }
  },
  {
   "cell_type": "markdown",
   "source": [
    "## 2 --- Le mode programme\n",
    "\n",
    "Le mode programme de Python consiste à écrire une suite d'instructions dans un fichier et à les faire exécuter par l'interprète Python.\n",
    "\n",
    "Cette suite d'instruction s'appelle un **programme** ou encore un **code source**."
   ],
   "metadata": {}
  },
  {
   "cell_type": "markdown",
   "source": [
    "### 2.1 --- VSCodium\n",
    "\n",
    "Pour écrire des programmes, le plus simple est d'utiliser un **environnement de développement** (IDE). Cette année, nous allons essentiellement utiliser **`VSCodium`**.\n",
    "\n",
    "- Après avoir ouvert le logiciel, créer un nouveau fichier (`<Ctrl> + <N>`).\n",
    "- Sauvegarder le (`<Ctrl> + <S>`) en donnant un nom qui a pour *extension* `.py` (par exemple `test.py`).\n",
    "- Puis une fois votre programme écrit, pour l'exécuter :\n",
    "  - en mode *débogage* : `<F5>`\n",
    "  - en mode *sans débogage* : `<Ctrl> + <F5>`"
   ],
   "metadata": {}
  },
  {
   "cell_type": "markdown",
   "source": [
    "### 2.2 --- Affichage\n",
    "\n",
    "En mode programme, les résultats calculés ne sont plus affichés. Il faut utiliser pour ceci une instruction d'affichage.\n",
    "\n",
    "En Python, elle s'appelle `print`. Ainsi le programme `test.py` contenant l'unique ligne `print(3)` affichera `3`."
   ],
   "metadata": {}
  },
  {
   "cell_type": "markdown",
   "source": [
    "L'instruction `print` admet une expression arbitraire. Elle commence d'abord par calculer le résultat de cette expression puis l'affiche à l'écran.\n",
    "\n",
    "Par exemple l'instruction `print(1+3)` calcule d'abord l'expression `1+3` puis affiche `4` à l'écran."
   ],
   "metadata": {}
  },
  {
   "cell_type": "markdown",
   "source": [
    "### 2.3 --- Affichage des textes\n",
    "\n",
    "On peut donner à l'instruction `print` un message à afficher, *écrit entre guillemets*. \n",
    "\n",
    "L'instruction `print(\"Bonjour tout le monde\")` affiche le message `Bonjour tout le monde` à l'écran. "
   ],
   "metadata": {}
  },
  {
   "cell_type": "markdown",
   "source": [
    "Le texte écrit entre guillemets est appelé une **chaîne de caractères**."
   ],
   "metadata": {
    "tags": [
     "retenir"
    ]
   }
  },
  {
   "cell_type": "markdown",
   "source": [
    "Les guillemets englobants ne sont pas affichés.\n",
    "\n",
    "Les guillemets peuvent être doubles `\"...\"` ou simples `'...'`. \n",
    "\n",
    "Les guillemets ouverts doivent être impérativement fermés sinon il y aura une exception (erreur) de type `syntaxError`."
   ],
   "metadata": {
    "tags": [
     "remarque"
    ]
   }
  },
  {
   "cell_type": "markdown",
   "source": [
    "Une chaîne de caractère est arbitraire et n'est pas interprétée par Python."
   ],
   "metadata": {}
  },
  {
   "cell_type": "markdown",
   "source": [
    "Indiquer ce qu'affichent les deux instructions suivantes :\n",
    "\n",
    "- `print(1+3)`\n",
    "- `print(\"1+3\")`"
   ],
   "metadata": {
    "tags": [
     "exo"
    ]
   }
  },
  {
   "cell_type": "markdown",
   "source": [
    "Attention aux opérations avec les chaînes de caractères. \n",
    "\n",
    "- `\"Hello\" + 2` est une expression **invalide** car l'opération `+` entre une chaîne et un entier n'a aucun sens.\n",
    "- `\"Hello\" + \"World\"` est une expression **valide** car l'opération `+` entre deux chaînes de caractères les concatènes (c'est-à-dire les assemble et produit une chaîne de caractère contenant le texte `\"HelloWorld\"` (sans espace))\n",
    "- `\"Hello\" * \"World\"` est une expression **invalide** car l'opération `*` n'a pas de sens entres deux chaînes de caractères.\n",
    "- `\"Hello\" * 3` est une expression **valide** car l'opération `*` entre une chaîne et un entier est définie et est équivalente à concaténer `n` fois la chaîne de caractère. Ici l'expression est équivalente à `\"Hello\" + \"Hello\" + \"Hello\"` et après interprétation produit comme résultat `\"HelloHelloHello\"`."
   ],
   "metadata": {}
  },
  {
   "cell_type": "markdown",
   "source": [
    "### 2.4 --- Séquence d'instructions"
   ],
   "metadata": {}
  },
  {
   "cell_type": "markdown",
   "source": [
    "Un programme est généralement constitué de plusieurs instructions.\n",
    "Chaque instruction est écrite sur une ligne."
   ],
   "metadata": {
    "tags": [
     "retenir"
    ]
   }
  },
  {
   "cell_type": "markdown",
   "source": [
    "Détailler ce que produit l'exécution du programme suivant :\n",
    "\n",
    "```python\n",
    "a = 34\n",
    "b = 21 + a\n",
    "print(a)\n",
    "print(b)\n",
    "```"
   ],
   "metadata": {
    "tags": [
     "exo"
    ]
   }
  },
  {
   "cell_type": "markdown",
   "source": [
    "Ce programme affiche deux entiers à l'écran, sur deux lignes :\n",
    "\n",
    "```python\n",
    "34\n",
    "55\n",
    "```"
   ],
   "metadata": {
    "tags": [
     "solution"
    ]
   }
  },
  {
   "cell_type": "markdown",
   "source": [
    "Pour afficher plusieurs expressions sur **une seule ligne**, il suffit d'utiliser une seule instruction `print` et de mettre en argument les expressions séparées par une virgule :\n",
    "\n",
    "- `print(a,b)` affichera les deux éléments sur la même ligne : `34 55`\n",
    "- `print(\"la somme de\", a, \"et de\", b, \"vaut\", a+b)` affichera sur une seule ligne les 6 expressions et donnera alors : `la somme de 34 et de 55 vaut 89`"
   ],
   "metadata": {
    "tags": [
     "remarque"
    ]
   }
  },
  {
   "cell_type": "markdown",
   "source": [
    "### 2.5 --- Interagir avec l'utilisateur"
   ],
   "metadata": {}
  },
  {
   "cell_type": "markdown",
   "source": [
    "Pour permettre l'interaction du programme avec l'utilisateur, il faut mettre en place une **interface**. "
   ],
   "metadata": {
    "tags": [
     "retenir"
    ]
   }
  },
  {
   "cell_type": "markdown",
   "source": [
    "L'interface la plus simple consiste à utiliser l'instruction `input` qui permet de récupérer des caractères tapés au clavier par l'utilisateur.\n",
    "\n",
    "Cette instruction interrompt l'exécution du programme et attend que la saisie se termine lorsque la touche `<Entrée>` est appuyée."
   ],
   "metadata": {}
  },
  {
   "cell_type": "code",
   "execution_count": null,
   "source": [
    "saisie = input()\n",
    "print(\"la chaîne de caractère saisie est:\", saisie)"
   ],
   "outputs": [],
   "metadata": {}
  },
  {
   "cell_type": "markdown",
   "source": [
    "La chaîne de caractère ainsi récupérée pourra être convertie, si besoin, en nombre entier en utilisant l'instruction `int`."
   ],
   "metadata": {}
  },
  {
   "cell_type": "markdown",
   "source": [
    "Par exemple le programme ci-dessous demande l'âge de l'utilisateur.\n",
    "Le nombre saisi est converti en nombre entier puis un calcul est effectué :\n"
   ],
   "metadata": {}
  },
  {
   "cell_type": "code",
   "execution_count": null,
   "source": [
    "texte = input(\"ton âge ?\")\n",
    "age = int(texte)\n",
    "print(\"Dans 10 ans, tu auras\", age+10)"
   ],
   "outputs": [],
   "metadata": {}
  },
  {
   "cell_type": "markdown",
   "source": [
    "**Que renvoie** le programme précédent si on supprime la deuxième ligne?"
   ],
   "metadata": {
    "tags": [
     "exo"
    ]
   }
  },
  {
   "cell_type": "markdown",
   "source": [
    "### 2.6 --- Un programme complet"
   ],
   "metadata": {}
  },
  {
   "cell_type": "markdown",
   "source": [
    "**Écris** un programme qui demande l'année de naissance à l'utilisateur puis affiche l'âge qu'il aura en 2048.\n",
    "\n",
    "Pour chaque ligne du programme, **représente** l'état de l'interprète."
   ],
   "metadata": {
    "tags": [
     "exo"
    ]
   }
  },
  {
   "cell_type": "code",
   "execution_count": null,
   "source": [
    "# Calcul de l'âge en 2048\n",
    "saisie = input(\"Entrez votre année de naissance : \")\n",
    "annee = int(saisie)\n",
    "age = 2048 - annee\n",
    "print(\"Vous aurez\", age, \"ans en 2048.\")"
   ],
   "outputs": [],
   "metadata": {
    "tags": [
     "solution"
    ]
   }
  },
  {
   "cell_type": "markdown",
   "source": [
    "\n",
    "$$\n",
    "\\begin{array}{cll}\n",
    "\\text{ligne} & \\text{état} & \\text{interface}\\\\\n",
    "2 & \\overset{\\texttt{saisie}}{\\fbox{\\texttt{\"2003\"}}} & \\text{affichage : \\footnotesize\\texttt{Entrez votre année de naissance : }}\\\\\n",
    "& & \\text{saisie : \\texttt{2003}}\\\\\n",
    "3 & \\overset{\\texttt{saisie}}{\\fbox{\\texttt{\"2003\"}}}\\overset{\\texttt{annee}}{\\fbox{\\texttt{2003}}}\\\\\n",
    "4 & \\overset{\\texttt{saisie}}{\\fbox{\\texttt{\"2003\"}}}\\overset{\\texttt{annee}}{\\fbox{\\texttt{2003}}}\\overset{\\texttt{age}}{\\fbox{\\texttt{45}}}\\\\\n",
    "5 & \\overset{\\texttt{saisie}}{\\fbox{\\texttt{\"2003\"}}}\\overset{\\texttt{annee}}{\\fbox{\\texttt{2003}}}\\overset{\\texttt{age}}{\\fbox{\\texttt{45}}} & \\text{affichage : \\texttt{Vous aurez 45 ans en 2048.}}\n",
    "\\end{array}\n",
    "$$\n"
   ],
   "metadata": {
    "tags": [
     "solution"
    ]
   }
  }
 ],
 "metadata": {
  "celltoolbar": "Tags",
  "interpreter": {
   "hash": "916dbcbb3f70747c44a77c7bcd40155683ae19c65e1c03b4aa3499c5328201f1"
  },
  "kernelspec": {
   "display_name": "Python 3",
   "language": "python",
   "name": "python3"
  },
  "language_info": {
   "codemirror_mode": {
    "name": "ipython",
    "version": 3
   },
   "file_extension": ".py",
   "mimetype": "text/x-python",
   "name": "python",
   "nbconvert_exporter": "python",
   "pygments_lexer": "ipython3",
   "version": "3.9.2"
  },
  "latex_metadata": {
   "theme": "langage",
   "title": "2 --- Programmer en Python"
  },
  "rise": {
   "theme": "serif"
  }
 },
 "nbformat": 4,
 "nbformat_minor": 5
}