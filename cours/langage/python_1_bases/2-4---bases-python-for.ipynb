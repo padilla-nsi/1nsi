{
 "cells": [
  {
   "cell_type": "markdown",
   "source": [
    "(Notebook Capytale : 0fcb-77439)"
   ],
   "metadata": {
    "tags": [
     "retenir"
    ]
   }
  },
  {
   "cell_type": "markdown",
   "source": [
    "## 5 --- Boucle `for`"
   ],
   "metadata": {}
  },
  {
   "cell_type": "markdown",
   "source": [
    "## 5.1 --- Boucle bornée simple"
   ],
   "metadata": {}
  },
  {
   "cell_type": "markdown",
   "source": [
    "### 5.1.1 --- Répétition d'une instruction"
   ],
   "metadata": {}
  },
  {
   "cell_type": "markdown",
   "source": [
    "Pour exécuter plusieurs fois la même instruction, il suffisait de recopier plusieurs fois la même instruction :\n",
    "\n",
    "```python\n",
    "print(\"A\")\n",
    "print(\"A\")\n",
    "print(\"A\")\n",
    "```\n",
    "\n",
    "Cette solution n'est pas raisonnable et elle n'est pas envisageable si on ne connait pas le nombre de répétitions.\n",
    "\n",
    "Python (et de nombreux langages de programmation) propose une instruction, appelée **la boucle `for`** permettant de gérer les **répétitions**.\n"
   ],
   "metadata": {}
  },
  {
   "cell_type": "markdown",
   "source": [
    "Forme la plus simple :\n",
    "\n",
    "```python\n",
    "for _ in range(3): print(\"A\")\n",
    "```\n",
    "\n",
    "Le nombre de tours de boucles peut dépendre d'une variable :\n",
    "\n",
    "```python\n",
    "n = int(input())\n",
    "for _ in range(2*n): print(\"A\")\n",
    "``` \n"
   ],
   "metadata": {
    "tags": [
     "exemple"
    ]
   }
  },
  {
   "cell_type": "markdown",
   "source": [
    "### 5.1.2 --- Répétition d'un bloc d'instruction"
   ],
   "metadata": {}
  },
  {
   "cell_type": "markdown",
   "source": [
    "La répétition n'est pas limitée à une instruction."
   ],
   "metadata": {}
  },
  {
   "cell_type": "code",
   "execution_count": null,
   "source": [
    "from random import randint\n",
    "\n",
    "a = randint(1,6)\n",
    "b = randint(1,6)\n",
    "print(\"somme des deux dés : \",a+b)\n",
    "a = randint(1,6)\n",
    "b = randint(1,6)\n",
    "print(\"somme des deux dés : \",a+b)\n",
    "a = randint(1,6)\n",
    "b = randint(1,6)\n",
    "print(\"somme des deux dés : \",a+b)\n",
    "a = randint(1,6)\n",
    "b = randint(1,6)\n",
    "print(\"somme des deux dés : \",a+b)"
   ],
   "outputs": [],
   "metadata": {
    "tags": [
     "exemple"
    ]
   }
  },
  {
   "cell_type": "markdown",
   "source": [
    "Pour cela les instructions formant le *corps de la boucle* doivent être regroupés en un **bloc** : une suite de lignes en retraits du même nombre d'espace."
   ],
   "metadata": {}
  },
  {
   "cell_type": "code",
   "execution_count": null,
   "source": [
    "from random import randint\n",
    "\n",
    "for _ in range(4):\n",
    "    a = randint(1,6)\n",
    "    b = randint(1,6)\n",
    "    print(\"somme des deux dés : \",a+b)"
   ],
   "outputs": [],
   "metadata": {
    "tags": [
     "exemple"
    ]
   }
  },
  {
   "cell_type": "markdown",
   "source": [
    "Une instruction supplémentaire qui n'est plus alignée avec le corps de boucle ne sera exécutée qu'une seule fois et après tous les tours de boucle:"
   ],
   "metadata": {}
  },
  {
   "cell_type": "code",
   "execution_count": null,
   "source": [
    "from random import randint\n",
    "\n",
    "print(\"Effectuons 4 expériences avec 2 dés :\")\n",
    "for _ in range(4):\n",
    "    a = randint(1,6)\n",
    "    b = randint(1,6)\n",
    "    print(\"somme des deux dés : \",a+b)\n",
    "print(\"Les 4 tirages sont effectués.\")"
   ],
   "outputs": [],
   "metadata": {
    "tags": [
     "exemple"
    ]
   }
  },
  {
   "cell_type": "markdown",
   "source": [
    "## 5.2 --- Utilisation de l'indice de boucle"
   ],
   "metadata": {}
  },
  {
   "cell_type": "markdown",
   "source": [
    "Dans une boucle bornée, il est possible d'introduire une **nouvelle variable** \n",
    "\n",
    "- accessible à l'intérieur du corps de boucle\n",
    "- dont la valeur donne le numéro du tour de boucle\n",
    "- appelée *indice de boucle* ou *compteur de boucle*"
   ],
   "metadata": {}
  },
  {
   "cell_type": "code",
   "execution_count": null,
   "source": [
    "for i in range(10): print(i)"
   ],
   "outputs": [],
   "metadata": {
    "tags": [
     "exemple"
    ]
   }
  },
  {
   "cell_type": "markdown",
   "source": [
    "Le premier tour est `0`, le deuxième `1`, etc. Le numéro du dernier tour est donc égal à **un de moins que le nombre total de tours**."
   ],
   "metadata": {}
  },
  {
   "cell_type": "markdown",
   "source": [
    "## 5.3 -- Utilisation des accumulateurs"
   ],
   "metadata": {}
  },
  {
   "cell_type": "markdown",
   "source": [
    "On peut utiliser dans une boucle un *accumulateur* :  une variable dont la valeur progresse à chaque tour de boucle."
   ],
   "metadata": {}
  },
  {
   "cell_type": "code",
   "execution_count": null,
   "source": [
    "a = 1\n",
    "for _ in range(4):\n",
    "    a = a + 2\n",
    "print(a)"
   ],
   "outputs": [],
   "metadata": {}
  },
  {
   "cell_type": "markdown",
   "source": [
    "Ce qui est équivalent au code suivant et affiche `9` après avoir donné à la variable `a` les valeurs `1, 3, 5, 7`et `9`."
   ],
   "metadata": {}
  },
  {
   "cell_type": "code",
   "execution_count": null,
   "source": [
    "a = 1\n",
    "a = a + 2\n",
    "a = a + 2\n",
    "a = a + 2\n",
    "a = a + 2\n",
    "print(a)"
   ],
   "outputs": [],
   "metadata": {}
  },
  {
   "cell_type": "markdown",
   "source": [
    "Une boucle `for` permet de répéter une suite d'instructions regroupées en un **bloc**. **Le nombre de tours est prédéfini** et chacun des tours est associé à un **indice**."
   ],
   "metadata": {}
  },
  {
   "cell_type": "markdown",
   "source": [
    "## 5.4 Activités"
   ],
   "metadata": {}
  },
  {
   "cell_type": "markdown",
   "source": [
    "*(Capytale : 0fcb-77439)* Écrire un programme qui demande un entier `n` à l'utilisateur, puis calcule et affiche le résultat de la multiplication $\\overbrace{2 \\times 2 \\times 2 \\times \\ldots \\times 2}^{n \\text{ fois}}$."
   ],
   "metadata": {
    "tags": [
     "exo"
    ]
   }
  },
  {
   "cell_type": "markdown",
   "source": [
    "Écrire un programme qui calcule et affiche $1 \\times 2 \\times \\ldots \\times 100$."
   ],
   "metadata": {
    "tags": [
     "exo"
    ]
   }
  },
  {
   "cell_type": "markdown",
   "source": [
    "Écrire un programme qui demande un entier `n`  à l'utilisateur puis calcule et affiche \n",
    "\n",
    "1. $1 + 2 + \\ldots + \\texttt{n}$\n",
    "2. le nombre entier `n*(n+1)//2`"
   ],
   "metadata": {
    "tags": [
     "exo"
    ]
   }
  },
  {
   "cell_type": "markdown",
   "source": [
    "*(Capytale : 1983-77502)* Écrire un programme qui demande à l'utilisateur \n",
    "\n",
    "- une somme d'argent initiale `s` déposée sur un livret, \n",
    "- un taux d'intérêt annuel `t` exprimé en pourcents\n",
    "- un nombre d'année `n`\n",
    "\n",
    "et qui affiche les intérêts perçus chaque année ainsi que le montant total présent sur le livret après `n` années.\n",
    "\n",
    "*(chaque année, il faut ajouter à `s` la quantité `s*t/100`)*"
   ],
   "metadata": {
    "tags": [
     "exo"
    ]
   }
  },
  {
   "cell_type": "markdown",
   "source": [
    "*(Capytale : e7b7-77504)* \n",
    "\n",
    "1. Écrire un programme qui demande à l'utilisateur un nombre de chiffres `n` puis `n` chiffres, et qui calcule et affiche le nombre formé avec les `n` chiffres fournis dans l'ordre.\n",
    "2. Écrire une variante du programme précédent dans lequel les chiffres sont donnés dans l'ordre inverse. "
   ],
   "metadata": {
    "tags": [
     "exo"
    ]
   }
  },
  {
   "cell_type": "markdown",
   "source": [
    "*(Capytale : a7bc-77505)* Écrire un programme qui demande à l'utilisateur un nombre entier `n` et un nombre de chiffres `k`, et qui affiche successivement les `k` derniers chiffres de `n`, en commençant par les unités.\n",
    "\n",
    "Si `n` contient moins de `k` chiffres, il suffira d'afficher des zéros à la fin.\n",
    "\n",
    "*(on rappelle que `n % 10` renvoie le chiffre des unités de `n`)*"
   ],
   "metadata": {
    "tags": [
     "exo"
    ]
   }
  },
  {
   "cell_type": "markdown",
   "source": [
    "*(Capytale : 2294-77506)* La suite de Fibonacci est la suite d'entiers $(F_n)$ définie par $F_0 = 0, F_1 = 1$ et, pour tout entier $n$ à partir de 2, $F_n = F_{n-1} + F_{n-2}$.\n",
    "\n",
    "Écrire un programme qui demande à l'utilisateur un entier `n` qu'on supposera supérieur ou égal à `1`, et qui affiche la valeur de $F_n$.\n",
    "\n",
    "*(on utilisera deux variables pour mémoriser $F_n$ et $F_{n-1}$ ainsi qu'une variable temporaire)*"
   ],
   "metadata": {
    "tags": [
     "exo"
    ]
   }
  }
 ],
 "metadata": {
  "celltoolbar": "Tags",
  "interpreter": {
   "hash": "916dbcbb3f70747c44a77c7bcd40155683ae19c65e1c03b4aa3499c5328201f1"
  },
  "kernelspec": {
   "display_name": "Python 3",
   "language": "python",
   "name": "python3"
  },
  "latex_metadata": {
   "theme": "langage",
   "title": "2 --- Programmer en Python"
  },
  "rise": {
   "theme": "serif"
  }
 },
 "nbformat": 4,
 "nbformat_minor": 5
}