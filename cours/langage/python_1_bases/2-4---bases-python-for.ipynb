{
 "cells": [
  {
   "cell_type": "markdown",
   "metadata": {
    "tags": [
     "retenir"
    ]
   },
   "source": [
    "(Notebook Capytale : 0fcb-77439)"
   ]
  },
  {
   "cell_type": "markdown",
   "metadata": {},
   "source": [
    "## 5 --- Boucle `for`"
   ]
  },
  {
   "cell_type": "markdown",
   "metadata": {},
   "source": [
    "## 5.1 --- Boucle bornée simple"
   ]
  },
  {
   "cell_type": "markdown",
   "metadata": {},
   "source": [
    "### 5.1.1 --- Répétition d'une instruction"
   ]
  },
  {
   "cell_type": "markdown",
   "metadata": {},
   "source": [
    "Pour exécuter plusieurs fois la même instruction, il suffisait de recopier plusieurs fois la même instruction :\n",
    "\n",
    "```python\n",
    "print(\"A\")\n",
    "print(\"A\")\n",
    "print(\"A\")\n",
    "```\n",
    "\n",
    "Cette solution n'est pas raisonnable et elle n'est pas envisageable si on ne connait pas le nombre de répétitions.\n",
    "\n",
    "Python (et de nombreux langages de programmation) propose une instruction, appelée **la boucle `for`** permettant de gérer les **répétitions**.\n"
   ]
  },
  {
   "cell_type": "markdown",
   "metadata": {
    "tags": [
     "exemple"
    ]
   },
   "source": [
    "Forme la plus simple :\n",
    "\n",
    "```python\n",
    "for _ in range(3): print(\"A\")\n",
    "```\n",
    "\n",
    "Le nombre de tours de boucles peut dépendre d'une variable :\n",
    "\n",
    "```python\n",
    "n = int(input())\n",
    "for _ in range(2*n): print(\"A\")\n",
    "``` \n"
   ]
  },
  {
   "cell_type": "markdown",
   "metadata": {},
   "source": [
    "### 5.1.2 --- Répétition d'un bloc d'instruction"
   ]
  },
  {
   "cell_type": "markdown",
   "metadata": {},
   "source": [
    "La répétition n'est pas limitée à une instruction."
   ]
  },
  {
   "cell_type": "code",
   "execution_count": null,
   "metadata": {
    "tags": [
     "exemple"
    ]
   },
   "outputs": [],
   "source": [
    "from random import randint\n",
    "\n",
    "a = randint(1,6)\n",
    "b = randint(1,6)\n",
    "print(\"somme des deux dés : \",a+b)\n",
    "a = randint(1,6)\n",
    "b = randint(1,6)\n",
    "print(\"somme des deux dés : \",a+b)\n",
    "a = randint(1,6)\n",
    "b = randint(1,6)\n",
    "print(\"somme des deux dés : \",a+b)\n",
    "a = randint(1,6)\n",
    "b = randint(1,6)\n",
    "print(\"somme des deux dés : \",a+b)"
   ]
  },
  {
   "cell_type": "markdown",
   "metadata": {},
   "source": [
    "Pour cela les instructions formant le *corps de la boucle* doivent être regroupés en un **bloc** : une suite de lignes en retraits du même nombre d'espace."
   ]
  },
  {
   "cell_type": "code",
   "execution_count": null,
   "metadata": {
    "tags": [
     "exemple"
    ]
   },
   "outputs": [],
   "source": [
    "from random import randint\n",
    "\n",
    "for _ in range(4):\n",
    "    a = randint(1,6)\n",
    "    b = randint(1,6)\n",
    "    print(\"somme des deux dés : \",a+b)"
   ]
  },
  {
   "cell_type": "markdown",
   "metadata": {},
   "source": [
    "Une instruction supplémentaire qui n'est plus alignée avec le corps de boucle ne sera exécutée qu'une seule fois et après tous les tours de boucle:"
   ]
  },
  {
   "cell_type": "code",
   "execution_count": null,
   "metadata": {
    "tags": [
     "exemple"
    ]
   },
   "outputs": [],
   "source": [
    "from random import randint\n",
    "\n",
    "print(\"Effectuons 4 expériences avec 2 dés :\")\n",
    "for _ in range(4):\n",
    "    a = randint(1,6)\n",
    "    b = randint(1,6)\n",
    "    print(\"somme des deux dés : \",a+b)\n",
    "print(\"Les 4 tirages sont effectués.\")"
   ]
  },
  {
   "cell_type": "markdown",
   "metadata": {},
   "source": [
    "## 5.2 --- Utilisation de l'indice de boucle"
   ]
  },
  {
   "cell_type": "markdown",
   "metadata": {},
   "source": [
    "Dans une boucle bornée, il est possible d'introduire une **nouvelle variable** \n",
    "\n",
    "- accessible à l'intérieur du corps de boucle\n",
    "- dont la valeur donne le numéro du tour de boucle\n",
    "- appelée *indice de boucle* ou *compteur de boucle*"
   ]
  },
  {
   "cell_type": "code",
   "execution_count": null,
   "metadata": {
    "tags": [
     "exemple"
    ]
   },
   "outputs": [],
   "source": [
    "for i in range(10): print(i)"
   ]
  },
  {
   "cell_type": "markdown",
   "metadata": {},
   "source": [
    "Le premier tour est `0`, le deuxième `1`, etc. Le numéro du dernier tour est donc égal à **un de moins que le nombre total de tours**."
   ]
  },
  {
   "cell_type": "markdown",
   "metadata": {},
   "source": [
    "## 5.3 -- Utilisation des accumulateurs"
   ]
  },
  {
   "cell_type": "markdown",
   "metadata": {},
   "source": [
    "On peut utiliser dans une boucle un *accumulateur* :  une variable dont la valeur progresse à chaque tour de boucle."
   ]
  },
  {
   "cell_type": "code",
   "execution_count": null,
   "metadata": {},
   "outputs": [],
   "source": [
    "a = 1\n",
    "for _ in range(4):\n",
    "    a = a + 2\n",
    "print(a)"
   ]
  },
  {
   "cell_type": "markdown",
   "metadata": {},
   "source": [
    "Ce qui est équivalent au code suivant et affiche `9` après avoir donné à la variable `a` les valeurs `1, 3, 5, 7`et `9`."
   ]
  },
  {
   "cell_type": "code",
   "execution_count": null,
   "metadata": {},
   "outputs": [],
   "source": [
    "a = 1\n",
    "a = a + 2\n",
    "a = a + 2\n",
    "a = a + 2\n",
    "a = a + 2\n",
    "print(a)"
   ]
  },
  {
   "cell_type": "markdown",
   "metadata": {},
   "source": [
    "Une boucle `for` permet de répéter une suite d'instructions regroupées en un **bloc**. **Le nombre de tours est prédéfini** et chacun des tours est associé à un **indice**."
   ]
  }
 ],
 "metadata": {
  "celltoolbar": "Tags",
  "interpreter": {
   "hash": "916dbcbb3f70747c44a77c7bcd40155683ae19c65e1c03b4aa3499c5328201f1"
  },
  "kernelspec": {
   "display_name": "Python 3",
   "language": "python",
   "name": "python3"
  },
  "latex_metadata": {
   "theme": "langage",
   "title": "2 --- Programmer en Python"
  },
  "rise": {
   "theme": "serif"
  }
 },
 "nbformat": 4,
 "nbformat_minor": 5
}
