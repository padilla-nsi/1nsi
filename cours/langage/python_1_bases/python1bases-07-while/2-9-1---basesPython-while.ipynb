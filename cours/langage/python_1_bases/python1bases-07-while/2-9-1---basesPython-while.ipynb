{
 "cells": [
  {
   "cell_type": "markdown",
   "metadata": {},
   "source": [
    "# Boucle `while`"
   ]
  },
  {
   "cell_type": "markdown",
   "metadata": {},
   "source": [
    "## 1. Principe de la boucle `tant que`"
   ]
  },
  {
   "cell_type": "markdown",
   "metadata": {},
   "source": [
    "Si l'on ne sait pas à l'avance le nombre de tours de boucle à effectuer, la boucle `for` est difficile à manipuler.\n",
    "\n",
    "Pour cela, nous allons voir dans ce chapitre la boucle **tant que**, notée `while` en Python qui permet de répondre à ce problème."
   ]
  },
  {
   "cell_type": "markdown",
   "metadata": {},
   "source": [
    "Nous avons déjà rencontré :\n",
    "\n",
    "* d'une part le mécanisme de la boucle `for` qui permet d'effectuer un nombre prédéfini d'itérations d'un bloc d'instructions\n",
    "* d'autre part le branchement conditionnel `if` qui permet d'effectuer un bloc d'instruction en fonction d'un test effectué sur le moment."
   ]
  },
  {
   "cell_type": "markdown",
   "metadata": {},
   "source": [
    "Les boucle *tant que*, ou boucle `while`, combinent ces deux principes d'une nouvelle manière en conditionnant la poursuite des itérations à un test effectué préalablement *à chaque tour de boucle*."
   ]
  },
  {
   "cell_type": "markdown",
   "metadata": {},
   "source": [
    "### 1.1 État des variables"
   ]
  },
  {
   "cell_type": "markdown",
   "metadata": {},
   "source": [
    "Exécuter le code ci-dessous dans Python Tutor et noter l'état des variables pour chaque ligne exécutée ainsi que l'éventuel affichage.\n",
    "\n",
    "|ligne|`n`|`i`|affichage|\n",
    "|:-:|-|-|-|\n",
    "|1| `11` |  | |\n",
    "|2| `11` | `2` |\n",
    "|3 |\n",
    "|4 |\n",
    "|5 |\n",
    "|3 |\n",
    "| ..."
   ]
  },
  {
   "cell_type": "code",
   "execution_count": null,
   "metadata": {},
   "outputs": [],
   "source": [
    "n = 11\n",
    "i = 2\n",
    "while i <= n:\n",
    "    print(i)\n",
    "    i = 2 * i\n",
    "print(\"Fin\")"
   ]
  },
  {
   "cell_type": "markdown",
   "metadata": {},
   "source": [
    "### 1.2 Lien avec la boucle `for`"
   ]
  },
  {
   "cell_type": "markdown",
   "metadata": {},
   "source": [
    "Transformer la boucle `for` suivante en boucle `while` :\n",
    "\n",
    "```python\n",
    "for i in range(n):\n",
    "    print(i)\n",
    "print(\"Fin\")\n",
    "```"
   ]
  },
  {
   "cell_type": "markdown",
   "metadata": {},
   "source": [
    "### 1.3 Divergence"
   ]
  },
  {
   "cell_type": "markdown",
   "metadata": {},
   "source": [
    "## 2. Sortir d'une boucle"
   ]
  },
  {
   "cell_type": "markdown",
   "metadata": {},
   "source": [
    "Proposer un algorithme pour le problème suivant :\n",
    "\n",
    "*demander à l'utilisateur de saisir un nombre positif ou nul, et continuer à lui demander de nouvelles saisies tant que la donnée saisie n'est pas valide.*"
   ]
  },
  {
   "cell_type": "markdown",
   "metadata": {},
   "source": [
    "## 3. Chercher dans un tableau"
   ]
  },
  {
   "cell_type": "markdown",
   "metadata": {},
   "source": [
    "Écrire un programme `appartient` prenant en paramètre un élément `elem` et un tableau `tab`, et renvoyant `True` si l'élément `elem` apparaît au moins une fois dans le tableau `tab`, et renvoyant `False` sinon."
   ]
  },
  {
   "cell_type": "markdown",
   "metadata": {},
   "source": [
    "## 4. Terminaison"
   ]
  },
  {
   "cell_type": "markdown",
   "metadata": {},
   "source": []
  }
 ],
 "metadata": {
  "interpreter": {
   "hash": "916dbcbb3f70747c44a77c7bcd40155683ae19c65e1c03b4aa3499c5328201f1"
  },
  "kernelspec": {
   "display_name": "Python 3.9.2 64-bit",
   "language": "python",
   "name": "python3"
  },
  "language_info": {
   "codemirror_mode": {
    "name": "ipython",
    "version": 3
   },
   "file_extension": ".py",
   "mimetype": "text/x-python",
   "name": "python",
   "nbconvert_exporter": "python",
   "pygments_lexer": "ipython3",
   "version": "3.9.2"
  },
  "orig_nbformat": 4
 },
 "nbformat": 4,
 "nbformat_minor": 2
}
